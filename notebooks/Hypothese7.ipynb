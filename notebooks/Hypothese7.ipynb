{
 "cells": [
  {
   "cell_type": "markdown",
   "metadata": {},
   "source": [
    "# 7. Wie gut lässt sich das Ergebnis eines Matches vorhersagen? Welches sind die wichtigsten Features für eine solche Prognose?"
   ]
  },
  {
   "cell_type": "code",
   "execution_count": 1,
   "metadata": {},
   "outputs": [],
   "source": [
    "import numpy as np\n",
    "import pandas as pd\n",
    "import matplotlib.pyplot as plt\n",
    "import plotly.express as px\n",
    "from tabulate import tabulate"
   ]
  },
  {
   "cell_type": "code",
   "execution_count": 2,
   "metadata": {},
   "outputs": [],
   "source": [
    "matches = pd.read_csv('../data/raw/atp_matches_till_2022.csv')\n",
    "# players = pd.read_csv('../data/raw/atp_players_till_2022.csv')\n",
    "# rankings = pd.read_csv('../data/raw/atp_rankings_till_2022.csv')"
   ]
  },
  {
   "cell_type": "code",
   "execution_count": 3,
   "metadata": {},
   "outputs": [
    {
     "data": {
      "text/plain": [
       "Index(['tourney_id', 'tourney_name', 'surface', 'draw_size', 'tourney_level',\n",
       "       'tourney_date', 'match_num', 'winner_id', 'winner_seed', 'winner_entry',\n",
       "       'winner_name', 'winner_hand', 'winner_ht', 'winner_ioc', 'winner_age',\n",
       "       'loser_id', 'loser_seed', 'loser_entry', 'loser_name', 'loser_hand',\n",
       "       'loser_ht', 'loser_ioc', 'loser_age', 'score', 'best_of', 'round',\n",
       "       'minutes', 'w_ace', 'w_df', 'w_svpt', 'w_1stIn', 'w_1stWon', 'w_2ndWon',\n",
       "       'w_SvGms', 'w_bpSaved', 'w_bpFaced', 'l_ace', 'l_df', 'l_svpt',\n",
       "       'l_1stIn', 'l_1stWon', 'l_2ndWon', 'l_SvGms', 'l_bpSaved', 'l_bpFaced',\n",
       "       'winner_rank', 'winner_rank_points', 'loser_rank', 'loser_rank_points'],\n",
       "      dtype='object')"
      ]
     },
     "execution_count": 3,
     "metadata": {},
     "output_type": "execute_result"
    }
   ],
   "source": [
    "matches.columns"
   ]
  },
  {
   "cell_type": "markdown",
   "metadata": {},
   "source": [
    "## Unnötige Features"
   ]
  },
  {
   "cell_type": "markdown",
   "metadata": {},
   "source": [
    "- `Tunier Infos:` 'tourney_name' (redundant, tourney_id)\n",
    "- `Gewinner Infos:` 'winner_name' (redundant, winner_id)\n",
    "- `Verlierer Infos:` 'loser_name' (redundant, looser_id)\n",
    "- `Spiel Infos:`\n",
    "- `Spielstatistiken:` 'score', 'minutes', 'w_ace', 'w_df', 'w_svpt', 'w_1stIn', 'w_1stWon', 'w_2ndWon', 'w_SvGms', 'w_bpSaved', 'w_bpFaced', 'l_ace', 'l_df', 'l_svpt', 'l_1stIn', 'l_1stWon', 'l_2ndWon', 'l_SvGms', 'l_bpSaved', 'l_bpFaced' (Spielstatistiken kann man vorher nicht wissen)\n",
    "- `Rangpunkte:` 'winner_rank_points', 'loser_rank_points'"
   ]
  },
  {
   "cell_type": "code",
   "execution_count": 4,
   "metadata": {},
   "outputs": [],
   "source": [
    "df = matches[['tourney_id', 'surface', 'draw_size', 'tourney_level', 'tourney_date', 'match_num', \n",
    "        'winner_id', 'winner_seed', 'winner_entry', 'winner_hand', 'winner_ht', 'winner_ioc', 'winner_age',\n",
    "        'loser_id', 'loser_seed', 'loser_entry', 'loser_hand', 'loser_ht', 'loser_ioc', 'loser_age', \n",
    "        'best_of', 'round',\n",
    "        'winner_rank', 'loser_rank']]"
   ]
  },
  {
   "cell_type": "code",
   "execution_count": 5,
   "metadata": {},
   "outputs": [
    {
     "data": {
      "text/plain": [
       "Index(['tourney_id', 'surface', 'draw_size', 'tourney_level', 'tourney_date',\n",
       "       'match_num', 'winner_id', 'winner_seed', 'winner_entry', 'winner_hand',\n",
       "       'winner_ht', 'winner_ioc', 'winner_age', 'loser_id', 'loser_seed',\n",
       "       'loser_entry', 'loser_hand', 'loser_ht', 'loser_ioc', 'loser_age',\n",
       "       'best_of', 'round', 'winner_rank', 'loser_rank'],\n",
       "      dtype='object')"
      ]
     },
     "execution_count": 5,
     "metadata": {},
     "output_type": "execute_result"
    }
   ],
   "source": [
    "df.columns"
   ]
  },
  {
   "cell_type": "code",
   "execution_count": 6,
   "metadata": {},
   "outputs": [
    {
     "data": {
      "text/html": [
       "<div>\n",
       "<style scoped>\n",
       "    .dataframe tbody tr th:only-of-type {\n",
       "        vertical-align: middle;\n",
       "    }\n",
       "\n",
       "    .dataframe tbody tr th {\n",
       "        vertical-align: top;\n",
       "    }\n",
       "\n",
       "    .dataframe thead th {\n",
       "        text-align: right;\n",
       "    }\n",
       "</style>\n",
       "<table border=\"1\" class=\"dataframe\">\n",
       "  <thead>\n",
       "    <tr style=\"text-align: right;\">\n",
       "      <th></th>\n",
       "      <th>Feature name</th>\n",
       "      <th>None values count</th>\n",
       "      <th>None values percent</th>\n",
       "    </tr>\n",
       "  </thead>\n",
       "  <tbody>\n",
       "    <tr>\n",
       "      <th>8</th>\n",
       "      <td>winner_entry</td>\n",
       "      <td>171891</td>\n",
       "      <td>91.353150</td>\n",
       "    </tr>\n",
       "    <tr>\n",
       "      <th>15</th>\n",
       "      <td>loser_entry</td>\n",
       "      <td>160432</td>\n",
       "      <td>85.263152</td>\n",
       "    </tr>\n",
       "    <tr>\n",
       "      <th>14</th>\n",
       "      <td>loser_seed</td>\n",
       "      <td>152824</td>\n",
       "      <td>81.219806</td>\n",
       "    </tr>\n",
       "    <tr>\n",
       "      <th>7</th>\n",
       "      <td>winner_seed</td>\n",
       "      <td>118467</td>\n",
       "      <td>62.960443</td>\n",
       "    </tr>\n",
       "    <tr>\n",
       "      <th>23</th>\n",
       "      <td>loser_rank</td>\n",
       "      <td>43327</td>\n",
       "      <td>23.026557</td>\n",
       "    </tr>\n",
       "    <tr>\n",
       "      <th>22</th>\n",
       "      <td>winner_rank</td>\n",
       "      <td>34964</td>\n",
       "      <td>18.581959</td>\n",
       "    </tr>\n",
       "    <tr>\n",
       "      <th>17</th>\n",
       "      <td>loser_ht</td>\n",
       "      <td>28698</td>\n",
       "      <td>15.251832</td>\n",
       "    </tr>\n",
       "    <tr>\n",
       "      <th>10</th>\n",
       "      <td>winner_ht</td>\n",
       "      <td>16237</td>\n",
       "      <td>8.629312</td>\n",
       "    </tr>\n",
       "    <tr>\n",
       "      <th>19</th>\n",
       "      <td>loser_age</td>\n",
       "      <td>4825</td>\n",
       "      <td>2.564293</td>\n",
       "    </tr>\n",
       "    <tr>\n",
       "      <th>1</th>\n",
       "      <td>surface</td>\n",
       "      <td>2317</td>\n",
       "      <td>1.231392</td>\n",
       "    </tr>\n",
       "  </tbody>\n",
       "</table>\n",
       "</div>"
      ],
      "text/plain": [
       "    Feature name  None values count  None values percent\n",
       "8   winner_entry             171891            91.353150\n",
       "15   loser_entry             160432            85.263152\n",
       "14    loser_seed             152824            81.219806\n",
       "7    winner_seed             118467            62.960443\n",
       "23    loser_rank              43327            23.026557\n",
       "22   winner_rank              34964            18.581959\n",
       "17      loser_ht              28698            15.251832\n",
       "10     winner_ht              16237             8.629312\n",
       "19     loser_age               4825             2.564293\n",
       "1        surface               2317             1.231392"
      ]
     },
     "execution_count": 6,
     "metadata": {},
     "output_type": "execute_result"
    }
   ],
   "source": [
    "none_percent = df.isnull().sum() * 100 / len(df)\n",
    "none_values_df = pd.DataFrame({'Feature name': df.columns, 'None values count': df.isnull().sum(),\n",
    "                                 'None values percent': none_percent})\n",
    "none_values_df.reset_index().drop(columns=['index']).sort_values(by='None values percent', ascending=False).head(10)"
   ]
  },
  {
   "cell_type": "code",
   "execution_count": 7,
   "metadata": {},
   "outputs": [],
   "source": [
    "df = df.drop(columns=['winner_seed', 'winner_entry', 'loser_seed', 'loser_entry'])"
   ]
  },
  {
   "cell_type": "code",
   "execution_count": 8,
   "metadata": {},
   "outputs": [],
   "source": [
    "# Convert the tourney_date column to a string\n",
    "df['tourney_date'] = df['tourney_date'].astype(str)\n",
    "\n",
    "# Create new columns for year, month, and day\n",
    "df['year'] = df['tourney_date'].str[:4].astype(int)\n",
    "df['month'] = df['tourney_date'].str[4:6].astype(int)\n",
    "df['day'] = df['tourney_date'].str[6:].astype(int)\n",
    "df = df.drop(columns=['tourney_date'])"
   ]
  },
  {
   "cell_type": "code",
   "execution_count": 9,
   "metadata": {},
   "outputs": [],
   "source": [
    "from sklearn.calibration import LabelEncoder\n",
    "from sklearn.preprocessing import LabelBinarizer\n",
    "\n",
    "hand_encoder = LabelEncoder()\n",
    "df['winner_hand'] = hand_encoder.fit_transform(df['winner_hand'].astype(str))\n",
    "df['loser_hand'] = hand_encoder.transform(df['loser_hand'].astype(str))\n",
    "\n",
    "df['winner_ioc'] = LabelEncoder().fit_transform(df['winner_ioc'].astype(str))\n",
    "df['loser_ioc'] = LabelEncoder().fit_transform(df['loser_ioc'].astype(str))\n",
    "\n",
    "df['surface'] = LabelBinarizer().fit_transform(df['surface'].astype(str))\n",
    "df['tourney_level'] = LabelEncoder().fit_transform(df['tourney_level'].astype(str))\n",
    "df['tourney_id'] = LabelEncoder().fit_transform(df['tourney_id'].astype(str))\n",
    "df['round'] = LabelEncoder().fit_transform(df['round'].astype(str))"
   ]
  },
  {
   "cell_type": "code",
   "execution_count": 10,
   "metadata": {},
   "outputs": [],
   "source": [
    "# Erstellen Sie Kopien der ursprünglichen Spalten, falls Sie sie später benötigen\n",
    "df['original_winner_id'] = df['winner_id']\n",
    "df['original_loser_id'] = df['loser_id']\n",
    "\n",
    "# Sortieren Sie die Personen in jeder Zeile nach Rang\n",
    "df['person1_id'], df['person2_id'] = np.where(df['winner_rank'] > df['loser_rank'], (df['loser_id'], df['winner_id']), (df['winner_id'], df['loser_id']))\n",
    "\n",
    "# Wiederholen Sie diesen Vorgang für alle anderen Spalten\n",
    "columns_to_update = ['hand', 'ht', 'ioc', 'age', 'rank']\n",
    "for column in columns_to_update:\n",
    "    df[f'person1_{column}'], df[f'person2_{column}'] = np.where(df['winner_rank'] > df['loser_rank'], (df[f'loser_{column}'], df[f'winner_{column}']), (df[f'winner_{column}'], df[f'loser_{column}']))\n",
    "\n",
    "df['person1_won'] = np.where(df['person1_id'] == df['original_winner_id'], 1, 0)"
   ]
  },
  {
   "cell_type": "code",
   "execution_count": 11,
   "metadata": {},
   "outputs": [],
   "source": [
    "# df[['person1_won', 'winner_id', 'loser_id', 'winner_rank', 'loser_rank', 'person1_id', 'person2_id', 'person1_rank', 'person2_rank']].dropna()"
   ]
  },
  {
   "cell_type": "code",
   "execution_count": 12,
   "metadata": {},
   "outputs": [],
   "source": [
    "columns_to_drop = ['winner_id', 'winner_hand', 'winner_ht', 'winner_ioc', 'winner_age', 'winner_rank',\n",
    "                   'loser_id', 'loser_hand', 'loser_ht', 'loser_ioc', 'loser_age', 'loser_rank']\n",
    "\n",
    "df.drop(columns=columns_to_drop, inplace=True)"
   ]
  },
  {
   "cell_type": "code",
   "execution_count": 13,
   "metadata": {},
   "outputs": [],
   "source": [
    "df = df.fillna(df.median())"
   ]
  },
  {
   "cell_type": "code",
   "execution_count": 14,
   "metadata": {},
   "outputs": [
    {
     "data": {
      "text/html": [
       "<div>\n",
       "<style scoped>\n",
       "    .dataframe tbody tr th:only-of-type {\n",
       "        vertical-align: middle;\n",
       "    }\n",
       "\n",
       "    .dataframe tbody tr th {\n",
       "        vertical-align: top;\n",
       "    }\n",
       "\n",
       "    .dataframe thead th {\n",
       "        text-align: right;\n",
       "    }\n",
       "</style>\n",
       "<table border=\"1\" class=\"dataframe\">\n",
       "  <thead>\n",
       "    <tr style=\"text-align: right;\">\n",
       "      <th></th>\n",
       "      <th>tourney_id</th>\n",
       "      <th>surface</th>\n",
       "      <th>draw_size</th>\n",
       "      <th>tourney_level</th>\n",
       "      <th>match_num</th>\n",
       "      <th>best_of</th>\n",
       "      <th>round</th>\n",
       "      <th>year</th>\n",
       "      <th>month</th>\n",
       "      <th>day</th>\n",
       "      <th>...</th>\n",
       "      <th>person2_hand</th>\n",
       "      <th>person1_ht</th>\n",
       "      <th>person2_ht</th>\n",
       "      <th>person1_ioc</th>\n",
       "      <th>person2_ioc</th>\n",
       "      <th>person1_age</th>\n",
       "      <th>person2_age</th>\n",
       "      <th>person1_rank</th>\n",
       "      <th>person2_rank</th>\n",
       "      <th>person1_won</th>\n",
       "    </tr>\n",
       "  </thead>\n",
       "  <tbody>\n",
       "    <tr>\n",
       "      <th>0</th>\n",
       "      <td>1</td>\n",
       "      <td>0</td>\n",
       "      <td>32</td>\n",
       "      <td>0</td>\n",
       "      <td>270</td>\n",
       "      <td>3</td>\n",
       "      <td>6</td>\n",
       "      <td>1968</td>\n",
       "      <td>7</td>\n",
       "      <td>8</td>\n",
       "      <td>...</td>\n",
       "      <td>2</td>\n",
       "      <td>185.0</td>\n",
       "      <td>185.0</td>\n",
       "      <td>5</td>\n",
       "      <td>130</td>\n",
       "      <td>25.4</td>\n",
       "      <td>24.0</td>\n",
       "      <td>33.0</td>\n",
       "      <td>86.0</td>\n",
       "      <td>1</td>\n",
       "    </tr>\n",
       "    <tr>\n",
       "      <th>1</th>\n",
       "      <td>1</td>\n",
       "      <td>0</td>\n",
       "      <td>32</td>\n",
       "      <td>0</td>\n",
       "      <td>271</td>\n",
       "      <td>3</td>\n",
       "      <td>6</td>\n",
       "      <td>1968</td>\n",
       "      <td>7</td>\n",
       "      <td>8</td>\n",
       "      <td>...</td>\n",
       "      <td>2</td>\n",
       "      <td>185.0</td>\n",
       "      <td>185.0</td>\n",
       "      <td>96</td>\n",
       "      <td>59</td>\n",
       "      <td>25.4</td>\n",
       "      <td>25.2</td>\n",
       "      <td>33.0</td>\n",
       "      <td>86.0</td>\n",
       "      <td>1</td>\n",
       "    </tr>\n",
       "    <tr>\n",
       "      <th>2</th>\n",
       "      <td>1</td>\n",
       "      <td>0</td>\n",
       "      <td>32</td>\n",
       "      <td>0</td>\n",
       "      <td>272</td>\n",
       "      <td>3</td>\n",
       "      <td>6</td>\n",
       "      <td>1968</td>\n",
       "      <td>7</td>\n",
       "      <td>8</td>\n",
       "      <td>...</td>\n",
       "      <td>2</td>\n",
       "      <td>185.0</td>\n",
       "      <td>185.0</td>\n",
       "      <td>53</td>\n",
       "      <td>59</td>\n",
       "      <td>25.4</td>\n",
       "      <td>25.2</td>\n",
       "      <td>33.0</td>\n",
       "      <td>86.0</td>\n",
       "      <td>1</td>\n",
       "    </tr>\n",
       "    <tr>\n",
       "      <th>3</th>\n",
       "      <td>1</td>\n",
       "      <td>0</td>\n",
       "      <td>32</td>\n",
       "      <td>0</td>\n",
       "      <td>273</td>\n",
       "      <td>3</td>\n",
       "      <td>6</td>\n",
       "      <td>1968</td>\n",
       "      <td>7</td>\n",
       "      <td>8</td>\n",
       "      <td>...</td>\n",
       "      <td>2</td>\n",
       "      <td>178.0</td>\n",
       "      <td>185.0</td>\n",
       "      <td>80</td>\n",
       "      <td>141</td>\n",
       "      <td>24.3</td>\n",
       "      <td>25.2</td>\n",
       "      <td>33.0</td>\n",
       "      <td>86.0</td>\n",
       "      <td>1</td>\n",
       "    </tr>\n",
       "    <tr>\n",
       "      <th>4</th>\n",
       "      <td>1</td>\n",
       "      <td>0</td>\n",
       "      <td>32</td>\n",
       "      <td>0</td>\n",
       "      <td>274</td>\n",
       "      <td>3</td>\n",
       "      <td>6</td>\n",
       "      <td>1968</td>\n",
       "      <td>7</td>\n",
       "      <td>8</td>\n",
       "      <td>...</td>\n",
       "      <td>2</td>\n",
       "      <td>185.0</td>\n",
       "      <td>185.0</td>\n",
       "      <td>121</td>\n",
       "      <td>59</td>\n",
       "      <td>21.3</td>\n",
       "      <td>25.2</td>\n",
       "      <td>33.0</td>\n",
       "      <td>86.0</td>\n",
       "      <td>1</td>\n",
       "    </tr>\n",
       "    <tr>\n",
       "      <th>...</th>\n",
       "      <td>...</td>\n",
       "      <td>...</td>\n",
       "      <td>...</td>\n",
       "      <td>...</td>\n",
       "      <td>...</td>\n",
       "      <td>...</td>\n",
       "      <td>...</td>\n",
       "      <td>...</td>\n",
       "      <td>...</td>\n",
       "      <td>...</td>\n",
       "      <td>...</td>\n",
       "      <td>...</td>\n",
       "      <td>...</td>\n",
       "      <td>...</td>\n",
       "      <td>...</td>\n",
       "      <td>...</td>\n",
       "      <td>...</td>\n",
       "      <td>...</td>\n",
       "      <td>...</td>\n",
       "      <td>...</td>\n",
       "      <td>...</td>\n",
       "    </tr>\n",
       "    <tr>\n",
       "      <th>188156</th>\n",
       "      <td>8113</td>\n",
       "      <td>0</td>\n",
       "      <td>4</td>\n",
       "      <td>1</td>\n",
       "      <td>4</td>\n",
       "      <td>3</td>\n",
       "      <td>8</td>\n",
       "      <td>2022</td>\n",
       "      <td>3</td>\n",
       "      <td>4</td>\n",
       "      <td>...</td>\n",
       "      <td>1</td>\n",
       "      <td>185.0</td>\n",
       "      <td>188.0</td>\n",
       "      <td>44</td>\n",
       "      <td>133</td>\n",
       "      <td>20.8</td>\n",
       "      <td>20.2</td>\n",
       "      <td>1103.0</td>\n",
       "      <td>1130.0</td>\n",
       "      <td>1</td>\n",
       "    </tr>\n",
       "    <tr>\n",
       "      <th>188157</th>\n",
       "      <td>8113</td>\n",
       "      <td>0</td>\n",
       "      <td>4</td>\n",
       "      <td>1</td>\n",
       "      <td>5</td>\n",
       "      <td>3</td>\n",
       "      <td>8</td>\n",
       "      <td>2022</td>\n",
       "      <td>3</td>\n",
       "      <td>4</td>\n",
       "      <td>...</td>\n",
       "      <td>1</td>\n",
       "      <td>185.0</td>\n",
       "      <td>185.0</td>\n",
       "      <td>44</td>\n",
       "      <td>63</td>\n",
       "      <td>21.5</td>\n",
       "      <td>28.0</td>\n",
       "      <td>808.0</td>\n",
       "      <td>1390.0</td>\n",
       "      <td>1</td>\n",
       "    </tr>\n",
       "    <tr>\n",
       "      <th>188158</th>\n",
       "      <td>8114</td>\n",
       "      <td>0</td>\n",
       "      <td>4</td>\n",
       "      <td>1</td>\n",
       "      <td>1</td>\n",
       "      <td>3</td>\n",
       "      <td>8</td>\n",
       "      <td>2022</td>\n",
       "      <td>3</td>\n",
       "      <td>4</td>\n",
       "      <td>...</td>\n",
       "      <td>2</td>\n",
       "      <td>185.0</td>\n",
       "      <td>185.0</td>\n",
       "      <td>48</td>\n",
       "      <td>12</td>\n",
       "      <td>23.4</td>\n",
       "      <td>33.0</td>\n",
       "      <td>1059.0</td>\n",
       "      <td>1881.0</td>\n",
       "      <td>1</td>\n",
       "    </tr>\n",
       "    <tr>\n",
       "      <th>188159</th>\n",
       "      <td>8114</td>\n",
       "      <td>0</td>\n",
       "      <td>4</td>\n",
       "      <td>1</td>\n",
       "      <td>2</td>\n",
       "      <td>3</td>\n",
       "      <td>8</td>\n",
       "      <td>2022</td>\n",
       "      <td>3</td>\n",
       "      <td>4</td>\n",
       "      <td>...</td>\n",
       "      <td>1</td>\n",
       "      <td>185.0</td>\n",
       "      <td>185.0</td>\n",
       "      <td>48</td>\n",
       "      <td>12</td>\n",
       "      <td>17.7</td>\n",
       "      <td>21.7</td>\n",
       "      <td>33.0</td>\n",
       "      <td>86.0</td>\n",
       "      <td>1</td>\n",
       "    </tr>\n",
       "    <tr>\n",
       "      <th>188160</th>\n",
       "      <td>8114</td>\n",
       "      <td>0</td>\n",
       "      <td>4</td>\n",
       "      <td>1</td>\n",
       "      <td>4</td>\n",
       "      <td>3</td>\n",
       "      <td>8</td>\n",
       "      <td>2022</td>\n",
       "      <td>3</td>\n",
       "      <td>4</td>\n",
       "      <td>...</td>\n",
       "      <td>1</td>\n",
       "      <td>185.0</td>\n",
       "      <td>185.0</td>\n",
       "      <td>11</td>\n",
       "      <td>54</td>\n",
       "      <td>19.2</td>\n",
       "      <td>25.2</td>\n",
       "      <td>33.0</td>\n",
       "      <td>86.0</td>\n",
       "      <td>1</td>\n",
       "    </tr>\n",
       "  </tbody>\n",
       "</table>\n",
       "<p>188161 rows × 25 columns</p>\n",
       "</div>"
      ],
      "text/plain": [
       "        tourney_id  surface  draw_size  tourney_level  match_num  best_of  \\\n",
       "0                1        0         32              0        270        3   \n",
       "1                1        0         32              0        271        3   \n",
       "2                1        0         32              0        272        3   \n",
       "3                1        0         32              0        273        3   \n",
       "4                1        0         32              0        274        3   \n",
       "...            ...      ...        ...            ...        ...      ...   \n",
       "188156        8113        0          4              1          4        3   \n",
       "188157        8113        0          4              1          5        3   \n",
       "188158        8114        0          4              1          1        3   \n",
       "188159        8114        0          4              1          2        3   \n",
       "188160        8114        0          4              1          4        3   \n",
       "\n",
       "        round  year  month  day  ...  person2_hand  person1_ht  person2_ht  \\\n",
       "0           6  1968      7    8  ...             2       185.0       185.0   \n",
       "1           6  1968      7    8  ...             2       185.0       185.0   \n",
       "2           6  1968      7    8  ...             2       185.0       185.0   \n",
       "3           6  1968      7    8  ...             2       178.0       185.0   \n",
       "4           6  1968      7    8  ...             2       185.0       185.0   \n",
       "...       ...   ...    ...  ...  ...           ...         ...         ...   \n",
       "188156      8  2022      3    4  ...             1       185.0       188.0   \n",
       "188157      8  2022      3    4  ...             1       185.0       185.0   \n",
       "188158      8  2022      3    4  ...             2       185.0       185.0   \n",
       "188159      8  2022      3    4  ...             1       185.0       185.0   \n",
       "188160      8  2022      3    4  ...             1       185.0       185.0   \n",
       "\n",
       "        person1_ioc  person2_ioc  person1_age  person2_age  person1_rank  \\\n",
       "0                 5          130         25.4         24.0          33.0   \n",
       "1                96           59         25.4         25.2          33.0   \n",
       "2                53           59         25.4         25.2          33.0   \n",
       "3                80          141         24.3         25.2          33.0   \n",
       "4               121           59         21.3         25.2          33.0   \n",
       "...             ...          ...          ...          ...           ...   \n",
       "188156           44          133         20.8         20.2        1103.0   \n",
       "188157           44           63         21.5         28.0         808.0   \n",
       "188158           48           12         23.4         33.0        1059.0   \n",
       "188159           48           12         17.7         21.7          33.0   \n",
       "188160           11           54         19.2         25.2          33.0   \n",
       "\n",
       "        person2_rank  person1_won  \n",
       "0               86.0            1  \n",
       "1               86.0            1  \n",
       "2               86.0            1  \n",
       "3               86.0            1  \n",
       "4               86.0            1  \n",
       "...              ...          ...  \n",
       "188156        1130.0            1  \n",
       "188157        1390.0            1  \n",
       "188158        1881.0            1  \n",
       "188159          86.0            1  \n",
       "188160          86.0            1  \n",
       "\n",
       "[188161 rows x 25 columns]"
      ]
     },
     "execution_count": 14,
     "metadata": {},
     "output_type": "execute_result"
    }
   ],
   "source": [
    "df"
   ]
  },
  {
   "cell_type": "code",
   "execution_count": 15,
   "metadata": {},
   "outputs": [
    {
     "data": {
      "text/plain": [
       "Index(['tourney_id', 'surface', 'draw_size', 'tourney_level', 'match_num',\n",
       "       'best_of', 'round', 'year', 'month', 'day', 'original_winner_id',\n",
       "       'original_loser_id', 'person1_id', 'person2_id', 'person1_hand',\n",
       "       'person2_hand', 'person1_ht', 'person2_ht', 'person1_ioc',\n",
       "       'person2_ioc', 'person1_age', 'person2_age', 'person1_rank',\n",
       "       'person2_rank', 'person1_won'],\n",
       "      dtype='object')"
      ]
     },
     "execution_count": 15,
     "metadata": {},
     "output_type": "execute_result"
    }
   ],
   "source": [
    "df.columns"
   ]
  },
  {
   "cell_type": "code",
   "execution_count": 16,
   "metadata": {},
   "outputs": [],
   "source": [
    "y = df['person1_won']\n",
    "X = df[['tourney_id', 'surface', 'draw_size', 'tourney_level', 'match_num',\n",
    "       'best_of', 'round', 'year', 'month', 'day', 'person1_id', 'person2_id', 'person1_hand',\n",
    "       'person2_hand', 'person1_ht', 'person2_ht', 'person1_ioc',\n",
    "       'person2_ioc', 'person1_age', 'person2_age', 'person1_rank', 'person2_rank']]"
   ]
  },
  {
   "cell_type": "code",
   "execution_count": 17,
   "metadata": {},
   "outputs": [],
   "source": [
    "from sklearn.model_selection import train_test_split\n",
    "\n",
    "X_train, X_test, y_train, y_test = train_test_split(X, y, test_size=0.2)"
   ]
  },
  {
   "cell_type": "code",
   "execution_count": 18,
   "metadata": {},
   "outputs": [],
   "source": [
    "from sklearn.ensemble import RandomForestClassifier\n",
    "\n",
    "#Call the classifier\n",
    "RF_classifier = RandomForestClassifier(random_state=42)\n",
    "#fit the data\n",
    "RF_classifier.fit(X_train, y_train)\n",
    "#predict \n",
    "RF_predictions = RF_classifier.predict(X_test)"
   ]
  },
  {
   "cell_type": "code",
   "execution_count": 19,
   "metadata": {},
   "outputs": [
    {
     "name": "stdout",
     "output_type": "stream",
     "text": [
      "Accuracy Trainingsdaten: 1.0\n",
      "Accuracy Testdaten: 0.9368107777748252\n"
     ]
    }
   ],
   "source": [
    "print(f\"Accuracy Trainingsdaten: {RF_classifier.score(X_train, y_train)}\")\n",
    "print(f\"Accuracy Testdaten: {RF_classifier.score(X_test, y_test)}\")"
   ]
  },
  {
   "cell_type": "markdown",
   "metadata": {},
   "source": [
    "Vorhandene Informationen:"
   ]
  },
  {
   "cell_type": "markdown",
   "metadata": {},
   "source": [
    "- `Turnierinformationen`: Name, Oberfläche (Gras, Hartplatz, Sand, Teppich), Größe des Teilnehmerfeldes, Turnierlevel und -datum.\n",
    "- `Matchdetails`: Spielnummer, IDs und Set-Ergebnisse der Spieler.\n",
    "- `Spielerinformationen`: Setzplatz, Eintrittsmethode, Herkunftsland, Hand (Rechts-/Linkshänder), Größe, Geburtsdatum.\n",
    "- `Spielstatistiken`: Erste und zweite Aufschlagprozente, Breakpoints, Asse, Doppelfehler usw.\n",
    "- `Rankinginformationen`: ATP-Rang und Ranking-Punkte der Spieler."
   ]
  },
  {
   "cell_type": "markdown",
   "metadata": {},
   "source": [
    "Zusätzliche Informationen könnten hinzugezogen werden:"
   ]
  },
  {
   "cell_type": "markdown",
   "metadata": {},
   "source": [
    "- `Spieler-Statistiken:` Dies beinhaltet aktuelle Weltranglistenpositionen, frühere Leistungen, Sieg-Niederlage-Statistiken, Performanz auf verschiedenen Belägen (Hartplatz, Rasen, Sand), etc.\n",
    "- `Aktuelle Form`: Leistungen in den letzten Spielen oder Turnieren können ein Indikator für die aktuelle Form eines Spielers sein.\n",
    "- `Head-to-Head-Bilanz`: Die vergangenen Aufeinandertreffen zwischen den Spielern können Aufschluss über psychologische Vorteile geben.\n",
    "- `Physiologische und psychologische Faktoren`: Alter, Fitness, Verletzungen, mentale Stärke unter Druck, etc.\n",
    "- `Umgebungsbedingungen`: Wetter, Belag, Höhe des Spielortes und Heimvorteil können ebenfalls eine Rolle spielen."
   ]
  },
  {
   "cell_type": "markdown",
   "metadata": {},
   "source": [
    "Zusammenfassung:"
   ]
  },
  {
   "cell_type": "markdown",
   "metadata": {},
   "source": [
    "(mit großen Abstand) Wichtigstes Feature: Spieler-Ranking und -Punkte: Höher gerankte Spieler gewinnen tendenziell häufiger."
   ]
  },
  {
   "cell_type": "markdown",
   "metadata": {},
   "source": [
    "- Head-to-Head-Statistiken: Wenn zwei Spieler zuvor gegeneinander gespielt haben, können diese Ergebnisse aufschlussreich sein.\n",
    "- Spielstatistiken: Asse, Doppelfehler, Gewinnquote bei erstem Aufschlag usw.\n",
    "- Oberflächenpräferenz: Manche Spieler sind auf bestimmten Oberflächen stärker.\n",
    "- Aktuelle Form: Ergebnisse der letzten Matches können die aktuelle Spielstärke widerspiegeln.\n",
    "- Turnierlevel und -geschichte: Leistung in bestimmten Turnieren oder Turnierstufen (z.B. Grand Slam vs. ATP 250)."
   ]
  }
 ],
 "metadata": {
  "kernelspec": {
   "display_name": "base",
   "language": "python",
   "name": "python3"
  },
  "language_info": {
   "codemirror_mode": {
    "name": "ipython",
    "version": 3
   },
   "file_extension": ".py",
   "mimetype": "text/x-python",
   "name": "python",
   "nbconvert_exporter": "python",
   "pygments_lexer": "ipython3",
   "version": "3.9.16"
  }
 },
 "nbformat": 4,
 "nbformat_minor": 2
}
