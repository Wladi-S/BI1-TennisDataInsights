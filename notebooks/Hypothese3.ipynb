{
 "cells": [
  {
   "cell_type": "markdown",
   "metadata": {},
   "source": [
    "# Gibt  es  Turniere,  bei  denen  die  Deutschen  besonders  gut  oder  besonders  schlecht abschneiden? Wenn ja, ist ein regionales Muster oder eine andere Ursache zu erkennen?"
   ]
  },
  {
   "cell_type": "code",
   "execution_count": 2,
   "metadata": {},
   "outputs": [],
   "source": [
    "import pandas as pd\n",
    "import plotly.express as px"
   ]
  },
  {
   "cell_type": "code",
   "execution_count": 3,
   "metadata": {},
   "outputs": [],
   "source": [
    "matches = pd.read_csv('../data/raw/atp_matches_till_2022.csv')\n",
    "players = pd.read_csv('../data/raw/atp_players_till_2022.csv')"
   ]
  },
  {
   "cell_type": "code",
   "execution_count": 4,
   "metadata": {},
   "outputs": [],
   "source": [
    "# Identifikation der Spiele mit deutschen Spielern\n",
    "german_matches = matches[(matches['winner_ioc'] == 'GER') | (matches['loser_ioc'] == 'GER')]\n",
    "\n",
    "# Berechnung der Anzahl der Siege und Niederlagen für deutsche Spieler bei jedem Turnier\n",
    "german_wins = german_matches['tourney_name'][german_matches['winner_ioc'] == 'GER'].value_counts()\n",
    "german_losses = german_matches['tourney_name'][german_matches['loser_ioc'] == 'GER'].value_counts()\n",
    "\n",
    "# Zusammenführen der Sieg- und Niederlagendaten in einem DataFrame\n",
    "german_performance = pd.DataFrame({'Wins': german_wins, 'Losses': german_losses}).fillna(0)\n",
    "german_performance['Total Matches'] = german_performance['Wins'] + german_performance['Losses']\n",
    "german_performance['Win Rate'] = german_performance['Wins'] / german_performance['Total Matches']\n",
    "\n",
    "# Sortierung nach Siegquote\n",
    "german_performance_sorted = german_performance.sort_values(by='Win Rate', ascending=False)\n",
    "\n"
   ]
  },
  {
   "cell_type": "code",
   "execution_count": 6,
   "metadata": {},
   "outputs": [
    {
     "data": {
      "text/html": [
       "<div>\n",
       "<style scoped>\n",
       "    .dataframe tbody tr th:only-of-type {\n",
       "        vertical-align: middle;\n",
       "    }\n",
       "\n",
       "    .dataframe tbody tr th {\n",
       "        vertical-align: top;\n",
       "    }\n",
       "\n",
       "    .dataframe thead th {\n",
       "        text-align: right;\n",
       "    }\n",
       "</style>\n",
       "<table border=\"1\" class=\"dataframe\">\n",
       "  <thead>\n",
       "    <tr style=\"text-align: right;\">\n",
       "      <th></th>\n",
       "      <th>Wins</th>\n",
       "      <th>Losses</th>\n",
       "      <th>Total Matches</th>\n",
       "      <th>Win Rate</th>\n",
       "    </tr>\n",
       "  </thead>\n",
       "  <tbody>\n",
       "    <tr>\n",
       "      <th>Davis Cup EUR SF: IND vs FRG</th>\n",
       "      <td>4.0</td>\n",
       "      <td>0.0</td>\n",
       "      <td>4.0</td>\n",
       "      <td>1.0</td>\n",
       "    </tr>\n",
       "    <tr>\n",
       "      <th>Dallas WCT</th>\n",
       "      <td>3.0</td>\n",
       "      <td>0.0</td>\n",
       "      <td>3.0</td>\n",
       "      <td>1.0</td>\n",
       "    </tr>\n",
       "    <tr>\n",
       "      <th>Davis Cup EUR PR: SUI vs FRG</th>\n",
       "      <td>4.0</td>\n",
       "      <td>0.0</td>\n",
       "      <td>4.0</td>\n",
       "      <td>1.0</td>\n",
       "    </tr>\n",
       "    <tr>\n",
       "      <th>Davis Cup EUR PR: FRG vs SUI</th>\n",
       "      <td>4.0</td>\n",
       "      <td>0.0</td>\n",
       "      <td>4.0</td>\n",
       "      <td>1.0</td>\n",
       "    </tr>\n",
       "    <tr>\n",
       "      <th>Davis Cup EUR PR: FRG vs NOR</th>\n",
       "      <td>3.0</td>\n",
       "      <td>0.0</td>\n",
       "      <td>3.0</td>\n",
       "      <td>1.0</td>\n",
       "    </tr>\n",
       "    <tr>\n",
       "      <th>...</th>\n",
       "      <td>...</td>\n",
       "      <td>...</td>\n",
       "      <td>...</td>\n",
       "      <td>...</td>\n",
       "    </tr>\n",
       "    <tr>\n",
       "      <th>Miami WCT</th>\n",
       "      <td>0.0</td>\n",
       "      <td>2.0</td>\n",
       "      <td>2.0</td>\n",
       "      <td>0.0</td>\n",
       "    </tr>\n",
       "    <tr>\n",
       "      <th>Atlanta WCT</th>\n",
       "      <td>0.0</td>\n",
       "      <td>1.0</td>\n",
       "      <td>1.0</td>\n",
       "      <td>0.0</td>\n",
       "    </tr>\n",
       "    <tr>\n",
       "      <th>Hilton Head WCT</th>\n",
       "      <td>0.0</td>\n",
       "      <td>1.0</td>\n",
       "      <td>1.0</td>\n",
       "      <td>0.0</td>\n",
       "    </tr>\n",
       "    <tr>\n",
       "      <th>Johannesburg WCT</th>\n",
       "      <td>0.0</td>\n",
       "      <td>3.0</td>\n",
       "      <td>3.0</td>\n",
       "      <td>0.0</td>\n",
       "    </tr>\n",
       "    <tr>\n",
       "      <th>Denver</th>\n",
       "      <td>0.0</td>\n",
       "      <td>1.0</td>\n",
       "      <td>1.0</td>\n",
       "      <td>0.0</td>\n",
       "    </tr>\n",
       "  </tbody>\n",
       "</table>\n",
       "<p>482 rows × 4 columns</p>\n",
       "</div>"
      ],
      "text/plain": [
       "                              Wins  Losses  Total Matches  Win Rate\n",
       "Davis Cup EUR SF: IND vs FRG   4.0     0.0            4.0       1.0\n",
       "Dallas WCT                     3.0     0.0            3.0       1.0\n",
       "Davis Cup EUR PR: SUI vs FRG   4.0     0.0            4.0       1.0\n",
       "Davis Cup EUR PR: FRG vs SUI   4.0     0.0            4.0       1.0\n",
       "Davis Cup EUR PR: FRG vs NOR   3.0     0.0            3.0       1.0\n",
       "...                            ...     ...            ...       ...\n",
       "Miami WCT                      0.0     2.0            2.0       0.0\n",
       "Atlanta WCT                    0.0     1.0            1.0       0.0\n",
       "Hilton Head WCT                0.0     1.0            1.0       0.0\n",
       "Johannesburg WCT               0.0     3.0            3.0       0.0\n",
       "Denver                         0.0     1.0            1.0       0.0\n",
       "\n",
       "[482 rows x 4 columns]"
      ]
     },
     "execution_count": 6,
     "metadata": {},
     "output_type": "execute_result"
    }
   ],
   "source": [
    "german_performance_sorted"
   ]
  },
  {
   "cell_type": "code",
   "execution_count": 5,
   "metadata": {},
   "outputs": [
    {
     "data": {
      "text/plain": [
       "(                              Wins  Losses  Total Matches  Win Rate\n",
       " Davis Cup EUR SF: IND vs FRG   4.0     0.0            4.0       1.0\n",
       " Dallas WCT                     3.0     0.0            3.0       1.0\n",
       " Davis Cup EUR PR: SUI vs FRG   4.0     0.0            4.0       1.0\n",
       " Davis Cup EUR PR: FRG vs SUI   4.0     0.0            4.0       1.0\n",
       " Davis Cup EUR PR: FRG vs NOR   3.0     0.0            3.0       1.0,\n",
       "                   Wins  Losses  Total Matches  Win Rate\n",
       " Miami WCT          0.0     2.0            2.0       0.0\n",
       " Atlanta WCT        0.0     1.0            1.0       0.0\n",
       " Hilton Head WCT    0.0     1.0            1.0       0.0\n",
       " Johannesburg WCT   0.0     3.0            3.0       0.0\n",
       " Denver             0.0     1.0            1.0       0.0)"
      ]
     },
     "execution_count": 5,
     "metadata": {},
     "output_type": "execute_result"
    }
   ],
   "source": [
    "\n",
    "# Anzeige der Top 5 und Bottom 5 Turniere nach Siegquote\n",
    "top_5_performance = german_performance_sorted.head(5)\n",
    "bottom_5_performance = german_performance_sorted.tail(5)\n",
    "\n",
    "top_5_performance, bottom_5_performance"
   ]
  }
 ],
 "metadata": {
  "kernelspec": {
   "display_name": "bv",
   "language": "python",
   "name": "python3"
  },
  "language_info": {
   "codemirror_mode": {
    "name": "ipython",
    "version": 3
   },
   "file_extension": ".py",
   "mimetype": "text/x-python",
   "name": "python",
   "nbconvert_exporter": "python",
   "pygments_lexer": "ipython3",
   "version": "3.10.11"
  }
 },
 "nbformat": 4,
 "nbformat_minor": 2
}
