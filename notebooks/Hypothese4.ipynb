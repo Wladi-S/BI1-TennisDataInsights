{
 "cells": [
  {
   "cell_type": "markdown",
   "metadata": {},
   "source": [
    "# 4. Wie  entwickelt  sich  der  sportliche  Erfolg  mit  dem  Alter?  Gilt  das  für  die  Spielstatistiken gleichermaßen wie für die Platzierung auf der Rangliste?"
   ]
  },
  {
   "cell_type": "code",
   "execution_count": 62,
   "metadata": {},
   "outputs": [],
   "source": [
    "import numpy as np\n",
    "import pandas as pd"
   ]
  },
  {
   "cell_type": "code",
   "execution_count": 63,
   "metadata": {},
   "outputs": [],
   "source": [
    "matches = pd.read_csv('../data/raw/atp_matches_till_2022.csv')\n",
    "players = pd.read_csv('../data/raw/atp_players_till_2022.csv')\n",
    "rankings = pd.read_csv('../data/raw/atp_rankings_till_2022.csv')"
   ]
  },
  {
   "cell_type": "code",
   "execution_count": 64,
   "metadata": {},
   "outputs": [
    {
     "data": {
      "text/html": [
       "<div>\n",
       "<style scoped>\n",
       "    .dataframe tbody tr th:only-of-type {\n",
       "        vertical-align: middle;\n",
       "    }\n",
       "\n",
       "    .dataframe tbody tr th {\n",
       "        vertical-align: top;\n",
       "    }\n",
       "\n",
       "    .dataframe thead th {\n",
       "        text-align: right;\n",
       "    }\n",
       "</style>\n",
       "<table border=\"1\" class=\"dataframe\">\n",
       "  <thead>\n",
       "    <tr style=\"text-align: right;\">\n",
       "      <th></th>\n",
       "      <th>player_id</th>\n",
       "      <th>name_first</th>\n",
       "      <th>name_last</th>\n",
       "      <th>hand</th>\n",
       "      <th>dob</th>\n",
       "      <th>ioc</th>\n",
       "      <th>height</th>\n",
       "      <th>wikidata_id</th>\n",
       "    </tr>\n",
       "  </thead>\n",
       "  <tbody>\n",
       "    <tr>\n",
       "      <th>0</th>\n",
       "      <td>100001</td>\n",
       "      <td>Gardnar</td>\n",
       "      <td>Mulloy</td>\n",
       "      <td>R</td>\n",
       "      <td>19131122.0</td>\n",
       "      <td>USA</td>\n",
       "      <td>185.0</td>\n",
       "      <td>Q54544</td>\n",
       "    </tr>\n",
       "    <tr>\n",
       "      <th>1</th>\n",
       "      <td>100002</td>\n",
       "      <td>Pancho</td>\n",
       "      <td>Segura</td>\n",
       "      <td>R</td>\n",
       "      <td>19210620.0</td>\n",
       "      <td>ECU</td>\n",
       "      <td>168.0</td>\n",
       "      <td>Q54581</td>\n",
       "    </tr>\n",
       "    <tr>\n",
       "      <th>2</th>\n",
       "      <td>100003</td>\n",
       "      <td>Frank</td>\n",
       "      <td>Sedgman</td>\n",
       "      <td>R</td>\n",
       "      <td>19271002.0</td>\n",
       "      <td>AUS</td>\n",
       "      <td>180.0</td>\n",
       "      <td>Q962049</td>\n",
       "    </tr>\n",
       "    <tr>\n",
       "      <th>3</th>\n",
       "      <td>100004</td>\n",
       "      <td>Giuseppe</td>\n",
       "      <td>Merlo</td>\n",
       "      <td>R</td>\n",
       "      <td>19271011.0</td>\n",
       "      <td>ITA</td>\n",
       "      <td>NaN</td>\n",
       "      <td>Q1258752</td>\n",
       "    </tr>\n",
       "    <tr>\n",
       "      <th>4</th>\n",
       "      <td>100005</td>\n",
       "      <td>Richard</td>\n",
       "      <td>Gonzalez</td>\n",
       "      <td>R</td>\n",
       "      <td>19280509.0</td>\n",
       "      <td>USA</td>\n",
       "      <td>188.0</td>\n",
       "      <td>Q53554</td>\n",
       "    </tr>\n",
       "    <tr>\n",
       "      <th>...</th>\n",
       "      <td>...</td>\n",
       "      <td>...</td>\n",
       "      <td>...</td>\n",
       "      <td>...</td>\n",
       "      <td>...</td>\n",
       "      <td>...</td>\n",
       "      <td>...</td>\n",
       "      <td>...</td>\n",
       "    </tr>\n",
       "    <tr>\n",
       "      <th>58682</th>\n",
       "      <td>212032</td>\n",
       "      <td>Abhishek</td>\n",
       "      <td>Bastola</td>\n",
       "      <td>U</td>\n",
       "      <td>NaN</td>\n",
       "      <td>NPL</td>\n",
       "      <td>NaN</td>\n",
       "      <td>NaN</td>\n",
       "    </tr>\n",
       "    <tr>\n",
       "      <th>58683</th>\n",
       "      <td>212033</td>\n",
       "      <td>Cameron</td>\n",
       "      <td>Muller</td>\n",
       "      <td>U</td>\n",
       "      <td>NaN</td>\n",
       "      <td>USA</td>\n",
       "      <td>NaN</td>\n",
       "      <td>NaN</td>\n",
       "    </tr>\n",
       "    <tr>\n",
       "      <th>58684</th>\n",
       "      <td>212034</td>\n",
       "      <td>Ian</td>\n",
       "      <td>Bracks</td>\n",
       "      <td>U</td>\n",
       "      <td>NaN</td>\n",
       "      <td>USA</td>\n",
       "      <td>NaN</td>\n",
       "      <td>NaN</td>\n",
       "    </tr>\n",
       "    <tr>\n",
       "      <th>58685</th>\n",
       "      <td>212035</td>\n",
       "      <td>Alexander</td>\n",
       "      <td>Visser</td>\n",
       "      <td>U</td>\n",
       "      <td>NaN</td>\n",
       "      <td>USA</td>\n",
       "      <td>NaN</td>\n",
       "      <td>NaN</td>\n",
       "    </tr>\n",
       "    <tr>\n",
       "      <th>58686</th>\n",
       "      <td>212036</td>\n",
       "      <td>Abhishek</td>\n",
       "      <td>Thorat</td>\n",
       "      <td>U</td>\n",
       "      <td>NaN</td>\n",
       "      <td>USA</td>\n",
       "      <td>NaN</td>\n",
       "      <td>NaN</td>\n",
       "    </tr>\n",
       "  </tbody>\n",
       "</table>\n",
       "<p>58687 rows × 8 columns</p>\n",
       "</div>"
      ],
      "text/plain": [
       "       player_id name_first name_last hand         dob  ioc  height  \\\n",
       "0         100001    Gardnar    Mulloy    R  19131122.0  USA   185.0   \n",
       "1         100002     Pancho    Segura    R  19210620.0  ECU   168.0   \n",
       "2         100003      Frank   Sedgman    R  19271002.0  AUS   180.0   \n",
       "3         100004   Giuseppe     Merlo    R  19271011.0  ITA     NaN   \n",
       "4         100005    Richard  Gonzalez    R  19280509.0  USA   188.0   \n",
       "...          ...        ...       ...  ...         ...  ...     ...   \n",
       "58682     212032   Abhishek   Bastola    U         NaN  NPL     NaN   \n",
       "58683     212033    Cameron    Muller    U         NaN  USA     NaN   \n",
       "58684     212034        Ian    Bracks    U         NaN  USA     NaN   \n",
       "58685     212035  Alexander    Visser    U         NaN  USA     NaN   \n",
       "58686     212036   Abhishek    Thorat    U         NaN  USA     NaN   \n",
       "\n",
       "      wikidata_id  \n",
       "0          Q54544  \n",
       "1          Q54581  \n",
       "2         Q962049  \n",
       "3        Q1258752  \n",
       "4          Q53554  \n",
       "...           ...  \n",
       "58682         NaN  \n",
       "58683         NaN  \n",
       "58684         NaN  \n",
       "58685         NaN  \n",
       "58686         NaN  \n",
       "\n",
       "[58687 rows x 8 columns]"
      ]
     },
     "execution_count": 64,
     "metadata": {},
     "output_type": "execute_result"
    }
   ],
   "source": [
    "players\n",
    "# show all duplicates in player_id"
   ]
  },
  {
   "cell_type": "code",
   "execution_count": 65,
   "metadata": {},
   "outputs": [],
   "source": [
    "# take rankings and add dob from players (join on player_id in players and player in rankings)\n",
    "rankings = rankings.merge(players[['player_id', 'dob']], how='left', left_on='player', right_on='player_id')"
   ]
  },
  {
   "cell_type": "code",
   "execution_count": 66,
   "metadata": {},
   "outputs": [
    {
     "data": {
      "text/html": [
       "<div>\n",
       "<style scoped>\n",
       "    .dataframe tbody tr th:only-of-type {\n",
       "        vertical-align: middle;\n",
       "    }\n",
       "\n",
       "    .dataframe tbody tr th {\n",
       "        vertical-align: top;\n",
       "    }\n",
       "\n",
       "    .dataframe thead th {\n",
       "        text-align: right;\n",
       "    }\n",
       "</style>\n",
       "<table border=\"1\" class=\"dataframe\">\n",
       "  <thead>\n",
       "    <tr style=\"text-align: right;\">\n",
       "      <th></th>\n",
       "      <th>ranking_date</th>\n",
       "      <th>rank</th>\n",
       "      <th>player</th>\n",
       "      <th>points</th>\n",
       "      <th>player_id</th>\n",
       "      <th>dob</th>\n",
       "    </tr>\n",
       "  </thead>\n",
       "  <tbody>\n",
       "    <tr>\n",
       "      <th>0</th>\n",
       "      <td>20100104</td>\n",
       "      <td>1</td>\n",
       "      <td>103819</td>\n",
       "      <td>10550.0</td>\n",
       "      <td>103819</td>\n",
       "      <td>19810808.0</td>\n",
       "    </tr>\n",
       "    <tr>\n",
       "      <th>1</th>\n",
       "      <td>20100104</td>\n",
       "      <td>2</td>\n",
       "      <td>104745</td>\n",
       "      <td>9205.0</td>\n",
       "      <td>104745</td>\n",
       "      <td>19860603.0</td>\n",
       "    </tr>\n",
       "    <tr>\n",
       "      <th>2</th>\n",
       "      <td>20100104</td>\n",
       "      <td>3</td>\n",
       "      <td>104925</td>\n",
       "      <td>8310.0</td>\n",
       "      <td>104925</td>\n",
       "      <td>19870522.0</td>\n",
       "    </tr>\n",
       "    <tr>\n",
       "      <th>3</th>\n",
       "      <td>20100104</td>\n",
       "      <td>4</td>\n",
       "      <td>104918</td>\n",
       "      <td>7030.0</td>\n",
       "      <td>104918</td>\n",
       "      <td>19870515.0</td>\n",
       "    </tr>\n",
       "    <tr>\n",
       "      <th>4</th>\n",
       "      <td>20100104</td>\n",
       "      <td>5</td>\n",
       "      <td>105223</td>\n",
       "      <td>6785.0</td>\n",
       "      <td>105223</td>\n",
       "      <td>19880923.0</td>\n",
       "    </tr>\n",
       "    <tr>\n",
       "      <th>...</th>\n",
       "      <td>...</td>\n",
       "      <td>...</td>\n",
       "      <td>...</td>\n",
       "      <td>...</td>\n",
       "      <td>...</td>\n",
       "      <td>...</td>\n",
       "    </tr>\n",
       "    <tr>\n",
       "      <th>3113256</th>\n",
       "      <td>20091228</td>\n",
       "      <td>1805</td>\n",
       "      <td>111421</td>\n",
       "      <td>1.0</td>\n",
       "      <td>111421</td>\n",
       "      <td>19910228.0</td>\n",
       "    </tr>\n",
       "    <tr>\n",
       "      <th>3113257</th>\n",
       "      <td>20091228</td>\n",
       "      <td>1809</td>\n",
       "      <td>105648</td>\n",
       "      <td>1.0</td>\n",
       "      <td>105648</td>\n",
       "      <td>19901008.0</td>\n",
       "    </tr>\n",
       "    <tr>\n",
       "      <th>3113258</th>\n",
       "      <td>20091228</td>\n",
       "      <td>1809</td>\n",
       "      <td>109144</td>\n",
       "      <td>1.0</td>\n",
       "      <td>109144</td>\n",
       "      <td>19901107.0</td>\n",
       "    </tr>\n",
       "    <tr>\n",
       "      <th>3113259</th>\n",
       "      <td>20091228</td>\n",
       "      <td>1811</td>\n",
       "      <td>105675</td>\n",
       "      <td>1.0</td>\n",
       "      <td>105675</td>\n",
       "      <td>19901205.0</td>\n",
       "    </tr>\n",
       "    <tr>\n",
       "      <th>3113260</th>\n",
       "      <td>20091228</td>\n",
       "      <td>1812</td>\n",
       "      <td>105589</td>\n",
       "      <td>1.0</td>\n",
       "      <td>105589</td>\n",
       "      <td>19900713.0</td>\n",
       "    </tr>\n",
       "  </tbody>\n",
       "</table>\n",
       "<p>3113261 rows × 6 columns</p>\n",
       "</div>"
      ],
      "text/plain": [
       "         ranking_date  rank  player   points  player_id         dob\n",
       "0            20100104     1  103819  10550.0     103819  19810808.0\n",
       "1            20100104     2  104745   9205.0     104745  19860603.0\n",
       "2            20100104     3  104925   8310.0     104925  19870522.0\n",
       "3            20100104     4  104918   7030.0     104918  19870515.0\n",
       "4            20100104     5  105223   6785.0     105223  19880923.0\n",
       "...               ...   ...     ...      ...        ...         ...\n",
       "3113256      20091228  1805  111421      1.0     111421  19910228.0\n",
       "3113257      20091228  1809  105648      1.0     105648  19901008.0\n",
       "3113258      20091228  1809  109144      1.0     109144  19901107.0\n",
       "3113259      20091228  1811  105675      1.0     105675  19901205.0\n",
       "3113260      20091228  1812  105589      1.0     105589  19900713.0\n",
       "\n",
       "[3113261 rows x 6 columns]"
      ]
     },
     "execution_count": 66,
     "metadata": {},
     "output_type": "execute_result"
    }
   ],
   "source": [
    "rankings"
   ]
  },
  {
   "cell_type": "code",
   "execution_count": 67,
   "metadata": {},
   "outputs": [
    {
     "data": {
      "text/html": [
       "<div>\n",
       "<style scoped>\n",
       "    .dataframe tbody tr th:only-of-type {\n",
       "        vertical-align: middle;\n",
       "    }\n",
       "\n",
       "    .dataframe tbody tr th {\n",
       "        vertical-align: top;\n",
       "    }\n",
       "\n",
       "    .dataframe thead th {\n",
       "        text-align: right;\n",
       "    }\n",
       "</style>\n",
       "<table border=\"1\" class=\"dataframe\">\n",
       "  <thead>\n",
       "    <tr style=\"text-align: right;\">\n",
       "      <th></th>\n",
       "      <th>ranking_date</th>\n",
       "      <th>rank</th>\n",
       "      <th>player</th>\n",
       "      <th>points</th>\n",
       "      <th>player_id</th>\n",
       "      <th>birth_date</th>\n",
       "    </tr>\n",
       "  </thead>\n",
       "  <tbody>\n",
       "    <tr>\n",
       "      <th>1169016</th>\n",
       "      <td>19770704</td>\n",
       "      <td>366</td>\n",
       "      <td>100001</td>\n",
       "      <td>NaN</td>\n",
       "      <td>100001</td>\n",
       "      <td>1913-11-22</td>\n",
       "    </tr>\n",
       "    <tr>\n",
       "      <th>1169419</th>\n",
       "      <td>19780102</td>\n",
       "      <td>414</td>\n",
       "      <td>100001</td>\n",
       "      <td>NaN</td>\n",
       "      <td>100001</td>\n",
       "      <td>1913-11-22</td>\n",
       "    </tr>\n",
       "    <tr>\n",
       "      <th>1169888</th>\n",
       "      <td>19780116</td>\n",
       "      <td>397</td>\n",
       "      <td>100001</td>\n",
       "      <td>NaN</td>\n",
       "      <td>100001</td>\n",
       "      <td>1913-11-22</td>\n",
       "    </tr>\n",
       "    <tr>\n",
       "      <th>1166893</th>\n",
       "      <td>19750505</td>\n",
       "      <td>399</td>\n",
       "      <td>100002</td>\n",
       "      <td>NaN</td>\n",
       "      <td>100002</td>\n",
       "      <td>1921-06-20</td>\n",
       "    </tr>\n",
       "    <tr>\n",
       "      <th>1167847</th>\n",
       "      <td>19751215</td>\n",
       "      <td>373</td>\n",
       "      <td>100002</td>\n",
       "      <td>NaN</td>\n",
       "      <td>100002</td>\n",
       "      <td>1921-06-20</td>\n",
       "    </tr>\n",
       "    <tr>\n",
       "      <th>...</th>\n",
       "      <td>...</td>\n",
       "      <td>...</td>\n",
       "      <td>...</td>\n",
       "      <td>...</td>\n",
       "      <td>...</td>\n",
       "      <td>...</td>\n",
       "    </tr>\n",
       "    <tr>\n",
       "      <th>1157915</th>\n",
       "      <td>20221219</td>\n",
       "      <td>1470</td>\n",
       "      <td>211758</td>\n",
       "      <td>2.0</td>\n",
       "      <td>211758</td>\n",
       "      <td>NaT</td>\n",
       "    </tr>\n",
       "    <tr>\n",
       "      <th>1159907</th>\n",
       "      <td>20221226</td>\n",
       "      <td>1469</td>\n",
       "      <td>211758</td>\n",
       "      <td>2.0</td>\n",
       "      <td>211758</td>\n",
       "      <td>NaT</td>\n",
       "    </tr>\n",
       "    <tr>\n",
       "      <th>1158120</th>\n",
       "      <td>20221219</td>\n",
       "      <td>1645</td>\n",
       "      <td>211763</td>\n",
       "      <td>1.0</td>\n",
       "      <td>211763</td>\n",
       "      <td>NaT</td>\n",
       "    </tr>\n",
       "    <tr>\n",
       "      <th>1160117</th>\n",
       "      <td>20221226</td>\n",
       "      <td>1650</td>\n",
       "      <td>211763</td>\n",
       "      <td>1.0</td>\n",
       "      <td>211763</td>\n",
       "      <td>NaT</td>\n",
       "    </tr>\n",
       "    <tr>\n",
       "      <th>1159504</th>\n",
       "      <td>20221226</td>\n",
       "      <td>1082</td>\n",
       "      <td>211767</td>\n",
       "      <td>8.0</td>\n",
       "      <td>211767</td>\n",
       "      <td>NaT</td>\n",
       "    </tr>\n",
       "  </tbody>\n",
       "</table>\n",
       "<p>3113261 rows × 6 columns</p>\n",
       "</div>"
      ],
      "text/plain": [
       "         ranking_date  rank  player  points  player_id birth_date\n",
       "1169016      19770704   366  100001     NaN     100001 1913-11-22\n",
       "1169419      19780102   414  100001     NaN     100001 1913-11-22\n",
       "1169888      19780116   397  100001     NaN     100001 1913-11-22\n",
       "1166893      19750505   399  100002     NaN     100002 1921-06-20\n",
       "1167847      19751215   373  100002     NaN     100002 1921-06-20\n",
       "...               ...   ...     ...     ...        ...        ...\n",
       "1157915      20221219  1470  211758     2.0     211758        NaT\n",
       "1159907      20221226  1469  211758     2.0     211758        NaT\n",
       "1158120      20221219  1645  211763     1.0     211763        NaT\n",
       "1160117      20221226  1650  211763     1.0     211763        NaT\n",
       "1159504      20221226  1082  211767     8.0     211767        NaT\n",
       "\n",
       "[3113261 rows x 6 columns]"
      ]
     },
     "execution_count": 67,
     "metadata": {},
     "output_type": "execute_result"
    }
   ],
   "source": [
    "# convert dob to datetime in format yyyymmdd\n",
    "rankings['dob'] = pd.to_datetime(rankings['dob'], format='%Y%m%d')\n",
    "rankings = rankings.rename(columns={'dob': 'birth_date'})\n",
    "rankings.sort_values(by='player_id')"
   ]
  },
  {
   "cell_type": "code",
   "execution_count": 68,
   "metadata": {},
   "outputs": [],
   "source": [
    "rankings.dropna(inplace=True)"
   ]
  },
  {
   "cell_type": "code",
   "execution_count": 69,
   "metadata": {},
   "outputs": [
    {
     "data": {
      "text/html": [
       "<div>\n",
       "<style scoped>\n",
       "    .dataframe tbody tr th:only-of-type {\n",
       "        vertical-align: middle;\n",
       "    }\n",
       "\n",
       "    .dataframe tbody tr th {\n",
       "        vertical-align: top;\n",
       "    }\n",
       "\n",
       "    .dataframe thead th {\n",
       "        text-align: right;\n",
       "    }\n",
       "</style>\n",
       "<table border=\"1\" class=\"dataframe\">\n",
       "  <thead>\n",
       "    <tr style=\"text-align: right;\">\n",
       "      <th></th>\n",
       "      <th>ranking_date</th>\n",
       "      <th>rank</th>\n",
       "      <th>player</th>\n",
       "      <th>points</th>\n",
       "      <th>player_id</th>\n",
       "      <th>birth_date</th>\n",
       "    </tr>\n",
       "  </thead>\n",
       "  <tbody>\n",
       "    <tr>\n",
       "      <th>1467471</th>\n",
       "      <td>19900101</td>\n",
       "      <td>722</td>\n",
       "      <td>102093</td>\n",
       "      <td>8.0</td>\n",
       "      <td>102093</td>\n",
       "      <td>2003-09-30</td>\n",
       "    </tr>\n",
       "    <tr>\n",
       "      <th>1468740</th>\n",
       "      <td>19900108</td>\n",
       "      <td>716</td>\n",
       "      <td>102093</td>\n",
       "      <td>8.0</td>\n",
       "      <td>102093</td>\n",
       "      <td>2003-09-30</td>\n",
       "    </tr>\n",
       "    <tr>\n",
       "      <th>1470028</th>\n",
       "      <td>19900115</td>\n",
       "      <td>713</td>\n",
       "      <td>102093</td>\n",
       "      <td>8.0</td>\n",
       "      <td>102093</td>\n",
       "      <td>2003-09-30</td>\n",
       "    </tr>\n",
       "    <tr>\n",
       "      <th>1472608</th>\n",
       "      <td>19900129</td>\n",
       "      <td>719</td>\n",
       "      <td>102093</td>\n",
       "      <td>8.0</td>\n",
       "      <td>102093</td>\n",
       "      <td>2003-09-30</td>\n",
       "    </tr>\n",
       "    <tr>\n",
       "      <th>1475173</th>\n",
       "      <td>19900212</td>\n",
       "      <td>716</td>\n",
       "      <td>102093</td>\n",
       "      <td>8.0</td>\n",
       "      <td>102093</td>\n",
       "      <td>2003-09-30</td>\n",
       "    </tr>\n",
       "    <tr>\n",
       "      <th>...</th>\n",
       "      <td>...</td>\n",
       "      <td>...</td>\n",
       "      <td>...</td>\n",
       "      <td>...</td>\n",
       "      <td>...</td>\n",
       "      <td>...</td>\n",
       "    </tr>\n",
       "    <tr>\n",
       "      <th>1152804</th>\n",
       "      <td>20221128</td>\n",
       "      <td>463</td>\n",
       "      <td>102093</td>\n",
       "      <td>87.0</td>\n",
       "      <td>102093</td>\n",
       "      <td>2003-09-30</td>\n",
       "    </tr>\n",
       "    <tr>\n",
       "      <th>1154796</th>\n",
       "      <td>20221205</td>\n",
       "      <td>461</td>\n",
       "      <td>102093</td>\n",
       "      <td>87.0</td>\n",
       "      <td>102093</td>\n",
       "      <td>2003-09-30</td>\n",
       "    </tr>\n",
       "    <tr>\n",
       "      <th>1156788</th>\n",
       "      <td>20221212</td>\n",
       "      <td>458</td>\n",
       "      <td>102093</td>\n",
       "      <td>87.0</td>\n",
       "      <td>102093</td>\n",
       "      <td>2003-09-30</td>\n",
       "    </tr>\n",
       "    <tr>\n",
       "      <th>1158777</th>\n",
       "      <td>20221219</td>\n",
       "      <td>455</td>\n",
       "      <td>102093</td>\n",
       "      <td>87.0</td>\n",
       "      <td>102093</td>\n",
       "      <td>2003-09-30</td>\n",
       "    </tr>\n",
       "    <tr>\n",
       "      <th>1160767</th>\n",
       "      <td>20221226</td>\n",
       "      <td>455</td>\n",
       "      <td>102093</td>\n",
       "      <td>87.0</td>\n",
       "      <td>102093</td>\n",
       "      <td>2003-09-30</td>\n",
       "    </tr>\n",
       "  </tbody>\n",
       "</table>\n",
       "<p>765 rows × 6 columns</p>\n",
       "</div>"
      ],
      "text/plain": [
       "         ranking_date  rank  player  points  player_id birth_date\n",
       "1467471      19900101   722  102093     8.0     102093 2003-09-30\n",
       "1468740      19900108   716  102093     8.0     102093 2003-09-30\n",
       "1470028      19900115   713  102093     8.0     102093 2003-09-30\n",
       "1472608      19900129   719  102093     8.0     102093 2003-09-30\n",
       "1475173      19900212   716  102093     8.0     102093 2003-09-30\n",
       "...               ...   ...     ...     ...        ...        ...\n",
       "1152804      20221128   463  102093    87.0     102093 2003-09-30\n",
       "1154796      20221205   461  102093    87.0     102093 2003-09-30\n",
       "1156788      20221212   458  102093    87.0     102093 2003-09-30\n",
       "1158777      20221219   455  102093    87.0     102093 2003-09-30\n",
       "1160767      20221226   455  102093    87.0     102093 2003-09-30\n",
       "\n",
       "[765 rows x 6 columns]"
      ]
     },
     "execution_count": 69,
     "metadata": {},
     "output_type": "execute_result"
    }
   ],
   "source": [
    "rankings[rankings['player'] == 102093].sort_values(by='ranking_date')"
   ]
  },
  {
   "cell_type": "code",
   "execution_count": 70,
   "metadata": {},
   "outputs": [],
   "source": [
    "from datetime import datetime\n",
    "\n",
    "# Convert the date strings to datetime objects\n",
    "rankings['ranking_date'] = pd.to_datetime(rankings['ranking_date'], format='%Y%m%d')\n",
    "rankings['birth_date'] = pd.to_datetime(rankings['birth_date'])\n",
    "\n",
    "# Calculate the age of the players at the time of the ranking\n",
    "rankings['age'] = rankings['ranking_date'].dt.year - rankings['birth_date'].dt.year\n",
    "rankings.loc[rankings['ranking_date'].dt.month < rankings['birth_date'].dt.month, 'age'] -= 1\n",
    "rankings.loc[(rankings['ranking_date'].dt.month == rankings['birth_date'].dt.month) & \n",
    "             (rankings['ranking_date'].dt.day < rankings['birth_date'].dt.day), 'age'] -= 1\n"
   ]
  },
  {
   "cell_type": "code",
   "execution_count": 71,
   "metadata": {},
   "outputs": [],
   "source": [
    "# drop all rows where age is negative\n",
    "rankings = rankings[rankings['age'] >= 0]"
   ]
  },
  {
   "cell_type": "code",
   "execution_count": 72,
   "metadata": {},
   "outputs": [
    {
     "data": {
      "application/vnd.plotly.v1+json": {
       "config": {
        "plotlyServerURL": "https://plot.ly"
       },
       "data": [
        {
         "mode": "lines",
         "name": "Durchschnittlicher Rang",
         "type": "scatter",
         "x": [
          -14,
          -13,
          -12,
          -11,
          -10,
          -9,
          -8,
          -7,
          -6,
          -5,
          -4,
          -3,
          -2,
          -1,
          0,
          3,
          4,
          5,
          6,
          9,
          10,
          11,
          12,
          13,
          14,
          15,
          16,
          17,
          18,
          19,
          20,
          21,
          22,
          23,
          24,
          25,
          26,
          27,
          28,
          29,
          30,
          31,
          32,
          33,
          34,
          35,
          36,
          37,
          38,
          39,
          40,
          41,
          42,
          43,
          44,
          45,
          46,
          47,
          48,
          49,
          50,
          51,
          52,
          53,
          54,
          55,
          56,
          58,
          61
         ],
         "y": [
          493.6875,
          586.0422535211268,
          651.8191489361702,
          478.2142857142857,
          69.44444444444444,
          69.77272727272727,
          514.4794520547945,
          696.6666666666666,
          85.9622641509434,
          84.09615384615384,
          90.88235294117646,
          141.40384615384616,
          389.9807692307692,
          842.5151515151515,
          1079.75,
          1093.8823529411766,
          1230.157894736842,
          1206.735294117647,
          1106.90625,
          990.1666666666666,
          817.5714285714286,
          930.7310344827587,
          893.6285714285714,
          1055.097014925373,
          1277.890577507599,
          1361.029810298103,
          1331.166473476067,
          1265.729431368465,
          1175.813165413654,
          1060.7114282842497,
          974.2045350835831,
          914.2908703084813,
          858.0916119368127,
          813.5861978283,
          777.1183286549599,
          736.6113271507265,
          706.500057357721,
          681.2395384423208,
          668.0363962628489,
          670.7602797926185,
          661.496932315123,
          662.5715319302875,
          699.4190926384965,
          709.230623100304,
          753.0815689634072,
          807.2747781763262,
          828.4768070574844,
          866.0556962025316,
          1002.3380281690141,
          1025.3854059609455,
          1028.3096663815227,
          1159.4078374455733,
          1301.636197440585,
          1186.3553008595989,
          1398.0825242718447,
          1341.7237569060774,
          1480.1833333333334,
          1253.2903225806451,
          724.9038461538462,
          1181.4193548387098,
          1514.3,
          791.695652173913,
          780.125,
          842.5,
          757.4761904761905,
          996.5,
          1021.2619047619048,
          1032,
          1528
         ]
        },
        {
         "mode": "lines",
         "name": "Durchschnittliche Punkte",
         "type": "scatter",
         "x": [
          -14,
          -13,
          -12,
          -11,
          -10,
          -9,
          -8,
          -7,
          -6,
          -5,
          -4,
          -3,
          -2,
          -1,
          0,
          3,
          4,
          5,
          6,
          9,
          10,
          11,
          12,
          13,
          14,
          15,
          16,
          17,
          18,
          19,
          20,
          21,
          22,
          23,
          24,
          25,
          26,
          27,
          28,
          29,
          30,
          31,
          32,
          33,
          34,
          35,
          36,
          37,
          38,
          39,
          40,
          41,
          42,
          43,
          44,
          45,
          46,
          47,
          48,
          49,
          50,
          51,
          52,
          53,
          54,
          55,
          56,
          58,
          61
         ],
         "y": [
          28.53125,
          61.63380281690141,
          134.2659574468085,
          261.3142857142857,
          611.2222222222222,
          636.0227272727273,
          381.47945205479454,
          360.05555555555554,
          682.3962264150944,
          592.8461538461538,
          479.94117647058823,
          356.6730769230769,
          74.28846153846153,
          20.363636363636363,
          1,
          1.607843137254902,
          1.0175438596491229,
          1,
          1,
          4.833333333333333,
          9.5,
          8.937931034482759,
          32.114285714285714,
          30.888059701492537,
          2.803951367781155,
          2.9857723577235773,
          5.753545615709805,
          10.609029368881483,
          19.939493580637095,
          36.83511508694341,
          58.42269138919733,
          81.3719294327825,
          104.68546071732014,
          122.97922463522227,
          146.5208102134644,
          168.04059816452744,
          184.36226499267096,
          204.32223939791393,
          221.97089859369208,
          238.71450562171347,
          250.36585405652372,
          255.0639669738046,
          241.70032282239004,
          256.4826494427558,
          275.67537633092644,
          257.40371908627526,
          254.34561752988049,
          197.23935558112774,
          183.49657947686117,
          226.45118191161356,
          147.77245508982037,
          27.35123367198839,
          30.257769652650822,
          16.017191977077363,
          3.1601941747572817,
          2.4640883977900554,
          1.5666666666666667,
          7.645161290322581,
          19.115384615384617,
          2.870967741935484,
          3.15,
          11.347826086956522,
          12,
          5.928571428571429,
          9.380952380952381,
          3.1666666666666665,
          2.761904761904762,
          7,
          1
         ],
         "yaxis": "y2"
        }
       ],
       "layout": {
        "template": {
         "data": {
          "bar": [
           {
            "error_x": {
             "color": "#2a3f5f"
            },
            "error_y": {
             "color": "#2a3f5f"
            },
            "marker": {
             "line": {
              "color": "#E5ECF6",
              "width": 0.5
             },
             "pattern": {
              "fillmode": "overlay",
              "size": 10,
              "solidity": 0.2
             }
            },
            "type": "bar"
           }
          ],
          "barpolar": [
           {
            "marker": {
             "line": {
              "color": "#E5ECF6",
              "width": 0.5
             },
             "pattern": {
              "fillmode": "overlay",
              "size": 10,
              "solidity": 0.2
             }
            },
            "type": "barpolar"
           }
          ],
          "carpet": [
           {
            "aaxis": {
             "endlinecolor": "#2a3f5f",
             "gridcolor": "white",
             "linecolor": "white",
             "minorgridcolor": "white",
             "startlinecolor": "#2a3f5f"
            },
            "baxis": {
             "endlinecolor": "#2a3f5f",
             "gridcolor": "white",
             "linecolor": "white",
             "minorgridcolor": "white",
             "startlinecolor": "#2a3f5f"
            },
            "type": "carpet"
           }
          ],
          "choropleth": [
           {
            "colorbar": {
             "outlinewidth": 0,
             "ticks": ""
            },
            "type": "choropleth"
           }
          ],
          "contour": [
           {
            "colorbar": {
             "outlinewidth": 0,
             "ticks": ""
            },
            "colorscale": [
             [
              0,
              "#0d0887"
             ],
             [
              0.1111111111111111,
              "#46039f"
             ],
             [
              0.2222222222222222,
              "#7201a8"
             ],
             [
              0.3333333333333333,
              "#9c179e"
             ],
             [
              0.4444444444444444,
              "#bd3786"
             ],
             [
              0.5555555555555556,
              "#d8576b"
             ],
             [
              0.6666666666666666,
              "#ed7953"
             ],
             [
              0.7777777777777778,
              "#fb9f3a"
             ],
             [
              0.8888888888888888,
              "#fdca26"
             ],
             [
              1,
              "#f0f921"
             ]
            ],
            "type": "contour"
           }
          ],
          "contourcarpet": [
           {
            "colorbar": {
             "outlinewidth": 0,
             "ticks": ""
            },
            "type": "contourcarpet"
           }
          ],
          "heatmap": [
           {
            "colorbar": {
             "outlinewidth": 0,
             "ticks": ""
            },
            "colorscale": [
             [
              0,
              "#0d0887"
             ],
             [
              0.1111111111111111,
              "#46039f"
             ],
             [
              0.2222222222222222,
              "#7201a8"
             ],
             [
              0.3333333333333333,
              "#9c179e"
             ],
             [
              0.4444444444444444,
              "#bd3786"
             ],
             [
              0.5555555555555556,
              "#d8576b"
             ],
             [
              0.6666666666666666,
              "#ed7953"
             ],
             [
              0.7777777777777778,
              "#fb9f3a"
             ],
             [
              0.8888888888888888,
              "#fdca26"
             ],
             [
              1,
              "#f0f921"
             ]
            ],
            "type": "heatmap"
           }
          ],
          "heatmapgl": [
           {
            "colorbar": {
             "outlinewidth": 0,
             "ticks": ""
            },
            "colorscale": [
             [
              0,
              "#0d0887"
             ],
             [
              0.1111111111111111,
              "#46039f"
             ],
             [
              0.2222222222222222,
              "#7201a8"
             ],
             [
              0.3333333333333333,
              "#9c179e"
             ],
             [
              0.4444444444444444,
              "#bd3786"
             ],
             [
              0.5555555555555556,
              "#d8576b"
             ],
             [
              0.6666666666666666,
              "#ed7953"
             ],
             [
              0.7777777777777778,
              "#fb9f3a"
             ],
             [
              0.8888888888888888,
              "#fdca26"
             ],
             [
              1,
              "#f0f921"
             ]
            ],
            "type": "heatmapgl"
           }
          ],
          "histogram": [
           {
            "marker": {
             "pattern": {
              "fillmode": "overlay",
              "size": 10,
              "solidity": 0.2
             }
            },
            "type": "histogram"
           }
          ],
          "histogram2d": [
           {
            "colorbar": {
             "outlinewidth": 0,
             "ticks": ""
            },
            "colorscale": [
             [
              0,
              "#0d0887"
             ],
             [
              0.1111111111111111,
              "#46039f"
             ],
             [
              0.2222222222222222,
              "#7201a8"
             ],
             [
              0.3333333333333333,
              "#9c179e"
             ],
             [
              0.4444444444444444,
              "#bd3786"
             ],
             [
              0.5555555555555556,
              "#d8576b"
             ],
             [
              0.6666666666666666,
              "#ed7953"
             ],
             [
              0.7777777777777778,
              "#fb9f3a"
             ],
             [
              0.8888888888888888,
              "#fdca26"
             ],
             [
              1,
              "#f0f921"
             ]
            ],
            "type": "histogram2d"
           }
          ],
          "histogram2dcontour": [
           {
            "colorbar": {
             "outlinewidth": 0,
             "ticks": ""
            },
            "colorscale": [
             [
              0,
              "#0d0887"
             ],
             [
              0.1111111111111111,
              "#46039f"
             ],
             [
              0.2222222222222222,
              "#7201a8"
             ],
             [
              0.3333333333333333,
              "#9c179e"
             ],
             [
              0.4444444444444444,
              "#bd3786"
             ],
             [
              0.5555555555555556,
              "#d8576b"
             ],
             [
              0.6666666666666666,
              "#ed7953"
             ],
             [
              0.7777777777777778,
              "#fb9f3a"
             ],
             [
              0.8888888888888888,
              "#fdca26"
             ],
             [
              1,
              "#f0f921"
             ]
            ],
            "type": "histogram2dcontour"
           }
          ],
          "mesh3d": [
           {
            "colorbar": {
             "outlinewidth": 0,
             "ticks": ""
            },
            "type": "mesh3d"
           }
          ],
          "parcoords": [
           {
            "line": {
             "colorbar": {
              "outlinewidth": 0,
              "ticks": ""
             }
            },
            "type": "parcoords"
           }
          ],
          "pie": [
           {
            "automargin": true,
            "type": "pie"
           }
          ],
          "scatter": [
           {
            "fillpattern": {
             "fillmode": "overlay",
             "size": 10,
             "solidity": 0.2
            },
            "type": "scatter"
           }
          ],
          "scatter3d": [
           {
            "line": {
             "colorbar": {
              "outlinewidth": 0,
              "ticks": ""
             }
            },
            "marker": {
             "colorbar": {
              "outlinewidth": 0,
              "ticks": ""
             }
            },
            "type": "scatter3d"
           }
          ],
          "scattercarpet": [
           {
            "marker": {
             "colorbar": {
              "outlinewidth": 0,
              "ticks": ""
             }
            },
            "type": "scattercarpet"
           }
          ],
          "scattergeo": [
           {
            "marker": {
             "colorbar": {
              "outlinewidth": 0,
              "ticks": ""
             }
            },
            "type": "scattergeo"
           }
          ],
          "scattergl": [
           {
            "marker": {
             "colorbar": {
              "outlinewidth": 0,
              "ticks": ""
             }
            },
            "type": "scattergl"
           }
          ],
          "scattermapbox": [
           {
            "marker": {
             "colorbar": {
              "outlinewidth": 0,
              "ticks": ""
             }
            },
            "type": "scattermapbox"
           }
          ],
          "scatterpolar": [
           {
            "marker": {
             "colorbar": {
              "outlinewidth": 0,
              "ticks": ""
             }
            },
            "type": "scatterpolar"
           }
          ],
          "scatterpolargl": [
           {
            "marker": {
             "colorbar": {
              "outlinewidth": 0,
              "ticks": ""
             }
            },
            "type": "scatterpolargl"
           }
          ],
          "scatterternary": [
           {
            "marker": {
             "colorbar": {
              "outlinewidth": 0,
              "ticks": ""
             }
            },
            "type": "scatterternary"
           }
          ],
          "surface": [
           {
            "colorbar": {
             "outlinewidth": 0,
             "ticks": ""
            },
            "colorscale": [
             [
              0,
              "#0d0887"
             ],
             [
              0.1111111111111111,
              "#46039f"
             ],
             [
              0.2222222222222222,
              "#7201a8"
             ],
             [
              0.3333333333333333,
              "#9c179e"
             ],
             [
              0.4444444444444444,
              "#bd3786"
             ],
             [
              0.5555555555555556,
              "#d8576b"
             ],
             [
              0.6666666666666666,
              "#ed7953"
             ],
             [
              0.7777777777777778,
              "#fb9f3a"
             ],
             [
              0.8888888888888888,
              "#fdca26"
             ],
             [
              1,
              "#f0f921"
             ]
            ],
            "type": "surface"
           }
          ],
          "table": [
           {
            "cells": {
             "fill": {
              "color": "#EBF0F8"
             },
             "line": {
              "color": "white"
             }
            },
            "header": {
             "fill": {
              "color": "#C8D4E3"
             },
             "line": {
              "color": "white"
             }
            },
            "type": "table"
           }
          ]
         },
         "layout": {
          "annotationdefaults": {
           "arrowcolor": "#2a3f5f",
           "arrowhead": 0,
           "arrowwidth": 1
          },
          "autotypenumbers": "strict",
          "coloraxis": {
           "colorbar": {
            "outlinewidth": 0,
            "ticks": ""
           }
          },
          "colorscale": {
           "diverging": [
            [
             0,
             "#8e0152"
            ],
            [
             0.1,
             "#c51b7d"
            ],
            [
             0.2,
             "#de77ae"
            ],
            [
             0.3,
             "#f1b6da"
            ],
            [
             0.4,
             "#fde0ef"
            ],
            [
             0.5,
             "#f7f7f7"
            ],
            [
             0.6,
             "#e6f5d0"
            ],
            [
             0.7,
             "#b8e186"
            ],
            [
             0.8,
             "#7fbc41"
            ],
            [
             0.9,
             "#4d9221"
            ],
            [
             1,
             "#276419"
            ]
           ],
           "sequential": [
            [
             0,
             "#0d0887"
            ],
            [
             0.1111111111111111,
             "#46039f"
            ],
            [
             0.2222222222222222,
             "#7201a8"
            ],
            [
             0.3333333333333333,
             "#9c179e"
            ],
            [
             0.4444444444444444,
             "#bd3786"
            ],
            [
             0.5555555555555556,
             "#d8576b"
            ],
            [
             0.6666666666666666,
             "#ed7953"
            ],
            [
             0.7777777777777778,
             "#fb9f3a"
            ],
            [
             0.8888888888888888,
             "#fdca26"
            ],
            [
             1,
             "#f0f921"
            ]
           ],
           "sequentialminus": [
            [
             0,
             "#0d0887"
            ],
            [
             0.1111111111111111,
             "#46039f"
            ],
            [
             0.2222222222222222,
             "#7201a8"
            ],
            [
             0.3333333333333333,
             "#9c179e"
            ],
            [
             0.4444444444444444,
             "#bd3786"
            ],
            [
             0.5555555555555556,
             "#d8576b"
            ],
            [
             0.6666666666666666,
             "#ed7953"
            ],
            [
             0.7777777777777778,
             "#fb9f3a"
            ],
            [
             0.8888888888888888,
             "#fdca26"
            ],
            [
             1,
             "#f0f921"
            ]
           ]
          },
          "colorway": [
           "#636efa",
           "#EF553B",
           "#00cc96",
           "#ab63fa",
           "#FFA15A",
           "#19d3f3",
           "#FF6692",
           "#B6E880",
           "#FF97FF",
           "#FECB52"
          ],
          "font": {
           "color": "#2a3f5f"
          },
          "geo": {
           "bgcolor": "white",
           "lakecolor": "white",
           "landcolor": "#E5ECF6",
           "showlakes": true,
           "showland": true,
           "subunitcolor": "white"
          },
          "hoverlabel": {
           "align": "left"
          },
          "hovermode": "closest",
          "mapbox": {
           "style": "light"
          },
          "paper_bgcolor": "white",
          "plot_bgcolor": "#E5ECF6",
          "polar": {
           "angularaxis": {
            "gridcolor": "white",
            "linecolor": "white",
            "ticks": ""
           },
           "bgcolor": "#E5ECF6",
           "radialaxis": {
            "gridcolor": "white",
            "linecolor": "white",
            "ticks": ""
           }
          },
          "scene": {
           "xaxis": {
            "backgroundcolor": "#E5ECF6",
            "gridcolor": "white",
            "gridwidth": 2,
            "linecolor": "white",
            "showbackground": true,
            "ticks": "",
            "zerolinecolor": "white"
           },
           "yaxis": {
            "backgroundcolor": "#E5ECF6",
            "gridcolor": "white",
            "gridwidth": 2,
            "linecolor": "white",
            "showbackground": true,
            "ticks": "",
            "zerolinecolor": "white"
           },
           "zaxis": {
            "backgroundcolor": "#E5ECF6",
            "gridcolor": "white",
            "gridwidth": 2,
            "linecolor": "white",
            "showbackground": true,
            "ticks": "",
            "zerolinecolor": "white"
           }
          },
          "shapedefaults": {
           "line": {
            "color": "#2a3f5f"
           }
          },
          "ternary": {
           "aaxis": {
            "gridcolor": "white",
            "linecolor": "white",
            "ticks": ""
           },
           "baxis": {
            "gridcolor": "white",
            "linecolor": "white",
            "ticks": ""
           },
           "bgcolor": "#E5ECF6",
           "caxis": {
            "gridcolor": "white",
            "linecolor": "white",
            "ticks": ""
           }
          },
          "title": {
           "x": 0.05
          },
          "xaxis": {
           "automargin": true,
           "gridcolor": "white",
           "linecolor": "white",
           "ticks": "",
           "title": {
            "standoff": 15
           },
           "zerolinecolor": "white",
           "zerolinewidth": 2
          },
          "yaxis": {
           "automargin": true,
           "gridcolor": "white",
           "linecolor": "white",
           "ticks": "",
           "title": {
            "standoff": 15
           },
           "zerolinecolor": "white",
           "zerolinewidth": 2
          }
         }
        },
        "title": {
         "text": "Durchschnittlicher Rang und Punkte nach Alter"
        },
        "xaxis": {
         "title": {
          "text": "Alter"
         }
        },
        "yaxis": {
         "title": {
          "text": "Durchschnittlicher Rang"
         }
        },
        "yaxis2": {
         "overlaying": "y",
         "side": "right",
         "title": {
          "text": "Durchschnittliche Punkte"
         }
        }
       }
      }
     },
     "metadata": {},
     "output_type": "display_data"
    }
   ],
   "source": [
    "import plotly.graph_objects as go\n",
    "\n",
    "age_group_stats = rankings.groupby('age').agg({'rank': 'mean', 'points': 'mean'}).reset_index()\n",
    "\n",
    "# Erstellung des ersten Linienplots für den Durchschnittsrang\n",
    "fig = go.Figure()\n",
    "fig.add_trace(go.Scatter(x=age_group_stats['age'], y=age_group_stats['rank'], mode='lines', name='Durchschnittlicher Rang'))\n",
    "\n",
    "# Erstellung des zweiten Linienplots für die Durchschnittspunkte\n",
    "fig.add_trace(go.Scatter(x=age_group_stats['age'], y=age_group_stats['points'], mode='lines', name='Durchschnittliche Punkte', yaxis=\"y2\"))\n",
    "\n",
    "# Hinzufügen von Achsentiteln und Titel des Diagramms\n",
    "fig.update_layout(\n",
    "    title='Durchschnittlicher Rang und Punkte nach Alter',\n",
    "    xaxis_title='Alter',\n",
    "    yaxis_title='Durchschnittlicher Rang',\n",
    "    yaxis2=dict(\n",
    "        title='Durchschnittliche Punkte',\n",
    "        overlaying='y',\n",
    "        side='right'\n",
    "    )\n",
    ")\n",
    "\n",
    "# Anzeigen des Diagramms\n",
    "fig.show()"
   ]
  },
  {
   "cell_type": "markdown",
   "metadata": {},
   "source": [
    "# Korrelationsanalyse"
   ]
  },
  {
   "cell_type": "code",
   "execution_count": 73,
   "metadata": {},
   "outputs": [],
   "source": [
    "correlation_rank_age = rankings['age'].corr(rankings['rank'])\n",
    "correlation_points_age = rankings['age'].corr(rankings['points'])\n"
   ]
  },
  {
   "cell_type": "code",
   "execution_count": 74,
   "metadata": {},
   "outputs": [
    {
     "name": "stdout",
     "output_type": "stream",
     "text": [
      "Es gab eine negative Korrelation von -0.2726 zwischen dem Alter und dem Rang, was darauf hindeutet, dass jüngere Spieler tendenziell höhere Ranglistenpositionen einnehmen.\n",
      "Die Korrelation zwischen Alter und Punkten war positiv 0.1608, was darauf hindeutet, dass ältere Spieler tendenziell mehr Punkte haben.\n"
     ]
    }
   ],
   "source": [
    "print(f\"Es gab eine negative Korrelation von {correlation_rank_age.round(4)} zwischen dem Alter und dem Rang, was darauf hindeutet, dass jüngere Spieler tendenziell höhere Ranglistenpositionen einnehmen.\\n\"\\\n",
    "      f\"Die Korrelation zwischen Alter und Punkten war positiv {correlation_points_age.round(4)}, was darauf hindeutet, dass ältere Spieler tendenziell mehr Punkte haben.\")"
   ]
  },
  {
   "cell_type": "markdown",
   "metadata": {},
   "source": [
    "# Lineare Regression"
   ]
  },
  {
   "cell_type": "code",
   "execution_count": 75,
   "metadata": {},
   "outputs": [],
   "source": [
    "from sklearn.linear_model import LinearRegression\n",
    "from sklearn.metrics import r2_score\n",
    "\n",
    "# Lineare Regression für Alter vs. Rang\n",
    "regressor_age_rank = LinearRegression()\n",
    "regressor_age_rank.fit(rankings[['age']], rankings['rank'])\n",
    "predicted_rank = regressor_age_rank.predict(rankings[['age']])\n",
    "r2_rank = r2_score(rankings['rank'], predicted_rank)\n",
    "\n",
    "# Lineare Regression für Alter vs. Punkte\n",
    "regressor_age_points = LinearRegression()\n",
    "regressor_age_points.fit(rankings[['age']], rankings['points'])\n",
    "predicted_points = regressor_age_points.predict(rankings[['age']])\n",
    "r2_points = r2_score(rankings['points'], predicted_points)\n",
    "\n",
    "coef_rank = regressor_age_rank.coef_[0]\n",
    "coef_points = regressor_age_points.coef_[0]\n"
   ]
  },
  {
   "cell_type": "code",
   "execution_count": 76,
   "metadata": {},
   "outputs": [
    {
     "data": {
      "text/plain": [
       "(-34.05136428453809, 16.46482825994343)"
      ]
     },
     "execution_count": 76,
     "metadata": {},
     "output_type": "execute_result"
    }
   ],
   "source": [
    "coef_rank, coef_points"
   ]
  },
  {
   "cell_type": "code",
   "execution_count": 77,
   "metadata": {},
   "outputs": [
    {
     "name": "stdout",
     "output_type": "stream",
     "text": [
      "Für Alter vs. Rang: Der Koeffizient betrug -34.05136428453809, was bedeutet, dass der Rang im Durchschnitt um -34.0 Positionen sinkt, je älter ein Spieler wird. \n",
      "Das Bestimmtheitsmaß (R²) war 0.07433519443833692, was eine moderate Vorhersagekraft anzeigt.\n",
      "\n",
      "Für Alter vs. Punkte: Der Koeffizient betrug 16.46482825994343, was bedeutet, dass die Punktzahl im Durchschnitt um etwa 16.0 Punkte steigt, je älter ein Spieler wird. \n",
      "Das Bestimmtheitsmaß (R²) war jedoch mit 0.025860793594407627 sehr gering.\n"
     ]
    }
   ],
   "source": [
    "print(f\"Für Alter vs. Rang: Der Koeffizient betrug {coef_rank}, was bedeutet, dass der Rang im Durchschnitt um {coef_rank.round()} Positionen sinkt, je älter ein Spieler wird. \\nDas Bestimmtheitsmaß (R²) war {r2_rank}, was eine moderate Vorhersagekraft anzeigt.\\n\\n\"\\\n",
    "    f\"Für Alter vs. Punkte: Der Koeffizient betrug {coef_points}, was bedeutet, dass die Punktzahl im Durchschnitt um etwa {coef_points.round()} Punkte steigt, je älter ein Spieler wird. \\nDas Bestimmtheitsmaß (R²) war jedoch mit {r2_points} sehr gering.\")"
   ]
  },
  {
   "cell_type": "markdown",
   "metadata": {},
   "source": [
    "# Untersuchung auf stochastische Unabhängigkeit: \n",
    "Mithilfe eines Chi-Quadrat-Tests können wir prüfen, ob Alter und Ranglistenposition unabhängig voneinander sind"
   ]
  },
  {
   "cell_type": "code",
   "execution_count": 78,
   "metadata": {},
   "outputs": [
    {
     "data": {
      "text/plain": [
       "(617709.5824034236, 0.0)"
      ]
     },
     "execution_count": 78,
     "metadata": {},
     "output_type": "execute_result"
    }
   ],
   "source": [
    "from scipy.stats import chi2_contingency\n",
    "\n",
    "# Erstellung der Kontingenztafel\n",
    "contingency_table = pd.crosstab(rankings['age'], rankings['rank'])\n",
    "\n",
    "# Durchführung des Chi-Quadrat-Tests\n",
    "chi2, p, dof, expected = chi2_contingency(contingency_table)\n",
    "\n",
    "chi2, p"
   ]
  },
  {
   "cell_type": "markdown",
   "metadata": {},
   "source": [
    "Der Chi-Quadrat-Test ergab einen p-Wert von 0.0. (<0.05) Dies bedeutet, dass wir die Nullhypothese der Unabhängigkeit zwischen Alter und Rangliste ablehnen können. \n",
    "Der extrem niedrige p-Wert zeigt, dass es eine sehr signifikante Beziehung zwischen dem Alter der Spieler und ihrer Position in der Rangliste gibt. Dies bestätigt, dass der Zusammenhang, den wir in den vorherigen Analysen beobachtet haben, nicht zufällig ist, sondern systematisch."
   ]
  }
 ],
 "metadata": {
  "kernelspec": {
   "display_name": "bv",
   "language": "python",
   "name": "python3"
  },
  "language_info": {
   "codemirror_mode": {
    "name": "ipython",
    "version": 3
   },
   "file_extension": ".py",
   "mimetype": "text/x-python",
   "name": "python",
   "nbconvert_exporter": "python",
   "pygments_lexer": "ipython3",
   "version": "3.9.16"
  }
 },
 "nbformat": 4,
 "nbformat_minor": 2
}
