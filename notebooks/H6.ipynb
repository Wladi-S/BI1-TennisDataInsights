{
 "cells": [
  {
   "cell_type": "code",
   "execution_count": 1,
   "metadata": {},
   "outputs": [],
   "source": [
    "import pandas as pd\n",
    "import numpy as np\n",
    "import plotly.express as px\n",
    "import plotly.graph_objects as go\n",
    "from plotly.subplots import make_subplots"
   ]
  },
  {
   "cell_type": "code",
   "execution_count": 3,
   "metadata": {},
   "outputs": [],
   "source": [
    "matches = pd.read_csv('../../data/raw/atp_matches_till_2022.csv')"
   ]
  },
  {
   "cell_type": "code",
   "execution_count": 5,
   "metadata": {},
   "outputs": [
    {
     "name": "stderr",
     "output_type": "stream",
     "text": [
      "/var/folders/jq/xvfn2vg55lsc1wx2_2mrh3640000gn/T/ipykernel_26851/1259316504.py:13: SettingWithCopyWarning: \n",
      "A value is trying to be set on a copy of a slice from a DataFrame.\n",
      "Try using .loc[row_indexer,col_indexer] = value instead\n",
      "\n",
      "See the caveats in the documentation: https://pandas.pydata.org/pandas-docs/stable/user_guide/indexing.html#returning-a-view-versus-a-copy\n",
      "  matches_simple['matchup'] = matches_simple.apply(create_matchup, axis=1)\n"
     ]
    }
   ],
   "source": [
    "import pandas as pd\n",
    "from collections import defaultdict\n",
    "from scipy.stats import chi2_contingency\n",
    "\n",
    "# Vereinfachen der Daten für die Analyse\n",
    "matches_simple = matches[['winner_id', 'loser_id']]\n",
    "\n",
    "# Funktion, um ein sortiertes Tupel der Spieler-IDs für jedes Spiel zu erstellen\n",
    "def create_matchup(row):\n",
    "    return tuple(sorted([row['winner_id'], row['loser_id']]))\n",
    "\n",
    "# Anwenden der Funktion auf jede Zeile\n",
    "matches_simple['matchup'] = matches_simple.apply(create_matchup, axis=1)\n",
    "\n",
    "# Zählen, wie oft jedes Matchup auftritt\n",
    "matchup_counts = matches_simple['matchup'].value_counts()\n",
    "\n",
    "# Filtern von Matchups, die mehr als einmal vorkommen\n",
    "repeated_matchups = matchup_counts[matchup_counts > 1]\n",
    "\n",
    "# Erstellen eines Wörterbuchs, um die Ergebnisse jedes Matchups zu speichern\n",
    "matchup_history = defaultdict(list)\n",
    "\n",
    "# Durchgehen jedes Spiels und Speichern des Gewinners\n",
    "for index, row in matches_simple.iterrows():\n",
    "    matchup = row['matchup']\n",
    "    winner = row['winner_id']\n",
    "    matchup_history[matchup].append(winner)\n",
    "\n",
    "# Analyse der Auswirkungen des letzten Spiels\n",
    "last_win_influence = {'same_winner': 0, 'different_winner': 0}\n",
    "\n",
    "for matchup, history in matchup_history.items():\n",
    "    for i in range(len(history) - 1):\n",
    "        if history[i] == history[i + 1]:\n",
    "            last_win_influence['same_winner'] += 1\n",
    "        else:\n",
    "            last_win_influence['different_winner'] += 1\n",
    "\n",
    "\n"
   ]
  },
  {
   "cell_type": "code",
   "execution_count": 6,
   "metadata": {},
   "outputs": [
    {
     "name": "stdout",
     "output_type": "stream",
     "text": [
      "Chi-Quadrat-Wert: 7175.736016304081\n",
      "P-Wert: 0.0\n"
     ]
    }
   ],
   "source": [
    "# Chi-Quadrat-Test\n",
    "contingency_table = [\n",
    "    [last_win_influence['same_winner'], last_win_influence['different_winner']],\n",
    "    [last_win_influence['different_winner'], last_win_influence['same_winner']]\n",
    "]\n",
    "\n",
    "chi2, p_value, _, _ = chi2_contingency(contingency_table)\n",
    "\n",
    "# Ausgabe der Ergebnisse\n",
    "print(f\"Chi-Quadrat-Wert: {chi2}\")\n",
    "print(f\"P-Wert: {p_value}\")"
   ]
  }
 ],
 "metadata": {
  "kernelspec": {
   "display_name": "bv",
   "language": "python",
   "name": "python3"
  },
  "language_info": {
   "codemirror_mode": {
    "name": "ipython",
    "version": 3
   },
   "file_extension": ".py",
   "mimetype": "text/x-python",
   "name": "python",
   "nbconvert_exporter": "python",
   "pygments_lexer": "ipython3",
   "version": "3.10.11"
  }
 },
 "nbformat": 4,
 "nbformat_minor": 2
}
