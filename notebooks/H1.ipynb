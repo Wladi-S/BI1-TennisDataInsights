{
 "cells": [
  {
   "cell_type": "markdown",
   "metadata": {},
   "source": [
    "# Gibt es „Angstgegner“-Nationen, gegen die die deutschen Spieler besonders schlecht abschneiden? Lässt sich das einfach durch die generelle Spielstärke der Spieler dieser Nationen erklären, oder gibt es Nationen, gegen die gerade deutsche Spieler schlecht abschneiden? Gibt es analog „Lieblingsgegner“-Nationen?"
   ]
  },
  {
   "cell_type": "code",
   "execution_count": 28,
   "metadata": {},
   "outputs": [],
   "source": [
    "import json\n",
    "import pandas as pd\n",
    "import plotly.express as px"
   ]
  },
  {
   "cell_type": "code",
   "execution_count": 29,
   "metadata": {},
   "outputs": [],
   "source": [
    "matches = pd.read_csv('../../data/raw/atp_matches_till_2022.csv')\n",
    "players = pd.read_csv('../../data/raw/atp_players_till_2022.csv')"
   ]
  },
  {
   "cell_type": "code",
   "execution_count": 30,
   "metadata": {},
   "outputs": [],
   "source": [
    "with open('../../data/processed/länder.json', 'r') as f:\n",
    "    data = json.load(f)\n",
    "\n",
    "codes = list(data.keys())\n",
    "names = list(data.values())\n",
    "\n",
    "länder = pd.DataFrame({'Code': codes, 'Name': names})"
   ]
  },
  {
   "cell_type": "code",
   "execution_count": 31,
   "metadata": {},
   "outputs": [],
   "source": [
    "german_ioc_code = \"GER\"\n",
    "german_winner_matches = matches[matches[\"winner_ioc\"] == german_ioc_code]\n",
    "german_loser_matches = matches[matches[\"loser_ioc\"] == german_ioc_code]\n",
    "\n",
    "siege = german_winner_matches[\"loser_ioc\"].value_counts()\n",
    "niederlagen = german_loser_matches[\"winner_ioc\"].value_counts()\n",
    "\n",
    "performance = pd.DataFrame({\"Siege\": siege, \"Niederlagen\": niederlagen}).fillna(0)\n",
    "\n",
    "performance[\"Total\"] = performance.sum(axis=1)\n",
    "performance[\"Win_Rate\"] = performance[\"Siege\"] / performance[\"Total\"]\n",
    "performance[\"Loss_Rate\"] = performance[\"Niederlagen\"] / performance[\"Total\"]\n",
    "\n",
    "Grenze = 20\n",
    "\n",
    "performance = performance[performance[\"Total\"] >= Grenze].sort_values(by=\"Win_Rate\", ascending=False)\n",
    "performance = pd.concat([performance, länder.set_index('Code')], axis=1, join='inner').reset_index()\n",
    "\n",
    "top = 10\n",
    "top_favoriten = performance.head(top)\n",
    "top_rivalen = performance.tail(top)"
   ]
  },
  {
   "cell_type": "code",
   "execution_count": 32,
   "metadata": {},
   "outputs": [
    {
     "data": {
      "text/html": [
       "<div>\n",
       "<style scoped>\n",
       "    .dataframe tbody tr th:only-of-type {\n",
       "        vertical-align: middle;\n",
       "    }\n",
       "\n",
       "    .dataframe tbody tr th {\n",
       "        vertical-align: top;\n",
       "    }\n",
       "\n",
       "    .dataframe thead th {\n",
       "        text-align: right;\n",
       "    }\n",
       "</style>\n",
       "<table border=\"1\" class=\"dataframe\">\n",
       "  <thead>\n",
       "    <tr style=\"text-align: right;\">\n",
       "      <th></th>\n",
       "      <th>index</th>\n",
       "      <th>Siege</th>\n",
       "      <th>Niederlagen</th>\n",
       "      <th>Total</th>\n",
       "      <th>Win_Rate</th>\n",
       "      <th>Loss_Rate</th>\n",
       "      <th>Name</th>\n",
       "    </tr>\n",
       "  </thead>\n",
       "  <tbody>\n",
       "    <tr>\n",
       "      <th>58</th>\n",
       "      <td>CYP</td>\n",
       "      <td>12.0</td>\n",
       "      <td>36.0</td>\n",
       "      <td>48.0</td>\n",
       "      <td>0.250000</td>\n",
       "      <td>0.750000</td>\n",
       "      <td>Zypern</td>\n",
       "    </tr>\n",
       "    <tr>\n",
       "      <th>57</th>\n",
       "      <td>UZB</td>\n",
       "      <td>11.0</td>\n",
       "      <td>31.0</td>\n",
       "      <td>42.0</td>\n",
       "      <td>0.261905</td>\n",
       "      <td>0.738095</td>\n",
       "      <td>Usbekistan</td>\n",
       "    </tr>\n",
       "    <tr>\n",
       "      <th>56</th>\n",
       "      <td>LTU</td>\n",
       "      <td>7.0</td>\n",
       "      <td>15.0</td>\n",
       "      <td>22.0</td>\n",
       "      <td>0.318182</td>\n",
       "      <td>0.681818</td>\n",
       "      <td>Litauen</td>\n",
       "    </tr>\n",
       "    <tr>\n",
       "      <th>55</th>\n",
       "      <td>MAR</td>\n",
       "      <td>25.0</td>\n",
       "      <td>43.0</td>\n",
       "      <td>68.0</td>\n",
       "      <td>0.367647</td>\n",
       "      <td>0.632353</td>\n",
       "      <td>Marokko</td>\n",
       "    </tr>\n",
       "    <tr>\n",
       "      <th>54</th>\n",
       "      <td>ZIM</td>\n",
       "      <td>18.0</td>\n",
       "      <td>30.0</td>\n",
       "      <td>48.0</td>\n",
       "      <td>0.375000</td>\n",
       "      <td>0.625000</td>\n",
       "      <td>Simbabwe</td>\n",
       "    </tr>\n",
       "    <tr>\n",
       "      <th>53</th>\n",
       "      <td>PAR</td>\n",
       "      <td>17.0</td>\n",
       "      <td>26.0</td>\n",
       "      <td>43.0</td>\n",
       "      <td>0.395349</td>\n",
       "      <td>0.604651</td>\n",
       "      <td>Paraguay</td>\n",
       "    </tr>\n",
       "    <tr>\n",
       "      <th>52</th>\n",
       "      <td>BUL</td>\n",
       "      <td>14.0</td>\n",
       "      <td>21.0</td>\n",
       "      <td>35.0</td>\n",
       "      <td>0.400000</td>\n",
       "      <td>0.600000</td>\n",
       "      <td>Bulgarien</td>\n",
       "    </tr>\n",
       "    <tr>\n",
       "      <th>51</th>\n",
       "      <td>SUI</td>\n",
       "      <td>169.0</td>\n",
       "      <td>245.0</td>\n",
       "      <td>414.0</td>\n",
       "      <td>0.408213</td>\n",
       "      <td>0.591787</td>\n",
       "      <td>Schweiz</td>\n",
       "    </tr>\n",
       "    <tr>\n",
       "      <th>50</th>\n",
       "      <td>CHI</td>\n",
       "      <td>87.0</td>\n",
       "      <td>122.0</td>\n",
       "      <td>209.0</td>\n",
       "      <td>0.416268</td>\n",
       "      <td>0.583732</td>\n",
       "      <td>Chile</td>\n",
       "    </tr>\n",
       "    <tr>\n",
       "      <th>49</th>\n",
       "      <td>SRB</td>\n",
       "      <td>95.0</td>\n",
       "      <td>133.0</td>\n",
       "      <td>228.0</td>\n",
       "      <td>0.416667</td>\n",
       "      <td>0.583333</td>\n",
       "      <td>Serbien</td>\n",
       "    </tr>\n",
       "  </tbody>\n",
       "</table>\n",
       "</div>"
      ],
      "text/plain": [
       "   index  Siege  Niederlagen  Total  Win_Rate  Loss_Rate        Name\n",
       "58   CYP   12.0         36.0   48.0  0.250000   0.750000      Zypern\n",
       "57   UZB   11.0         31.0   42.0  0.261905   0.738095  Usbekistan\n",
       "56   LTU    7.0         15.0   22.0  0.318182   0.681818     Litauen\n",
       "55   MAR   25.0         43.0   68.0  0.367647   0.632353     Marokko\n",
       "54   ZIM   18.0         30.0   48.0  0.375000   0.625000    Simbabwe\n",
       "53   PAR   17.0         26.0   43.0  0.395349   0.604651    Paraguay\n",
       "52   BUL   14.0         21.0   35.0  0.400000   0.600000   Bulgarien\n",
       "51   SUI  169.0        245.0  414.0  0.408213   0.591787     Schweiz\n",
       "50   CHI   87.0        122.0  209.0  0.416268   0.583732       Chile\n",
       "49   SRB   95.0        133.0  228.0  0.416667   0.583333     Serbien"
      ]
     },
     "execution_count": 32,
     "metadata": {},
     "output_type": "execute_result"
    }
   ],
   "source": [
    "performance.sort_values(by=\"Win_Rate\", ascending=True).head(10)"
   ]
  },
  {
   "cell_type": "code",
   "execution_count": 33,
   "metadata": {},
   "outputs": [
    {
     "name": "stdout",
     "output_type": "stream",
     "text": [
      "  index  Siege  Niederlagen  Total  Win_Rate  Loss_Rate          Name\n",
      "0   VEN   20.0          3.0   23.0  0.869565   0.130435     Venezuela\n",
      "1   TPE   24.0          7.0   31.0  0.774194   0.225806        Taiwan\n",
      "2   THA   23.0         10.0   33.0  0.696970   0.303030      Thailand\n",
      "3   SLO   24.0         12.0   36.0  0.666667   0.333333     Slowenien\n",
      "4   DEN   55.0         33.0   88.0  0.625000   0.375000      Dänemark\n",
      "5   NOR   20.0         12.0   32.0  0.625000   0.375000      Norwegen\n",
      "6   MEX   41.0         25.0   66.0  0.621212   0.378788        Mexiko\n",
      "7   POR   31.0         19.0   50.0  0.620000   0.380000      Portugal\n",
      "8   YUG   13.0          8.0   21.0  0.619048   0.380952   Jugoslawien\n",
      "9   BLR   32.0         21.0   53.0  0.603774   0.396226  Weißrussland\n",
      "\n",
      "   index  Siege  Niederlagen  Total  Win_Rate  Loss_Rate        Name\n",
      "58   CYP   12.0         36.0   48.0  0.250000   0.750000      Zypern\n",
      "57   UZB   11.0         31.0   42.0  0.261905   0.738095  Usbekistan\n",
      "56   LTU    7.0         15.0   22.0  0.318182   0.681818     Litauen\n",
      "55   MAR   25.0         43.0   68.0  0.367647   0.632353     Marokko\n",
      "54   ZIM   18.0         30.0   48.0  0.375000   0.625000    Simbabwe\n",
      "53   PAR   17.0         26.0   43.0  0.395349   0.604651    Paraguay\n",
      "52   BUL   14.0         21.0   35.0  0.400000   0.600000   Bulgarien\n",
      "51   SUI  169.0        245.0  414.0  0.408213   0.591787     Schweiz\n",
      "50   CHI   87.0        122.0  209.0  0.416268   0.583732       Chile\n",
      "49   SRB   95.0        133.0  228.0  0.416667   0.583333     Serbien\n"
     ]
    }
   ],
   "source": [
    "print(top_favoriten)\n",
    "print()\n",
    "print(top_rivalen.sort_values(by=\"Loss_Rate\",ascending=False))"
   ]
  },
  {
   "cell_type": "code",
   "execution_count": 34,
   "metadata": {},
   "outputs": [
    {
     "data": {
      "application/vnd.plotly.v1+json": {
       "config": {
        "plotlyServerURL": "https://plot.ly"
       },
       "data": [
        {
         "alignmentgroup": "True",
         "customdata": [
          [
           20,
           3,
           "Venezuela"
          ],
          [
           24,
           7,
           "Taiwan"
          ],
          [
           23,
           10,
           "Thailand"
          ],
          [
           24,
           12,
           "Slowenien"
          ],
          [
           55,
           33,
           "Dänemark"
          ],
          [
           20,
           12,
           "Norwegen"
          ],
          [
           41,
           25,
           "Mexiko"
          ],
          [
           31,
           19,
           "Portugal"
          ],
          [
           13,
           8,
           "Jugoslawien"
          ],
          [
           32,
           21,
           "Weißrussland"
          ],
          [
           35,
           25,
           "Kasachstan"
          ],
          [
           60,
           43,
           "Indien"
          ],
          [
           44,
           32,
           "Kolumbien"
          ],
          [
           215,
           163,
           "Südafrika"
          ],
          [
           79,
           60,
           "Japan"
          ],
          [
           27,
           21,
           "Südkorea"
          ],
          [
           18,
           14,
           "Ägypten"
          ],
          [
           343,
           292,
           "Italien"
          ],
          [
           147,
           130,
           "Belgien"
          ],
          [
           65,
           58,
           "Israel"
          ],
          [
           101,
           91,
           "Kanada"
          ],
          [
           143,
           131,
           "Brasilien"
          ],
          [
           201,
           186,
           "Österreich"
          ],
          [
           13,
           13,
           "Lettland"
          ],
          [
           23,
           23,
           "Griechenland"
          ],
          [
           717,
           717,
           "Deutschland"
          ],
          [
           60,
           61,
           "Ungarn"
          ],
          [
           532,
           543,
           "Australien"
          ],
          [
           780,
           816,
           "Frankreich"
          ],
          [
           12,
           13,
           "Bosnien und Herzegowina"
          ],
          [
           12,
           13,
           "Georgien"
          ],
          [
           93,
           101,
           "Slowakei"
          ],
          [
           107,
           119,
           "Rumänien"
          ],
          [
           223,
           249,
           "Niederlande"
          ],
          [
           1256,
           1464,
           "Vereinigte Staaten"
          ],
          [
           185,
           222,
           "Großbritannien"
          ],
          [
           474,
           570,
           "Schweden"
          ],
          [
           33,
           40,
           "Ecuador"
          ],
          [
           46,
           56,
           "Finnland"
          ],
          [
           45,
           55,
           "Ukraine"
          ],
          [
           373,
           457,
           "Tschechische Republik"
          ],
          [
           23,
           29,
           "Uruguay"
          ],
          [
           58,
           74,
           "Neuseeland"
          ],
          [
           307,
           392,
           "Russland"
          ],
          [
           189,
           248,
           "Kroatien"
          ],
          [
           40,
           53,
           "Polen"
          ],
          [
           358,
           478,
           "Argentinien"
          ],
          [
           691,
           945,
           "Spanien"
          ],
          [
           21,
           29,
           "Peru"
          ],
          [
           95,
           133,
           "Serbien"
          ],
          [
           87,
           122,
           "Chile"
          ],
          [
           169,
           245,
           "Schweiz"
          ],
          [
           14,
           21,
           "Bulgarien"
          ],
          [
           17,
           26,
           "Paraguay"
          ],
          [
           18,
           30,
           "Simbabwe"
          ],
          [
           25,
           43,
           "Marokko"
          ],
          [
           7,
           15,
           "Litauen"
          ],
          [
           11,
           31,
           "Usbekistan"
          ],
          [
           12,
           36,
           "Zypern"
          ]
         ],
         "hovertemplate": "variable=Win_Rate<br>index=%{x}<br>value=%{y}<br>Siege=%{customdata[0]}<br>Niederlagen=%{customdata[1]}<br>Name=%{customdata[2]}<extra></extra>",
         "legendgroup": "Win_Rate",
         "marker": {
          "color": "#b2e061",
          "opacity": 0.9,
          "pattern": {
           "shape": ""
          }
         },
         "name": "Win_Rate",
         "offsetgroup": "Win_Rate",
         "orientation": "v",
         "showlegend": true,
         "textposition": "auto",
         "type": "bar",
         "x": [
          "VEN",
          "TPE",
          "THA",
          "SLO",
          "DEN",
          "NOR",
          "MEX",
          "POR",
          "YUG",
          "BLR",
          "KAZ",
          "IND",
          "COL",
          "RSA",
          "JPN",
          "KOR",
          "EGY",
          "ITA",
          "BEL",
          "ISR",
          "CAN",
          "BRA",
          "AUT",
          "LAT",
          "GRE",
          "GER",
          "HUN",
          "AUS",
          "FRA",
          "BIH",
          "GEO",
          "SVK",
          "ROU",
          "NED",
          "USA",
          "GBR",
          "SWE",
          "ECU",
          "FIN",
          "UKR",
          "CZE",
          "URU",
          "NZL",
          "RUS",
          "CRO",
          "POL",
          "ARG",
          "ESP",
          "PER",
          "SRB",
          "CHI",
          "SUI",
          "BUL",
          "PAR",
          "ZIM",
          "MAR",
          "LTU",
          "UZB",
          "CYP"
         ],
         "xaxis": "x",
         "y": [
          0.8695652173913043,
          0.7741935483870968,
          0.696969696969697,
          0.6666666666666666,
          0.625,
          0.625,
          0.6212121212121212,
          0.62,
          0.6190476190476191,
          0.6037735849056604,
          0.5833333333333334,
          0.5825242718446602,
          0.5789473684210527,
          0.5687830687830688,
          0.5683453237410072,
          0.5625,
          0.5625,
          0.5401574803149606,
          0.5306859205776173,
          0.5284552845528455,
          0.5260416666666666,
          0.5218978102189781,
          0.5193798449612403,
          0.5,
          0.5,
          0.5,
          0.49586776859504134,
          0.4948837209302326,
          0.48872180451127817,
          0.48,
          0.48,
          0.4793814432989691,
          0.47345132743362833,
          0.4724576271186441,
          0.46176470588235297,
          0.45454545454545453,
          0.4540229885057471,
          0.4520547945205479,
          0.45098039215686275,
          0.45,
          0.4493975903614458,
          0.4423076923076923,
          0.4393939393939394,
          0.43919885550786836,
          0.43249427917620137,
          0.43010752688172044,
          0.42822966507177035,
          0.4223716381418093,
          0.42,
          0.4166666666666667,
          0.41626794258373206,
          0.4082125603864734,
          0.4,
          0.3953488372093023,
          0.375,
          0.36764705882352944,
          0.3181818181818182,
          0.2619047619047619,
          0.25
         ],
         "yaxis": "y"
        }
       ],
       "layout": {
        "annotations": [
         {
          "arrowcolor": "black",
          "arrowhead": 1,
          "bgcolor": "white",
          "font": {
           "color": "grey",
           "size": 10
          },
          "showarrow": true,
          "text": "50% Gewinnrate",
          "xref": "paper",
          "y": 0.4999295370863235
         },
         {
          "bgcolor": "white",
          "font": {
           "color": "grey",
           "size": 10
          },
          "showarrow": false,
          "text": "Lieblingsgegner",
          "x": 0.05,
          "xref": "paper",
          "y": 0.48
         },
         {
          "bgcolor": "white",
          "font": {
           "color": "grey",
           "size": 10
          },
          "showarrow": false,
          "text": "Angstgegner",
          "x": 0.95,
          "xref": "paper",
          "y": 0.48
         }
        ],
        "barmode": "relative",
        "legend": {
         "title": {
          "text": "variable"
         },
         "tracegroupgap": 0
        },
        "shapes": [
         {
          "line": {
           "color": "black",
           "dash": "dot"
          },
          "opacity": 0.4,
          "type": "line",
          "x0": 0,
          "x1": 1,
          "xref": "x domain",
          "y0": 0.5,
          "y1": 0.5,
          "yref": "y"
         }
        ],
        "template": {
         "data": {
          "bar": [
           {
            "error_x": {
             "color": "#2a3f5f"
            },
            "error_y": {
             "color": "#2a3f5f"
            },
            "marker": {
             "line": {
              "color": "#E5ECF6",
              "width": 0.5
             },
             "pattern": {
              "fillmode": "overlay",
              "size": 10,
              "solidity": 0.2
             }
            },
            "type": "bar"
           }
          ],
          "barpolar": [
           {
            "marker": {
             "line": {
              "color": "#E5ECF6",
              "width": 0.5
             },
             "pattern": {
              "fillmode": "overlay",
              "size": 10,
              "solidity": 0.2
             }
            },
            "type": "barpolar"
           }
          ],
          "carpet": [
           {
            "aaxis": {
             "endlinecolor": "#2a3f5f",
             "gridcolor": "white",
             "linecolor": "white",
             "minorgridcolor": "white",
             "startlinecolor": "#2a3f5f"
            },
            "baxis": {
             "endlinecolor": "#2a3f5f",
             "gridcolor": "white",
             "linecolor": "white",
             "minorgridcolor": "white",
             "startlinecolor": "#2a3f5f"
            },
            "type": "carpet"
           }
          ],
          "choropleth": [
           {
            "colorbar": {
             "outlinewidth": 0,
             "ticks": ""
            },
            "type": "choropleth"
           }
          ],
          "contour": [
           {
            "colorbar": {
             "outlinewidth": 0,
             "ticks": ""
            },
            "colorscale": [
             [
              0,
              "#0d0887"
             ],
             [
              0.1111111111111111,
              "#46039f"
             ],
             [
              0.2222222222222222,
              "#7201a8"
             ],
             [
              0.3333333333333333,
              "#9c179e"
             ],
             [
              0.4444444444444444,
              "#bd3786"
             ],
             [
              0.5555555555555556,
              "#d8576b"
             ],
             [
              0.6666666666666666,
              "#ed7953"
             ],
             [
              0.7777777777777778,
              "#fb9f3a"
             ],
             [
              0.8888888888888888,
              "#fdca26"
             ],
             [
              1,
              "#f0f921"
             ]
            ],
            "type": "contour"
           }
          ],
          "contourcarpet": [
           {
            "colorbar": {
             "outlinewidth": 0,
             "ticks": ""
            },
            "type": "contourcarpet"
           }
          ],
          "heatmap": [
           {
            "colorbar": {
             "outlinewidth": 0,
             "ticks": ""
            },
            "colorscale": [
             [
              0,
              "#0d0887"
             ],
             [
              0.1111111111111111,
              "#46039f"
             ],
             [
              0.2222222222222222,
              "#7201a8"
             ],
             [
              0.3333333333333333,
              "#9c179e"
             ],
             [
              0.4444444444444444,
              "#bd3786"
             ],
             [
              0.5555555555555556,
              "#d8576b"
             ],
             [
              0.6666666666666666,
              "#ed7953"
             ],
             [
              0.7777777777777778,
              "#fb9f3a"
             ],
             [
              0.8888888888888888,
              "#fdca26"
             ],
             [
              1,
              "#f0f921"
             ]
            ],
            "type": "heatmap"
           }
          ],
          "heatmapgl": [
           {
            "colorbar": {
             "outlinewidth": 0,
             "ticks": ""
            },
            "colorscale": [
             [
              0,
              "#0d0887"
             ],
             [
              0.1111111111111111,
              "#46039f"
             ],
             [
              0.2222222222222222,
              "#7201a8"
             ],
             [
              0.3333333333333333,
              "#9c179e"
             ],
             [
              0.4444444444444444,
              "#bd3786"
             ],
             [
              0.5555555555555556,
              "#d8576b"
             ],
             [
              0.6666666666666666,
              "#ed7953"
             ],
             [
              0.7777777777777778,
              "#fb9f3a"
             ],
             [
              0.8888888888888888,
              "#fdca26"
             ],
             [
              1,
              "#f0f921"
             ]
            ],
            "type": "heatmapgl"
           }
          ],
          "histogram": [
           {
            "marker": {
             "pattern": {
              "fillmode": "overlay",
              "size": 10,
              "solidity": 0.2
             }
            },
            "type": "histogram"
           }
          ],
          "histogram2d": [
           {
            "colorbar": {
             "outlinewidth": 0,
             "ticks": ""
            },
            "colorscale": [
             [
              0,
              "#0d0887"
             ],
             [
              0.1111111111111111,
              "#46039f"
             ],
             [
              0.2222222222222222,
              "#7201a8"
             ],
             [
              0.3333333333333333,
              "#9c179e"
             ],
             [
              0.4444444444444444,
              "#bd3786"
             ],
             [
              0.5555555555555556,
              "#d8576b"
             ],
             [
              0.6666666666666666,
              "#ed7953"
             ],
             [
              0.7777777777777778,
              "#fb9f3a"
             ],
             [
              0.8888888888888888,
              "#fdca26"
             ],
             [
              1,
              "#f0f921"
             ]
            ],
            "type": "histogram2d"
           }
          ],
          "histogram2dcontour": [
           {
            "colorbar": {
             "outlinewidth": 0,
             "ticks": ""
            },
            "colorscale": [
             [
              0,
              "#0d0887"
             ],
             [
              0.1111111111111111,
              "#46039f"
             ],
             [
              0.2222222222222222,
              "#7201a8"
             ],
             [
              0.3333333333333333,
              "#9c179e"
             ],
             [
              0.4444444444444444,
              "#bd3786"
             ],
             [
              0.5555555555555556,
              "#d8576b"
             ],
             [
              0.6666666666666666,
              "#ed7953"
             ],
             [
              0.7777777777777778,
              "#fb9f3a"
             ],
             [
              0.8888888888888888,
              "#fdca26"
             ],
             [
              1,
              "#f0f921"
             ]
            ],
            "type": "histogram2dcontour"
           }
          ],
          "mesh3d": [
           {
            "colorbar": {
             "outlinewidth": 0,
             "ticks": ""
            },
            "type": "mesh3d"
           }
          ],
          "parcoords": [
           {
            "line": {
             "colorbar": {
              "outlinewidth": 0,
              "ticks": ""
             }
            },
            "type": "parcoords"
           }
          ],
          "pie": [
           {
            "automargin": true,
            "type": "pie"
           }
          ],
          "scatter": [
           {
            "fillpattern": {
             "fillmode": "overlay",
             "size": 10,
             "solidity": 0.2
            },
            "type": "scatter"
           }
          ],
          "scatter3d": [
           {
            "line": {
             "colorbar": {
              "outlinewidth": 0,
              "ticks": ""
             }
            },
            "marker": {
             "colorbar": {
              "outlinewidth": 0,
              "ticks": ""
             }
            },
            "type": "scatter3d"
           }
          ],
          "scattercarpet": [
           {
            "marker": {
             "colorbar": {
              "outlinewidth": 0,
              "ticks": ""
             }
            },
            "type": "scattercarpet"
           }
          ],
          "scattergeo": [
           {
            "marker": {
             "colorbar": {
              "outlinewidth": 0,
              "ticks": ""
             }
            },
            "type": "scattergeo"
           }
          ],
          "scattergl": [
           {
            "marker": {
             "colorbar": {
              "outlinewidth": 0,
              "ticks": ""
             }
            },
            "type": "scattergl"
           }
          ],
          "scattermapbox": [
           {
            "marker": {
             "colorbar": {
              "outlinewidth": 0,
              "ticks": ""
             }
            },
            "type": "scattermapbox"
           }
          ],
          "scatterpolar": [
           {
            "marker": {
             "colorbar": {
              "outlinewidth": 0,
              "ticks": ""
             }
            },
            "type": "scatterpolar"
           }
          ],
          "scatterpolargl": [
           {
            "marker": {
             "colorbar": {
              "outlinewidth": 0,
              "ticks": ""
             }
            },
            "type": "scatterpolargl"
           }
          ],
          "scatterternary": [
           {
            "marker": {
             "colorbar": {
              "outlinewidth": 0,
              "ticks": ""
             }
            },
            "type": "scatterternary"
           }
          ],
          "surface": [
           {
            "colorbar": {
             "outlinewidth": 0,
             "ticks": ""
            },
            "colorscale": [
             [
              0,
              "#0d0887"
             ],
             [
              0.1111111111111111,
              "#46039f"
             ],
             [
              0.2222222222222222,
              "#7201a8"
             ],
             [
              0.3333333333333333,
              "#9c179e"
             ],
             [
              0.4444444444444444,
              "#bd3786"
             ],
             [
              0.5555555555555556,
              "#d8576b"
             ],
             [
              0.6666666666666666,
              "#ed7953"
             ],
             [
              0.7777777777777778,
              "#fb9f3a"
             ],
             [
              0.8888888888888888,
              "#fdca26"
             ],
             [
              1,
              "#f0f921"
             ]
            ],
            "type": "surface"
           }
          ],
          "table": [
           {
            "cells": {
             "fill": {
              "color": "#EBF0F8"
             },
             "line": {
              "color": "white"
             }
            },
            "header": {
             "fill": {
              "color": "#C8D4E3"
             },
             "line": {
              "color": "white"
             }
            },
            "type": "table"
           }
          ]
         },
         "layout": {
          "annotationdefaults": {
           "arrowcolor": "#2a3f5f",
           "arrowhead": 0,
           "arrowwidth": 1
          },
          "autotypenumbers": "strict",
          "coloraxis": {
           "colorbar": {
            "outlinewidth": 0,
            "ticks": ""
           }
          },
          "colorscale": {
           "diverging": [
            [
             0,
             "#8e0152"
            ],
            [
             0.1,
             "#c51b7d"
            ],
            [
             0.2,
             "#de77ae"
            ],
            [
             0.3,
             "#f1b6da"
            ],
            [
             0.4,
             "#fde0ef"
            ],
            [
             0.5,
             "#f7f7f7"
            ],
            [
             0.6,
             "#e6f5d0"
            ],
            [
             0.7,
             "#b8e186"
            ],
            [
             0.8,
             "#7fbc41"
            ],
            [
             0.9,
             "#4d9221"
            ],
            [
             1,
             "#276419"
            ]
           ],
           "sequential": [
            [
             0,
             "#0d0887"
            ],
            [
             0.1111111111111111,
             "#46039f"
            ],
            [
             0.2222222222222222,
             "#7201a8"
            ],
            [
             0.3333333333333333,
             "#9c179e"
            ],
            [
             0.4444444444444444,
             "#bd3786"
            ],
            [
             0.5555555555555556,
             "#d8576b"
            ],
            [
             0.6666666666666666,
             "#ed7953"
            ],
            [
             0.7777777777777778,
             "#fb9f3a"
            ],
            [
             0.8888888888888888,
             "#fdca26"
            ],
            [
             1,
             "#f0f921"
            ]
           ],
           "sequentialminus": [
            [
             0,
             "#0d0887"
            ],
            [
             0.1111111111111111,
             "#46039f"
            ],
            [
             0.2222222222222222,
             "#7201a8"
            ],
            [
             0.3333333333333333,
             "#9c179e"
            ],
            [
             0.4444444444444444,
             "#bd3786"
            ],
            [
             0.5555555555555556,
             "#d8576b"
            ],
            [
             0.6666666666666666,
             "#ed7953"
            ],
            [
             0.7777777777777778,
             "#fb9f3a"
            ],
            [
             0.8888888888888888,
             "#fdca26"
            ],
            [
             1,
             "#f0f921"
            ]
           ]
          },
          "colorway": [
           "#636efa",
           "#EF553B",
           "#00cc96",
           "#ab63fa",
           "#FFA15A",
           "#19d3f3",
           "#FF6692",
           "#B6E880",
           "#FF97FF",
           "#FECB52"
          ],
          "font": {
           "color": "#2a3f5f"
          },
          "geo": {
           "bgcolor": "white",
           "lakecolor": "white",
           "landcolor": "#E5ECF6",
           "showlakes": true,
           "showland": true,
           "subunitcolor": "white"
          },
          "hoverlabel": {
           "align": "left"
          },
          "hovermode": "closest",
          "mapbox": {
           "style": "light"
          },
          "paper_bgcolor": "white",
          "plot_bgcolor": "#E5ECF6",
          "polar": {
           "angularaxis": {
            "gridcolor": "white",
            "linecolor": "white",
            "ticks": ""
           },
           "bgcolor": "#E5ECF6",
           "radialaxis": {
            "gridcolor": "white",
            "linecolor": "white",
            "ticks": ""
           }
          },
          "scene": {
           "xaxis": {
            "backgroundcolor": "#E5ECF6",
            "gridcolor": "white",
            "gridwidth": 2,
            "linecolor": "white",
            "showbackground": true,
            "ticks": "",
            "zerolinecolor": "white"
           },
           "yaxis": {
            "backgroundcolor": "#E5ECF6",
            "gridcolor": "white",
            "gridwidth": 2,
            "linecolor": "white",
            "showbackground": true,
            "ticks": "",
            "zerolinecolor": "white"
           },
           "zaxis": {
            "backgroundcolor": "#E5ECF6",
            "gridcolor": "white",
            "gridwidth": 2,
            "linecolor": "white",
            "showbackground": true,
            "ticks": "",
            "zerolinecolor": "white"
           }
          },
          "shapedefaults": {
           "line": {
            "color": "#2a3f5f"
           }
          },
          "ternary": {
           "aaxis": {
            "gridcolor": "white",
            "linecolor": "white",
            "ticks": ""
           },
           "baxis": {
            "gridcolor": "white",
            "linecolor": "white",
            "ticks": ""
           },
           "bgcolor": "#E5ECF6",
           "caxis": {
            "gridcolor": "white",
            "linecolor": "white",
            "ticks": ""
           }
          },
          "title": {
           "x": 0.05
          },
          "xaxis": {
           "automargin": true,
           "gridcolor": "white",
           "linecolor": "white",
           "ticks": "",
           "title": {
            "standoff": 15
           },
           "zerolinecolor": "white",
           "zerolinewidth": 2
          },
          "yaxis": {
           "automargin": true,
           "gridcolor": "white",
           "linecolor": "white",
           "ticks": "",
           "title": {
            "standoff": 15
           },
           "zerolinecolor": "white",
           "zerolinewidth": 2
          }
         }
        },
        "title": {
         "text": "Gewinnrate der deutschen Tennisspieler gegen andere Nationen"
        },
        "xaxis": {
         "anchor": "y",
         "domain": [
          0,
          1
         ],
         "title": {
          "text": "Gegner Nationen"
         }
        },
        "yaxis": {
         "anchor": "x",
         "domain": [
          0,
          1
         ],
         "tickformat": ".2%",
         "title": {
          "text": "Gewinnrate"
         }
        }
       }
      }
     },
     "metadata": {},
     "output_type": "display_data"
    }
   ],
   "source": [
    "fig = px.bar(performance.sort_values('Win_Rate', ascending=False), \n",
    "            y=['Win_Rate'], \n",
    "            x='index',\n",
    "            title='Gewinnrate der deutschen Tennisspieler gegen andere Nationen',\n",
    "            hover_data=['Siege', 'Niederlagen', 'Name'],\n",
    "            color_discrete_sequence= [\"#b2e061\", \"#fd7f6f\"],\n",
    "            opacity=0.9)\n",
    "\n",
    "fig.add_hline(y=0.5, opacity=0.4, line_dash='dot', line_color='black')\n",
    "\n",
    "fig.add_annotation(text=\"50% Gewinnrate\",\n",
    "                xref='paper',\n",
    "                y=performance['Win_Rate'].mean(),\n",
    "                arrowhead=1, \n",
    "                showarrow=True, \n",
    "                arrowcolor='black',        \n",
    "                bgcolor='white',\n",
    "                font=dict(size=10, color='grey'))\n",
    "\n",
    "fig.add_annotation(text=\"Lieblingsgegner\",\n",
    "                   xref='paper',\n",
    "                   y= performance['Win_Rate'].median(),\n",
    "                   x=0.05,\n",
    "                   showarrow=False, \n",
    "                   bgcolor='white',\n",
    "                   font=dict(size=10, color='grey'))\n",
    "\n",
    "fig.add_annotation(text=\"Angstgegner\",\n",
    "                   xref='paper',\n",
    "                   y=performance['Win_Rate'].median(),\n",
    "                   x=0.95, \n",
    "                   showarrow=False, \n",
    "                   bgcolor='white',\n",
    "                   font=dict(size=10, color='grey'))\n",
    "\n",
    "fig.update_yaxes(tickformat=\".2%\")\n",
    "fig.update_yaxes(title='Gewinnrate')\n",
    "fig.update_xaxes(title='Gegner Nationen')\n",
    "fig.show()\n"
   ]
  },
  {
   "cell_type": "markdown",
   "metadata": {},
   "source": [
    "## Liegen die teilweise geringen Siegesquoten der Deutschan an der generellen Spielstärke der Gegnernation?"
   ]
  },
  {
   "cell_type": "code",
   "execution_count": 35,
   "metadata": {},
   "outputs": [],
   "source": [
    "#Dataframe der Gewinnernationen\n",
    "df_loser = matches.groupby([\"loser_ioc\", \"winner_ioc\"]).size().reset_index(name =\"loses_count\")\n",
    "\n",
    "#Dataframe der Verlierernationen\n",
    "df_winner = matches.groupby([\"winner_ioc\", \"loser_ioc\"]).size().reset_index(name=\"wins_count\")"
   ]
  },
  {
   "cell_type": "code",
   "execution_count": 36,
   "metadata": {},
   "outputs": [],
   "source": [
    "#Summe der Siege pro Nation\n",
    "df_winner = df_winner.groupby(\"winner_ioc\")[\"wins_count\"].sum().reset_index()\n",
    "#Summe der Niederlagen pro Nation \n",
    "df_loser = df_loser.groupby(\"loser_ioc\")[\"loses_count\"].sum().reset_index()"
   ]
  },
  {
   "cell_type": "code",
   "execution_count": 37,
   "metadata": {},
   "outputs": [],
   "source": [
    "# Berechnung der Anzahl der gewonnenen Spiele pro Land\n",
    "wins = matches['winner_ioc'].value_counts().reset_index()\n",
    "wins.columns = ['nation', 'wins']\n",
    "\n",
    "# Berechnung der Anzahl der verlorenen Spiele pro Land\n",
    "losses = matches['loser_ioc'].value_counts().reset_index()\n",
    "losses.columns = ['nation', 'losses']\n",
    "\n",
    "# Zusammenführen der DataFrames\n",
    "df_winrate = pd.merge(wins, losses, on='nation', how='outer')\n",
    "\n",
    "# Füllen der fehlenden Werte mit 0\n",
    "df_winrate = df_winrate.fillna(0)\n",
    "\n",
    "# Berechnung der Gesamtzahl der Spiele\n",
    "df_winrate['total_games'] = df_winrate['wins'] + df_winrate['losses']\n",
    "\n",
    "# Berechnung der Gewinnrate\n",
    "df_winrate['win_rate'] = df_winrate['wins'] / df_winrate['total_games']\n"
   ]
  },
  {
   "cell_type": "markdown",
   "metadata": {},
   "source": [
    "## Prüfen, ob die geringe Siegesquote Deutschlands an der generellen Spielspärke der Gegnernation liegt"
   ]
  },
  {
   "cell_type": "code",
   "execution_count": 38,
   "metadata": {},
   "outputs": [],
   "source": [
    "#Tabellen joinen, um generelle Sigesquote der Gegenernationen der Sigesquote von Deutschland gegen diese Nation gegenüberzustellen\n",
    "df_merge3 = pd.merge(performance, df_winrate[['nation', 'win_rate', 'wins', 'losses']], how=\"outer\", left_on=\"index\", right_on=\"nation\")\n",
    "df_merge3.rename(columns={\"win_rate\": \"win_rate_Gegner_allgemein\"}, inplace=True)\n",
    "df_merge3.rename(columns={'Win_Rate': 'win_rate_Deutschland'}, inplace=True)"
   ]
  },
  {
   "cell_type": "code",
   "execution_count": 39,
   "metadata": {},
   "outputs": [
    {
     "data": {
      "text/html": [
       "<div>\n",
       "<style scoped>\n",
       "    .dataframe tbody tr th:only-of-type {\n",
       "        vertical-align: middle;\n",
       "    }\n",
       "\n",
       "    .dataframe tbody tr th {\n",
       "        vertical-align: top;\n",
       "    }\n",
       "\n",
       "    .dataframe thead th {\n",
       "        text-align: right;\n",
       "    }\n",
       "</style>\n",
       "<table border=\"1\" class=\"dataframe\">\n",
       "  <thead>\n",
       "    <tr style=\"text-align: right;\">\n",
       "      <th></th>\n",
       "      <th>index</th>\n",
       "      <th>Siege</th>\n",
       "      <th>Niederlagen</th>\n",
       "      <th>Total</th>\n",
       "      <th>win_rate_Deutschland</th>\n",
       "      <th>Loss_Rate</th>\n",
       "      <th>Name</th>\n",
       "      <th>nation</th>\n",
       "      <th>win_rate_Gegner_allgemein</th>\n",
       "      <th>wins</th>\n",
       "      <th>losses</th>\n",
       "    </tr>\n",
       "  </thead>\n",
       "  <tbody>\n",
       "    <tr>\n",
       "      <th>0</th>\n",
       "      <td>VEN</td>\n",
       "      <td>20.0</td>\n",
       "      <td>3.0</td>\n",
       "      <td>23.0</td>\n",
       "      <td>0.869565</td>\n",
       "      <td>0.130435</td>\n",
       "      <td>Venezuela</td>\n",
       "      <td>VEN</td>\n",
       "      <td>0.376828</td>\n",
       "      <td>335.0</td>\n",
       "      <td>554.0</td>\n",
       "    </tr>\n",
       "    <tr>\n",
       "      <th>1</th>\n",
       "      <td>TPE</td>\n",
       "      <td>24.0</td>\n",
       "      <td>7.0</td>\n",
       "      <td>31.0</td>\n",
       "      <td>0.774194</td>\n",
       "      <td>0.225806</td>\n",
       "      <td>Taiwan</td>\n",
       "      <td>TPE</td>\n",
       "      <td>0.406286</td>\n",
       "      <td>349.0</td>\n",
       "      <td>510.0</td>\n",
       "    </tr>\n",
       "    <tr>\n",
       "      <th>2</th>\n",
       "      <td>THA</td>\n",
       "      <td>23.0</td>\n",
       "      <td>10.0</td>\n",
       "      <td>33.0</td>\n",
       "      <td>0.696970</td>\n",
       "      <td>0.303030</td>\n",
       "      <td>Thailand</td>\n",
       "      <td>THA</td>\n",
       "      <td>0.508399</td>\n",
       "      <td>454.0</td>\n",
       "      <td>439.0</td>\n",
       "    </tr>\n",
       "    <tr>\n",
       "      <th>3</th>\n",
       "      <td>SLO</td>\n",
       "      <td>24.0</td>\n",
       "      <td>12.0</td>\n",
       "      <td>36.0</td>\n",
       "      <td>0.666667</td>\n",
       "      <td>0.333333</td>\n",
       "      <td>Slowenien</td>\n",
       "      <td>SLO</td>\n",
       "      <td>0.454787</td>\n",
       "      <td>342.0</td>\n",
       "      <td>410.0</td>\n",
       "    </tr>\n",
       "    <tr>\n",
       "      <th>4</th>\n",
       "      <td>DEN</td>\n",
       "      <td>55.0</td>\n",
       "      <td>33.0</td>\n",
       "      <td>88.0</td>\n",
       "      <td>0.625000</td>\n",
       "      <td>0.375000</td>\n",
       "      <td>Dänemark</td>\n",
       "      <td>DEN</td>\n",
       "      <td>0.445946</td>\n",
       "      <td>726.0</td>\n",
       "      <td>902.0</td>\n",
       "    </tr>\n",
       "    <tr>\n",
       "      <th>...</th>\n",
       "      <td>...</td>\n",
       "      <td>...</td>\n",
       "      <td>...</td>\n",
       "      <td>...</td>\n",
       "      <td>...</td>\n",
       "      <td>...</td>\n",
       "      <td>...</td>\n",
       "      <td>...</td>\n",
       "      <td>...</td>\n",
       "      <td>...</td>\n",
       "      <td>...</td>\n",
       "    </tr>\n",
       "    <tr>\n",
       "      <th>137</th>\n",
       "      <td>NaN</td>\n",
       "      <td>NaN</td>\n",
       "      <td>NaN</td>\n",
       "      <td>NaN</td>\n",
       "      <td>NaN</td>\n",
       "      <td>NaN</td>\n",
       "      <td>NaN</td>\n",
       "      <td>BER</td>\n",
       "      <td>0.000000</td>\n",
       "      <td>0.0</td>\n",
       "      <td>2.0</td>\n",
       "    </tr>\n",
       "    <tr>\n",
       "      <th>138</th>\n",
       "      <td>NaN</td>\n",
       "      <td>NaN</td>\n",
       "      <td>NaN</td>\n",
       "      <td>NaN</td>\n",
       "      <td>NaN</td>\n",
       "      <td>NaN</td>\n",
       "      <td>NaN</td>\n",
       "      <td>FIJ</td>\n",
       "      <td>0.000000</td>\n",
       "      <td>0.0</td>\n",
       "      <td>1.0</td>\n",
       "    </tr>\n",
       "    <tr>\n",
       "      <th>139</th>\n",
       "      <td>NaN</td>\n",
       "      <td>NaN</td>\n",
       "      <td>NaN</td>\n",
       "      <td>NaN</td>\n",
       "      <td>NaN</td>\n",
       "      <td>NaN</td>\n",
       "      <td>NaN</td>\n",
       "      <td>AZE</td>\n",
       "      <td>0.000000</td>\n",
       "      <td>0.0</td>\n",
       "      <td>1.0</td>\n",
       "    </tr>\n",
       "    <tr>\n",
       "      <th>140</th>\n",
       "      <td>NaN</td>\n",
       "      <td>NaN</td>\n",
       "      <td>NaN</td>\n",
       "      <td>NaN</td>\n",
       "      <td>NaN</td>\n",
       "      <td>NaN</td>\n",
       "      <td>NaN</td>\n",
       "      <td>SUR</td>\n",
       "      <td>0.000000</td>\n",
       "      <td>0.0</td>\n",
       "      <td>1.0</td>\n",
       "    </tr>\n",
       "    <tr>\n",
       "      <th>141</th>\n",
       "      <td>NaN</td>\n",
       "      <td>NaN</td>\n",
       "      <td>NaN</td>\n",
       "      <td>NaN</td>\n",
       "      <td>NaN</td>\n",
       "      <td>NaN</td>\n",
       "      <td>NaN</td>\n",
       "      <td>BUR</td>\n",
       "      <td>0.000000</td>\n",
       "      <td>0.0</td>\n",
       "      <td>1.0</td>\n",
       "    </tr>\n",
       "  </tbody>\n",
       "</table>\n",
       "<p>142 rows × 11 columns</p>\n",
       "</div>"
      ],
      "text/plain": [
       "    index  Siege  Niederlagen  Total  win_rate_Deutschland  Loss_Rate  \\\n",
       "0     VEN   20.0          3.0   23.0              0.869565   0.130435   \n",
       "1     TPE   24.0          7.0   31.0              0.774194   0.225806   \n",
       "2     THA   23.0         10.0   33.0              0.696970   0.303030   \n",
       "3     SLO   24.0         12.0   36.0              0.666667   0.333333   \n",
       "4     DEN   55.0         33.0   88.0              0.625000   0.375000   \n",
       "..    ...    ...          ...    ...                   ...        ...   \n",
       "137   NaN    NaN          NaN    NaN                   NaN        NaN   \n",
       "138   NaN    NaN          NaN    NaN                   NaN        NaN   \n",
       "139   NaN    NaN          NaN    NaN                   NaN        NaN   \n",
       "140   NaN    NaN          NaN    NaN                   NaN        NaN   \n",
       "141   NaN    NaN          NaN    NaN                   NaN        NaN   \n",
       "\n",
       "          Name nation  win_rate_Gegner_allgemein   wins  losses  \n",
       "0    Venezuela    VEN                   0.376828  335.0   554.0  \n",
       "1       Taiwan    TPE                   0.406286  349.0   510.0  \n",
       "2     Thailand    THA                   0.508399  454.0   439.0  \n",
       "3    Slowenien    SLO                   0.454787  342.0   410.0  \n",
       "4     Dänemark    DEN                   0.445946  726.0   902.0  \n",
       "..         ...    ...                        ...    ...     ...  \n",
       "137        NaN    BER                   0.000000    0.0     2.0  \n",
       "138        NaN    FIJ                   0.000000    0.0     1.0  \n",
       "139        NaN    AZE                   0.000000    0.0     1.0  \n",
       "140        NaN    SUR                   0.000000    0.0     1.0  \n",
       "141        NaN    BUR                   0.000000    0.0     1.0  \n",
       "\n",
       "[142 rows x 11 columns]"
      ]
     },
     "execution_count": 39,
     "metadata": {},
     "output_type": "execute_result"
    }
   ],
   "source": [
    "df_merge3"
   ]
  },
  {
   "cell_type": "code",
   "execution_count": 40,
   "metadata": {},
   "outputs": [
    {
     "data": {
      "application/vnd.plotly.v1+json": {
       "config": {
        "plotlyServerURL": "https://plot.ly"
       },
       "data": [
        {
         "alignmentgroup": "True",
         "customdata": [
          [
           "Venezuela"
          ],
          [
           "Taiwan"
          ],
          [
           "Thailand"
          ],
          [
           "Slowenien"
          ],
          [
           "Dänemark"
          ],
          [
           "Norwegen"
          ],
          [
           "Mexiko"
          ],
          [
           "Portugal"
          ],
          [
           "Jugoslawien"
          ],
          [
           "Weißrussland"
          ],
          [
           "Kasachstan"
          ],
          [
           "Indien"
          ],
          [
           "Kolumbien"
          ],
          [
           "Südafrika"
          ],
          [
           "Japan"
          ],
          [
           "Ägypten"
          ],
          [
           "Südkorea"
          ],
          [
           "Italien"
          ],
          [
           "Belgien"
          ],
          [
           "Israel"
          ],
          [
           "Kanada"
          ],
          [
           "Brasilien"
          ],
          [
           "Österreich"
          ],
          [
           "Lettland"
          ],
          [
           "Griechenland"
          ],
          [
           "Deutschland"
          ],
          [
           "Ungarn"
          ],
          [
           "Australien"
          ],
          [
           "Frankreich"
          ],
          [
           "Georgien"
          ],
          [
           "Bosnien und Herzegowina"
          ],
          [
           "Slowakei"
          ],
          [
           "Rumänien"
          ],
          [
           "Niederlande"
          ],
          [
           "Vereinigte Staaten"
          ],
          [
           "Großbritannien"
          ],
          [
           "Schweden"
          ],
          [
           "Ecuador"
          ],
          [
           "Finnland"
          ],
          [
           "Ukraine"
          ],
          [
           "Tschechische Republik"
          ],
          [
           "Uruguay"
          ],
          [
           "Neuseeland"
          ],
          [
           "Russland"
          ],
          [
           "Kroatien"
          ],
          [
           "Polen"
          ],
          [
           "Argentinien"
          ],
          [
           "Spanien"
          ],
          [
           "Peru"
          ],
          [
           "Serbien"
          ],
          [
           "Chile"
          ],
          [
           "Schweiz"
          ],
          [
           "Bulgarien"
          ],
          [
           "Paraguay"
          ],
          [
           "Simbabwe"
          ],
          [
           "Marokko"
          ],
          [
           "Litauen"
          ],
          [
           "Usbekistan"
          ],
          [
           "Zypern"
          ],
          [
           null
          ],
          [
           null
          ],
          [
           null
          ],
          [
           null
          ],
          [
           null
          ],
          [
           null
          ],
          [
           null
          ],
          [
           null
          ],
          [
           null
          ],
          [
           null
          ],
          [
           null
          ],
          [
           null
          ],
          [
           null
          ],
          [
           null
          ],
          [
           null
          ],
          [
           null
          ],
          [
           null
          ],
          [
           null
          ],
          [
           null
          ],
          [
           null
          ],
          [
           null
          ],
          [
           null
          ],
          [
           null
          ],
          [
           null
          ],
          [
           null
          ],
          [
           null
          ],
          [
           null
          ],
          [
           null
          ],
          [
           null
          ],
          [
           null
          ],
          [
           null
          ],
          [
           null
          ],
          [
           null
          ],
          [
           null
          ],
          [
           null
          ],
          [
           null
          ],
          [
           null
          ],
          [
           null
          ],
          [
           null
          ],
          [
           null
          ],
          [
           null
          ],
          [
           null
          ],
          [
           null
          ],
          [
           null
          ],
          [
           null
          ],
          [
           null
          ],
          [
           null
          ],
          [
           null
          ],
          [
           null
          ],
          [
           null
          ],
          [
           null
          ],
          [
           null
          ],
          [
           null
          ],
          [
           null
          ],
          [
           null
          ],
          [
           null
          ],
          [
           null
          ],
          [
           null
          ],
          [
           null
          ],
          [
           null
          ],
          [
           null
          ],
          [
           null
          ],
          [
           null
          ],
          [
           null
          ],
          [
           null
          ],
          [
           null
          ],
          [
           null
          ],
          [
           null
          ],
          [
           null
          ],
          [
           null
          ],
          [
           null
          ],
          [
           null
          ],
          [
           null
          ],
          [
           null
          ],
          [
           null
          ],
          [
           null
          ],
          [
           null
          ],
          [
           null
          ],
          [
           null
          ],
          [
           null
          ],
          [
           null
          ],
          [
           null
          ],
          [
           null
          ]
         ],
         "hovertemplate": "variable=win_rate_Gegner_allgemein<br>index=%{x}<br>value=%{y}<br>Name=%{customdata[0]}<extra></extra>",
         "legendgroup": "win_rate_Gegner_allgemein",
         "marker": {
          "color": "#fd7f6f",
          "opacity": 0.9,
          "pattern": {
           "shape": ""
          }
         },
         "name": "win_rate_Gegner_allgemein",
         "offsetgroup": "win_rate_Gegner_allgemein",
         "orientation": "v",
         "showlegend": true,
         "textposition": "auto",
         "type": "bar",
         "x": [
          "VEN",
          "TPE",
          "THA",
          "SLO",
          "DEN",
          "NOR",
          "MEX",
          "POR",
          "YUG",
          "BLR",
          "KAZ",
          "IND",
          "COL",
          "RSA",
          "JPN",
          "EGY",
          "KOR",
          "ITA",
          "BEL",
          "ISR",
          "CAN",
          "BRA",
          "AUT",
          "LAT",
          "GRE",
          "GER",
          "HUN",
          "AUS",
          "FRA",
          "GEO",
          "BIH",
          "SVK",
          "ROU",
          "NED",
          "USA",
          "GBR",
          "SWE",
          "ECU",
          "FIN",
          "UKR",
          "CZE",
          "URU",
          "NZL",
          "RUS",
          "CRO",
          "POL",
          "ARG",
          "ESP",
          "PER",
          "SRB",
          "CHI",
          "SUI",
          "BUL",
          "PAR",
          "ZIM",
          "MAR",
          "LTU",
          "UZB",
          "CYP",
          null,
          null,
          null,
          null,
          null,
          null,
          null,
          null,
          null,
          null,
          null,
          null,
          null,
          null,
          null,
          null,
          null,
          null,
          null,
          null,
          null,
          null,
          null,
          null,
          null,
          null,
          null,
          null,
          null,
          null,
          null,
          null,
          null,
          null,
          null,
          null,
          null,
          null,
          null,
          null,
          null,
          null,
          null,
          null,
          null,
          null,
          null,
          null,
          null,
          null,
          null,
          null,
          null,
          null,
          null,
          null,
          null,
          null,
          null,
          null,
          null,
          null,
          null,
          null,
          null,
          null,
          null,
          null,
          null,
          null,
          null,
          null,
          null,
          null,
          null,
          null,
          null,
          null,
          null,
          null,
          null,
          null,
          null
         ],
         "xaxis": "x",
         "y": [
          0.37682789651293586,
          0.4062863795110594,
          0.5083986562150056,
          0.45478723404255317,
          0.44594594594594594,
          0.48081534772182255,
          0.4936029715229055,
          0.3944281524926686,
          0.5062111801242236,
          0.4821944177093359,
          0.4249775381850854,
          0.4531201003449357,
          0.4115384615384615,
          0.46867723694422886,
          0.44031007751937984,
          0.43628509719222464,
          0.47766990291262135,
          0.45162882527147086,
          0.45126353790613716,
          0.4599906410856341,
          0.4513977943062324,
          0.4444022770398482,
          0.4922651933701657,
          0.46926536731634183,
          0.5052023121387283,
          0.47673319327731095,
          0.49806576402321084,
          0.5020603705316761,
          0.48570841889117045,
          0.4060721062618596,
          0.44539614561027835,
          0.49509027557808044,
          0.5349910279415534,
          0.49850164818699433,
          0.5237000282383315,
          0.4892360068088515,
          0.5486101962850745,
          0.5242587601078167,
          0.4751908396946565,
          0.5028768699654775,
          0.49896265560165975,
          0.48403361344537815,
          0.4590395480225989,
          0.5435381355932203,
          0.5487914055505819,
          0.5313688212927756,
          0.5231339468302658,
          0.5354989837748458,
          0.47352404138770543,
          0.5856745127815742,
          0.5196555597154624,
          0.5811994052535933,
          0.5191204588910134,
          0.5064150943396226,
          0.4567441860465116,
          0.47842884739214425,
          0.43007915567282323,
          0.4406548431105048,
          0.48575305291723203,
          0.46495956873315364,
          0.43103448275862066,
          0.3976311336717428,
          0.38779527559055116,
          0.368836291913215,
          0.3833718244803695,
          0.37528604118993136,
          0.41798941798941797,
          0.3390928725701944,
          0.45,
          0.39118457300275483,
          0.39805825242718446,
          0.34011627906976744,
          0.4109090909090909,
          0.34796238244514105,
          0.39194139194139194,
          0.2883435582822086,
          0.2747603833865815,
          0.34274193548387094,
          0.3804878048780488,
          0.4723926380368098,
          0.4394904458598726,
          0.4144736842105263,
          0.14691943127962084,
          0.3370165745856354,
          0.348993288590604,
          0.4857142857142857,
          0.3125,
          0.4,
          0.34782608695652173,
          0.2422680412371134,
          0.3283582089552239,
          0.3548387096774194,
          0.4215686274509804,
          0.33070866141732286,
          0.33980582524271846,
          0.3625,
          0.43548387096774194,
          0.2878787878787879,
          0.24,
          0.3404255319148936,
          0.1774193548387097,
          0.22448979591836735,
          0.44,
          0.22727272727272727,
          0.32142857142857145,
          0.2857142857142857,
          0.35,
          0.5833333333333334,
          0.25,
          0.35,
          0.25,
          0.3,
          0.38461538461538464,
          0.5714285714285714,
          0.3333333333333333,
          0.08163265306122448,
          0.12,
          0.075,
          0.23076923076923078,
          0.1875,
          0.25,
          0.375,
          0.25,
          0.11764705882352941,
          0.125,
          0.2,
          1,
          0.16666666666666666,
          0,
          0,
          0,
          0,
          0,
          0,
          0,
          0,
          0,
          0,
          0,
          0,
          0,
          0
         ],
         "yaxis": "y"
        },
        {
         "alignmentgroup": "True",
         "customdata": [
          [
           "Venezuela"
          ],
          [
           "Taiwan"
          ],
          [
           "Thailand"
          ],
          [
           "Slowenien"
          ],
          [
           "Dänemark"
          ],
          [
           "Norwegen"
          ],
          [
           "Mexiko"
          ],
          [
           "Portugal"
          ],
          [
           "Jugoslawien"
          ],
          [
           "Weißrussland"
          ],
          [
           "Kasachstan"
          ],
          [
           "Indien"
          ],
          [
           "Kolumbien"
          ],
          [
           "Südafrika"
          ],
          [
           "Japan"
          ],
          [
           "Ägypten"
          ],
          [
           "Südkorea"
          ],
          [
           "Italien"
          ],
          [
           "Belgien"
          ],
          [
           "Israel"
          ],
          [
           "Kanada"
          ],
          [
           "Brasilien"
          ],
          [
           "Österreich"
          ],
          [
           "Lettland"
          ],
          [
           "Griechenland"
          ],
          [
           "Deutschland"
          ],
          [
           "Ungarn"
          ],
          [
           "Australien"
          ],
          [
           "Frankreich"
          ],
          [
           "Georgien"
          ],
          [
           "Bosnien und Herzegowina"
          ],
          [
           "Slowakei"
          ],
          [
           "Rumänien"
          ],
          [
           "Niederlande"
          ],
          [
           "Vereinigte Staaten"
          ],
          [
           "Großbritannien"
          ],
          [
           "Schweden"
          ],
          [
           "Ecuador"
          ],
          [
           "Finnland"
          ],
          [
           "Ukraine"
          ],
          [
           "Tschechische Republik"
          ],
          [
           "Uruguay"
          ],
          [
           "Neuseeland"
          ],
          [
           "Russland"
          ],
          [
           "Kroatien"
          ],
          [
           "Polen"
          ],
          [
           "Argentinien"
          ],
          [
           "Spanien"
          ],
          [
           "Peru"
          ],
          [
           "Serbien"
          ],
          [
           "Chile"
          ],
          [
           "Schweiz"
          ],
          [
           "Bulgarien"
          ],
          [
           "Paraguay"
          ],
          [
           "Simbabwe"
          ],
          [
           "Marokko"
          ],
          [
           "Litauen"
          ],
          [
           "Usbekistan"
          ],
          [
           "Zypern"
          ],
          [
           null
          ],
          [
           null
          ],
          [
           null
          ],
          [
           null
          ],
          [
           null
          ],
          [
           null
          ],
          [
           null
          ],
          [
           null
          ],
          [
           null
          ],
          [
           null
          ],
          [
           null
          ],
          [
           null
          ],
          [
           null
          ],
          [
           null
          ],
          [
           null
          ],
          [
           null
          ],
          [
           null
          ],
          [
           null
          ],
          [
           null
          ],
          [
           null
          ],
          [
           null
          ],
          [
           null
          ],
          [
           null
          ],
          [
           null
          ],
          [
           null
          ],
          [
           null
          ],
          [
           null
          ],
          [
           null
          ],
          [
           null
          ],
          [
           null
          ],
          [
           null
          ],
          [
           null
          ],
          [
           null
          ],
          [
           null
          ],
          [
           null
          ],
          [
           null
          ],
          [
           null
          ],
          [
           null
          ],
          [
           null
          ],
          [
           null
          ],
          [
           null
          ],
          [
           null
          ],
          [
           null
          ],
          [
           null
          ],
          [
           null
          ],
          [
           null
          ],
          [
           null
          ],
          [
           null
          ],
          [
           null
          ],
          [
           null
          ],
          [
           null
          ],
          [
           null
          ],
          [
           null
          ],
          [
           null
          ],
          [
           null
          ],
          [
           null
          ],
          [
           null
          ],
          [
           null
          ],
          [
           null
          ],
          [
           null
          ],
          [
           null
          ],
          [
           null
          ],
          [
           null
          ],
          [
           null
          ],
          [
           null
          ],
          [
           null
          ],
          [
           null
          ],
          [
           null
          ],
          [
           null
          ],
          [
           null
          ],
          [
           null
          ],
          [
           null
          ],
          [
           null
          ],
          [
           null
          ],
          [
           null
          ],
          [
           null
          ],
          [
           null
          ],
          [
           null
          ],
          [
           null
          ],
          [
           null
          ],
          [
           null
          ],
          [
           null
          ],
          [
           null
          ]
         ],
         "hovertemplate": "variable=win_rate_Deutschland<br>index=%{x}<br>value=%{y}<br>Name=%{customdata[0]}<extra></extra>",
         "legendgroup": "win_rate_Deutschland",
         "marker": {
          "color": "#b2e061",
          "opacity": 0.9,
          "pattern": {
           "shape": ""
          }
         },
         "name": "win_rate_Deutschland",
         "offsetgroup": "win_rate_Deutschland",
         "orientation": "v",
         "showlegend": true,
         "textposition": "auto",
         "type": "bar",
         "x": [
          "VEN",
          "TPE",
          "THA",
          "SLO",
          "DEN",
          "NOR",
          "MEX",
          "POR",
          "YUG",
          "BLR",
          "KAZ",
          "IND",
          "COL",
          "RSA",
          "JPN",
          "EGY",
          "KOR",
          "ITA",
          "BEL",
          "ISR",
          "CAN",
          "BRA",
          "AUT",
          "LAT",
          "GRE",
          "GER",
          "HUN",
          "AUS",
          "FRA",
          "GEO",
          "BIH",
          "SVK",
          "ROU",
          "NED",
          "USA",
          "GBR",
          "SWE",
          "ECU",
          "FIN",
          "UKR",
          "CZE",
          "URU",
          "NZL",
          "RUS",
          "CRO",
          "POL",
          "ARG",
          "ESP",
          "PER",
          "SRB",
          "CHI",
          "SUI",
          "BUL",
          "PAR",
          "ZIM",
          "MAR",
          "LTU",
          "UZB",
          "CYP",
          null,
          null,
          null,
          null,
          null,
          null,
          null,
          null,
          null,
          null,
          null,
          null,
          null,
          null,
          null,
          null,
          null,
          null,
          null,
          null,
          null,
          null,
          null,
          null,
          null,
          null,
          null,
          null,
          null,
          null,
          null,
          null,
          null,
          null,
          null,
          null,
          null,
          null,
          null,
          null,
          null,
          null,
          null,
          null,
          null,
          null,
          null,
          null,
          null,
          null,
          null,
          null,
          null,
          null,
          null,
          null,
          null,
          null,
          null,
          null,
          null,
          null,
          null,
          null,
          null,
          null,
          null,
          null,
          null,
          null,
          null,
          null,
          null,
          null,
          null,
          null,
          null,
          null,
          null,
          null,
          null,
          null,
          null
         ],
         "xaxis": "x",
         "y": [
          0.8695652173913043,
          0.7741935483870968,
          0.696969696969697,
          0.6666666666666666,
          0.625,
          0.625,
          0.6212121212121212,
          0.62,
          0.6190476190476191,
          0.6037735849056604,
          0.5833333333333334,
          0.5825242718446602,
          0.5789473684210527,
          0.5687830687830688,
          0.5683453237410072,
          0.5625,
          0.5625,
          0.5401574803149606,
          0.5306859205776173,
          0.5284552845528455,
          0.5260416666666666,
          0.5218978102189781,
          0.5193798449612403,
          0.5,
          0.5,
          0.5,
          0.49586776859504134,
          0.4948837209302326,
          0.48872180451127817,
          0.48,
          0.48,
          0.4793814432989691,
          0.47345132743362833,
          0.4724576271186441,
          0.46176470588235297,
          0.45454545454545453,
          0.4540229885057471,
          0.4520547945205479,
          0.45098039215686275,
          0.45,
          0.4493975903614458,
          0.4423076923076923,
          0.4393939393939394,
          0.43919885550786836,
          0.43249427917620137,
          0.43010752688172044,
          0.42822966507177035,
          0.4223716381418093,
          0.42,
          0.4166666666666667,
          0.41626794258373206,
          0.4082125603864734,
          0.4,
          0.3953488372093023,
          0.375,
          0.36764705882352944,
          0.3181818181818182,
          0.2619047619047619,
          0.25,
          null,
          null,
          null,
          null,
          null,
          null,
          null,
          null,
          null,
          null,
          null,
          null,
          null,
          null,
          null,
          null,
          null,
          null,
          null,
          null,
          null,
          null,
          null,
          null,
          null,
          null,
          null,
          null,
          null,
          null,
          null,
          null,
          null,
          null,
          null,
          null,
          null,
          null,
          null,
          null,
          null,
          null,
          null,
          null,
          null,
          null,
          null,
          null,
          null,
          null,
          null,
          null,
          null,
          null,
          null,
          null,
          null,
          null,
          null,
          null,
          null,
          null,
          null,
          null,
          null,
          null,
          null,
          null,
          null,
          null,
          null,
          null,
          null,
          null,
          null,
          null,
          null,
          null,
          null,
          null,
          null,
          null,
          null
         ],
         "yaxis": "y"
        }
       ],
       "layout": {
        "annotations": [
         {
          "arrowcolor": "black",
          "arrowhead": 1,
          "bgcolor": "white",
          "font": {
           "color": "grey",
           "size": 10
          },
          "showarrow": true,
          "text": "50% Gewinnrate",
          "xref": "paper",
          "y": 0.4999295370863235
         }
        ],
        "barmode": "group",
        "legend": {
         "title": {
          "text": "variable"
         },
         "tracegroupgap": 0
        },
        "shapes": [
         {
          "line": {
           "color": "black",
           "dash": "dot"
          },
          "opacity": 0.4,
          "type": "line",
          "x0": 0,
          "x1": 1,
          "xref": "x domain",
          "y0": 0.5,
          "y1": 0.5,
          "yref": "y"
         }
        ],
        "template": {
         "data": {
          "bar": [
           {
            "error_x": {
             "color": "#2a3f5f"
            },
            "error_y": {
             "color": "#2a3f5f"
            },
            "marker": {
             "line": {
              "color": "#E5ECF6",
              "width": 0.5
             },
             "pattern": {
              "fillmode": "overlay",
              "size": 10,
              "solidity": 0.2
             }
            },
            "type": "bar"
           }
          ],
          "barpolar": [
           {
            "marker": {
             "line": {
              "color": "#E5ECF6",
              "width": 0.5
             },
             "pattern": {
              "fillmode": "overlay",
              "size": 10,
              "solidity": 0.2
             }
            },
            "type": "barpolar"
           }
          ],
          "carpet": [
           {
            "aaxis": {
             "endlinecolor": "#2a3f5f",
             "gridcolor": "white",
             "linecolor": "white",
             "minorgridcolor": "white",
             "startlinecolor": "#2a3f5f"
            },
            "baxis": {
             "endlinecolor": "#2a3f5f",
             "gridcolor": "white",
             "linecolor": "white",
             "minorgridcolor": "white",
             "startlinecolor": "#2a3f5f"
            },
            "type": "carpet"
           }
          ],
          "choropleth": [
           {
            "colorbar": {
             "outlinewidth": 0,
             "ticks": ""
            },
            "type": "choropleth"
           }
          ],
          "contour": [
           {
            "colorbar": {
             "outlinewidth": 0,
             "ticks": ""
            },
            "colorscale": [
             [
              0,
              "#0d0887"
             ],
             [
              0.1111111111111111,
              "#46039f"
             ],
             [
              0.2222222222222222,
              "#7201a8"
             ],
             [
              0.3333333333333333,
              "#9c179e"
             ],
             [
              0.4444444444444444,
              "#bd3786"
             ],
             [
              0.5555555555555556,
              "#d8576b"
             ],
             [
              0.6666666666666666,
              "#ed7953"
             ],
             [
              0.7777777777777778,
              "#fb9f3a"
             ],
             [
              0.8888888888888888,
              "#fdca26"
             ],
             [
              1,
              "#f0f921"
             ]
            ],
            "type": "contour"
           }
          ],
          "contourcarpet": [
           {
            "colorbar": {
             "outlinewidth": 0,
             "ticks": ""
            },
            "type": "contourcarpet"
           }
          ],
          "heatmap": [
           {
            "colorbar": {
             "outlinewidth": 0,
             "ticks": ""
            },
            "colorscale": [
             [
              0,
              "#0d0887"
             ],
             [
              0.1111111111111111,
              "#46039f"
             ],
             [
              0.2222222222222222,
              "#7201a8"
             ],
             [
              0.3333333333333333,
              "#9c179e"
             ],
             [
              0.4444444444444444,
              "#bd3786"
             ],
             [
              0.5555555555555556,
              "#d8576b"
             ],
             [
              0.6666666666666666,
              "#ed7953"
             ],
             [
              0.7777777777777778,
              "#fb9f3a"
             ],
             [
              0.8888888888888888,
              "#fdca26"
             ],
             [
              1,
              "#f0f921"
             ]
            ],
            "type": "heatmap"
           }
          ],
          "heatmapgl": [
           {
            "colorbar": {
             "outlinewidth": 0,
             "ticks": ""
            },
            "colorscale": [
             [
              0,
              "#0d0887"
             ],
             [
              0.1111111111111111,
              "#46039f"
             ],
             [
              0.2222222222222222,
              "#7201a8"
             ],
             [
              0.3333333333333333,
              "#9c179e"
             ],
             [
              0.4444444444444444,
              "#bd3786"
             ],
             [
              0.5555555555555556,
              "#d8576b"
             ],
             [
              0.6666666666666666,
              "#ed7953"
             ],
             [
              0.7777777777777778,
              "#fb9f3a"
             ],
             [
              0.8888888888888888,
              "#fdca26"
             ],
             [
              1,
              "#f0f921"
             ]
            ],
            "type": "heatmapgl"
           }
          ],
          "histogram": [
           {
            "marker": {
             "pattern": {
              "fillmode": "overlay",
              "size": 10,
              "solidity": 0.2
             }
            },
            "type": "histogram"
           }
          ],
          "histogram2d": [
           {
            "colorbar": {
             "outlinewidth": 0,
             "ticks": ""
            },
            "colorscale": [
             [
              0,
              "#0d0887"
             ],
             [
              0.1111111111111111,
              "#46039f"
             ],
             [
              0.2222222222222222,
              "#7201a8"
             ],
             [
              0.3333333333333333,
              "#9c179e"
             ],
             [
              0.4444444444444444,
              "#bd3786"
             ],
             [
              0.5555555555555556,
              "#d8576b"
             ],
             [
              0.6666666666666666,
              "#ed7953"
             ],
             [
              0.7777777777777778,
              "#fb9f3a"
             ],
             [
              0.8888888888888888,
              "#fdca26"
             ],
             [
              1,
              "#f0f921"
             ]
            ],
            "type": "histogram2d"
           }
          ],
          "histogram2dcontour": [
           {
            "colorbar": {
             "outlinewidth": 0,
             "ticks": ""
            },
            "colorscale": [
             [
              0,
              "#0d0887"
             ],
             [
              0.1111111111111111,
              "#46039f"
             ],
             [
              0.2222222222222222,
              "#7201a8"
             ],
             [
              0.3333333333333333,
              "#9c179e"
             ],
             [
              0.4444444444444444,
              "#bd3786"
             ],
             [
              0.5555555555555556,
              "#d8576b"
             ],
             [
              0.6666666666666666,
              "#ed7953"
             ],
             [
              0.7777777777777778,
              "#fb9f3a"
             ],
             [
              0.8888888888888888,
              "#fdca26"
             ],
             [
              1,
              "#f0f921"
             ]
            ],
            "type": "histogram2dcontour"
           }
          ],
          "mesh3d": [
           {
            "colorbar": {
             "outlinewidth": 0,
             "ticks": ""
            },
            "type": "mesh3d"
           }
          ],
          "parcoords": [
           {
            "line": {
             "colorbar": {
              "outlinewidth": 0,
              "ticks": ""
             }
            },
            "type": "parcoords"
           }
          ],
          "pie": [
           {
            "automargin": true,
            "type": "pie"
           }
          ],
          "scatter": [
           {
            "fillpattern": {
             "fillmode": "overlay",
             "size": 10,
             "solidity": 0.2
            },
            "type": "scatter"
           }
          ],
          "scatter3d": [
           {
            "line": {
             "colorbar": {
              "outlinewidth": 0,
              "ticks": ""
             }
            },
            "marker": {
             "colorbar": {
              "outlinewidth": 0,
              "ticks": ""
             }
            },
            "type": "scatter3d"
           }
          ],
          "scattercarpet": [
           {
            "marker": {
             "colorbar": {
              "outlinewidth": 0,
              "ticks": ""
             }
            },
            "type": "scattercarpet"
           }
          ],
          "scattergeo": [
           {
            "marker": {
             "colorbar": {
              "outlinewidth": 0,
              "ticks": ""
             }
            },
            "type": "scattergeo"
           }
          ],
          "scattergl": [
           {
            "marker": {
             "colorbar": {
              "outlinewidth": 0,
              "ticks": ""
             }
            },
            "type": "scattergl"
           }
          ],
          "scattermapbox": [
           {
            "marker": {
             "colorbar": {
              "outlinewidth": 0,
              "ticks": ""
             }
            },
            "type": "scattermapbox"
           }
          ],
          "scatterpolar": [
           {
            "marker": {
             "colorbar": {
              "outlinewidth": 0,
              "ticks": ""
             }
            },
            "type": "scatterpolar"
           }
          ],
          "scatterpolargl": [
           {
            "marker": {
             "colorbar": {
              "outlinewidth": 0,
              "ticks": ""
             }
            },
            "type": "scatterpolargl"
           }
          ],
          "scatterternary": [
           {
            "marker": {
             "colorbar": {
              "outlinewidth": 0,
              "ticks": ""
             }
            },
            "type": "scatterternary"
           }
          ],
          "surface": [
           {
            "colorbar": {
             "outlinewidth": 0,
             "ticks": ""
            },
            "colorscale": [
             [
              0,
              "#0d0887"
             ],
             [
              0.1111111111111111,
              "#46039f"
             ],
             [
              0.2222222222222222,
              "#7201a8"
             ],
             [
              0.3333333333333333,
              "#9c179e"
             ],
             [
              0.4444444444444444,
              "#bd3786"
             ],
             [
              0.5555555555555556,
              "#d8576b"
             ],
             [
              0.6666666666666666,
              "#ed7953"
             ],
             [
              0.7777777777777778,
              "#fb9f3a"
             ],
             [
              0.8888888888888888,
              "#fdca26"
             ],
             [
              1,
              "#f0f921"
             ]
            ],
            "type": "surface"
           }
          ],
          "table": [
           {
            "cells": {
             "fill": {
              "color": "#EBF0F8"
             },
             "line": {
              "color": "white"
             }
            },
            "header": {
             "fill": {
              "color": "#C8D4E3"
             },
             "line": {
              "color": "white"
             }
            },
            "type": "table"
           }
          ]
         },
         "layout": {
          "annotationdefaults": {
           "arrowcolor": "#2a3f5f",
           "arrowhead": 0,
           "arrowwidth": 1
          },
          "autotypenumbers": "strict",
          "coloraxis": {
           "colorbar": {
            "outlinewidth": 0,
            "ticks": ""
           }
          },
          "colorscale": {
           "diverging": [
            [
             0,
             "#8e0152"
            ],
            [
             0.1,
             "#c51b7d"
            ],
            [
             0.2,
             "#de77ae"
            ],
            [
             0.3,
             "#f1b6da"
            ],
            [
             0.4,
             "#fde0ef"
            ],
            [
             0.5,
             "#f7f7f7"
            ],
            [
             0.6,
             "#e6f5d0"
            ],
            [
             0.7,
             "#b8e186"
            ],
            [
             0.8,
             "#7fbc41"
            ],
            [
             0.9,
             "#4d9221"
            ],
            [
             1,
             "#276419"
            ]
           ],
           "sequential": [
            [
             0,
             "#0d0887"
            ],
            [
             0.1111111111111111,
             "#46039f"
            ],
            [
             0.2222222222222222,
             "#7201a8"
            ],
            [
             0.3333333333333333,
             "#9c179e"
            ],
            [
             0.4444444444444444,
             "#bd3786"
            ],
            [
             0.5555555555555556,
             "#d8576b"
            ],
            [
             0.6666666666666666,
             "#ed7953"
            ],
            [
             0.7777777777777778,
             "#fb9f3a"
            ],
            [
             0.8888888888888888,
             "#fdca26"
            ],
            [
             1,
             "#f0f921"
            ]
           ],
           "sequentialminus": [
            [
             0,
             "#0d0887"
            ],
            [
             0.1111111111111111,
             "#46039f"
            ],
            [
             0.2222222222222222,
             "#7201a8"
            ],
            [
             0.3333333333333333,
             "#9c179e"
            ],
            [
             0.4444444444444444,
             "#bd3786"
            ],
            [
             0.5555555555555556,
             "#d8576b"
            ],
            [
             0.6666666666666666,
             "#ed7953"
            ],
            [
             0.7777777777777778,
             "#fb9f3a"
            ],
            [
             0.8888888888888888,
             "#fdca26"
            ],
            [
             1,
             "#f0f921"
            ]
           ]
          },
          "colorway": [
           "#636efa",
           "#EF553B",
           "#00cc96",
           "#ab63fa",
           "#FFA15A",
           "#19d3f3",
           "#FF6692",
           "#B6E880",
           "#FF97FF",
           "#FECB52"
          ],
          "font": {
           "color": "#2a3f5f"
          },
          "geo": {
           "bgcolor": "white",
           "lakecolor": "white",
           "landcolor": "#E5ECF6",
           "showlakes": true,
           "showland": true,
           "subunitcolor": "white"
          },
          "hoverlabel": {
           "align": "left"
          },
          "hovermode": "closest",
          "mapbox": {
           "style": "light"
          },
          "paper_bgcolor": "white",
          "plot_bgcolor": "#E5ECF6",
          "polar": {
           "angularaxis": {
            "gridcolor": "white",
            "linecolor": "white",
            "ticks": ""
           },
           "bgcolor": "#E5ECF6",
           "radialaxis": {
            "gridcolor": "white",
            "linecolor": "white",
            "ticks": ""
           }
          },
          "scene": {
           "xaxis": {
            "backgroundcolor": "#E5ECF6",
            "gridcolor": "white",
            "gridwidth": 2,
            "linecolor": "white",
            "showbackground": true,
            "ticks": "",
            "zerolinecolor": "white"
           },
           "yaxis": {
            "backgroundcolor": "#E5ECF6",
            "gridcolor": "white",
            "gridwidth": 2,
            "linecolor": "white",
            "showbackground": true,
            "ticks": "",
            "zerolinecolor": "white"
           },
           "zaxis": {
            "backgroundcolor": "#E5ECF6",
            "gridcolor": "white",
            "gridwidth": 2,
            "linecolor": "white",
            "showbackground": true,
            "ticks": "",
            "zerolinecolor": "white"
           }
          },
          "shapedefaults": {
           "line": {
            "color": "#2a3f5f"
           }
          },
          "ternary": {
           "aaxis": {
            "gridcolor": "white",
            "linecolor": "white",
            "ticks": ""
           },
           "baxis": {
            "gridcolor": "white",
            "linecolor": "white",
            "ticks": ""
           },
           "bgcolor": "#E5ECF6",
           "caxis": {
            "gridcolor": "white",
            "linecolor": "white",
            "ticks": ""
           }
          },
          "title": {
           "x": 0.05
          },
          "xaxis": {
           "automargin": true,
           "gridcolor": "white",
           "linecolor": "white",
           "ticks": "",
           "title": {
            "standoff": 15
           },
           "zerolinecolor": "white",
           "zerolinewidth": 2
          },
          "yaxis": {
           "automargin": true,
           "gridcolor": "white",
           "linecolor": "white",
           "ticks": "",
           "title": {
            "standoff": 15
           },
           "zerolinecolor": "white",
           "zerolinewidth": 2
          }
         }
        },
        "title": {
         "text": "Gewinnrate der deutschen Tennisspieler gegen andere Nationen"
        },
        "xaxis": {
         "anchor": "y",
         "domain": [
          0,
          1
         ],
         "title": {
          "text": "Gegner Nationen"
         }
        },
        "yaxis": {
         "anchor": "x",
         "domain": [
          0,
          1
         ],
         "tickformat": ".2%",
         "title": {
          "text": "Gewinnrate in %"
         }
        }
       }
      }
     },
     "metadata": {},
     "output_type": "display_data"
    }
   ],
   "source": [
    "fig = px.bar(df_merge3, \n",
    "            y=['win_rate_Gegner_allgemein', 'win_rate_Deutschland'], \n",
    "            x='index',\n",
    "            title='Gewinnrate der deutschen Tennisspieler gegen andere Nationen',\n",
    "            barmode=\"group\", \n",
    "            color_discrete_sequence= [\"#fd7f6f\", \"#b2e061\"],\n",
    "            opacity=0.9,\n",
    "            hover_data=['Name'])\n",
    "\n",
    "fig.add_hline(y=0.5, opacity=0.4, line_dash='dot', line_color='black')\n",
    "\n",
    "fig.add_annotation(text=\"50% Gewinnrate\",\n",
    "                xref='paper',\n",
    "                y=performance['Win_Rate'].mean(),\n",
    "                arrowhead=1, \n",
    "                showarrow=True, \n",
    "                arrowcolor='black',        \n",
    "                bgcolor='white',\n",
    "                font=dict(size=10, color='grey'))\n",
    "\n",
    "fig.update_yaxes(tickformat=\".2%\")\n",
    "fig.update_yaxes(title='Gewinnrate in %')\n",
    "fig.update_xaxes(title='Gegner Nationen')\n",
    "fig.show()"
   ]
  },
  {
   "cell_type": "markdown",
   "metadata": {},
   "source": [
    "## Korrelation"
   ]
  },
  {
   "cell_type": "code",
   "execution_count": 41,
   "metadata": {},
   "outputs": [
    {
     "data": {
      "text/plain": [
       "-0.44872103872407154"
      ]
     },
     "execution_count": 41,
     "metadata": {},
     "output_type": "execute_result"
    }
   ],
   "source": [
    "korrelation = df_merge3[\"win_rate_Deutschland\"].corr(df_merge3[\"win_rate_Gegner_allgemein\"])\n",
    "korrelation"
   ]
  },
  {
   "cell_type": "markdown",
   "metadata": {},
   "source": [
    "Das bedeutet, dass die Siegesquote von Deutschland gegen die jeweilige Gegneration sinkt, wenn die allgemeine Siegesquote der Gegnernation steigt."
   ]
  },
  {
   "cell_type": "markdown",
   "metadata": {},
   "source": [
    "Der Power Bi Report für Aufgabe 1 ist an den Trainer der deutschen Tennisspieler gerichtet."
   ]
  }
 ],
 "metadata": {
  "kernelspec": {
   "display_name": "bv",
   "language": "python",
   "name": "python3"
  },
  "language_info": {
   "codemirror_mode": {
    "name": "ipython",
    "version": 3
   },
   "file_extension": ".py",
   "mimetype": "text/x-python",
   "name": "python",
   "nbconvert_exporter": "python",
   "pygments_lexer": "ipython3",
   "version": "3.10.11"
  }
 },
 "nbformat": 4,
 "nbformat_minor": 2
}
