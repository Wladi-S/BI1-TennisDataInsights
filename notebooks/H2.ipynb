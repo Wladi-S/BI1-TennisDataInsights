{
 "cells": [
  {
   "cell_type": "markdown",
   "metadata": {},
   "source": [
    "# Imports"
   ]
  },
  {
   "cell_type": "code",
   "execution_count": 1,
   "metadata": {},
   "outputs": [],
   "source": [
    "import pandas as pd\n",
    "import numpy as np\n",
    "import plotly.express as px\n",
    "import plotly.graph_objects as go\n",
    "\n",
    "from sklearn.linear_model import LinearRegression\n",
    "\n",
    "#pd.set_option('display.max_columns', None)"
   ]
  },
  {
   "cell_type": "markdown",
   "metadata": {},
   "source": [
    "# Datensätze"
   ]
  },
  {
   "cell_type": "code",
   "execution_count": 2,
   "metadata": {},
   "outputs": [],
   "source": [
    "df_matches = pd.read_csv('../../data/raw/atp_matches_till_2022.csv')\n",
    "df_players = pd.read_csv('../../data/raw/atp_players_till_2022.csv')"
   ]
  },
  {
   "cell_type": "markdown",
   "metadata": {},
   "source": [
    "# Hilfsfunktionen"
   ]
  },
  {
   "cell_type": "code",
   "execution_count": 3,
   "metadata": {},
   "outputs": [],
   "source": [
    "def fillna_0_astype_int64(dataframe:pd.DataFrame, columns:list=[\"Siege\", \"Niederlagen\"]):\n",
    "\n",
    "    for column in columns:\n",
    "        dataframe[column] = dataframe[column].fillna(0).astype(\"int64\")\n",
    "    \n",
    "    return dataframe"
   ]
  },
  {
   "cell_type": "code",
   "execution_count": 4,
   "metadata": {},
   "outputs": [],
   "source": [
    "def siegesquote_funktion(dataframe:pd.DataFrame):\n",
    "\n",
    "    dataframe[\"Siegesquote\"] = dataframe[\"Siege\"] / (dataframe[\"Siege\"]+ dataframe[\"Niederlagen\"])\n",
    "\n",
    "    return dataframe"
   ]
  },
  {
   "cell_type": "markdown",
   "metadata": {},
   "source": [
    "<br>"
   ]
  },
  {
   "cell_type": "markdown",
   "metadata": {},
   "source": [
    "# Fragestellung 2: \n",
    "Gibt es „Angstgegner“ einzelner deutscher Spieler, d.h. Paarungen, bei denen der deutsche Spieler schlechter abschneidet, als es aufgrund der allgemeinen Spielstärke beider Spieler zu erwarten ist? Gibt es analog „Lieblingsgegner“ einzelner deutscher Spieler?"
   ]
  },
  {
   "cell_type": "code",
   "execution_count": 5,
   "metadata": {},
   "outputs": [
    {
     "data": {
      "text/html": [
       "<div>\n",
       "<style scoped>\n",
       "    .dataframe tbody tr th:only-of-type {\n",
       "        vertical-align: middle;\n",
       "    }\n",
       "\n",
       "    .dataframe tbody tr th {\n",
       "        vertical-align: top;\n",
       "    }\n",
       "\n",
       "    .dataframe thead th {\n",
       "        text-align: right;\n",
       "    }\n",
       "</style>\n",
       "<table border=\"1\" class=\"dataframe\">\n",
       "  <thead>\n",
       "    <tr style=\"text-align: right;\">\n",
       "      <th></th>\n",
       "      <th>tourney_id</th>\n",
       "      <th>tourney_name</th>\n",
       "      <th>surface</th>\n",
       "      <th>draw_size</th>\n",
       "      <th>tourney_level</th>\n",
       "      <th>tourney_date</th>\n",
       "      <th>match_num</th>\n",
       "      <th>winner_id</th>\n",
       "      <th>winner_seed</th>\n",
       "      <th>winner_entry</th>\n",
       "      <th>...</th>\n",
       "      <th>l_1stIn</th>\n",
       "      <th>l_1stWon</th>\n",
       "      <th>l_2ndWon</th>\n",
       "      <th>l_SvGms</th>\n",
       "      <th>l_bpSaved</th>\n",
       "      <th>l_bpFaced</th>\n",
       "      <th>winner_rank</th>\n",
       "      <th>winner_rank_points</th>\n",
       "      <th>loser_rank</th>\n",
       "      <th>loser_rank_points</th>\n",
       "    </tr>\n",
       "  </thead>\n",
       "  <tbody>\n",
       "    <tr>\n",
       "      <th>0</th>\n",
       "      <td>1968-2029</td>\n",
       "      <td>Dublin</td>\n",
       "      <td>Grass</td>\n",
       "      <td>32</td>\n",
       "      <td>A</td>\n",
       "      <td>19680708</td>\n",
       "      <td>270</td>\n",
       "      <td>112411</td>\n",
       "      <td>NaN</td>\n",
       "      <td>NaN</td>\n",
       "      <td>...</td>\n",
       "      <td>NaN</td>\n",
       "      <td>NaN</td>\n",
       "      <td>NaN</td>\n",
       "      <td>NaN</td>\n",
       "      <td>NaN</td>\n",
       "      <td>NaN</td>\n",
       "      <td>NaN</td>\n",
       "      <td>NaN</td>\n",
       "      <td>NaN</td>\n",
       "      <td>NaN</td>\n",
       "    </tr>\n",
       "    <tr>\n",
       "      <th>1</th>\n",
       "      <td>1968-2029</td>\n",
       "      <td>Dublin</td>\n",
       "      <td>Grass</td>\n",
       "      <td>32</td>\n",
       "      <td>A</td>\n",
       "      <td>19680708</td>\n",
       "      <td>271</td>\n",
       "      <td>126914</td>\n",
       "      <td>NaN</td>\n",
       "      <td>NaN</td>\n",
       "      <td>...</td>\n",
       "      <td>NaN</td>\n",
       "      <td>NaN</td>\n",
       "      <td>NaN</td>\n",
       "      <td>NaN</td>\n",
       "      <td>NaN</td>\n",
       "      <td>NaN</td>\n",
       "      <td>NaN</td>\n",
       "      <td>NaN</td>\n",
       "      <td>NaN</td>\n",
       "      <td>NaN</td>\n",
       "    </tr>\n",
       "    <tr>\n",
       "      <th>2</th>\n",
       "      <td>1968-2029</td>\n",
       "      <td>Dublin</td>\n",
       "      <td>Grass</td>\n",
       "      <td>32</td>\n",
       "      <td>A</td>\n",
       "      <td>19680708</td>\n",
       "      <td>272</td>\n",
       "      <td>209523</td>\n",
       "      <td>NaN</td>\n",
       "      <td>NaN</td>\n",
       "      <td>...</td>\n",
       "      <td>NaN</td>\n",
       "      <td>NaN</td>\n",
       "      <td>NaN</td>\n",
       "      <td>NaN</td>\n",
       "      <td>NaN</td>\n",
       "      <td>NaN</td>\n",
       "      <td>NaN</td>\n",
       "      <td>NaN</td>\n",
       "      <td>NaN</td>\n",
       "      <td>NaN</td>\n",
       "    </tr>\n",
       "    <tr>\n",
       "      <th>3</th>\n",
       "      <td>1968-2029</td>\n",
       "      <td>Dublin</td>\n",
       "      <td>Grass</td>\n",
       "      <td>32</td>\n",
       "      <td>A</td>\n",
       "      <td>19680708</td>\n",
       "      <td>273</td>\n",
       "      <td>100084</td>\n",
       "      <td>NaN</td>\n",
       "      <td>NaN</td>\n",
       "      <td>...</td>\n",
       "      <td>NaN</td>\n",
       "      <td>NaN</td>\n",
       "      <td>NaN</td>\n",
       "      <td>NaN</td>\n",
       "      <td>NaN</td>\n",
       "      <td>NaN</td>\n",
       "      <td>NaN</td>\n",
       "      <td>NaN</td>\n",
       "      <td>NaN</td>\n",
       "      <td>NaN</td>\n",
       "    </tr>\n",
       "    <tr>\n",
       "      <th>4</th>\n",
       "      <td>1968-2029</td>\n",
       "      <td>Dublin</td>\n",
       "      <td>Grass</td>\n",
       "      <td>32</td>\n",
       "      <td>A</td>\n",
       "      <td>19680708</td>\n",
       "      <td>274</td>\n",
       "      <td>100132</td>\n",
       "      <td>NaN</td>\n",
       "      <td>NaN</td>\n",
       "      <td>...</td>\n",
       "      <td>NaN</td>\n",
       "      <td>NaN</td>\n",
       "      <td>NaN</td>\n",
       "      <td>NaN</td>\n",
       "      <td>NaN</td>\n",
       "      <td>NaN</td>\n",
       "      <td>NaN</td>\n",
       "      <td>NaN</td>\n",
       "      <td>NaN</td>\n",
       "      <td>NaN</td>\n",
       "    </tr>\n",
       "  </tbody>\n",
       "</table>\n",
       "<p>5 rows × 49 columns</p>\n",
       "</div>"
      ],
      "text/plain": [
       "  tourney_id tourney_name surface  draw_size tourney_level  tourney_date  \\\n",
       "0  1968-2029       Dublin   Grass         32             A      19680708   \n",
       "1  1968-2029       Dublin   Grass         32             A      19680708   \n",
       "2  1968-2029       Dublin   Grass         32             A      19680708   \n",
       "3  1968-2029       Dublin   Grass         32             A      19680708   \n",
       "4  1968-2029       Dublin   Grass         32             A      19680708   \n",
       "\n",
       "   match_num  winner_id  winner_seed winner_entry  ... l_1stIn l_1stWon  \\\n",
       "0        270     112411          NaN          NaN  ...     NaN      NaN   \n",
       "1        271     126914          NaN          NaN  ...     NaN      NaN   \n",
       "2        272     209523          NaN          NaN  ...     NaN      NaN   \n",
       "3        273     100084          NaN          NaN  ...     NaN      NaN   \n",
       "4        274     100132          NaN          NaN  ...     NaN      NaN   \n",
       "\n",
       "   l_2ndWon l_SvGms  l_bpSaved  l_bpFaced  winner_rank winner_rank_points  \\\n",
       "0       NaN     NaN        NaN        NaN          NaN                NaN   \n",
       "1       NaN     NaN        NaN        NaN          NaN                NaN   \n",
       "2       NaN     NaN        NaN        NaN          NaN                NaN   \n",
       "3       NaN     NaN        NaN        NaN          NaN                NaN   \n",
       "4       NaN     NaN        NaN        NaN          NaN                NaN   \n",
       "\n",
       "  loser_rank loser_rank_points  \n",
       "0        NaN               NaN  \n",
       "1        NaN               NaN  \n",
       "2        NaN               NaN  \n",
       "3        NaN               NaN  \n",
       "4        NaN               NaN  \n",
       "\n",
       "[5 rows x 49 columns]"
      ]
     },
     "execution_count": 5,
     "metadata": {},
     "output_type": "execute_result"
    }
   ],
   "source": [
    "df_matches.head()"
   ]
  },
  {
   "cell_type": "markdown",
   "metadata": {},
   "source": [
    "<br>"
   ]
  },
  {
   "cell_type": "markdown",
   "metadata": {},
   "source": [
    "## Sieges- und Niederlagentabelle der deutschen Spieler"
   ]
  },
  {
   "cell_type": "code",
   "execution_count": 6,
   "metadata": {},
   "outputs": [
    {
     "data": {
      "text/html": [
       "<div>\n",
       "<style scoped>\n",
       "    .dataframe tbody tr th:only-of-type {\n",
       "        vertical-align: middle;\n",
       "    }\n",
       "\n",
       "    .dataframe tbody tr th {\n",
       "        vertical-align: top;\n",
       "    }\n",
       "\n",
       "    .dataframe thead th {\n",
       "        text-align: right;\n",
       "    }\n",
       "</style>\n",
       "<table border=\"1\" class=\"dataframe\">\n",
       "  <thead>\n",
       "    <tr style=\"text-align: right;\">\n",
       "      <th></th>\n",
       "      <th>winner_id</th>\n",
       "      <th>loser_id</th>\n",
       "      <th>wins_count</th>\n",
       "    </tr>\n",
       "  </thead>\n",
       "  <tbody>\n",
       "    <tr>\n",
       "      <th>0</th>\n",
       "      <td>100033</td>\n",
       "      <td>100009</td>\n",
       "      <td>1</td>\n",
       "    </tr>\n",
       "    <tr>\n",
       "      <th>1</th>\n",
       "      <td>100033</td>\n",
       "      <td>100011</td>\n",
       "      <td>2</td>\n",
       "    </tr>\n",
       "    <tr>\n",
       "      <th>2</th>\n",
       "      <td>100033</td>\n",
       "      <td>100019</td>\n",
       "      <td>1</td>\n",
       "    </tr>\n",
       "    <tr>\n",
       "      <th>3</th>\n",
       "      <td>100033</td>\n",
       "      <td>100023</td>\n",
       "      <td>1</td>\n",
       "    </tr>\n",
       "    <tr>\n",
       "      <th>4</th>\n",
       "      <td>100033</td>\n",
       "      <td>100024</td>\n",
       "      <td>2</td>\n",
       "    </tr>\n",
       "    <tr>\n",
       "      <th>...</th>\n",
       "      <td>...</td>\n",
       "      <td>...</td>\n",
       "      <td>...</td>\n",
       "    </tr>\n",
       "    <tr>\n",
       "      <th>6531</th>\n",
       "      <td>211046</td>\n",
       "      <td>202510</td>\n",
       "      <td>1</td>\n",
       "    </tr>\n",
       "    <tr>\n",
       "      <th>6532</th>\n",
       "      <td>211048</td>\n",
       "      <td>211166</td>\n",
       "      <td>1</td>\n",
       "    </tr>\n",
       "    <tr>\n",
       "      <th>6533</th>\n",
       "      <td>211109</td>\n",
       "      <td>100151</td>\n",
       "      <td>1</td>\n",
       "    </tr>\n",
       "    <tr>\n",
       "      <th>6534</th>\n",
       "      <td>211109</td>\n",
       "      <td>211119</td>\n",
       "      <td>1</td>\n",
       "    </tr>\n",
       "    <tr>\n",
       "      <th>6535</th>\n",
       "      <td>211110</td>\n",
       "      <td>100083</td>\n",
       "      <td>1</td>\n",
       "    </tr>\n",
       "  </tbody>\n",
       "</table>\n",
       "<p>6536 rows × 3 columns</p>\n",
       "</div>"
      ],
      "text/plain": [
       "      winner_id  loser_id  wins_count\n",
       "0        100033    100009           1\n",
       "1        100033    100011           2\n",
       "2        100033    100019           1\n",
       "3        100033    100023           1\n",
       "4        100033    100024           2\n",
       "...         ...       ...         ...\n",
       "6531     211046    202510           1\n",
       "6532     211048    211166           1\n",
       "6533     211109    100151           1\n",
       "6534     211109    211119           1\n",
       "6535     211110    100083           1\n",
       "\n",
       "[6536 rows x 3 columns]"
      ]
     },
     "execution_count": 6,
     "metadata": {},
     "output_type": "execute_result"
    }
   ],
   "source": [
    "#Alle Spiele, bei denene ein deutscher Spieler das Match gewonnen hat\n",
    "df_players_GER_win = df_matches[df_matches.winner_ioc == \"GER\"].groupby([\"winner_id\", \"loser_id\"]).size().reset_index(name= \"wins_count\")\n",
    "df_players_GER_win"
   ]
  },
  {
   "cell_type": "code",
   "execution_count": 7,
   "metadata": {},
   "outputs": [
    {
     "data": {
      "text/html": [
       "<div>\n",
       "<style scoped>\n",
       "    .dataframe tbody tr th:only-of-type {\n",
       "        vertical-align: middle;\n",
       "    }\n",
       "\n",
       "    .dataframe tbody tr th {\n",
       "        vertical-align: top;\n",
       "    }\n",
       "\n",
       "    .dataframe thead th {\n",
       "        text-align: right;\n",
       "    }\n",
       "</style>\n",
       "<table border=\"1\" class=\"dataframe\">\n",
       "  <thead>\n",
       "    <tr style=\"text-align: right;\">\n",
       "      <th></th>\n",
       "      <th>loser_id</th>\n",
       "      <th>winner_id</th>\n",
       "      <th>loses_count</th>\n",
       "    </tr>\n",
       "  </thead>\n",
       "  <tbody>\n",
       "    <tr>\n",
       "      <th>0</th>\n",
       "      <td>100033</td>\n",
       "      <td>100009</td>\n",
       "      <td>2</td>\n",
       "    </tr>\n",
       "    <tr>\n",
       "      <th>1</th>\n",
       "      <td>100033</td>\n",
       "      <td>100022</td>\n",
       "      <td>1</td>\n",
       "    </tr>\n",
       "    <tr>\n",
       "      <th>2</th>\n",
       "      <td>100033</td>\n",
       "      <td>100035</td>\n",
       "      <td>2</td>\n",
       "    </tr>\n",
       "    <tr>\n",
       "      <th>3</th>\n",
       "      <td>100033</td>\n",
       "      <td>100039</td>\n",
       "      <td>1</td>\n",
       "    </tr>\n",
       "    <tr>\n",
       "      <th>4</th>\n",
       "      <td>100033</td>\n",
       "      <td>100050</td>\n",
       "      <td>1</td>\n",
       "    </tr>\n",
       "    <tr>\n",
       "      <th>...</th>\n",
       "      <td>...</td>\n",
       "      <td>...</td>\n",
       "      <td>...</td>\n",
       "    </tr>\n",
       "    <tr>\n",
       "      <th>6911</th>\n",
       "      <td>211168</td>\n",
       "      <td>202955</td>\n",
       "      <td>1</td>\n",
       "    </tr>\n",
       "    <tr>\n",
       "      <th>6912</th>\n",
       "      <td>211271</td>\n",
       "      <td>100135</td>\n",
       "      <td>1</td>\n",
       "    </tr>\n",
       "    <tr>\n",
       "      <th>6913</th>\n",
       "      <td>211289</td>\n",
       "      <td>100149</td>\n",
       "      <td>1</td>\n",
       "    </tr>\n",
       "    <tr>\n",
       "      <th>6914</th>\n",
       "      <td>211289</td>\n",
       "      <td>211298</td>\n",
       "      <td>1</td>\n",
       "    </tr>\n",
       "    <tr>\n",
       "      <th>6915</th>\n",
       "      <td>211801</td>\n",
       "      <td>100139</td>\n",
       "      <td>1</td>\n",
       "    </tr>\n",
       "  </tbody>\n",
       "</table>\n",
       "<p>6916 rows × 3 columns</p>\n",
       "</div>"
      ],
      "text/plain": [
       "      loser_id  winner_id  loses_count\n",
       "0       100033     100009            2\n",
       "1       100033     100022            1\n",
       "2       100033     100035            2\n",
       "3       100033     100039            1\n",
       "4       100033     100050            1\n",
       "...        ...        ...          ...\n",
       "6911    211168     202955            1\n",
       "6912    211271     100135            1\n",
       "6913    211289     100149            1\n",
       "6914    211289     211298            1\n",
       "6915    211801     100139            1\n",
       "\n",
       "[6916 rows x 3 columns]"
      ]
     },
     "execution_count": 7,
     "metadata": {},
     "output_type": "execute_result"
    }
   ],
   "source": [
    "#Alle Spiele, bei denen ein deutscher Spieler das Match verloren hat\n",
    "df_players_GER_lose = df_matches[df_matches.loser_ioc == \"GER\"].groupby([\"loser_id\", \"winner_id\"]).size().reset_index(name= \"loses_count\")\n",
    "df_players_GER_lose\n"
   ]
  },
  {
   "cell_type": "markdown",
   "metadata": {},
   "source": [
    "## Sieges- und Niederlagenbilanz bei Matches, in denen ein deutscher Spieler mitgespielt hat"
   ]
  },
  {
   "cell_type": "code",
   "execution_count": 8,
   "metadata": {},
   "outputs": [
    {
     "data": {
      "text/html": [
       "<div>\n",
       "<style scoped>\n",
       "    .dataframe tbody tr th:only-of-type {\n",
       "        vertical-align: middle;\n",
       "    }\n",
       "\n",
       "    .dataframe tbody tr th {\n",
       "        vertical-align: top;\n",
       "    }\n",
       "\n",
       "    .dataframe thead th {\n",
       "        text-align: right;\n",
       "    }\n",
       "</style>\n",
       "<table border=\"1\" class=\"dataframe\">\n",
       "  <thead>\n",
       "    <tr style=\"text-align: right;\">\n",
       "      <th></th>\n",
       "      <th>Spieler_id_deutsch</th>\n",
       "      <th>Spieler_id_Gegner</th>\n",
       "      <th>Siege</th>\n",
       "      <th>Niederlagen</th>\n",
       "      <th>Siegesquote</th>\n",
       "    </tr>\n",
       "  </thead>\n",
       "  <tbody>\n",
       "    <tr>\n",
       "      <th>0</th>\n",
       "      <td>100033</td>\n",
       "      <td>100009</td>\n",
       "      <td>1</td>\n",
       "      <td>2</td>\n",
       "      <td>0.333333</td>\n",
       "    </tr>\n",
       "    <tr>\n",
       "      <th>1</th>\n",
       "      <td>100033</td>\n",
       "      <td>100011</td>\n",
       "      <td>2</td>\n",
       "      <td>0</td>\n",
       "      <td>1.000000</td>\n",
       "    </tr>\n",
       "    <tr>\n",
       "      <th>2</th>\n",
       "      <td>100033</td>\n",
       "      <td>100019</td>\n",
       "      <td>1</td>\n",
       "      <td>0</td>\n",
       "      <td>1.000000</td>\n",
       "    </tr>\n",
       "    <tr>\n",
       "      <th>3</th>\n",
       "      <td>100033</td>\n",
       "      <td>100023</td>\n",
       "      <td>1</td>\n",
       "      <td>0</td>\n",
       "      <td>1.000000</td>\n",
       "    </tr>\n",
       "    <tr>\n",
       "      <th>4</th>\n",
       "      <td>100033</td>\n",
       "      <td>100024</td>\n",
       "      <td>2</td>\n",
       "      <td>0</td>\n",
       "      <td>1.000000</td>\n",
       "    </tr>\n",
       "    <tr>\n",
       "      <th>...</th>\n",
       "      <td>...</td>\n",
       "      <td>...</td>\n",
       "      <td>...</td>\n",
       "      <td>...</td>\n",
       "      <td>...</td>\n",
       "    </tr>\n",
       "    <tr>\n",
       "      <th>11382</th>\n",
       "      <td>211168</td>\n",
       "      <td>202955</td>\n",
       "      <td>0</td>\n",
       "      <td>1</td>\n",
       "      <td>0.000000</td>\n",
       "    </tr>\n",
       "    <tr>\n",
       "      <th>11383</th>\n",
       "      <td>211271</td>\n",
       "      <td>100135</td>\n",
       "      <td>0</td>\n",
       "      <td>1</td>\n",
       "      <td>0.000000</td>\n",
       "    </tr>\n",
       "    <tr>\n",
       "      <th>11384</th>\n",
       "      <td>211289</td>\n",
       "      <td>100149</td>\n",
       "      <td>0</td>\n",
       "      <td>1</td>\n",
       "      <td>0.000000</td>\n",
       "    </tr>\n",
       "    <tr>\n",
       "      <th>11385</th>\n",
       "      <td>211289</td>\n",
       "      <td>211298</td>\n",
       "      <td>0</td>\n",
       "      <td>1</td>\n",
       "      <td>0.000000</td>\n",
       "    </tr>\n",
       "    <tr>\n",
       "      <th>11386</th>\n",
       "      <td>211801</td>\n",
       "      <td>100139</td>\n",
       "      <td>0</td>\n",
       "      <td>1</td>\n",
       "      <td>0.000000</td>\n",
       "    </tr>\n",
       "  </tbody>\n",
       "</table>\n",
       "<p>11387 rows × 5 columns</p>\n",
       "</div>"
      ],
      "text/plain": [
       "       Spieler_id_deutsch  Spieler_id_Gegner  Siege  Niederlagen  Siegesquote\n",
       "0                  100033             100009      1            2     0.333333\n",
       "1                  100033             100011      2            0     1.000000\n",
       "2                  100033             100019      1            0     1.000000\n",
       "3                  100033             100023      1            0     1.000000\n",
       "4                  100033             100024      2            0     1.000000\n",
       "...                   ...                ...    ...          ...          ...\n",
       "11382              211168             202955      0            1     0.000000\n",
       "11383              211271             100135      0            1     0.000000\n",
       "11384              211289             100149      0            1     0.000000\n",
       "11385              211289             211298      0            1     0.000000\n",
       "11386              211801             100139      0            1     0.000000\n",
       "\n",
       "[11387 rows x 5 columns]"
      ]
     },
     "execution_count": 8,
     "metadata": {},
     "output_type": "execute_result"
    }
   ],
   "source": [
    "# Tabellen joinen\n",
    "df_merge_players_GER = pd.merge(df_players_GER_win, df_players_GER_lose, how='outer',\n",
    "                                left_on=['winner_id', 'loser_id'], right_on=['loser_id', 'winner_id'])\n",
    "\n",
    "#winner_id_x und loser_id_y kombinieren\n",
    "df_merge_players_GER['Spieler_id_deutsch'] = df_merge_players_GER['winner_id_x'].combine_first(df_merge_players_GER['loser_id_y'])\n",
    "\n",
    "#loser_id_x und winner_id_y kombinieren\n",
    "df_merge_players_GER['Spieler_id_Gegner'] = df_merge_players_GER['loser_id_x'].combine_first(df_merge_players_GER['winner_id_y'])\n",
    "\n",
    "# Spalten entfernen\n",
    "df_merge_players_GER = df_merge_players_GER[['Spieler_id_deutsch', 'Spieler_id_Gegner', 'wins_count', 'loses_count']]\n",
    "\n",
    "# Spalten umbenennen\n",
    "df_merge_players_GER.columns = ['Spieler_id_deutsch', 'Spieler_id_Gegner', 'Siege', 'Niederlagen']\n",
    "\n",
    "#NaN-Werte der Spalte \"Niederlagen\" und \"Siege\" durch 0 ersetzen und Datentypen zu \"int64\" ändern\n",
    "fillna_0_astype_int64(df_merge_players_GER)\n",
    "df_merge_players_GER[\"Spieler_id_deutsch\"] = df_merge_players_GER[\"Spieler_id_deutsch\"].astype(\"int64\")\n",
    "df_merge_players_GER[\"Spieler_id_Gegner\"] = df_merge_players_GER[\"Spieler_id_Gegner\"].astype(\"int64\")\n",
    "\n",
    "#Spalte Siegesquote hinzufügen\n",
    "siegesquote_funktion(df_merge_players_GER)\n"
   ]
  },
  {
   "cell_type": "markdown",
   "metadata": {},
   "source": [
    "<br>"
   ]
  },
  {
   "cell_type": "markdown",
   "metadata": {},
   "source": [
    "### Namen der Spieler hinzufügen"
   ]
  },
  {
   "cell_type": "code",
   "execution_count": 9,
   "metadata": {},
   "outputs": [],
   "source": [
    "# Vor- und Nachname des deutschen Spielers hinzufügen\n",
    "df_merge_players_GER = pd.merge(df_merge_players_GER, df_players[['player_id', 'name_first', 'name_last']],\n",
    "                                left_on='Spieler_id_deutsch', right_on='player_id', how='left')\n",
    "df_merge_players_GER = df_merge_players_GER.rename(columns={'name_first': 'Vorname_deutsch', 'name_last': 'Nachname_deutsch'})\n",
    "\n",
    "# Vor- und Nachname des ausländischen Spielers hinzufügen\n",
    "df_merge_players_GER = pd.merge(df_merge_players_GER, df_players[['player_id', 'name_first', 'name_last']],\n",
    "                                left_on='Spieler_id_Gegner', right_on='player_id', how='left')\n",
    "df_merge_players_GER = df_merge_players_GER.rename(columns={'name_first': 'Vorname_Gegner', 'name_last': 'Nachname_Gegner'})\n",
    "\n",
    "# Spaltenreihenfolge anpassen\n",
    "df_merge_players_GER = df_merge_players_GER[[\"Spieler_id_deutsch\", \"Vorname_deutsch\", \"Nachname_deutsch\", \n",
    "                                             \"Spieler_id_Gegner\", \"Vorname_Gegner\", \"Nachname_Gegner\", \n",
    "                                             \"Siege\", \"Niederlagen\", \"Siegesquote\"]]\n"
   ]
  },
  {
   "cell_type": "code",
   "execution_count": 10,
   "metadata": {},
   "outputs": [
    {
     "data": {
      "text/html": [
       "<div>\n",
       "<style scoped>\n",
       "    .dataframe tbody tr th:only-of-type {\n",
       "        vertical-align: middle;\n",
       "    }\n",
       "\n",
       "    .dataframe tbody tr th {\n",
       "        vertical-align: top;\n",
       "    }\n",
       "\n",
       "    .dataframe thead th {\n",
       "        text-align: right;\n",
       "    }\n",
       "</style>\n",
       "<table border=\"1\" class=\"dataframe\">\n",
       "  <thead>\n",
       "    <tr style=\"text-align: right;\">\n",
       "      <th></th>\n",
       "      <th>Spieler_id_deutsch</th>\n",
       "      <th>Vorname_deutsch</th>\n",
       "      <th>Nachname_deutsch</th>\n",
       "      <th>Spieler_id_Gegner</th>\n",
       "      <th>Vorname_Gegner</th>\n",
       "      <th>Nachname_Gegner</th>\n",
       "      <th>Siege</th>\n",
       "      <th>Niederlagen</th>\n",
       "      <th>Siegesquote</th>\n",
       "    </tr>\n",
       "  </thead>\n",
       "  <tbody>\n",
       "    <tr>\n",
       "      <th>0</th>\n",
       "      <td>100033</td>\n",
       "      <td>Wilhelm</td>\n",
       "      <td>Bungert</td>\n",
       "      <td>100009</td>\n",
       "      <td>Istvan</td>\n",
       "      <td>Gulyas</td>\n",
       "      <td>1</td>\n",
       "      <td>2</td>\n",
       "      <td>0.333333</td>\n",
       "    </tr>\n",
       "    <tr>\n",
       "      <th>1</th>\n",
       "      <td>100033</td>\n",
       "      <td>Wilhelm</td>\n",
       "      <td>Bungert</td>\n",
       "      <td>100011</td>\n",
       "      <td>Torben</td>\n",
       "      <td>Ulrich</td>\n",
       "      <td>2</td>\n",
       "      <td>0</td>\n",
       "      <td>1.000000</td>\n",
       "    </tr>\n",
       "    <tr>\n",
       "      <th>2</th>\n",
       "      <td>100033</td>\n",
       "      <td>Wilhelm</td>\n",
       "      <td>Bungert</td>\n",
       "      <td>100019</td>\n",
       "      <td>Wieslaw</td>\n",
       "      <td>Gasiorek</td>\n",
       "      <td>1</td>\n",
       "      <td>0</td>\n",
       "      <td>1.000000</td>\n",
       "    </tr>\n",
       "    <tr>\n",
       "      <th>3</th>\n",
       "      <td>100033</td>\n",
       "      <td>Wilhelm</td>\n",
       "      <td>Bungert</td>\n",
       "      <td>100023</td>\n",
       "      <td>Ramanathan</td>\n",
       "      <td>Krishnan</td>\n",
       "      <td>1</td>\n",
       "      <td>0</td>\n",
       "      <td>1.000000</td>\n",
       "    </tr>\n",
       "    <tr>\n",
       "      <th>4</th>\n",
       "      <td>100033</td>\n",
       "      <td>Wilhelm</td>\n",
       "      <td>Bungert</td>\n",
       "      <td>100024</td>\n",
       "      <td>Jan Erik</td>\n",
       "      <td>Lundquist</td>\n",
       "      <td>2</td>\n",
       "      <td>0</td>\n",
       "      <td>1.000000</td>\n",
       "    </tr>\n",
       "    <tr>\n",
       "      <th>...</th>\n",
       "      <td>...</td>\n",
       "      <td>...</td>\n",
       "      <td>...</td>\n",
       "      <td>...</td>\n",
       "      <td>...</td>\n",
       "      <td>...</td>\n",
       "      <td>...</td>\n",
       "      <td>...</td>\n",
       "      <td>...</td>\n",
       "    </tr>\n",
       "    <tr>\n",
       "      <th>11382</th>\n",
       "      <td>211168</td>\n",
       "      <td>Thomas</td>\n",
       "      <td>Sarach</td>\n",
       "      <td>202955</td>\n",
       "      <td>Bill</td>\n",
       "      <td>Tym</td>\n",
       "      <td>0</td>\n",
       "      <td>1</td>\n",
       "      <td>0.000000</td>\n",
       "    </tr>\n",
       "    <tr>\n",
       "      <th>11383</th>\n",
       "      <td>211271</td>\n",
       "      <td>Hans</td>\n",
       "      <td>Finkentscher</td>\n",
       "      <td>100135</td>\n",
       "      <td>Onny</td>\n",
       "      <td>Parun</td>\n",
       "      <td>0</td>\n",
       "      <td>1</td>\n",
       "      <td>0.000000</td>\n",
       "    </tr>\n",
       "    <tr>\n",
       "      <th>11384</th>\n",
       "      <td>211289</td>\n",
       "      <td>J</td>\n",
       "      <td>Haussels</td>\n",
       "      <td>100149</td>\n",
       "      <td>Toshiro</td>\n",
       "      <td>Sakai</td>\n",
       "      <td>0</td>\n",
       "      <td>1</td>\n",
       "      <td>0.000000</td>\n",
       "    </tr>\n",
       "    <tr>\n",
       "      <th>11385</th>\n",
       "      <td>211289</td>\n",
       "      <td>J</td>\n",
       "      <td>Haussels</td>\n",
       "      <td>211298</td>\n",
       "      <td>Rob</td>\n",
       "      <td>Wheatley</td>\n",
       "      <td>0</td>\n",
       "      <td>1</td>\n",
       "      <td>0.000000</td>\n",
       "    </tr>\n",
       "    <tr>\n",
       "      <th>11386</th>\n",
       "      <td>211801</td>\n",
       "      <td>Jochen</td>\n",
       "      <td>Rosner</td>\n",
       "      <td>100139</td>\n",
       "      <td>Gerald</td>\n",
       "      <td>Battrick</td>\n",
       "      <td>0</td>\n",
       "      <td>1</td>\n",
       "      <td>0.000000</td>\n",
       "    </tr>\n",
       "  </tbody>\n",
       "</table>\n",
       "<p>11387 rows × 9 columns</p>\n",
       "</div>"
      ],
      "text/plain": [
       "       Spieler_id_deutsch Vorname_deutsch Nachname_deutsch  Spieler_id_Gegner  \\\n",
       "0                  100033         Wilhelm          Bungert             100009   \n",
       "1                  100033         Wilhelm          Bungert             100011   \n",
       "2                  100033         Wilhelm          Bungert             100019   \n",
       "3                  100033         Wilhelm          Bungert             100023   \n",
       "4                  100033         Wilhelm          Bungert             100024   \n",
       "...                   ...             ...              ...                ...   \n",
       "11382              211168          Thomas           Sarach             202955   \n",
       "11383              211271            Hans     Finkentscher             100135   \n",
       "11384              211289               J         Haussels             100149   \n",
       "11385              211289               J         Haussels             211298   \n",
       "11386              211801          Jochen           Rosner             100139   \n",
       "\n",
       "      Vorname_Gegner Nachname_Gegner  Siege  Niederlagen  Siegesquote  \n",
       "0             Istvan          Gulyas      1            2     0.333333  \n",
       "1             Torben          Ulrich      2            0     1.000000  \n",
       "2            Wieslaw        Gasiorek      1            0     1.000000  \n",
       "3         Ramanathan        Krishnan      1            0     1.000000  \n",
       "4           Jan Erik       Lundquist      2            0     1.000000  \n",
       "...              ...             ...    ...          ...          ...  \n",
       "11382           Bill             Tym      0            1     0.000000  \n",
       "11383           Onny           Parun      0            1     0.000000  \n",
       "11384        Toshiro           Sakai      0            1     0.000000  \n",
       "11385            Rob        Wheatley      0            1     0.000000  \n",
       "11386         Gerald        Battrick      0            1     0.000000  \n",
       "\n",
       "[11387 rows x 9 columns]"
      ]
     },
     "execution_count": 10,
     "metadata": {},
     "output_type": "execute_result"
    }
   ],
   "source": [
    "df_merge_players_GER"
   ]
  },
  {
   "cell_type": "markdown",
   "metadata": {},
   "source": [
    "<br>"
   ]
  },
  {
   "cell_type": "markdown",
   "metadata": {},
   "source": [
    "## Gibt es Angstgegner?"
   ]
  },
  {
   "cell_type": "code",
   "execution_count": 11,
   "metadata": {},
   "outputs": [
    {
     "data": {
      "text/html": [
       "<div>\n",
       "<style scoped>\n",
       "    .dataframe tbody tr th:only-of-type {\n",
       "        vertical-align: middle;\n",
       "    }\n",
       "\n",
       "    .dataframe tbody tr th {\n",
       "        vertical-align: top;\n",
       "    }\n",
       "\n",
       "    .dataframe thead th {\n",
       "        text-align: right;\n",
       "    }\n",
       "</style>\n",
       "<table border=\"1\" class=\"dataframe\">\n",
       "  <thead>\n",
       "    <tr style=\"text-align: right;\">\n",
       "      <th></th>\n",
       "      <th>Spieler_id_deutsch</th>\n",
       "      <th>Vorname_deutsch</th>\n",
       "      <th>Nachname_deutsch</th>\n",
       "      <th>Spieler_id_Gegner</th>\n",
       "      <th>Vorname_Gegner</th>\n",
       "      <th>Nachname_Gegner</th>\n",
       "      <th>Siege</th>\n",
       "      <th>Niederlagen</th>\n",
       "      <th>Siegesquote</th>\n",
       "    </tr>\n",
       "  </thead>\n",
       "  <tbody>\n",
       "    <tr>\n",
       "      <th>10277</th>\n",
       "      <td>104259</td>\n",
       "      <td>Philipp</td>\n",
       "      <td>Kohlschreiber</td>\n",
       "      <td>103819</td>\n",
       "      <td>Roger</td>\n",
       "      <td>Federer</td>\n",
       "      <td>0</td>\n",
       "      <td>15</td>\n",
       "      <td>0.0</td>\n",
       "    </tr>\n",
       "    <tr>\n",
       "      <th>10221</th>\n",
       "      <td>104252</td>\n",
       "      <td>Florian</td>\n",
       "      <td>Mayer</td>\n",
       "      <td>103819</td>\n",
       "      <td>Roger</td>\n",
       "      <td>Federer</td>\n",
       "      <td>0</td>\n",
       "      <td>8</td>\n",
       "      <td>0.0</td>\n",
       "    </tr>\n",
       "    <tr>\n",
       "      <th>8511</th>\n",
       "      <td>101463</td>\n",
       "      <td>Bernd</td>\n",
       "      <td>Karbacher</td>\n",
       "      <td>102446</td>\n",
       "      <td>Andrei</td>\n",
       "      <td>Medvedev</td>\n",
       "      <td>0</td>\n",
       "      <td>7</td>\n",
       "      <td>0.0</td>\n",
       "    </tr>\n",
       "    <tr>\n",
       "      <th>10243</th>\n",
       "      <td>104252</td>\n",
       "      <td>Florian</td>\n",
       "      <td>Mayer</td>\n",
       "      <td>104925</td>\n",
       "      <td>Novak</td>\n",
       "      <td>Djokovic</td>\n",
       "      <td>0</td>\n",
       "      <td>7</td>\n",
       "      <td>0.0</td>\n",
       "    </tr>\n",
       "    <tr>\n",
       "      <th>10280</th>\n",
       "      <td>104259</td>\n",
       "      <td>Philipp</td>\n",
       "      <td>Kohlschreiber</td>\n",
       "      <td>104214</td>\n",
       "      <td>Igor</td>\n",
       "      <td>Andreev</td>\n",
       "      <td>0</td>\n",
       "      <td>7</td>\n",
       "      <td>0.0</td>\n",
       "    </tr>\n",
       "  </tbody>\n",
       "</table>\n",
       "</div>"
      ],
      "text/plain": [
       "       Spieler_id_deutsch Vorname_deutsch Nachname_deutsch  Spieler_id_Gegner  \\\n",
       "10277              104259         Philipp    Kohlschreiber             103819   \n",
       "10221              104252         Florian            Mayer             103819   \n",
       "8511               101463           Bernd        Karbacher             102446   \n",
       "10243              104252         Florian            Mayer             104925   \n",
       "10280              104259         Philipp    Kohlschreiber             104214   \n",
       "\n",
       "      Vorname_Gegner Nachname_Gegner  Siege  Niederlagen  Siegesquote  \n",
       "10277          Roger         Federer      0           15          0.0  \n",
       "10221          Roger         Federer      0            8          0.0  \n",
       "8511          Andrei        Medvedev      0            7          0.0  \n",
       "10243          Novak        Djokovic      0            7          0.0  \n",
       "10280           Igor         Andreev      0            7          0.0  "
      ]
     },
     "execution_count": 11,
     "metadata": {},
     "output_type": "execute_result"
    }
   ],
   "source": [
    "#Absteigend nach Niederlagen und aufsteigend nach Siegesquote sortiert\n",
    "df_filtered = df_merge_players_GER.sort_values(by=[\"Siegesquote\", \"Niederlagen\"], ascending=[True, False])\n",
    "\n",
    "#Top 5 Angstgegner\n",
    "df_filtered[0:5]"
   ]
  },
  {
   "cell_type": "markdown",
   "metadata": {},
   "source": [
    "<br>"
   ]
  },
  {
   "cell_type": "markdown",
   "metadata": {},
   "source": [
    "## Allgemeine Spielstärke jedes Spielers"
   ]
  },
  {
   "cell_type": "markdown",
   "metadata": {},
   "source": [
    "### df_matches und df_players joinen"
   ]
  },
  {
   "cell_type": "code",
   "execution_count": 12,
   "metadata": {},
   "outputs": [
    {
     "data": {
      "text/html": [
       "<div>\n",
       "<style scoped>\n",
       "    .dataframe tbody tr th:only-of-type {\n",
       "        vertical-align: middle;\n",
       "    }\n",
       "\n",
       "    .dataframe tbody tr th {\n",
       "        vertical-align: top;\n",
       "    }\n",
       "\n",
       "    .dataframe thead th {\n",
       "        text-align: right;\n",
       "    }\n",
       "</style>\n",
       "<table border=\"1\" class=\"dataframe\">\n",
       "  <thead>\n",
       "    <tr style=\"text-align: right;\">\n",
       "      <th></th>\n",
       "      <th>tourney_id</th>\n",
       "      <th>tourney_name</th>\n",
       "      <th>surface</th>\n",
       "      <th>draw_size</th>\n",
       "      <th>tourney_level</th>\n",
       "      <th>tourney_date</th>\n",
       "      <th>match_num</th>\n",
       "      <th>winner_id</th>\n",
       "      <th>winner_seed</th>\n",
       "      <th>winner_entry</th>\n",
       "      <th>...</th>\n",
       "      <th>name_first_winner</th>\n",
       "      <th>name_last_winner</th>\n",
       "      <th>dob_winner</th>\n",
       "      <th>height_winner</th>\n",
       "      <th>wikidata_winner</th>\n",
       "      <th>name_first_loser</th>\n",
       "      <th>name_last_loser</th>\n",
       "      <th>dob_loser</th>\n",
       "      <th>height_loser</th>\n",
       "      <th>wikidata_loser</th>\n",
       "    </tr>\n",
       "  </thead>\n",
       "  <tbody>\n",
       "    <tr>\n",
       "      <th>0</th>\n",
       "      <td>1968-2029</td>\n",
       "      <td>Dublin</td>\n",
       "      <td>Grass</td>\n",
       "      <td>32</td>\n",
       "      <td>A</td>\n",
       "      <td>19680708</td>\n",
       "      <td>270</td>\n",
       "      <td>112411</td>\n",
       "      <td>NaN</td>\n",
       "      <td>NaN</td>\n",
       "      <td>...</td>\n",
       "      <td>Douglas</td>\n",
       "      <td>Smith</td>\n",
       "      <td>NaN</td>\n",
       "      <td>NaN</td>\n",
       "      <td>NaN</td>\n",
       "      <td>Peter</td>\n",
       "      <td>Ledbetter</td>\n",
       "      <td>19440703.0</td>\n",
       "      <td>NaN</td>\n",
       "      <td>NaN</td>\n",
       "    </tr>\n",
       "    <tr>\n",
       "      <th>1</th>\n",
       "      <td>1968-2029</td>\n",
       "      <td>Dublin</td>\n",
       "      <td>Grass</td>\n",
       "      <td>32</td>\n",
       "      <td>A</td>\n",
       "      <td>19680708</td>\n",
       "      <td>271</td>\n",
       "      <td>126914</td>\n",
       "      <td>NaN</td>\n",
       "      <td>NaN</td>\n",
       "      <td>...</td>\n",
       "      <td>Louis</td>\n",
       "      <td>Pretorius</td>\n",
       "      <td>19930829.0</td>\n",
       "      <td>NaN</td>\n",
       "      <td>NaN</td>\n",
       "      <td>Maurice</td>\n",
       "      <td>Pollock</td>\n",
       "      <td>NaN</td>\n",
       "      <td>NaN</td>\n",
       "      <td>NaN</td>\n",
       "    </tr>\n",
       "    <tr>\n",
       "      <th>2</th>\n",
       "      <td>1968-2029</td>\n",
       "      <td>Dublin</td>\n",
       "      <td>Grass</td>\n",
       "      <td>32</td>\n",
       "      <td>A</td>\n",
       "      <td>19680708</td>\n",
       "      <td>272</td>\n",
       "      <td>209523</td>\n",
       "      <td>NaN</td>\n",
       "      <td>NaN</td>\n",
       "      <td>...</td>\n",
       "      <td>Cecil</td>\n",
       "      <td>Pedlow</td>\n",
       "      <td>NaN</td>\n",
       "      <td>NaN</td>\n",
       "      <td>NaN</td>\n",
       "      <td>John</td>\n",
       "      <td>Mulvey</td>\n",
       "      <td>NaN</td>\n",
       "      <td>NaN</td>\n",
       "      <td>NaN</td>\n",
       "    </tr>\n",
       "    <tr>\n",
       "      <th>3</th>\n",
       "      <td>1968-2029</td>\n",
       "      <td>Dublin</td>\n",
       "      <td>Grass</td>\n",
       "      <td>32</td>\n",
       "      <td>A</td>\n",
       "      <td>19680708</td>\n",
       "      <td>273</td>\n",
       "      <td>100084</td>\n",
       "      <td>NaN</td>\n",
       "      <td>NaN</td>\n",
       "      <td>...</td>\n",
       "      <td>Tom</td>\n",
       "      <td>Okker</td>\n",
       "      <td>19440222.0</td>\n",
       "      <td>178.0</td>\n",
       "      <td>Q455411</td>\n",
       "      <td>Unknown</td>\n",
       "      <td>Fearmon</td>\n",
       "      <td>NaN</td>\n",
       "      <td>NaN</td>\n",
       "      <td>NaN</td>\n",
       "    </tr>\n",
       "    <tr>\n",
       "      <th>4</th>\n",
       "      <td>1968-2029</td>\n",
       "      <td>Dublin</td>\n",
       "      <td>Grass</td>\n",
       "      <td>32</td>\n",
       "      <td>A</td>\n",
       "      <td>19680708</td>\n",
       "      <td>274</td>\n",
       "      <td>100132</td>\n",
       "      <td>NaN</td>\n",
       "      <td>NaN</td>\n",
       "      <td>...</td>\n",
       "      <td>Armistead</td>\n",
       "      <td>Neely</td>\n",
       "      <td>19470319.0</td>\n",
       "      <td>NaN</td>\n",
       "      <td>Q18085277</td>\n",
       "      <td>Harry</td>\n",
       "      <td>Sheridan</td>\n",
       "      <td>NaN</td>\n",
       "      <td>NaN</td>\n",
       "      <td>NaN</td>\n",
       "    </tr>\n",
       "  </tbody>\n",
       "</table>\n",
       "<p>5 rows × 59 columns</p>\n",
       "</div>"
      ],
      "text/plain": [
       "  tourney_id tourney_name surface  draw_size tourney_level  tourney_date  \\\n",
       "0  1968-2029       Dublin   Grass         32             A      19680708   \n",
       "1  1968-2029       Dublin   Grass         32             A      19680708   \n",
       "2  1968-2029       Dublin   Grass         32             A      19680708   \n",
       "3  1968-2029       Dublin   Grass         32             A      19680708   \n",
       "4  1968-2029       Dublin   Grass         32             A      19680708   \n",
       "\n",
       "   match_num  winner_id  winner_seed winner_entry  ... name_first_winner  \\\n",
       "0        270     112411          NaN          NaN  ...           Douglas   \n",
       "1        271     126914          NaN          NaN  ...             Louis   \n",
       "2        272     209523          NaN          NaN  ...             Cecil   \n",
       "3        273     100084          NaN          NaN  ...               Tom   \n",
       "4        274     100132          NaN          NaN  ...         Armistead   \n",
       "\n",
       "  name_last_winner  dob_winner height_winner  wikidata_winner  \\\n",
       "0            Smith         NaN           NaN              NaN   \n",
       "1        Pretorius  19930829.0           NaN              NaN   \n",
       "2           Pedlow         NaN           NaN              NaN   \n",
       "3            Okker  19440222.0         178.0          Q455411   \n",
       "4            Neely  19470319.0           NaN        Q18085277   \n",
       "\n",
       "   name_first_loser  name_last_loser   dob_loser height_loser wikidata_loser  \n",
       "0             Peter        Ledbetter  19440703.0          NaN            NaN  \n",
       "1           Maurice          Pollock         NaN          NaN            NaN  \n",
       "2              John           Mulvey         NaN          NaN            NaN  \n",
       "3           Unknown          Fearmon         NaN          NaN            NaN  \n",
       "4             Harry         Sheridan         NaN          NaN            NaN  \n",
       "\n",
       "[5 rows x 59 columns]"
      ]
     },
     "execution_count": 12,
     "metadata": {},
     "output_type": "execute_result"
    }
   ],
   "source": [
    "#Spielerdaten zum Sieger hinzufügen\n",
    "df_matches_players = pd.merge(df_matches, df_players, how=\"left\", left_on=\"winner_id\", right_on=\"player_id\")\n",
    "\n",
    "#Spielerdaten zum Verlierer hinzufügen\n",
    "df_matches_players = pd.merge(df_matches_players, df_players, how=\"left\", left_on=\"loser_id\", right_on=\"player_id\")\n",
    "\n",
    "#Spalten umbennen und doppelte rausschmeißen\n",
    "df_matches_players.rename(columns={\"name_first_x\":\"name_first_winner\",\"name_last_x\":\"name_last_winner\", \"dob_x\":\"dob_winner\", \"height_x\":\"height_winner\", \"wikidata_id_x\":\"wikidata_winner\", \n",
    "                                   \"name_first_y\":\"name_first_loser\",\"name_last_y\":\"name_last_loser\", \"dob_y\":\"dob_loser\", \"height_y\":\"height_loser\", \"wikidata_id_y\":\"wikidata_loser\" }, inplace=True)\n",
    "df_matches_players.drop([\"player_id_x\", \"hand_x\", \"ioc_x\", \"player_id_y\", \"hand_y\", \"ioc_y\"],axis=1, inplace=True)\n",
    "\n",
    "df_matches_players.head()"
   ]
  },
  {
   "cell_type": "markdown",
   "metadata": {},
   "source": [
    "<br>"
   ]
  },
  {
   "cell_type": "markdown",
   "metadata": {},
   "source": [
    "### Siegesbilanz jedes Spielers"
   ]
  },
  {
   "cell_type": "code",
   "execution_count": 13,
   "metadata": {},
   "outputs": [
    {
     "data": {
      "text/html": [
       "<div>\n",
       "<style scoped>\n",
       "    .dataframe tbody tr th:only-of-type {\n",
       "        vertical-align: middle;\n",
       "    }\n",
       "\n",
       "    .dataframe tbody tr th {\n",
       "        vertical-align: top;\n",
       "    }\n",
       "\n",
       "    .dataframe thead th {\n",
       "        text-align: right;\n",
       "    }\n",
       "</style>\n",
       "<table border=\"1\" class=\"dataframe\">\n",
       "  <thead>\n",
       "    <tr style=\"text-align: right;\">\n",
       "      <th></th>\n",
       "      <th>Spieler_id</th>\n",
       "      <th>Vorname</th>\n",
       "      <th>Nachname</th>\n",
       "      <th>Siege</th>\n",
       "      <th>Niederlagen</th>\n",
       "      <th>Siegesquote</th>\n",
       "    </tr>\n",
       "  </thead>\n",
       "  <tbody>\n",
       "    <tr>\n",
       "      <th>0</th>\n",
       "      <td>100001</td>\n",
       "      <td>Gardnar</td>\n",
       "      <td>Mulloy</td>\n",
       "      <td>4</td>\n",
       "      <td>6</td>\n",
       "      <td>0.400000</td>\n",
       "    </tr>\n",
       "    <tr>\n",
       "      <th>1</th>\n",
       "      <td>100002</td>\n",
       "      <td>Pancho</td>\n",
       "      <td>Segura</td>\n",
       "      <td>9</td>\n",
       "      <td>21</td>\n",
       "      <td>0.300000</td>\n",
       "    </tr>\n",
       "    <tr>\n",
       "      <th>2</th>\n",
       "      <td>100003</td>\n",
       "      <td>Frank</td>\n",
       "      <td>Sedgman</td>\n",
       "      <td>26</td>\n",
       "      <td>31</td>\n",
       "      <td>0.456140</td>\n",
       "    </tr>\n",
       "    <tr>\n",
       "      <th>3</th>\n",
       "      <td>100004</td>\n",
       "      <td>Giuseppe</td>\n",
       "      <td>Merlo</td>\n",
       "      <td>7</td>\n",
       "      <td>12</td>\n",
       "      <td>0.368421</td>\n",
       "    </tr>\n",
       "    <tr>\n",
       "      <th>4</th>\n",
       "      <td>100005</td>\n",
       "      <td>Richard</td>\n",
       "      <td>Gonzalez</td>\n",
       "      <td>154</td>\n",
       "      <td>90</td>\n",
       "      <td>0.631148</td>\n",
       "    </tr>\n",
       "    <tr>\n",
       "      <th>...</th>\n",
       "      <td>...</td>\n",
       "      <td>...</td>\n",
       "      <td>...</td>\n",
       "      <td>...</td>\n",
       "      <td>...</td>\n",
       "      <td>...</td>\n",
       "    </tr>\n",
       "    <tr>\n",
       "      <th>7183</th>\n",
       "      <td>211800</td>\n",
       "      <td>George</td>\n",
       "      <td>Szakacz</td>\n",
       "      <td>0</td>\n",
       "      <td>1</td>\n",
       "      <td>0.000000</td>\n",
       "    </tr>\n",
       "    <tr>\n",
       "      <th>7184</th>\n",
       "      <td>211801</td>\n",
       "      <td>Jochen</td>\n",
       "      <td>Rosner</td>\n",
       "      <td>0</td>\n",
       "      <td>1</td>\n",
       "      <td>0.000000</td>\n",
       "    </tr>\n",
       "    <tr>\n",
       "      <th>7185</th>\n",
       "      <td>211803</td>\n",
       "      <td>Heimo</td>\n",
       "      <td>Tschernatsch</td>\n",
       "      <td>0</td>\n",
       "      <td>1</td>\n",
       "      <td>0.000000</td>\n",
       "    </tr>\n",
       "    <tr>\n",
       "      <th>7186</th>\n",
       "      <td>211804</td>\n",
       "      <td>Jesus</td>\n",
       "      <td>Oroquieta</td>\n",
       "      <td>0</td>\n",
       "      <td>1</td>\n",
       "      <td>0.000000</td>\n",
       "    </tr>\n",
       "    <tr>\n",
       "      <th>7187</th>\n",
       "      <td>211805</td>\n",
       "      <td>Paul</td>\n",
       "      <td>Pavich</td>\n",
       "      <td>0</td>\n",
       "      <td>1</td>\n",
       "      <td>0.000000</td>\n",
       "    </tr>\n",
       "  </tbody>\n",
       "</table>\n",
       "<p>7188 rows × 6 columns</p>\n",
       "</div>"
      ],
      "text/plain": [
       "      Spieler_id   Vorname      Nachname  Siege  Niederlagen  Siegesquote\n",
       "0         100001   Gardnar        Mulloy      4            6     0.400000\n",
       "1         100002    Pancho        Segura      9           21     0.300000\n",
       "2         100003     Frank       Sedgman     26           31     0.456140\n",
       "3         100004  Giuseppe         Merlo      7           12     0.368421\n",
       "4         100005   Richard      Gonzalez    154           90     0.631148\n",
       "...          ...       ...           ...    ...          ...          ...\n",
       "7183      211800    George       Szakacz      0            1     0.000000\n",
       "7184      211801    Jochen        Rosner      0            1     0.000000\n",
       "7185      211803     Heimo  Tschernatsch      0            1     0.000000\n",
       "7186      211804     Jesus     Oroquieta      0            1     0.000000\n",
       "7187      211805      Paul        Pavich      0            1     0.000000\n",
       "\n",
       "[7188 rows x 6 columns]"
      ]
     },
     "execution_count": 13,
     "metadata": {},
     "output_type": "execute_result"
    }
   ],
   "source": [
    "#Alle Siege pro Spieler ID\n",
    "df_wins = df_matches_players.groupby([\"winner_id\", \"name_first_winner\", \"name_last_winner\"]).size().reset_index(name=\"Siege\")\n",
    "\n",
    "#Alle Niederlagen pro Spieler ID\n",
    "df_loses = df_matches_players.groupby([\"loser_id\", \"name_first_loser\", \"name_last_loser\"]).size().reset_index(name=\"Niederlagen\")\n",
    "\n",
    "#Tabellen joinen, um Siege und Niederlagen pro Spieler ID zu erhalten\n",
    "df_merge = pd.merge(df_wins, df_loses, how=\"outer\", left_on=\"winner_id\", right_on=\"loser_id\")\n",
    "\n",
    "#Spalten winner_id und loser_id kombinieren\n",
    "df_merge['Spieler_id'] = df_merge['winner_id'].combine_first(df_merge['loser_id'])\n",
    "\n",
    "#Spalten entfernen\n",
    "df_merge = df_merge[[\"Spieler_id\", \"Siege\", \"Niederlagen\"]]\n",
    "\n",
    "#NaN-Werte der Spalte \"Niederlagen\" und \"Siege\" durch 0 ersetzen und Datentyp zu \"int64\" ändern\n",
    "fillna_0_astype_int64(df_merge)\n",
    "df_merge[\"Spieler_id\"] = df_merge[\"Spieler_id\"].astype(\"int64\")\n",
    "\n",
    "#Spalte Siegesquote hinzufügen\n",
    "siegesquote_funktion(df_merge)\n",
    "\n",
    "#Vor- und Nachname hinzufügen\n",
    "df_merge = pd.merge(df_merge, df_players, how=\"left\", left_on=\"Spieler_id\", right_on=\"player_id\")\n",
    "df_merge.rename(columns={\"name_first\":\"Vorname\", \"name_last\":\"Nachname\"}, inplace=True)\n",
    "df_merge = df_merge[[\"Spieler_id\", \"Vorname\", \"Nachname\", \"Siege\", \"Niederlagen\", \"Siegesquote\"]]\n",
    "\n",
    "df_merge"
   ]
  },
  {
   "cell_type": "markdown",
   "metadata": {},
   "source": [
    "<br>"
   ]
  },
  {
   "cell_type": "markdown",
   "metadata": {},
   "source": [
    "## Liegen die schlechten Ergebnisse gegen die Angstgegner nun an der generellen Spielstärke beider Spieler? "
   ]
  },
  {
   "cell_type": "code",
   "execution_count": 14,
   "metadata": {},
   "outputs": [
    {
     "data": {
      "text/html": [
       "<div>\n",
       "<style scoped>\n",
       "    .dataframe tbody tr th:only-of-type {\n",
       "        vertical-align: middle;\n",
       "    }\n",
       "\n",
       "    .dataframe tbody tr th {\n",
       "        vertical-align: top;\n",
       "    }\n",
       "\n",
       "    .dataframe thead th {\n",
       "        text-align: right;\n",
       "    }\n",
       "</style>\n",
       "<table border=\"1\" class=\"dataframe\">\n",
       "  <thead>\n",
       "    <tr style=\"text-align: right;\">\n",
       "      <th></th>\n",
       "      <th>Spieler_id_deutsch</th>\n",
       "      <th>Vorname_deutsch</th>\n",
       "      <th>Nachname_deutsch</th>\n",
       "      <th>Siege_deutscher_Spieler_allg</th>\n",
       "      <th>Niederlagen_deutscher_Spieler_allg</th>\n",
       "      <th>Siegesquote_deutscher_Spieler_allg</th>\n",
       "      <th>Spieler_id_Gegner</th>\n",
       "      <th>Vorname_Gegner</th>\n",
       "      <th>Nachname_Gegner</th>\n",
       "      <th>Siege_Gegner_allg</th>\n",
       "      <th>Niederlagen_Gegner_allg</th>\n",
       "      <th>Siegesquote_Gegner_allg</th>\n",
       "      <th>Siege_Match</th>\n",
       "      <th>Niederlagen_Match</th>\n",
       "      <th>Siegesquote_Match</th>\n",
       "    </tr>\n",
       "  </thead>\n",
       "  <tbody>\n",
       "    <tr>\n",
       "      <th>0</th>\n",
       "      <td>104259</td>\n",
       "      <td>Philipp</td>\n",
       "      <td>Kohlschreiber</td>\n",
       "      <td>482</td>\n",
       "      <td>400</td>\n",
       "      <td>0.546485</td>\n",
       "      <td>103819</td>\n",
       "      <td>Roger</td>\n",
       "      <td>Federer</td>\n",
       "      <td>1265</td>\n",
       "      <td>280</td>\n",
       "      <td>0.818770</td>\n",
       "      <td>0</td>\n",
       "      <td>15</td>\n",
       "      <td>0.0</td>\n",
       "    </tr>\n",
       "    <tr>\n",
       "      <th>1</th>\n",
       "      <td>104252</td>\n",
       "      <td>Florian</td>\n",
       "      <td>Mayer</td>\n",
       "      <td>244</td>\n",
       "      <td>264</td>\n",
       "      <td>0.480315</td>\n",
       "      <td>103819</td>\n",
       "      <td>Roger</td>\n",
       "      <td>Federer</td>\n",
       "      <td>1265</td>\n",
       "      <td>280</td>\n",
       "      <td>0.818770</td>\n",
       "      <td>0</td>\n",
       "      <td>8</td>\n",
       "      <td>0.0</td>\n",
       "    </tr>\n",
       "    <tr>\n",
       "      <th>2</th>\n",
       "      <td>101463</td>\n",
       "      <td>Bernd</td>\n",
       "      <td>Karbacher</td>\n",
       "      <td>136</td>\n",
       "      <td>161</td>\n",
       "      <td>0.457912</td>\n",
       "      <td>102446</td>\n",
       "      <td>Andrei</td>\n",
       "      <td>Medvedev</td>\n",
       "      <td>322</td>\n",
       "      <td>215</td>\n",
       "      <td>0.599628</td>\n",
       "      <td>0</td>\n",
       "      <td>7</td>\n",
       "      <td>0.0</td>\n",
       "    </tr>\n",
       "    <tr>\n",
       "      <th>3</th>\n",
       "      <td>104252</td>\n",
       "      <td>Florian</td>\n",
       "      <td>Mayer</td>\n",
       "      <td>244</td>\n",
       "      <td>264</td>\n",
       "      <td>0.480315</td>\n",
       "      <td>104925</td>\n",
       "      <td>Novak</td>\n",
       "      <td>Djokovic</td>\n",
       "      <td>1045</td>\n",
       "      <td>207</td>\n",
       "      <td>0.834665</td>\n",
       "      <td>0</td>\n",
       "      <td>7</td>\n",
       "      <td>0.0</td>\n",
       "    </tr>\n",
       "    <tr>\n",
       "      <th>4</th>\n",
       "      <td>104259</td>\n",
       "      <td>Philipp</td>\n",
       "      <td>Kohlschreiber</td>\n",
       "      <td>482</td>\n",
       "      <td>400</td>\n",
       "      <td>0.546485</td>\n",
       "      <td>104214</td>\n",
       "      <td>Igor</td>\n",
       "      <td>Andreev</td>\n",
       "      <td>238</td>\n",
       "      <td>231</td>\n",
       "      <td>0.507463</td>\n",
       "      <td>0</td>\n",
       "      <td>7</td>\n",
       "      <td>0.0</td>\n",
       "    </tr>\n",
       "  </tbody>\n",
       "</table>\n",
       "</div>"
      ],
      "text/plain": [
       "   Spieler_id_deutsch Vorname_deutsch Nachname_deutsch  \\\n",
       "0              104259         Philipp    Kohlschreiber   \n",
       "1              104252         Florian            Mayer   \n",
       "2              101463           Bernd        Karbacher   \n",
       "3              104252         Florian            Mayer   \n",
       "4              104259         Philipp    Kohlschreiber   \n",
       "\n",
       "   Siege_deutscher_Spieler_allg  Niederlagen_deutscher_Spieler_allg  \\\n",
       "0                           482                                 400   \n",
       "1                           244                                 264   \n",
       "2                           136                                 161   \n",
       "3                           244                                 264   \n",
       "4                           482                                 400   \n",
       "\n",
       "   Siegesquote_deutscher_Spieler_allg  Spieler_id_Gegner Vorname_Gegner  \\\n",
       "0                            0.546485             103819          Roger   \n",
       "1                            0.480315             103819          Roger   \n",
       "2                            0.457912             102446         Andrei   \n",
       "3                            0.480315             104925          Novak   \n",
       "4                            0.546485             104214           Igor   \n",
       "\n",
       "  Nachname_Gegner  Siege_Gegner_allg  Niederlagen_Gegner_allg  \\\n",
       "0         Federer               1265                      280   \n",
       "1         Federer               1265                      280   \n",
       "2        Medvedev                322                      215   \n",
       "3        Djokovic               1045                      207   \n",
       "4         Andreev                238                      231   \n",
       "\n",
       "   Siegesquote_Gegner_allg  Siege_Match  Niederlagen_Match  Siegesquote_Match  \n",
       "0                 0.818770            0                 15                0.0  \n",
       "1                 0.818770            0                  8                0.0  \n",
       "2                 0.599628            0                  7                0.0  \n",
       "3                 0.834665            0                  7                0.0  \n",
       "4                 0.507463            0                  7                0.0  "
      ]
     },
     "execution_count": 14,
     "metadata": {},
     "output_type": "execute_result"
    }
   ],
   "source": [
    "#Tabellen joinen, um allgemeine Sigesbilanz beider Spieler mit der aus den Spielen, die sie gegeneinander gespielt haben, zu vergleichen\n",
    "df_merge2 = pd.merge(df_filtered, df_merge, how=\"left\", left_on=\"Spieler_id_deutsch\", right_on=\"Spieler_id\")\n",
    "df_merge2 = pd.merge(df_merge2, df_merge, how=\"left\", left_on=\"Spieler_id_Gegner\", right_on=\"Spieler_id\")\n",
    "\n",
    "#Spalten umbenennen\n",
    "df_merge2.rename(columns={\"Siege_x\":\"Siege_Match\", \"Niederlagen_x\": \"Niederlagen_Match\", \"Siegesquote_x\":\"Siegesquote_Match\",\n",
    "                          \"Siege_y\":\"Siege_deutscher_Spieler_allg\", \"Niederlagen_y\":\"Niederlagen_deutscher_Spieler_allg\", \"Siegesquote_y\":\"Siegesquote_deutscher_Spieler_allg\",\n",
    "                          \"Siege\":\"Siege_Gegner_allg\", \"Niederlagen\":\"Niederlagen_Gegner_allg\", \"Siegesquote\":\"Siegesquote_Gegner_allg\"},inplace=True)\n",
    "\n",
    "#Spalten entfernen\n",
    "df_merge2 = df_merge2[[\"Spieler_id_deutsch\", \"Vorname_deutsch\", \"Nachname_deutsch\", \"Siege_deutscher_Spieler_allg\" ,\"Niederlagen_deutscher_Spieler_allg\", \"Siegesquote_deutscher_Spieler_allg\",\n",
    "                       \"Spieler_id_Gegner\",\"Vorname_Gegner\", \"Nachname_Gegner\", \"Siege_Gegner_allg\", \"Niederlagen_Gegner_allg\",\"Siegesquote_Gegner_allg\", \"Siege_Match\", \"Niederlagen_Match\", \"Siegesquote_Match\" ]]\n",
    "\n",
    "#df_merge2[0:5], um die Top 5 \"schlechtesten\" Matchkombinationen, in denen ein deutscher Spieler mitspielt, herauszufiltern\n",
    "df_merge2[0:5]"
   ]
  },
  {
   "cell_type": "markdown",
   "metadata": {},
   "source": [
    "<br>"
   ]
  },
  {
   "cell_type": "markdown",
   "metadata": {},
   "source": [
    "### Visualisierung der allgemeinen Siegesquoten der Spieler aus den Top 10 \"schlechtesten\" Matchkombinationen "
   ]
  },
  {
   "cell_type": "code",
   "execution_count": 15,
   "metadata": {},
   "outputs": [
    {
     "data": {
      "application/vnd.plotly.v1+json": {
       "config": {
        "plotlyServerURL": "https://plot.ly"
       },
       "data": [
        {
         "customdata": [
          [
           "Philipp",
           "Kohlschreiber",
           0.546485260770975
          ],
          [
           "Florian",
           "Mayer",
           0.48031496062992124
          ],
          [
           "Bernd",
           "Karbacher",
           0.45791245791245794
          ],
          [
           "Florian",
           "Mayer",
           0.48031496062992124
          ],
          [
           "Philipp",
           "Kohlschreiber",
           0.546485260770975
          ],
          [
           "Jan Lennard",
           "Struff",
           0.4588859416445623
          ],
          [
           "Rolf",
           "Gehring",
           0.45692883895131087
          ],
          [
           "Bernd",
           "Karbacher",
           0.45791245791245794
          ],
          [
           "Michael",
           "Stich",
           0.6843971631205674
          ],
          [
           "Marc Kevin",
           "Goellner",
           0.4507042253521127
          ]
         ],
         "hovertemplate": "<i>Name</i>: %{customdata[0]} %{customdata[1]}<br><i>Siegesquote</i>: %{customdata[2]:.2f}<br><extra></extra>",
         "marker": {
          "color": "#b2e061"
         },
         "name": "Deutscher Spieler",
         "type": "bar",
         "x": [
          0,
          1,
          2,
          3,
          4,
          5,
          6,
          7,
          8,
          9
         ],
         "y": [
          0.546485260770975,
          0.48031496062992124,
          0.45791245791245794,
          0.48031496062992124,
          0.546485260770975,
          0.4588859416445623,
          0.45692883895131087,
          0.45791245791245794,
          0.6843971631205674,
          0.4507042253521127
         ]
        },
        {
         "customdata": [
          [
           "Roger",
           "Federer",
           0.8187702265372169
          ],
          [
           "Roger",
           "Federer",
           0.8187702265372169
          ],
          [
           "Andrei",
           "Medvedev",
           0.5996275605214153
          ],
          [
           "Novak",
           "Djokovic",
           0.8346645367412141
          ],
          [
           "Igor",
           "Andreev",
           0.5074626865671642
          ],
          [
           "Novak",
           "Djokovic",
           0.8346645367412141
          ],
          [
           "Guillermo",
           "Vilas",
           0.7602574416733708
          ],
          [
           "Jan",
           "Siemerink",
           0.5027422303473492
          ],
          [
           "Andre",
           "Agassi",
           0.7602441150828247
          ],
          [
           "Magnus",
           "Larsson",
           0.577490774907749
          ]
         ],
         "hovertemplate": "<i>Name</i>: %{customdata[0]} %{customdata[1]}<br><i>Siegesquote</i>: %{customdata[2]:.2f}<br><extra></extra>",
         "marker": {
          "color": "#fd7f6f"
         },
         "name": "Gegner",
         "type": "bar",
         "x": [
          0,
          1,
          2,
          3,
          4,
          5,
          6,
          7,
          8,
          9
         ],
         "y": [
          0.8187702265372169,
          0.8187702265372169,
          0.5996275605214153,
          0.8346645367412141,
          0.5074626865671642,
          0.8346645367412141,
          0.7602574416733708,
          0.5027422303473492,
          0.7602441150828247,
          0.577490774907749
         ]
        }
       ],
       "layout": {
        "barmode": "group",
        "template": {
         "data": {
          "bar": [
           {
            "error_x": {
             "color": "#2a3f5f"
            },
            "error_y": {
             "color": "#2a3f5f"
            },
            "marker": {
             "line": {
              "color": "#E5ECF6",
              "width": 0.5
             },
             "pattern": {
              "fillmode": "overlay",
              "size": 10,
              "solidity": 0.2
             }
            },
            "type": "bar"
           }
          ],
          "barpolar": [
           {
            "marker": {
             "line": {
              "color": "#E5ECF6",
              "width": 0.5
             },
             "pattern": {
              "fillmode": "overlay",
              "size": 10,
              "solidity": 0.2
             }
            },
            "type": "barpolar"
           }
          ],
          "carpet": [
           {
            "aaxis": {
             "endlinecolor": "#2a3f5f",
             "gridcolor": "white",
             "linecolor": "white",
             "minorgridcolor": "white",
             "startlinecolor": "#2a3f5f"
            },
            "baxis": {
             "endlinecolor": "#2a3f5f",
             "gridcolor": "white",
             "linecolor": "white",
             "minorgridcolor": "white",
             "startlinecolor": "#2a3f5f"
            },
            "type": "carpet"
           }
          ],
          "choropleth": [
           {
            "colorbar": {
             "outlinewidth": 0,
             "ticks": ""
            },
            "type": "choropleth"
           }
          ],
          "contour": [
           {
            "colorbar": {
             "outlinewidth": 0,
             "ticks": ""
            },
            "colorscale": [
             [
              0,
              "#0d0887"
             ],
             [
              0.1111111111111111,
              "#46039f"
             ],
             [
              0.2222222222222222,
              "#7201a8"
             ],
             [
              0.3333333333333333,
              "#9c179e"
             ],
             [
              0.4444444444444444,
              "#bd3786"
             ],
             [
              0.5555555555555556,
              "#d8576b"
             ],
             [
              0.6666666666666666,
              "#ed7953"
             ],
             [
              0.7777777777777778,
              "#fb9f3a"
             ],
             [
              0.8888888888888888,
              "#fdca26"
             ],
             [
              1,
              "#f0f921"
             ]
            ],
            "type": "contour"
           }
          ],
          "contourcarpet": [
           {
            "colorbar": {
             "outlinewidth": 0,
             "ticks": ""
            },
            "type": "contourcarpet"
           }
          ],
          "heatmap": [
           {
            "colorbar": {
             "outlinewidth": 0,
             "ticks": ""
            },
            "colorscale": [
             [
              0,
              "#0d0887"
             ],
             [
              0.1111111111111111,
              "#46039f"
             ],
             [
              0.2222222222222222,
              "#7201a8"
             ],
             [
              0.3333333333333333,
              "#9c179e"
             ],
             [
              0.4444444444444444,
              "#bd3786"
             ],
             [
              0.5555555555555556,
              "#d8576b"
             ],
             [
              0.6666666666666666,
              "#ed7953"
             ],
             [
              0.7777777777777778,
              "#fb9f3a"
             ],
             [
              0.8888888888888888,
              "#fdca26"
             ],
             [
              1,
              "#f0f921"
             ]
            ],
            "type": "heatmap"
           }
          ],
          "heatmapgl": [
           {
            "colorbar": {
             "outlinewidth": 0,
             "ticks": ""
            },
            "colorscale": [
             [
              0,
              "#0d0887"
             ],
             [
              0.1111111111111111,
              "#46039f"
             ],
             [
              0.2222222222222222,
              "#7201a8"
             ],
             [
              0.3333333333333333,
              "#9c179e"
             ],
             [
              0.4444444444444444,
              "#bd3786"
             ],
             [
              0.5555555555555556,
              "#d8576b"
             ],
             [
              0.6666666666666666,
              "#ed7953"
             ],
             [
              0.7777777777777778,
              "#fb9f3a"
             ],
             [
              0.8888888888888888,
              "#fdca26"
             ],
             [
              1,
              "#f0f921"
             ]
            ],
            "type": "heatmapgl"
           }
          ],
          "histogram": [
           {
            "marker": {
             "pattern": {
              "fillmode": "overlay",
              "size": 10,
              "solidity": 0.2
             }
            },
            "type": "histogram"
           }
          ],
          "histogram2d": [
           {
            "colorbar": {
             "outlinewidth": 0,
             "ticks": ""
            },
            "colorscale": [
             [
              0,
              "#0d0887"
             ],
             [
              0.1111111111111111,
              "#46039f"
             ],
             [
              0.2222222222222222,
              "#7201a8"
             ],
             [
              0.3333333333333333,
              "#9c179e"
             ],
             [
              0.4444444444444444,
              "#bd3786"
             ],
             [
              0.5555555555555556,
              "#d8576b"
             ],
             [
              0.6666666666666666,
              "#ed7953"
             ],
             [
              0.7777777777777778,
              "#fb9f3a"
             ],
             [
              0.8888888888888888,
              "#fdca26"
             ],
             [
              1,
              "#f0f921"
             ]
            ],
            "type": "histogram2d"
           }
          ],
          "histogram2dcontour": [
           {
            "colorbar": {
             "outlinewidth": 0,
             "ticks": ""
            },
            "colorscale": [
             [
              0,
              "#0d0887"
             ],
             [
              0.1111111111111111,
              "#46039f"
             ],
             [
              0.2222222222222222,
              "#7201a8"
             ],
             [
              0.3333333333333333,
              "#9c179e"
             ],
             [
              0.4444444444444444,
              "#bd3786"
             ],
             [
              0.5555555555555556,
              "#d8576b"
             ],
             [
              0.6666666666666666,
              "#ed7953"
             ],
             [
              0.7777777777777778,
              "#fb9f3a"
             ],
             [
              0.8888888888888888,
              "#fdca26"
             ],
             [
              1,
              "#f0f921"
             ]
            ],
            "type": "histogram2dcontour"
           }
          ],
          "mesh3d": [
           {
            "colorbar": {
             "outlinewidth": 0,
             "ticks": ""
            },
            "type": "mesh3d"
           }
          ],
          "parcoords": [
           {
            "line": {
             "colorbar": {
              "outlinewidth": 0,
              "ticks": ""
             }
            },
            "type": "parcoords"
           }
          ],
          "pie": [
           {
            "automargin": true,
            "type": "pie"
           }
          ],
          "scatter": [
           {
            "fillpattern": {
             "fillmode": "overlay",
             "size": 10,
             "solidity": 0.2
            },
            "type": "scatter"
           }
          ],
          "scatter3d": [
           {
            "line": {
             "colorbar": {
              "outlinewidth": 0,
              "ticks": ""
             }
            },
            "marker": {
             "colorbar": {
              "outlinewidth": 0,
              "ticks": ""
             }
            },
            "type": "scatter3d"
           }
          ],
          "scattercarpet": [
           {
            "marker": {
             "colorbar": {
              "outlinewidth": 0,
              "ticks": ""
             }
            },
            "type": "scattercarpet"
           }
          ],
          "scattergeo": [
           {
            "marker": {
             "colorbar": {
              "outlinewidth": 0,
              "ticks": ""
             }
            },
            "type": "scattergeo"
           }
          ],
          "scattergl": [
           {
            "marker": {
             "colorbar": {
              "outlinewidth": 0,
              "ticks": ""
             }
            },
            "type": "scattergl"
           }
          ],
          "scattermapbox": [
           {
            "marker": {
             "colorbar": {
              "outlinewidth": 0,
              "ticks": ""
             }
            },
            "type": "scattermapbox"
           }
          ],
          "scatterpolar": [
           {
            "marker": {
             "colorbar": {
              "outlinewidth": 0,
              "ticks": ""
             }
            },
            "type": "scatterpolar"
           }
          ],
          "scatterpolargl": [
           {
            "marker": {
             "colorbar": {
              "outlinewidth": 0,
              "ticks": ""
             }
            },
            "type": "scatterpolargl"
           }
          ],
          "scatterternary": [
           {
            "marker": {
             "colorbar": {
              "outlinewidth": 0,
              "ticks": ""
             }
            },
            "type": "scatterternary"
           }
          ],
          "surface": [
           {
            "colorbar": {
             "outlinewidth": 0,
             "ticks": ""
            },
            "colorscale": [
             [
              0,
              "#0d0887"
             ],
             [
              0.1111111111111111,
              "#46039f"
             ],
             [
              0.2222222222222222,
              "#7201a8"
             ],
             [
              0.3333333333333333,
              "#9c179e"
             ],
             [
              0.4444444444444444,
              "#bd3786"
             ],
             [
              0.5555555555555556,
              "#d8576b"
             ],
             [
              0.6666666666666666,
              "#ed7953"
             ],
             [
              0.7777777777777778,
              "#fb9f3a"
             ],
             [
              0.8888888888888888,
              "#fdca26"
             ],
             [
              1,
              "#f0f921"
             ]
            ],
            "type": "surface"
           }
          ],
          "table": [
           {
            "cells": {
             "fill": {
              "color": "#EBF0F8"
             },
             "line": {
              "color": "white"
             }
            },
            "header": {
             "fill": {
              "color": "#C8D4E3"
             },
             "line": {
              "color": "white"
             }
            },
            "type": "table"
           }
          ]
         },
         "layout": {
          "annotationdefaults": {
           "arrowcolor": "#2a3f5f",
           "arrowhead": 0,
           "arrowwidth": 1
          },
          "autotypenumbers": "strict",
          "coloraxis": {
           "colorbar": {
            "outlinewidth": 0,
            "ticks": ""
           }
          },
          "colorscale": {
           "diverging": [
            [
             0,
             "#8e0152"
            ],
            [
             0.1,
             "#c51b7d"
            ],
            [
             0.2,
             "#de77ae"
            ],
            [
             0.3,
             "#f1b6da"
            ],
            [
             0.4,
             "#fde0ef"
            ],
            [
             0.5,
             "#f7f7f7"
            ],
            [
             0.6,
             "#e6f5d0"
            ],
            [
             0.7,
             "#b8e186"
            ],
            [
             0.8,
             "#7fbc41"
            ],
            [
             0.9,
             "#4d9221"
            ],
            [
             1,
             "#276419"
            ]
           ],
           "sequential": [
            [
             0,
             "#0d0887"
            ],
            [
             0.1111111111111111,
             "#46039f"
            ],
            [
             0.2222222222222222,
             "#7201a8"
            ],
            [
             0.3333333333333333,
             "#9c179e"
            ],
            [
             0.4444444444444444,
             "#bd3786"
            ],
            [
             0.5555555555555556,
             "#d8576b"
            ],
            [
             0.6666666666666666,
             "#ed7953"
            ],
            [
             0.7777777777777778,
             "#fb9f3a"
            ],
            [
             0.8888888888888888,
             "#fdca26"
            ],
            [
             1,
             "#f0f921"
            ]
           ],
           "sequentialminus": [
            [
             0,
             "#0d0887"
            ],
            [
             0.1111111111111111,
             "#46039f"
            ],
            [
             0.2222222222222222,
             "#7201a8"
            ],
            [
             0.3333333333333333,
             "#9c179e"
            ],
            [
             0.4444444444444444,
             "#bd3786"
            ],
            [
             0.5555555555555556,
             "#d8576b"
            ],
            [
             0.6666666666666666,
             "#ed7953"
            ],
            [
             0.7777777777777778,
             "#fb9f3a"
            ],
            [
             0.8888888888888888,
             "#fdca26"
            ],
            [
             1,
             "#f0f921"
            ]
           ]
          },
          "colorway": [
           "#636efa",
           "#EF553B",
           "#00cc96",
           "#ab63fa",
           "#FFA15A",
           "#19d3f3",
           "#FF6692",
           "#B6E880",
           "#FF97FF",
           "#FECB52"
          ],
          "font": {
           "color": "#2a3f5f"
          },
          "geo": {
           "bgcolor": "white",
           "lakecolor": "white",
           "landcolor": "#E5ECF6",
           "showlakes": true,
           "showland": true,
           "subunitcolor": "white"
          },
          "hoverlabel": {
           "align": "left"
          },
          "hovermode": "closest",
          "mapbox": {
           "style": "light"
          },
          "paper_bgcolor": "white",
          "plot_bgcolor": "#E5ECF6",
          "polar": {
           "angularaxis": {
            "gridcolor": "white",
            "linecolor": "white",
            "ticks": ""
           },
           "bgcolor": "#E5ECF6",
           "radialaxis": {
            "gridcolor": "white",
            "linecolor": "white",
            "ticks": ""
           }
          },
          "scene": {
           "xaxis": {
            "backgroundcolor": "#E5ECF6",
            "gridcolor": "white",
            "gridwidth": 2,
            "linecolor": "white",
            "showbackground": true,
            "ticks": "",
            "zerolinecolor": "white"
           },
           "yaxis": {
            "backgroundcolor": "#E5ECF6",
            "gridcolor": "white",
            "gridwidth": 2,
            "linecolor": "white",
            "showbackground": true,
            "ticks": "",
            "zerolinecolor": "white"
           },
           "zaxis": {
            "backgroundcolor": "#E5ECF6",
            "gridcolor": "white",
            "gridwidth": 2,
            "linecolor": "white",
            "showbackground": true,
            "ticks": "",
            "zerolinecolor": "white"
           }
          },
          "shapedefaults": {
           "line": {
            "color": "#2a3f5f"
           }
          },
          "ternary": {
           "aaxis": {
            "gridcolor": "white",
            "linecolor": "white",
            "ticks": ""
           },
           "baxis": {
            "gridcolor": "white",
            "linecolor": "white",
            "ticks": ""
           },
           "bgcolor": "#E5ECF6",
           "caxis": {
            "gridcolor": "white",
            "linecolor": "white",
            "ticks": ""
           }
          },
          "title": {
           "x": 0.05
          },
          "xaxis": {
           "automargin": true,
           "gridcolor": "white",
           "linecolor": "white",
           "ticks": "",
           "title": {
            "standoff": 15
           },
           "zerolinecolor": "white",
           "zerolinewidth": 2
          },
          "yaxis": {
           "automargin": true,
           "gridcolor": "white",
           "linecolor": "white",
           "ticks": "",
           "title": {
            "standoff": 15
           },
           "zerolinecolor": "white",
           "zerolinewidth": 2
          }
         }
        },
        "title": {
         "text": "Vergleich allgemeiner Siegesquoten der Spieler"
        }
       }
      }
     },
     "metadata": {},
     "output_type": "display_data"
    }
   ],
   "source": [
    "fig = go.Figure()\n",
    "\n",
    "fig.add_trace(go.Bar(\n",
    "    x=df_merge2[0:10].index,\n",
    "    y=df_merge2[0:10][\"Siegesquote_deutscher_Spieler_allg\"],\n",
    "    name='Deutscher Spieler',\n",
    "    customdata=df_merge2[0:10][[\"Vorname_deutsch\", \"Nachname_deutsch\", \"Siegesquote_deutscher_Spieler_allg\"]],\n",
    "    hovertemplate=\n",
    "    '<i>Name</i>: %{customdata[0]} %{customdata[1]}<br>'+\n",
    "    '<i>Siegesquote</i>: %{customdata[2]:.2f}<br>'+\n",
    "    '<extra></extra>',\n",
    "    marker_color='#b2e061'  # Farbe für den deutschen Spieler\n",
    "))\n",
    "\n",
    "fig.add_trace(go.Bar(\n",
    "    x=df_merge2[0:10].index,\n",
    "    y=df_merge2[0:10][\"Siegesquote_Gegner_allg\"],\n",
    "    name='Gegner',\n",
    "    customdata=df_merge2[0:10][[\"Vorname_Gegner\", \"Nachname_Gegner\", \"Siegesquote_Gegner_allg\"]],\n",
    "    hovertemplate=\n",
    "    '<i>Name</i>: %{customdata[0]} %{customdata[1]}<br>'+\n",
    "    '<i>Siegesquote</i>: %{customdata[2]:.2f}<br>'+\n",
    "    '<extra></extra>',\n",
    "    marker_color='#fd7f6f'  # Farbe für den Gegner\n",
    "))\n",
    "\n",
    "fig.update_layout(barmode='group', title_text='Vergleich allgemeiner Siegesquoten der Spieler')\n",
    "\n",
    "fig.show()"
   ]
  },
  {
   "cell_type": "markdown",
   "metadata": {},
   "source": [
    "<br>"
   ]
  },
  {
   "cell_type": "markdown",
   "metadata": {},
   "source": [
    "## Gibt es analog Lieblingsgegner einzelner deutscher Spieler?"
   ]
  },
  {
   "cell_type": "code",
   "execution_count": 16,
   "metadata": {},
   "outputs": [
    {
     "data": {
      "text/html": [
       "<div>\n",
       "<style scoped>\n",
       "    .dataframe tbody tr th:only-of-type {\n",
       "        vertical-align: middle;\n",
       "    }\n",
       "\n",
       "    .dataframe tbody tr th {\n",
       "        vertical-align: top;\n",
       "    }\n",
       "\n",
       "    .dataframe thead th {\n",
       "        text-align: right;\n",
       "    }\n",
       "</style>\n",
       "<table border=\"1\" class=\"dataframe\">\n",
       "  <thead>\n",
       "    <tr style=\"text-align: right;\">\n",
       "      <th></th>\n",
       "      <th>index</th>\n",
       "      <th>Spieler_id_deutsch</th>\n",
       "      <th>Vorname_deutsch</th>\n",
       "      <th>Nachname_deutsch</th>\n",
       "      <th>Siege_deutscher_Spieler_allg</th>\n",
       "      <th>Niederlagen_deutscher_Spieler_allg</th>\n",
       "      <th>Siegesquote_deutscher_Spieler_allg</th>\n",
       "      <th>Spieler_id_Gegner</th>\n",
       "      <th>Vorname_Gegner</th>\n",
       "      <th>Nachname_Gegner</th>\n",
       "      <th>Siege_Gegner_allg</th>\n",
       "      <th>Niederlagen_Gegner_allg</th>\n",
       "      <th>Siegesquote_Gegner_allg</th>\n",
       "      <th>Siege_Match</th>\n",
       "      <th>Niederlagen_Match</th>\n",
       "      <th>Siegesquote_Match</th>\n",
       "    </tr>\n",
       "  </thead>\n",
       "  <tbody>\n",
       "    <tr>\n",
       "      <th>0</th>\n",
       "      <td>8833</td>\n",
       "      <td>101414</td>\n",
       "      <td>Boris</td>\n",
       "      <td>Becker</td>\n",
       "      <td>716</td>\n",
       "      <td>225</td>\n",
       "      <td>0.760893</td>\n",
       "      <td>101334</td>\n",
       "      <td>Alexander</td>\n",
       "      <td>Volkov</td>\n",
       "      <td>304</td>\n",
       "      <td>256</td>\n",
       "      <td>0.542857</td>\n",
       "      <td>10</td>\n",
       "      <td>0</td>\n",
       "      <td>1.0</td>\n",
       "    </tr>\n",
       "    <tr>\n",
       "      <th>1</th>\n",
       "      <td>8857</td>\n",
       "      <td>101414</td>\n",
       "      <td>Boris</td>\n",
       "      <td>Becker</td>\n",
       "      <td>716</td>\n",
       "      <td>225</td>\n",
       "      <td>0.760893</td>\n",
       "      <td>101611</td>\n",
       "      <td>Cedric</td>\n",
       "      <td>Pioline</td>\n",
       "      <td>390</td>\n",
       "      <td>318</td>\n",
       "      <td>0.550847</td>\n",
       "      <td>9</td>\n",
       "      <td>0</td>\n",
       "      <td>1.0</td>\n",
       "    </tr>\n",
       "    <tr>\n",
       "      <th>2</th>\n",
       "      <td>7947</td>\n",
       "      <td>100644</td>\n",
       "      <td>Alexander</td>\n",
       "      <td>Zverev</td>\n",
       "      <td>340</td>\n",
       "      <td>151</td>\n",
       "      <td>0.692464</td>\n",
       "      <td>105173</td>\n",
       "      <td>Adrian</td>\n",
       "      <td>Mannarino</td>\n",
       "      <td>245</td>\n",
       "      <td>289</td>\n",
       "      <td>0.458801</td>\n",
       "      <td>7</td>\n",
       "      <td>0</td>\n",
       "      <td>1.0</td>\n",
       "    </tr>\n",
       "    <tr>\n",
       "      <th>3</th>\n",
       "      <td>7933</td>\n",
       "      <td>100644</td>\n",
       "      <td>Alexander</td>\n",
       "      <td>Zverev</td>\n",
       "      <td>340</td>\n",
       "      <td>151</td>\n",
       "      <td>0.692464</td>\n",
       "      <td>104731</td>\n",
       "      <td>Kevin</td>\n",
       "      <td>Anderson</td>\n",
       "      <td>357</td>\n",
       "      <td>253</td>\n",
       "      <td>0.585246</td>\n",
       "      <td>6</td>\n",
       "      <td>0</td>\n",
       "      <td>1.0</td>\n",
       "    </tr>\n",
       "    <tr>\n",
       "      <th>4</th>\n",
       "      <td>8731</td>\n",
       "      <td>101414</td>\n",
       "      <td>Boris</td>\n",
       "      <td>Becker</td>\n",
       "      <td>716</td>\n",
       "      <td>225</td>\n",
       "      <td>0.760893</td>\n",
       "      <td>100284</td>\n",
       "      <td>Jimmy</td>\n",
       "      <td>Connors</td>\n",
       "      <td>1275</td>\n",
       "      <td>301</td>\n",
       "      <td>0.809010</td>\n",
       "      <td>6</td>\n",
       "      <td>0</td>\n",
       "      <td>1.0</td>\n",
       "    </tr>\n",
       "  </tbody>\n",
       "</table>\n",
       "</div>"
      ],
      "text/plain": [
       "   index  Spieler_id_deutsch Vorname_deutsch Nachname_deutsch  \\\n",
       "0   8833              101414           Boris           Becker   \n",
       "1   8857              101414           Boris           Becker   \n",
       "2   7947              100644       Alexander           Zverev   \n",
       "3   7933              100644       Alexander           Zverev   \n",
       "4   8731              101414           Boris           Becker   \n",
       "\n",
       "   Siege_deutscher_Spieler_allg  Niederlagen_deutscher_Spieler_allg  \\\n",
       "0                           716                                 225   \n",
       "1                           716                                 225   \n",
       "2                           340                                 151   \n",
       "3                           340                                 151   \n",
       "4                           716                                 225   \n",
       "\n",
       "   Siegesquote_deutscher_Spieler_allg  Spieler_id_Gegner Vorname_Gegner  \\\n",
       "0                            0.760893             101334      Alexander   \n",
       "1                            0.760893             101611         Cedric   \n",
       "2                            0.692464             105173         Adrian   \n",
       "3                            0.692464             104731          Kevin   \n",
       "4                            0.760893             100284          Jimmy   \n",
       "\n",
       "  Nachname_Gegner  Siege_Gegner_allg  Niederlagen_Gegner_allg  \\\n",
       "0          Volkov                304                      256   \n",
       "1         Pioline                390                      318   \n",
       "2       Mannarino                245                      289   \n",
       "3        Anderson                357                      253   \n",
       "4         Connors               1275                      301   \n",
       "\n",
       "   Siegesquote_Gegner_allg  Siege_Match  Niederlagen_Match  Siegesquote_Match  \n",
       "0                 0.542857           10                  0                1.0  \n",
       "1                 0.550847            9                  0                1.0  \n",
       "2                 0.458801            7                  0                1.0  \n",
       "3                 0.585246            6                  0                1.0  \n",
       "4                 0.809010            6                  0                1.0  "
      ]
     },
     "execution_count": 16,
     "metadata": {},
     "output_type": "execute_result"
    }
   ],
   "source": [
    "df_filtered2 = df_merge2.sort_values(by=[\"Siegesquote_Match\", \"Siege_Match\"], ascending=[False, False]).reset_index()\n",
    "\n",
    "#Top 5 \"Lieblingsgegner\"\n",
    "df_filtered2[0:5]"
   ]
  },
  {
   "cell_type": "markdown",
   "metadata": {},
   "source": [
    "<br>"
   ]
  },
  {
   "cell_type": "markdown",
   "metadata": {},
   "source": [
    "### Visualisierung der allgemeinen Siegesquoten der Spieler aus den Top 10 \"besten\" Matchkombinationen "
   ]
  },
  {
   "cell_type": "code",
   "execution_count": 17,
   "metadata": {},
   "outputs": [
    {
     "data": {
      "application/vnd.plotly.v1+json": {
       "config": {
        "plotlyServerURL": "https://plot.ly"
       },
       "data": [
        {
         "customdata": [
          [
           "Boris",
           "Becker",
           0.7608926673751328
          ],
          [
           "Boris",
           "Becker",
           0.7608926673751328
          ],
          [
           "Alexander",
           "Zverev",
           0.6924643584521385
          ],
          [
           "Alexander",
           "Zverev",
           0.6924643584521385
          ],
          [
           "Boris",
           "Becker",
           0.7608926673751328
          ],
          [
           "Boris",
           "Becker",
           0.7608926673751328
          ],
          [
           "Boris",
           "Becker",
           0.7608926673751328
          ],
          [
           "Boris",
           "Becker",
           0.7608926673751328
          ],
          [
           "Boris",
           "Becker",
           0.7608926673751328
          ],
          [
           "Michael",
           "Stich",
           0.6843971631205674
          ]
         ],
         "hovertemplate": "<i>Name</i>: %{customdata[0]} %{customdata[1]}<br><i>Siegesquote</i>: %{customdata[2]:.2f}<br><extra></extra>",
         "marker": {
          "color": "#b2e061"
         },
         "name": "Deutscher Spieler",
         "type": "bar",
         "x": [
          0,
          1,
          2,
          3,
          4,
          5,
          6,
          7,
          8,
          9
         ],
         "y": [
          0.7608926673751328,
          0.7608926673751328,
          0.6924643584521385,
          0.6924643584521385,
          0.7608926673751328,
          0.7608926673751328,
          0.7608926673751328,
          0.7608926673751328,
          0.7608926673751328,
          0.6843971631205674
         ]
        },
        {
         "customdata": [
          [
           "Alexander",
           "Volkov",
           0.5428571428571428
          ],
          [
           "Cedric",
           "Pioline",
           0.5508474576271186
          ],
          [
           "Adrian",
           "Mannarino",
           0.45880149812734083
          ],
          [
           "Kevin",
           "Anderson",
           0.5852459016393443
          ],
          [
           "Jimmy",
           "Connors",
           0.809010152284264
          ],
          [
           "Paul",
           "Annacone",
           0.5498281786941581
          ],
          [
           "Petr",
           "Korda",
           0.6219879518072289
          ],
          [
           "Javier",
           "Sanchez",
           0.4947049924357035
          ],
          [
           "David",
           "Wheaton",
           0.5484633569739953
          ],
          [
           "Wally",
           "Masur",
           0.5349593495934959
          ]
         ],
         "hovertemplate": "<i>Name</i>: %{customdata[0]} %{customdata[1]}<br><i>Siegesquote</i>: %{customdata[2]:.2f}<br><extra></extra>",
         "marker": {
          "color": "#fd7f6f"
         },
         "name": "Gegner",
         "type": "bar",
         "x": [
          0,
          1,
          2,
          3,
          4,
          5,
          6,
          7,
          8,
          9
         ],
         "y": [
          0.5428571428571428,
          0.5508474576271186,
          0.45880149812734083,
          0.5852459016393443,
          0.809010152284264,
          0.5498281786941581,
          0.6219879518072289,
          0.4947049924357035,
          0.5484633569739953,
          0.5349593495934959
         ]
        }
       ],
       "layout": {
        "barmode": "group",
        "template": {
         "data": {
          "bar": [
           {
            "error_x": {
             "color": "#2a3f5f"
            },
            "error_y": {
             "color": "#2a3f5f"
            },
            "marker": {
             "line": {
              "color": "#E5ECF6",
              "width": 0.5
             },
             "pattern": {
              "fillmode": "overlay",
              "size": 10,
              "solidity": 0.2
             }
            },
            "type": "bar"
           }
          ],
          "barpolar": [
           {
            "marker": {
             "line": {
              "color": "#E5ECF6",
              "width": 0.5
             },
             "pattern": {
              "fillmode": "overlay",
              "size": 10,
              "solidity": 0.2
             }
            },
            "type": "barpolar"
           }
          ],
          "carpet": [
           {
            "aaxis": {
             "endlinecolor": "#2a3f5f",
             "gridcolor": "white",
             "linecolor": "white",
             "minorgridcolor": "white",
             "startlinecolor": "#2a3f5f"
            },
            "baxis": {
             "endlinecolor": "#2a3f5f",
             "gridcolor": "white",
             "linecolor": "white",
             "minorgridcolor": "white",
             "startlinecolor": "#2a3f5f"
            },
            "type": "carpet"
           }
          ],
          "choropleth": [
           {
            "colorbar": {
             "outlinewidth": 0,
             "ticks": ""
            },
            "type": "choropleth"
           }
          ],
          "contour": [
           {
            "colorbar": {
             "outlinewidth": 0,
             "ticks": ""
            },
            "colorscale": [
             [
              0,
              "#0d0887"
             ],
             [
              0.1111111111111111,
              "#46039f"
             ],
             [
              0.2222222222222222,
              "#7201a8"
             ],
             [
              0.3333333333333333,
              "#9c179e"
             ],
             [
              0.4444444444444444,
              "#bd3786"
             ],
             [
              0.5555555555555556,
              "#d8576b"
             ],
             [
              0.6666666666666666,
              "#ed7953"
             ],
             [
              0.7777777777777778,
              "#fb9f3a"
             ],
             [
              0.8888888888888888,
              "#fdca26"
             ],
             [
              1,
              "#f0f921"
             ]
            ],
            "type": "contour"
           }
          ],
          "contourcarpet": [
           {
            "colorbar": {
             "outlinewidth": 0,
             "ticks": ""
            },
            "type": "contourcarpet"
           }
          ],
          "heatmap": [
           {
            "colorbar": {
             "outlinewidth": 0,
             "ticks": ""
            },
            "colorscale": [
             [
              0,
              "#0d0887"
             ],
             [
              0.1111111111111111,
              "#46039f"
             ],
             [
              0.2222222222222222,
              "#7201a8"
             ],
             [
              0.3333333333333333,
              "#9c179e"
             ],
             [
              0.4444444444444444,
              "#bd3786"
             ],
             [
              0.5555555555555556,
              "#d8576b"
             ],
             [
              0.6666666666666666,
              "#ed7953"
             ],
             [
              0.7777777777777778,
              "#fb9f3a"
             ],
             [
              0.8888888888888888,
              "#fdca26"
             ],
             [
              1,
              "#f0f921"
             ]
            ],
            "type": "heatmap"
           }
          ],
          "heatmapgl": [
           {
            "colorbar": {
             "outlinewidth": 0,
             "ticks": ""
            },
            "colorscale": [
             [
              0,
              "#0d0887"
             ],
             [
              0.1111111111111111,
              "#46039f"
             ],
             [
              0.2222222222222222,
              "#7201a8"
             ],
             [
              0.3333333333333333,
              "#9c179e"
             ],
             [
              0.4444444444444444,
              "#bd3786"
             ],
             [
              0.5555555555555556,
              "#d8576b"
             ],
             [
              0.6666666666666666,
              "#ed7953"
             ],
             [
              0.7777777777777778,
              "#fb9f3a"
             ],
             [
              0.8888888888888888,
              "#fdca26"
             ],
             [
              1,
              "#f0f921"
             ]
            ],
            "type": "heatmapgl"
           }
          ],
          "histogram": [
           {
            "marker": {
             "pattern": {
              "fillmode": "overlay",
              "size": 10,
              "solidity": 0.2
             }
            },
            "type": "histogram"
           }
          ],
          "histogram2d": [
           {
            "colorbar": {
             "outlinewidth": 0,
             "ticks": ""
            },
            "colorscale": [
             [
              0,
              "#0d0887"
             ],
             [
              0.1111111111111111,
              "#46039f"
             ],
             [
              0.2222222222222222,
              "#7201a8"
             ],
             [
              0.3333333333333333,
              "#9c179e"
             ],
             [
              0.4444444444444444,
              "#bd3786"
             ],
             [
              0.5555555555555556,
              "#d8576b"
             ],
             [
              0.6666666666666666,
              "#ed7953"
             ],
             [
              0.7777777777777778,
              "#fb9f3a"
             ],
             [
              0.8888888888888888,
              "#fdca26"
             ],
             [
              1,
              "#f0f921"
             ]
            ],
            "type": "histogram2d"
           }
          ],
          "histogram2dcontour": [
           {
            "colorbar": {
             "outlinewidth": 0,
             "ticks": ""
            },
            "colorscale": [
             [
              0,
              "#0d0887"
             ],
             [
              0.1111111111111111,
              "#46039f"
             ],
             [
              0.2222222222222222,
              "#7201a8"
             ],
             [
              0.3333333333333333,
              "#9c179e"
             ],
             [
              0.4444444444444444,
              "#bd3786"
             ],
             [
              0.5555555555555556,
              "#d8576b"
             ],
             [
              0.6666666666666666,
              "#ed7953"
             ],
             [
              0.7777777777777778,
              "#fb9f3a"
             ],
             [
              0.8888888888888888,
              "#fdca26"
             ],
             [
              1,
              "#f0f921"
             ]
            ],
            "type": "histogram2dcontour"
           }
          ],
          "mesh3d": [
           {
            "colorbar": {
             "outlinewidth": 0,
             "ticks": ""
            },
            "type": "mesh3d"
           }
          ],
          "parcoords": [
           {
            "line": {
             "colorbar": {
              "outlinewidth": 0,
              "ticks": ""
             }
            },
            "type": "parcoords"
           }
          ],
          "pie": [
           {
            "automargin": true,
            "type": "pie"
           }
          ],
          "scatter": [
           {
            "fillpattern": {
             "fillmode": "overlay",
             "size": 10,
             "solidity": 0.2
            },
            "type": "scatter"
           }
          ],
          "scatter3d": [
           {
            "line": {
             "colorbar": {
              "outlinewidth": 0,
              "ticks": ""
             }
            },
            "marker": {
             "colorbar": {
              "outlinewidth": 0,
              "ticks": ""
             }
            },
            "type": "scatter3d"
           }
          ],
          "scattercarpet": [
           {
            "marker": {
             "colorbar": {
              "outlinewidth": 0,
              "ticks": ""
             }
            },
            "type": "scattercarpet"
           }
          ],
          "scattergeo": [
           {
            "marker": {
             "colorbar": {
              "outlinewidth": 0,
              "ticks": ""
             }
            },
            "type": "scattergeo"
           }
          ],
          "scattergl": [
           {
            "marker": {
             "colorbar": {
              "outlinewidth": 0,
              "ticks": ""
             }
            },
            "type": "scattergl"
           }
          ],
          "scattermapbox": [
           {
            "marker": {
             "colorbar": {
              "outlinewidth": 0,
              "ticks": ""
             }
            },
            "type": "scattermapbox"
           }
          ],
          "scatterpolar": [
           {
            "marker": {
             "colorbar": {
              "outlinewidth": 0,
              "ticks": ""
             }
            },
            "type": "scatterpolar"
           }
          ],
          "scatterpolargl": [
           {
            "marker": {
             "colorbar": {
              "outlinewidth": 0,
              "ticks": ""
             }
            },
            "type": "scatterpolargl"
           }
          ],
          "scatterternary": [
           {
            "marker": {
             "colorbar": {
              "outlinewidth": 0,
              "ticks": ""
             }
            },
            "type": "scatterternary"
           }
          ],
          "surface": [
           {
            "colorbar": {
             "outlinewidth": 0,
             "ticks": ""
            },
            "colorscale": [
             [
              0,
              "#0d0887"
             ],
             [
              0.1111111111111111,
              "#46039f"
             ],
             [
              0.2222222222222222,
              "#7201a8"
             ],
             [
              0.3333333333333333,
              "#9c179e"
             ],
             [
              0.4444444444444444,
              "#bd3786"
             ],
             [
              0.5555555555555556,
              "#d8576b"
             ],
             [
              0.6666666666666666,
              "#ed7953"
             ],
             [
              0.7777777777777778,
              "#fb9f3a"
             ],
             [
              0.8888888888888888,
              "#fdca26"
             ],
             [
              1,
              "#f0f921"
             ]
            ],
            "type": "surface"
           }
          ],
          "table": [
           {
            "cells": {
             "fill": {
              "color": "#EBF0F8"
             },
             "line": {
              "color": "white"
             }
            },
            "header": {
             "fill": {
              "color": "#C8D4E3"
             },
             "line": {
              "color": "white"
             }
            },
            "type": "table"
           }
          ]
         },
         "layout": {
          "annotationdefaults": {
           "arrowcolor": "#2a3f5f",
           "arrowhead": 0,
           "arrowwidth": 1
          },
          "autotypenumbers": "strict",
          "coloraxis": {
           "colorbar": {
            "outlinewidth": 0,
            "ticks": ""
           }
          },
          "colorscale": {
           "diverging": [
            [
             0,
             "#8e0152"
            ],
            [
             0.1,
             "#c51b7d"
            ],
            [
             0.2,
             "#de77ae"
            ],
            [
             0.3,
             "#f1b6da"
            ],
            [
             0.4,
             "#fde0ef"
            ],
            [
             0.5,
             "#f7f7f7"
            ],
            [
             0.6,
             "#e6f5d0"
            ],
            [
             0.7,
             "#b8e186"
            ],
            [
             0.8,
             "#7fbc41"
            ],
            [
             0.9,
             "#4d9221"
            ],
            [
             1,
             "#276419"
            ]
           ],
           "sequential": [
            [
             0,
             "#0d0887"
            ],
            [
             0.1111111111111111,
             "#46039f"
            ],
            [
             0.2222222222222222,
             "#7201a8"
            ],
            [
             0.3333333333333333,
             "#9c179e"
            ],
            [
             0.4444444444444444,
             "#bd3786"
            ],
            [
             0.5555555555555556,
             "#d8576b"
            ],
            [
             0.6666666666666666,
             "#ed7953"
            ],
            [
             0.7777777777777778,
             "#fb9f3a"
            ],
            [
             0.8888888888888888,
             "#fdca26"
            ],
            [
             1,
             "#f0f921"
            ]
           ],
           "sequentialminus": [
            [
             0,
             "#0d0887"
            ],
            [
             0.1111111111111111,
             "#46039f"
            ],
            [
             0.2222222222222222,
             "#7201a8"
            ],
            [
             0.3333333333333333,
             "#9c179e"
            ],
            [
             0.4444444444444444,
             "#bd3786"
            ],
            [
             0.5555555555555556,
             "#d8576b"
            ],
            [
             0.6666666666666666,
             "#ed7953"
            ],
            [
             0.7777777777777778,
             "#fb9f3a"
            ],
            [
             0.8888888888888888,
             "#fdca26"
            ],
            [
             1,
             "#f0f921"
            ]
           ]
          },
          "colorway": [
           "#636efa",
           "#EF553B",
           "#00cc96",
           "#ab63fa",
           "#FFA15A",
           "#19d3f3",
           "#FF6692",
           "#B6E880",
           "#FF97FF",
           "#FECB52"
          ],
          "font": {
           "color": "#2a3f5f"
          },
          "geo": {
           "bgcolor": "white",
           "lakecolor": "white",
           "landcolor": "#E5ECF6",
           "showlakes": true,
           "showland": true,
           "subunitcolor": "white"
          },
          "hoverlabel": {
           "align": "left"
          },
          "hovermode": "closest",
          "mapbox": {
           "style": "light"
          },
          "paper_bgcolor": "white",
          "plot_bgcolor": "#E5ECF6",
          "polar": {
           "angularaxis": {
            "gridcolor": "white",
            "linecolor": "white",
            "ticks": ""
           },
           "bgcolor": "#E5ECF6",
           "radialaxis": {
            "gridcolor": "white",
            "linecolor": "white",
            "ticks": ""
           }
          },
          "scene": {
           "xaxis": {
            "backgroundcolor": "#E5ECF6",
            "gridcolor": "white",
            "gridwidth": 2,
            "linecolor": "white",
            "showbackground": true,
            "ticks": "",
            "zerolinecolor": "white"
           },
           "yaxis": {
            "backgroundcolor": "#E5ECF6",
            "gridcolor": "white",
            "gridwidth": 2,
            "linecolor": "white",
            "showbackground": true,
            "ticks": "",
            "zerolinecolor": "white"
           },
           "zaxis": {
            "backgroundcolor": "#E5ECF6",
            "gridcolor": "white",
            "gridwidth": 2,
            "linecolor": "white",
            "showbackground": true,
            "ticks": "",
            "zerolinecolor": "white"
           }
          },
          "shapedefaults": {
           "line": {
            "color": "#2a3f5f"
           }
          },
          "ternary": {
           "aaxis": {
            "gridcolor": "white",
            "linecolor": "white",
            "ticks": ""
           },
           "baxis": {
            "gridcolor": "white",
            "linecolor": "white",
            "ticks": ""
           },
           "bgcolor": "#E5ECF6",
           "caxis": {
            "gridcolor": "white",
            "linecolor": "white",
            "ticks": ""
           }
          },
          "title": {
           "x": 0.05
          },
          "xaxis": {
           "automargin": true,
           "gridcolor": "white",
           "linecolor": "white",
           "ticks": "",
           "title": {
            "standoff": 15
           },
           "zerolinecolor": "white",
           "zerolinewidth": 2
          },
          "yaxis": {
           "automargin": true,
           "gridcolor": "white",
           "linecolor": "white",
           "ticks": "",
           "title": {
            "standoff": 15
           },
           "zerolinecolor": "white",
           "zerolinewidth": 2
          }
         }
        },
        "title": {
         "text": "Vergleich allgemeiner Siegesquoten der Spieler"
        }
       }
      }
     },
     "metadata": {},
     "output_type": "display_data"
    }
   ],
   "source": [
    "fig = go.Figure()\n",
    "\n",
    "fig.add_trace(go.Bar(\n",
    "    x=df_filtered2[0:10].index,\n",
    "    y=df_filtered2[0:10][\"Siegesquote_deutscher_Spieler_allg\"],\n",
    "    name='Deutscher Spieler',\n",
    "    customdata=df_filtered2[0:10][[\"Vorname_deutsch\", \"Nachname_deutsch\", \"Siegesquote_deutscher_Spieler_allg\"]],\n",
    "    hovertemplate=\n",
    "    '<i>Name</i>: %{customdata[0]} %{customdata[1]}<br>'+\n",
    "    '<i>Siegesquote</i>: %{customdata[2]:.2f}<br>'+\n",
    "    '<extra></extra>',\n",
    "    marker_color='#b2e061'  # Farbe für den deutschen Spieler\n",
    "))\n",
    "\n",
    "fig.add_trace(go.Bar(\n",
    "    x=df_filtered2[0:10].index,\n",
    "    y=df_filtered2[0:10][\"Siegesquote_Gegner_allg\"],\n",
    "    name='Gegner',\n",
    "    customdata=df_filtered2[0:10][[\"Vorname_Gegner\", \"Nachname_Gegner\", \"Siegesquote_Gegner_allg\"]],\n",
    "    hovertemplate=\n",
    "    '<i>Name</i>: %{customdata[0]} %{customdata[1]}<br>'+\n",
    "    '<i>Siegesquote</i>: %{customdata[2]:.2f}<br>'+\n",
    "    '<extra></extra>',\n",
    "    marker_color='#fd7f6f'  # Farbe für den Gegner\n",
    "))\n",
    "\n",
    "fig.update_layout(barmode='group', title_text='Vergleich allgemeiner Siegesquoten der Spieler')\n",
    "\n",
    "fig.show()"
   ]
  },
  {
   "cell_type": "markdown",
   "metadata": {},
   "source": [
    "Hier ist ein ähnliches Schema zu erkennen, wie bei den Top 10 Angstgegnern.Bei 9/10 Matchkombinationen in denen der deutsche Spieler eine deutlich größere Anzahl an Siegen als an Niederlagen verzeichnen kann, ist auch die allgemeine Siegesquote des deutschen Spielers höher als die des Gegners. Lediglich bei der Kombination aus Becker gegen Connors hat Becker eine leicht geringere allgemeine Siegesquote, wobei Becker insgesamt 6 Siege und keine Niederlagen gegen Connors verzeichnen kann. Nun führen wir zur Überprüfung erneut eine lineare Regressiond durch..."
   ]
  },
  {
   "cell_type": "markdown",
   "metadata": {},
   "source": [
    "<br>"
   ]
  },
  {
   "cell_type": "markdown",
   "metadata": {},
   "source": [
    "### Lineare Regression zur Überprüfung was den größten Einfluss auf die Anzahl der Siege eines deutschen Spielers (gegen einen bestimmten Konkurrenten) hat"
   ]
  },
  {
   "cell_type": "code",
   "execution_count": 18,
   "metadata": {},
   "outputs": [
    {
     "name": "stdout",
     "output_type": "stream",
     "text": [
      "Siege_deutscher_Spieler_allg: 1.0356971678587171e-05\n",
      "Siege_Gegner_allg: 6.038456307894927e-05\n",
      "Niederlagen_deutscher_Spieler_allg: 0.00019827154639354984\n",
      "Niederlagen_Gegner_allg: -0.00031543578396690656\n",
      "Siegesquote_deutscher_Spieler_allg: 1.0075383938949136\n",
      "Siegesquote_Gegner_allg: -1.0716980626195445\n"
     ]
    }
   ],
   "source": [
    "#Features\n",
    "X = df_merge2[['Siege_deutscher_Spieler_allg', 'Siege_Gegner_allg', \"Niederlagen_deutscher_Spieler_allg\", \"Niederlagen_Gegner_allg\", \"Siegesquote_deutscher_Spieler_allg\", \"Siegesquote_Gegner_allg\" ]]\n",
    "#Label\n",
    "y = df_merge2['Siegesquote_Match']\n",
    "model = LinearRegression()\n",
    "model.fit(X, y)\n",
    "\n",
    "coefficients = model.coef_\n",
    "\n",
    "for feature, coefficient in zip(X.columns, coefficients):\n",
    "    print(f\"{feature}: {coefficient}\")"
   ]
  },
  {
   "cell_type": "markdown",
   "metadata": {},
   "source": [
    "Auf Grundlage der Koeffizienten kann man sagen, dass die allgemeine Siegesquote des deutschen Spielers den größten positiven und die des Gegners den größten negativen Einfluss auf die Siegesquote für den deutschen Spieler in der jeweiligen Matchkombination hat.\n",
    "\n",
    "Daraus kann man vorerst schließen, dass z.B. die schlechte Bilanz von 0-7 von Kohlschreiber gegen Anreev, trotz der höheren allgemeinen Siegesquote von Kohlschreiber, ein Ausreißer zu sein scheint.\n",
    "\n",
    "Auch die gute Bilanz von 6-0 von Becker gegen Connors scheint trotz der niedrigeren allgemeinen Siegesquote von Becker ein Ausreißer zu sein.\n",
    "\n",
    "Es könnte sein, dass Kohlschreiber und Becker häufiger sehr starke Gegner bekommen hat und daher seine Siegesquote geringer als die von Andreev ist."
   ]
  },
  {
   "cell_type": "markdown",
   "metadata": {},
   "source": [
    "<br>"
   ]
  }
 ],
 "metadata": {
  "kernelspec": {
   "display_name": "Python 3",
   "language": "python",
   "name": "python3"
  },
  "language_info": {
   "codemirror_mode": {
    "name": "ipython",
    "version": 3
   },
   "file_extension": ".py",
   "mimetype": "text/x-python",
   "name": "python",
   "nbconvert_exporter": "python",
   "pygments_lexer": "ipython3",
   "version": "3.10.11"
  }
 },
 "nbformat": 4,
 "nbformat_minor": 2
}
