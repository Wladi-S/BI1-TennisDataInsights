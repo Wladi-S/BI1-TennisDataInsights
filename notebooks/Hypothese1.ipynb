{
 "cells": [
  {
   "cell_type": "markdown",
   "metadata": {},
   "source": [
    "# Gibt es „Angstgegner“-Nationen, gegen die die deutschen Spieler besonders schlecht abschneiden? Lässt sich das einfach durch die generelle Spielstärke der Spieler dieser Nationen erklären, oder gibt es Nationen, gegen die gerade deutsche Spieler schlecht abschneiden? Gibt es analog „Lieblingsgegner“-Nationen?"
   ]
  },
  {
   "cell_type": "code",
   "execution_count": 2,
   "metadata": {},
   "outputs": [],
   "source": [
    "import pandas as pd\n",
    "import plotly.express as px"
   ]
  },
  {
   "cell_type": "code",
   "execution_count": 3,
   "metadata": {},
   "outputs": [],
   "source": [
    "matches = pd.read_csv('../data/raw/atp_matches_till_2022.csv')\n",
    "players = pd.read_csv('../data/raw/atp_players_till_2022.csv')"
   ]
  },
  {
   "cell_type": "code",
   "execution_count": 4,
   "metadata": {},
   "outputs": [],
   "source": [
    "german_ioc_code = \"GER\"\n",
    "german_winner_matches = matches[matches[\"winner_ioc\"] == german_ioc_code]\n",
    "german_loser_matches = matches[matches[\"loser_ioc\"] == german_ioc_code]\n",
    "\n",
    "siege = german_winner_matches[\"loser_ioc\"].value_counts()\n",
    "niederlagen = german_loser_matches[\"winner_ioc\"].value_counts()\n",
    "\n",
    "performance = pd.DataFrame({\"Siege\": siege, \"Niederlagen\": niederlagen}).fillna(0)\n",
    "\n",
    "performance[\"Total\"] = performance.sum(axis=1)\n",
    "performance[\"Win_Rate\"] = performance[\"Siege\"] / performance[\"Total\"]\n",
    "performance[\"Loss_Rate\"] = performance[\"Niederlagen\"] / performance[\"Total\"]\n",
    "performance = performance[performance[\"Total\"] >= 10].sort_values(by=\"Win_Rate\", ascending=False)\n",
    "\n",
    "top = 10\n",
    "top_favoriten = performance.head(top)\n",
    "top_rivalen = performance.tail(top)"
   ]
  },
  {
   "cell_type": "code",
   "execution_count": 7,
   "metadata": {},
   "outputs": [
    {
     "name": "stdout",
     "output_type": "stream",
     "text": [
      "     Siege  Niederlagen  Total  Win_Rate  Loss_Rate\n",
      "UNK   16.0          1.0   17.0  0.941176   0.058824\n",
      "VEN   20.0          3.0   23.0  0.869565   0.130435\n",
      "BOL   12.0          3.0   15.0  0.800000   0.200000\n",
      "TPE   24.0          7.0   31.0  0.774194   0.225806\n",
      "PHI   13.0          4.0   17.0  0.764706   0.235294\n",
      "CHN   10.0          4.0   14.0  0.714286   0.285714\n",
      "MDA    7.0          3.0   10.0  0.700000   0.300000\n",
      "THA   23.0         10.0   33.0  0.696970   0.303030\n",
      "CRC    8.0          4.0   12.0  0.666667   0.333333\n",
      "TUN   12.0          6.0   18.0  0.666667   0.333333\n",
      "\n",
      "     Siege  Niederlagen  Total  Win_Rate  Loss_Rate\n",
      "CYP   12.0         36.0   48.0  0.250000   0.750000\n",
      "UZB   11.0         31.0   42.0  0.261905   0.738095\n",
      "LTU    7.0         15.0   22.0  0.318182   0.681818\n",
      "MAR   25.0         43.0   68.0  0.367647   0.632353\n",
      "ZIM   18.0         30.0   48.0  0.375000   0.625000\n",
      "PAR   17.0         26.0   43.0  0.395349   0.604651\n",
      "BUL   14.0         21.0   35.0  0.400000   0.600000\n",
      "SUI  169.0        245.0  414.0  0.408213   0.591787\n",
      "CHI   87.0        122.0  209.0  0.416268   0.583732\n",
      "SRB   95.0        133.0  228.0  0.416667   0.583333\n"
     ]
    }
   ],
   "source": [
    "print(top_favoriten)\n",
    "print()\n",
    "print(top_rivalen.sort_values(by=\"Loss_Rate\",ascending=False))"
   ]
  },
  {
   "cell_type": "code",
   "execution_count": null,
   "metadata": {},
   "outputs": [],
   "source": [
    "# plot win_loss_rate, sorted by win_rate using plotly.express\n",
    "fig = px.bar(performance.sort_values('Win_Rate', ascending=False), \n",
    "             y=['Win_Rate', 'Loss_Rate'], \n",
    "             title='Gewinn- und Verlustrate der deutschen Tennisspieler gegen andere Nationen',\n",
    "             hover_data=['Siege', 'Niederlagen'],\n",
    "             color_discrete_sequence=[\"#b2e061\", \"#fd7f6f\"])\n",
    "\n",
    "\n",
    "fig.update_yaxes(tickformat=\".2%\")\n",
    "fig.update_yaxes(title='Gewinnrate')\n",
    "fig.update_xaxes(title='Gegner Nationen')\n",
    "fig.show()\n"
   ]
  }
 ],
 "metadata": {
  "kernelspec": {
   "display_name": "bv",
   "language": "python",
   "name": "python3"
  },
  "language_info": {
   "codemirror_mode": {
    "name": "ipython",
    "version": 3
   },
   "file_extension": ".py",
   "mimetype": "text/x-python",
   "name": "python",
   "nbconvert_exporter": "python",
   "pygments_lexer": "ipython3",
   "version": "3.10.11"
  }
 },
 "nbformat": 4,
 "nbformat_minor": 2
}
