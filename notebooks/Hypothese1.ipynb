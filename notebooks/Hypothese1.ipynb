{
 "cells": [
  {
   "cell_type": "markdown",
   "metadata": {},
   "source": [
    "# Gibt es „Angstgegner“-Nationen, gegen die die deutschen Spieler besonders schlecht abschneiden? Lässt sich das einfach durch die generelle Spielstärke der Spieler dieser Nationen erklären, oder gibt es Nationen, gegen die gerade deutsche Spieler schlecht abschneiden? Gibt es analog „Lieblingsgegner“-Nationen?"
   ]
  },
  {
   "cell_type": "code",
   "execution_count": 1,
   "metadata": {},
   "outputs": [],
   "source": [
    "import json\n",
    "import pandas as pd\n",
    "import plotly.express as px"
   ]
  },
  {
   "cell_type": "code",
   "execution_count": 2,
   "metadata": {},
   "outputs": [],
   "source": [
    "matches = pd.read_csv('../data/raw/atp_matches_till_2022.csv')\n",
    "players = pd.read_csv('../data/raw/atp_players_till_2022.csv')"
   ]
  },
  {
   "cell_type": "code",
   "execution_count": 3,
   "metadata": {},
   "outputs": [],
   "source": [
    "with open('../data/processed/länder.json', 'r') as f:\n",
    "    data = json.load(f)\n",
    "\n",
    "codes = list(data.keys())\n",
    "names = list(data.values())\n",
    "\n",
    "länder = pd.DataFrame({'Code': codes, 'Name': names})"
   ]
  },
  {
   "cell_type": "code",
   "execution_count": 35,
   "metadata": {},
   "outputs": [],
   "source": [
    "german_ioc_code = \"GER\"\n",
    "german_winner_matches = matches[matches[\"winner_ioc\"] == german_ioc_code]\n",
    "german_loser_matches = matches[matches[\"loser_ioc\"] == german_ioc_code]\n",
    "\n",
    "siege = german_winner_matches[\"loser_ioc\"].value_counts()\n",
    "niederlagen = german_loser_matches[\"winner_ioc\"].value_counts()\n",
    "\n",
    "performance = pd.DataFrame({\"Siege\": siege, \"Niederlagen\": niederlagen}).fillna(0)\n",
    "\n",
    "performance[\"Total\"] = performance.sum(axis=1)\n",
    "performance[\"Win_Rate\"] = performance[\"Siege\"] / performance[\"Total\"]\n",
    "performance[\"Loss_Rate\"] = performance[\"Niederlagen\"] / performance[\"Total\"]\n",
    "\n",
    "Grenze = 50\n",
    "\n",
    "performance = performance[performance[\"Total\"] >= Grenze].sort_values(by=\"Win_Rate\", ascending=False)\n",
    "performance = pd.concat([performance, länder.set_index('Code')], axis=1, join='inner')\n",
    "\n",
    "top = 10\n",
    "top_favoriten = performance.head(top)\n",
    "top_rivalen = performance.tail(top)"
   ]
  },
  {
   "cell_type": "code",
   "execution_count": 36,
   "metadata": {},
   "outputs": [
    {
     "data": {
      "text/html": [
       "<div>\n",
       "<style scoped>\n",
       "    .dataframe tbody tr th:only-of-type {\n",
       "        vertical-align: middle;\n",
       "    }\n",
       "\n",
       "    .dataframe tbody tr th {\n",
       "        vertical-align: top;\n",
       "    }\n",
       "\n",
       "    .dataframe thead th {\n",
       "        text-align: right;\n",
       "    }\n",
       "</style>\n",
       "<table border=\"1\" class=\"dataframe\">\n",
       "  <thead>\n",
       "    <tr style=\"text-align: right;\">\n",
       "      <th></th>\n",
       "      <th>Siege</th>\n",
       "      <th>Niederlagen</th>\n",
       "      <th>Total</th>\n",
       "      <th>Win_Rate</th>\n",
       "      <th>Loss_Rate</th>\n",
       "      <th>Name</th>\n",
       "    </tr>\n",
       "  </thead>\n",
       "  <tbody>\n",
       "    <tr>\n",
       "      <th>MAR</th>\n",
       "      <td>25.0</td>\n",
       "      <td>43.0</td>\n",
       "      <td>68.0</td>\n",
       "      <td>0.367647</td>\n",
       "      <td>0.632353</td>\n",
       "      <td>Marokko</td>\n",
       "    </tr>\n",
       "    <tr>\n",
       "      <th>SUI</th>\n",
       "      <td>169.0</td>\n",
       "      <td>245.0</td>\n",
       "      <td>414.0</td>\n",
       "      <td>0.408213</td>\n",
       "      <td>0.591787</td>\n",
       "      <td>Schweiz</td>\n",
       "    </tr>\n",
       "    <tr>\n",
       "      <th>CHI</th>\n",
       "      <td>87.0</td>\n",
       "      <td>122.0</td>\n",
       "      <td>209.0</td>\n",
       "      <td>0.416268</td>\n",
       "      <td>0.583732</td>\n",
       "      <td>Chile</td>\n",
       "    </tr>\n",
       "    <tr>\n",
       "      <th>SRB</th>\n",
       "      <td>95.0</td>\n",
       "      <td>133.0</td>\n",
       "      <td>228.0</td>\n",
       "      <td>0.416667</td>\n",
       "      <td>0.583333</td>\n",
       "      <td>Serbien</td>\n",
       "    </tr>\n",
       "    <tr>\n",
       "      <th>PER</th>\n",
       "      <td>21.0</td>\n",
       "      <td>29.0</td>\n",
       "      <td>50.0</td>\n",
       "      <td>0.420000</td>\n",
       "      <td>0.580000</td>\n",
       "      <td>Peru</td>\n",
       "    </tr>\n",
       "    <tr>\n",
       "      <th>ESP</th>\n",
       "      <td>691.0</td>\n",
       "      <td>945.0</td>\n",
       "      <td>1636.0</td>\n",
       "      <td>0.422372</td>\n",
       "      <td>0.577628</td>\n",
       "      <td>Spanien</td>\n",
       "    </tr>\n",
       "    <tr>\n",
       "      <th>ARG</th>\n",
       "      <td>358.0</td>\n",
       "      <td>478.0</td>\n",
       "      <td>836.0</td>\n",
       "      <td>0.428230</td>\n",
       "      <td>0.571770</td>\n",
       "      <td>Argentinien</td>\n",
       "    </tr>\n",
       "    <tr>\n",
       "      <th>POL</th>\n",
       "      <td>40.0</td>\n",
       "      <td>53.0</td>\n",
       "      <td>93.0</td>\n",
       "      <td>0.430108</td>\n",
       "      <td>0.569892</td>\n",
       "      <td>Polen</td>\n",
       "    </tr>\n",
       "    <tr>\n",
       "      <th>CRO</th>\n",
       "      <td>189.0</td>\n",
       "      <td>248.0</td>\n",
       "      <td>437.0</td>\n",
       "      <td>0.432494</td>\n",
       "      <td>0.567506</td>\n",
       "      <td>Kroatien</td>\n",
       "    </tr>\n",
       "    <tr>\n",
       "      <th>RUS</th>\n",
       "      <td>307.0</td>\n",
       "      <td>392.0</td>\n",
       "      <td>699.0</td>\n",
       "      <td>0.439199</td>\n",
       "      <td>0.560801</td>\n",
       "      <td>Russland</td>\n",
       "    </tr>\n",
       "  </tbody>\n",
       "</table>\n",
       "</div>"
      ],
      "text/plain": [
       "     Siege  Niederlagen   Total  Win_Rate  Loss_Rate         Name\n",
       "MAR   25.0         43.0    68.0  0.367647   0.632353      Marokko\n",
       "SUI  169.0        245.0   414.0  0.408213   0.591787      Schweiz\n",
       "CHI   87.0        122.0   209.0  0.416268   0.583732        Chile\n",
       "SRB   95.0        133.0   228.0  0.416667   0.583333      Serbien\n",
       "PER   21.0         29.0    50.0  0.420000   0.580000         Peru\n",
       "ESP  691.0        945.0  1636.0  0.422372   0.577628      Spanien\n",
       "ARG  358.0        478.0   836.0  0.428230   0.571770  Argentinien\n",
       "POL   40.0         53.0    93.0  0.430108   0.569892        Polen\n",
       "CRO  189.0        248.0   437.0  0.432494   0.567506     Kroatien\n",
       "RUS  307.0        392.0   699.0  0.439199   0.560801     Russland"
      ]
     },
     "execution_count": 36,
     "metadata": {},
     "output_type": "execute_result"
    }
   ],
   "source": [
    "performance.sort_values(by=\"Win_Rate\", ascending=True).head(10)"
   ]
  },
  {
   "cell_type": "code",
   "execution_count": 37,
   "metadata": {},
   "outputs": [
    {
     "name": "stdout",
     "output_type": "stream",
     "text": [
      "     Siege  Niederlagen  Total  Win_Rate  Loss_Rate          Name\n",
      "DEN   55.0         33.0   88.0  0.625000   0.375000      Dänemark\n",
      "MEX   41.0         25.0   66.0  0.621212   0.378788        Mexiko\n",
      "POR   31.0         19.0   50.0  0.620000   0.380000      Portugal\n",
      "BLR   32.0         21.0   53.0  0.603774   0.396226  Weißrussland\n",
      "KAZ   35.0         25.0   60.0  0.583333   0.416667    Kasachstan\n",
      "IND   60.0         43.0  103.0  0.582524   0.417476        Indien\n",
      "COL   44.0         32.0   76.0  0.578947   0.421053     Kolumbien\n",
      "RSA  215.0        163.0  378.0  0.568783   0.431217     Südafrika\n",
      "JPN   79.0         60.0  139.0  0.568345   0.431655         Japan\n",
      "ITA  343.0        292.0  635.0  0.540157   0.459843       Italien\n",
      "\n",
      "     Siege  Niederlagen   Total  Win_Rate  Loss_Rate         Name\n",
      "MAR   25.0         43.0    68.0  0.367647   0.632353      Marokko\n",
      "SUI  169.0        245.0   414.0  0.408213   0.591787      Schweiz\n",
      "CHI   87.0        122.0   209.0  0.416268   0.583732        Chile\n",
      "SRB   95.0        133.0   228.0  0.416667   0.583333      Serbien\n",
      "PER   21.0         29.0    50.0  0.420000   0.580000         Peru\n",
      "ESP  691.0        945.0  1636.0  0.422372   0.577628      Spanien\n",
      "ARG  358.0        478.0   836.0  0.428230   0.571770  Argentinien\n",
      "POL   40.0         53.0    93.0  0.430108   0.569892        Polen\n",
      "CRO  189.0        248.0   437.0  0.432494   0.567506     Kroatien\n",
      "RUS  307.0        392.0   699.0  0.439199   0.560801     Russland\n"
     ]
    }
   ],
   "source": [
    "print(top_favoriten)\n",
    "print()\n",
    "print(top_rivalen.sort_values(by=\"Loss_Rate\",ascending=False))"
   ]
  },
  {
   "cell_type": "code",
   "execution_count": 28,
   "metadata": {},
   "outputs": [
    {
     "data": {
      "application/vnd.plotly.v1+json": {
       "config": {
        "plotlyServerURL": "https://plot.ly"
       },
       "data": [
        {
         "alignmentgroup": "True",
         "customdata": [
          [
           16,
           1
          ],
          [
           20,
           3
          ],
          [
           12,
           3
          ],
          [
           24,
           7
          ],
          [
           13,
           4
          ],
          [
           10,
           4
          ],
          [
           7,
           3
          ],
          [
           23,
           10
          ],
          [
           8,
           4
          ],
          [
           12,
           6
          ],
          [
           8,
           4
          ],
          [
           24,
           12
          ],
          [
           9,
           5
          ],
          [
           55,
           33
          ],
          [
           20,
           12
          ],
          [
           10,
           6
          ],
          [
           41,
           25
          ],
          [
           31,
           19
          ],
          [
           13,
           8
          ],
          [
           32,
           21
          ],
          [
           6,
           4
          ],
          [
           35,
           25
          ],
          [
           60,
           43
          ],
          [
           44,
           32
          ],
          [
           215,
           163
          ],
          [
           79,
           60
          ],
          [
           27,
           21
          ],
          [
           18,
           14
          ],
          [
           343,
           292
          ],
          [
           147,
           130
          ],
          [
           65,
           58
          ],
          [
           101,
           91
          ],
          [
           143,
           131
          ],
          [
           201,
           186
          ],
          [
           23,
           23
          ],
          [
           717,
           717
          ],
          [
           13,
           13
          ],
          [
           60,
           61
          ],
          [
           532,
           543
          ],
          [
           780,
           816
          ],
          [
           12,
           13
          ],
          [
           12,
           13
          ],
          [
           93,
           101
          ],
          [
           9,
           10
          ],
          [
           107,
           119
          ],
          [
           223,
           249
          ],
          [
           1256,
           1464
          ],
          [
           185,
           222
          ],
          [
           5,
           6
          ],
          [
           474,
           570
          ],
          [
           33,
           40
          ],
          [
           46,
           56
          ],
          [
           45,
           55
          ],
          [
           373,
           457
          ],
          [
           23,
           29
          ],
          [
           58,
           74
          ],
          [
           307,
           392
          ],
          [
           189,
           248
          ],
          [
           40,
           53
          ],
          [
           358,
           478
          ],
          [
           691,
           945
          ],
          [
           21,
           29
          ],
          [
           95,
           133
          ],
          [
           87,
           122
          ],
          [
           169,
           245
          ],
          [
           14,
           21
          ],
          [
           17,
           26
          ],
          [
           18,
           30
          ],
          [
           25,
           43
          ],
          [
           7,
           15
          ],
          [
           11,
           31
          ],
          [
           12,
           36
          ]
         ],
         "hovertemplate": "variable=Win_Rate<br>index=%{x}<br>value=%{y}<br>Siege=%{customdata[0]}<br>Niederlagen=%{customdata[1]}<extra></extra>",
         "legendgroup": "Win_Rate",
         "marker": {
          "color": "#b2e061",
          "opacity": 0.9,
          "pattern": {
           "shape": ""
          }
         },
         "name": "Win_Rate",
         "offsetgroup": "Win_Rate",
         "orientation": "v",
         "showlegend": true,
         "textposition": "auto",
         "type": "bar",
         "x": [
          "UNK",
          "VEN",
          "BOL",
          "TPE",
          "PHI",
          "CHN",
          "MDA",
          "THA",
          "CRC",
          "TUN",
          "DOM",
          "SLO",
          "MON",
          "DEN",
          "NOR",
          "ARM",
          "MEX",
          "POR",
          "YUG",
          "BLR",
          "BAH",
          "KAZ",
          "IND",
          "COL",
          "RSA",
          "JPN",
          "KOR",
          "EGY",
          "ITA",
          "BEL",
          "ISR",
          "CAN",
          "BRA",
          "AUT",
          "GRE",
          "GER",
          "LAT",
          "HUN",
          "AUS",
          "FRA",
          "BIH",
          "GEO",
          "SVK",
          "LUX",
          "ROU",
          "NED",
          "USA",
          "GBR",
          "TUR",
          "SWE",
          "ECU",
          "FIN",
          "UKR",
          "CZE",
          "URU",
          "NZL",
          "RUS",
          "CRO",
          "POL",
          "ARG",
          "ESP",
          "PER",
          "SRB",
          "CHI",
          "SUI",
          "BUL",
          "PAR",
          "ZIM",
          "MAR",
          "LTU",
          "UZB",
          "CYP"
         ],
         "xaxis": "x",
         "y": [
          0.9411764705882353,
          0.8695652173913043,
          0.8,
          0.7741935483870968,
          0.7647058823529411,
          0.7142857142857143,
          0.7,
          0.696969696969697,
          0.6666666666666666,
          0.6666666666666666,
          0.6666666666666666,
          0.6666666666666666,
          0.6428571428571429,
          0.625,
          0.625,
          0.625,
          0.6212121212121212,
          0.62,
          0.6190476190476191,
          0.6037735849056604,
          0.6,
          0.5833333333333334,
          0.5825242718446602,
          0.5789473684210527,
          0.5687830687830688,
          0.5683453237410072,
          0.5625,
          0.5625,
          0.5401574803149606,
          0.5306859205776173,
          0.5284552845528455,
          0.5260416666666666,
          0.5218978102189781,
          0.5193798449612403,
          0.5,
          0.5,
          0.5,
          0.49586776859504134,
          0.4948837209302326,
          0.48872180451127817,
          0.48,
          0.48,
          0.4793814432989691,
          0.47368421052631576,
          0.47345132743362833,
          0.4724576271186441,
          0.46176470588235297,
          0.45454545454545453,
          0.45454545454545453,
          0.4540229885057471,
          0.4520547945205479,
          0.45098039215686275,
          0.45,
          0.4493975903614458,
          0.4423076923076923,
          0.4393939393939394,
          0.43919885550786836,
          0.43249427917620137,
          0.43010752688172044,
          0.42822966507177035,
          0.4223716381418093,
          0.42,
          0.4166666666666667,
          0.41626794258373206,
          0.4082125603864734,
          0.4,
          0.3953488372093023,
          0.375,
          0.36764705882352944,
          0.3181818181818182,
          0.2619047619047619,
          0.25
         ],
         "yaxis": "y"
        },
        {
         "alignmentgroup": "True",
         "customdata": [
          [
           16,
           1
          ],
          [
           20,
           3
          ],
          [
           12,
           3
          ],
          [
           24,
           7
          ],
          [
           13,
           4
          ],
          [
           10,
           4
          ],
          [
           7,
           3
          ],
          [
           23,
           10
          ],
          [
           8,
           4
          ],
          [
           12,
           6
          ],
          [
           8,
           4
          ],
          [
           24,
           12
          ],
          [
           9,
           5
          ],
          [
           55,
           33
          ],
          [
           20,
           12
          ],
          [
           10,
           6
          ],
          [
           41,
           25
          ],
          [
           31,
           19
          ],
          [
           13,
           8
          ],
          [
           32,
           21
          ],
          [
           6,
           4
          ],
          [
           35,
           25
          ],
          [
           60,
           43
          ],
          [
           44,
           32
          ],
          [
           215,
           163
          ],
          [
           79,
           60
          ],
          [
           27,
           21
          ],
          [
           18,
           14
          ],
          [
           343,
           292
          ],
          [
           147,
           130
          ],
          [
           65,
           58
          ],
          [
           101,
           91
          ],
          [
           143,
           131
          ],
          [
           201,
           186
          ],
          [
           23,
           23
          ],
          [
           717,
           717
          ],
          [
           13,
           13
          ],
          [
           60,
           61
          ],
          [
           532,
           543
          ],
          [
           780,
           816
          ],
          [
           12,
           13
          ],
          [
           12,
           13
          ],
          [
           93,
           101
          ],
          [
           9,
           10
          ],
          [
           107,
           119
          ],
          [
           223,
           249
          ],
          [
           1256,
           1464
          ],
          [
           185,
           222
          ],
          [
           5,
           6
          ],
          [
           474,
           570
          ],
          [
           33,
           40
          ],
          [
           46,
           56
          ],
          [
           45,
           55
          ],
          [
           373,
           457
          ],
          [
           23,
           29
          ],
          [
           58,
           74
          ],
          [
           307,
           392
          ],
          [
           189,
           248
          ],
          [
           40,
           53
          ],
          [
           358,
           478
          ],
          [
           691,
           945
          ],
          [
           21,
           29
          ],
          [
           95,
           133
          ],
          [
           87,
           122
          ],
          [
           169,
           245
          ],
          [
           14,
           21
          ],
          [
           17,
           26
          ],
          [
           18,
           30
          ],
          [
           25,
           43
          ],
          [
           7,
           15
          ],
          [
           11,
           31
          ],
          [
           12,
           36
          ]
         ],
         "hovertemplate": "variable=Loss_Rate<br>index=%{x}<br>value=%{y}<br>Siege=%{customdata[0]}<br>Niederlagen=%{customdata[1]}<extra></extra>",
         "legendgroup": "Loss_Rate",
         "marker": {
          "color": "#fd7f6f",
          "opacity": 0.9,
          "pattern": {
           "shape": ""
          }
         },
         "name": "Loss_Rate",
         "offsetgroup": "Loss_Rate",
         "orientation": "v",
         "showlegend": true,
         "textposition": "auto",
         "type": "bar",
         "x": [
          "UNK",
          "VEN",
          "BOL",
          "TPE",
          "PHI",
          "CHN",
          "MDA",
          "THA",
          "CRC",
          "TUN",
          "DOM",
          "SLO",
          "MON",
          "DEN",
          "NOR",
          "ARM",
          "MEX",
          "POR",
          "YUG",
          "BLR",
          "BAH",
          "KAZ",
          "IND",
          "COL",
          "RSA",
          "JPN",
          "KOR",
          "EGY",
          "ITA",
          "BEL",
          "ISR",
          "CAN",
          "BRA",
          "AUT",
          "GRE",
          "GER",
          "LAT",
          "HUN",
          "AUS",
          "FRA",
          "BIH",
          "GEO",
          "SVK",
          "LUX",
          "ROU",
          "NED",
          "USA",
          "GBR",
          "TUR",
          "SWE",
          "ECU",
          "FIN",
          "UKR",
          "CZE",
          "URU",
          "NZL",
          "RUS",
          "CRO",
          "POL",
          "ARG",
          "ESP",
          "PER",
          "SRB",
          "CHI",
          "SUI",
          "BUL",
          "PAR",
          "ZIM",
          "MAR",
          "LTU",
          "UZB",
          "CYP"
         ],
         "xaxis": "x",
         "y": [
          0.058823529411764705,
          0.13043478260869565,
          0.2,
          0.22580645161290322,
          0.23529411764705882,
          0.2857142857142857,
          0.3,
          0.30303030303030304,
          0.3333333333333333,
          0.3333333333333333,
          0.3333333333333333,
          0.3333333333333333,
          0.35714285714285715,
          0.375,
          0.375,
          0.375,
          0.3787878787878788,
          0.38,
          0.38095238095238093,
          0.39622641509433965,
          0.4,
          0.4166666666666667,
          0.4174757281553398,
          0.42105263157894735,
          0.4312169312169312,
          0.4316546762589928,
          0.4375,
          0.4375,
          0.45984251968503936,
          0.4693140794223827,
          0.4715447154471545,
          0.4739583333333333,
          0.4781021897810219,
          0.4806201550387597,
          0.5,
          0.5,
          0.5,
          0.5041322314049587,
          0.5051162790697674,
          0.5112781954887218,
          0.52,
          0.52,
          0.520618556701031,
          0.5263157894736842,
          0.5265486725663717,
          0.527542372881356,
          0.538235294117647,
          0.5454545454545454,
          0.5454545454545454,
          0.5459770114942529,
          0.547945205479452,
          0.5490196078431373,
          0.55,
          0.5506024096385542,
          0.5576923076923077,
          0.5606060606060606,
          0.5608011444921316,
          0.5675057208237986,
          0.5698924731182796,
          0.5717703349282297,
          0.5776283618581907,
          0.58,
          0.5833333333333334,
          0.583732057416268,
          0.5917874396135265,
          0.6,
          0.6046511627906976,
          0.625,
          0.6323529411764706,
          0.6818181818181818,
          0.7380952380952381,
          0.75
         ],
         "yaxis": "y"
        }
       ],
       "layout": {
        "annotations": [
         {
          "arrowcolor": "black",
          "arrowhead": 1,
          "bgcolor": "white",
          "font": {
           "color": "grey",
           "size": 10
          },
          "showarrow": true,
          "text": "50% Gewinnrate",
          "xref": "paper",
          "y": 0.5
         }
        ],
        "barmode": "relative",
        "legend": {
         "title": {
          "text": "variable"
         },
         "tracegroupgap": 0
        },
        "shapes": [
         {
          "line": {
           "color": "black",
           "dash": "dot"
          },
          "opacity": 0.4,
          "type": "line",
          "x0": 0,
          "x1": 1,
          "xref": "x domain",
          "y0": 0.5,
          "y1": 0.5,
          "yref": "y"
         }
        ],
        "template": {
         "data": {
          "bar": [
           {
            "error_x": {
             "color": "#2a3f5f"
            },
            "error_y": {
             "color": "#2a3f5f"
            },
            "marker": {
             "line": {
              "color": "#E5ECF6",
              "width": 0.5
             },
             "pattern": {
              "fillmode": "overlay",
              "size": 10,
              "solidity": 0.2
             }
            },
            "type": "bar"
           }
          ],
          "barpolar": [
           {
            "marker": {
             "line": {
              "color": "#E5ECF6",
              "width": 0.5
             },
             "pattern": {
              "fillmode": "overlay",
              "size": 10,
              "solidity": 0.2
             }
            },
            "type": "barpolar"
           }
          ],
          "carpet": [
           {
            "aaxis": {
             "endlinecolor": "#2a3f5f",
             "gridcolor": "white",
             "linecolor": "white",
             "minorgridcolor": "white",
             "startlinecolor": "#2a3f5f"
            },
            "baxis": {
             "endlinecolor": "#2a3f5f",
             "gridcolor": "white",
             "linecolor": "white",
             "minorgridcolor": "white",
             "startlinecolor": "#2a3f5f"
            },
            "type": "carpet"
           }
          ],
          "choropleth": [
           {
            "colorbar": {
             "outlinewidth": 0,
             "ticks": ""
            },
            "type": "choropleth"
           }
          ],
          "contour": [
           {
            "colorbar": {
             "outlinewidth": 0,
             "ticks": ""
            },
            "colorscale": [
             [
              0,
              "#0d0887"
             ],
             [
              0.1111111111111111,
              "#46039f"
             ],
             [
              0.2222222222222222,
              "#7201a8"
             ],
             [
              0.3333333333333333,
              "#9c179e"
             ],
             [
              0.4444444444444444,
              "#bd3786"
             ],
             [
              0.5555555555555556,
              "#d8576b"
             ],
             [
              0.6666666666666666,
              "#ed7953"
             ],
             [
              0.7777777777777778,
              "#fb9f3a"
             ],
             [
              0.8888888888888888,
              "#fdca26"
             ],
             [
              1,
              "#f0f921"
             ]
            ],
            "type": "contour"
           }
          ],
          "contourcarpet": [
           {
            "colorbar": {
             "outlinewidth": 0,
             "ticks": ""
            },
            "type": "contourcarpet"
           }
          ],
          "heatmap": [
           {
            "colorbar": {
             "outlinewidth": 0,
             "ticks": ""
            },
            "colorscale": [
             [
              0,
              "#0d0887"
             ],
             [
              0.1111111111111111,
              "#46039f"
             ],
             [
              0.2222222222222222,
              "#7201a8"
             ],
             [
              0.3333333333333333,
              "#9c179e"
             ],
             [
              0.4444444444444444,
              "#bd3786"
             ],
             [
              0.5555555555555556,
              "#d8576b"
             ],
             [
              0.6666666666666666,
              "#ed7953"
             ],
             [
              0.7777777777777778,
              "#fb9f3a"
             ],
             [
              0.8888888888888888,
              "#fdca26"
             ],
             [
              1,
              "#f0f921"
             ]
            ],
            "type": "heatmap"
           }
          ],
          "heatmapgl": [
           {
            "colorbar": {
             "outlinewidth": 0,
             "ticks": ""
            },
            "colorscale": [
             [
              0,
              "#0d0887"
             ],
             [
              0.1111111111111111,
              "#46039f"
             ],
             [
              0.2222222222222222,
              "#7201a8"
             ],
             [
              0.3333333333333333,
              "#9c179e"
             ],
             [
              0.4444444444444444,
              "#bd3786"
             ],
             [
              0.5555555555555556,
              "#d8576b"
             ],
             [
              0.6666666666666666,
              "#ed7953"
             ],
             [
              0.7777777777777778,
              "#fb9f3a"
             ],
             [
              0.8888888888888888,
              "#fdca26"
             ],
             [
              1,
              "#f0f921"
             ]
            ],
            "type": "heatmapgl"
           }
          ],
          "histogram": [
           {
            "marker": {
             "pattern": {
              "fillmode": "overlay",
              "size": 10,
              "solidity": 0.2
             }
            },
            "type": "histogram"
           }
          ],
          "histogram2d": [
           {
            "colorbar": {
             "outlinewidth": 0,
             "ticks": ""
            },
            "colorscale": [
             [
              0,
              "#0d0887"
             ],
             [
              0.1111111111111111,
              "#46039f"
             ],
             [
              0.2222222222222222,
              "#7201a8"
             ],
             [
              0.3333333333333333,
              "#9c179e"
             ],
             [
              0.4444444444444444,
              "#bd3786"
             ],
             [
              0.5555555555555556,
              "#d8576b"
             ],
             [
              0.6666666666666666,
              "#ed7953"
             ],
             [
              0.7777777777777778,
              "#fb9f3a"
             ],
             [
              0.8888888888888888,
              "#fdca26"
             ],
             [
              1,
              "#f0f921"
             ]
            ],
            "type": "histogram2d"
           }
          ],
          "histogram2dcontour": [
           {
            "colorbar": {
             "outlinewidth": 0,
             "ticks": ""
            },
            "colorscale": [
             [
              0,
              "#0d0887"
             ],
             [
              0.1111111111111111,
              "#46039f"
             ],
             [
              0.2222222222222222,
              "#7201a8"
             ],
             [
              0.3333333333333333,
              "#9c179e"
             ],
             [
              0.4444444444444444,
              "#bd3786"
             ],
             [
              0.5555555555555556,
              "#d8576b"
             ],
             [
              0.6666666666666666,
              "#ed7953"
             ],
             [
              0.7777777777777778,
              "#fb9f3a"
             ],
             [
              0.8888888888888888,
              "#fdca26"
             ],
             [
              1,
              "#f0f921"
             ]
            ],
            "type": "histogram2dcontour"
           }
          ],
          "mesh3d": [
           {
            "colorbar": {
             "outlinewidth": 0,
             "ticks": ""
            },
            "type": "mesh3d"
           }
          ],
          "parcoords": [
           {
            "line": {
             "colorbar": {
              "outlinewidth": 0,
              "ticks": ""
             }
            },
            "type": "parcoords"
           }
          ],
          "pie": [
           {
            "automargin": true,
            "type": "pie"
           }
          ],
          "scatter": [
           {
            "fillpattern": {
             "fillmode": "overlay",
             "size": 10,
             "solidity": 0.2
            },
            "type": "scatter"
           }
          ],
          "scatter3d": [
           {
            "line": {
             "colorbar": {
              "outlinewidth": 0,
              "ticks": ""
             }
            },
            "marker": {
             "colorbar": {
              "outlinewidth": 0,
              "ticks": ""
             }
            },
            "type": "scatter3d"
           }
          ],
          "scattercarpet": [
           {
            "marker": {
             "colorbar": {
              "outlinewidth": 0,
              "ticks": ""
             }
            },
            "type": "scattercarpet"
           }
          ],
          "scattergeo": [
           {
            "marker": {
             "colorbar": {
              "outlinewidth": 0,
              "ticks": ""
             }
            },
            "type": "scattergeo"
           }
          ],
          "scattergl": [
           {
            "marker": {
             "colorbar": {
              "outlinewidth": 0,
              "ticks": ""
             }
            },
            "type": "scattergl"
           }
          ],
          "scattermapbox": [
           {
            "marker": {
             "colorbar": {
              "outlinewidth": 0,
              "ticks": ""
             }
            },
            "type": "scattermapbox"
           }
          ],
          "scatterpolar": [
           {
            "marker": {
             "colorbar": {
              "outlinewidth": 0,
              "ticks": ""
             }
            },
            "type": "scatterpolar"
           }
          ],
          "scatterpolargl": [
           {
            "marker": {
             "colorbar": {
              "outlinewidth": 0,
              "ticks": ""
             }
            },
            "type": "scatterpolargl"
           }
          ],
          "scatterternary": [
           {
            "marker": {
             "colorbar": {
              "outlinewidth": 0,
              "ticks": ""
             }
            },
            "type": "scatterternary"
           }
          ],
          "surface": [
           {
            "colorbar": {
             "outlinewidth": 0,
             "ticks": ""
            },
            "colorscale": [
             [
              0,
              "#0d0887"
             ],
             [
              0.1111111111111111,
              "#46039f"
             ],
             [
              0.2222222222222222,
              "#7201a8"
             ],
             [
              0.3333333333333333,
              "#9c179e"
             ],
             [
              0.4444444444444444,
              "#bd3786"
             ],
             [
              0.5555555555555556,
              "#d8576b"
             ],
             [
              0.6666666666666666,
              "#ed7953"
             ],
             [
              0.7777777777777778,
              "#fb9f3a"
             ],
             [
              0.8888888888888888,
              "#fdca26"
             ],
             [
              1,
              "#f0f921"
             ]
            ],
            "type": "surface"
           }
          ],
          "table": [
           {
            "cells": {
             "fill": {
              "color": "#EBF0F8"
             },
             "line": {
              "color": "white"
             }
            },
            "header": {
             "fill": {
              "color": "#C8D4E3"
             },
             "line": {
              "color": "white"
             }
            },
            "type": "table"
           }
          ]
         },
         "layout": {
          "annotationdefaults": {
           "arrowcolor": "#2a3f5f",
           "arrowhead": 0,
           "arrowwidth": 1
          },
          "autotypenumbers": "strict",
          "coloraxis": {
           "colorbar": {
            "outlinewidth": 0,
            "ticks": ""
           }
          },
          "colorscale": {
           "diverging": [
            [
             0,
             "#8e0152"
            ],
            [
             0.1,
             "#c51b7d"
            ],
            [
             0.2,
             "#de77ae"
            ],
            [
             0.3,
             "#f1b6da"
            ],
            [
             0.4,
             "#fde0ef"
            ],
            [
             0.5,
             "#f7f7f7"
            ],
            [
             0.6,
             "#e6f5d0"
            ],
            [
             0.7,
             "#b8e186"
            ],
            [
             0.8,
             "#7fbc41"
            ],
            [
             0.9,
             "#4d9221"
            ],
            [
             1,
             "#276419"
            ]
           ],
           "sequential": [
            [
             0,
             "#0d0887"
            ],
            [
             0.1111111111111111,
             "#46039f"
            ],
            [
             0.2222222222222222,
             "#7201a8"
            ],
            [
             0.3333333333333333,
             "#9c179e"
            ],
            [
             0.4444444444444444,
             "#bd3786"
            ],
            [
             0.5555555555555556,
             "#d8576b"
            ],
            [
             0.6666666666666666,
             "#ed7953"
            ],
            [
             0.7777777777777778,
             "#fb9f3a"
            ],
            [
             0.8888888888888888,
             "#fdca26"
            ],
            [
             1,
             "#f0f921"
            ]
           ],
           "sequentialminus": [
            [
             0,
             "#0d0887"
            ],
            [
             0.1111111111111111,
             "#46039f"
            ],
            [
             0.2222222222222222,
             "#7201a8"
            ],
            [
             0.3333333333333333,
             "#9c179e"
            ],
            [
             0.4444444444444444,
             "#bd3786"
            ],
            [
             0.5555555555555556,
             "#d8576b"
            ],
            [
             0.6666666666666666,
             "#ed7953"
            ],
            [
             0.7777777777777778,
             "#fb9f3a"
            ],
            [
             0.8888888888888888,
             "#fdca26"
            ],
            [
             1,
             "#f0f921"
            ]
           ]
          },
          "colorway": [
           "#636efa",
           "#EF553B",
           "#00cc96",
           "#ab63fa",
           "#FFA15A",
           "#19d3f3",
           "#FF6692",
           "#B6E880",
           "#FF97FF",
           "#FECB52"
          ],
          "font": {
           "color": "#2a3f5f"
          },
          "geo": {
           "bgcolor": "white",
           "lakecolor": "white",
           "landcolor": "#E5ECF6",
           "showlakes": true,
           "showland": true,
           "subunitcolor": "white"
          },
          "hoverlabel": {
           "align": "left"
          },
          "hovermode": "closest",
          "mapbox": {
           "style": "light"
          },
          "paper_bgcolor": "white",
          "plot_bgcolor": "#E5ECF6",
          "polar": {
           "angularaxis": {
            "gridcolor": "white",
            "linecolor": "white",
            "ticks": ""
           },
           "bgcolor": "#E5ECF6",
           "radialaxis": {
            "gridcolor": "white",
            "linecolor": "white",
            "ticks": ""
           }
          },
          "scene": {
           "xaxis": {
            "backgroundcolor": "#E5ECF6",
            "gridcolor": "white",
            "gridwidth": 2,
            "linecolor": "white",
            "showbackground": true,
            "ticks": "",
            "zerolinecolor": "white"
           },
           "yaxis": {
            "backgroundcolor": "#E5ECF6",
            "gridcolor": "white",
            "gridwidth": 2,
            "linecolor": "white",
            "showbackground": true,
            "ticks": "",
            "zerolinecolor": "white"
           },
           "zaxis": {
            "backgroundcolor": "#E5ECF6",
            "gridcolor": "white",
            "gridwidth": 2,
            "linecolor": "white",
            "showbackground": true,
            "ticks": "",
            "zerolinecolor": "white"
           }
          },
          "shapedefaults": {
           "line": {
            "color": "#2a3f5f"
           }
          },
          "ternary": {
           "aaxis": {
            "gridcolor": "white",
            "linecolor": "white",
            "ticks": ""
           },
           "baxis": {
            "gridcolor": "white",
            "linecolor": "white",
            "ticks": ""
           },
           "bgcolor": "#E5ECF6",
           "caxis": {
            "gridcolor": "white",
            "linecolor": "white",
            "ticks": ""
           }
          },
          "title": {
           "x": 0.05
          },
          "xaxis": {
           "automargin": true,
           "gridcolor": "white",
           "linecolor": "white",
           "ticks": "",
           "title": {
            "standoff": 15
           },
           "zerolinecolor": "white",
           "zerolinewidth": 2
          },
          "yaxis": {
           "automargin": true,
           "gridcolor": "white",
           "linecolor": "white",
           "ticks": "",
           "title": {
            "standoff": 15
           },
           "zerolinecolor": "white",
           "zerolinewidth": 2
          }
         }
        },
        "title": {
         "text": "Gewinn- und Verlustrate der deutschen Tennisspieler gegen andere Nationen"
        },
        "xaxis": {
         "anchor": "y",
         "domain": [
          0,
          1
         ],
         "title": {
          "text": "Gegner Nationen"
         }
        },
        "yaxis": {
         "anchor": "x",
         "domain": [
          0,
          1
         ],
         "tickformat": ".2%",
         "title": {
          "text": "Gewinnrate"
         }
        }
       }
      }
     },
     "metadata": {},
     "output_type": "display_data"
    }
   ],
   "source": [
    "fig = px.bar(performance.sort_values('Win_Rate', ascending=False), \n",
    "            y=['Win_Rate', 'Loss_Rate'], \n",
    "            title='Gewinn- und Verlustrate der deutschen Tennisspieler gegen andere Nationen',\n",
    "            hover_data=['Siege', 'Niederlagen'],\n",
    "            color_discrete_sequence=[\"#b2e061\", \"#fd7f6f\"],\n",
    "            opacity=0.9)\n",
    "\n",
    "fig.add_hline(y=0.5, opacity=0.4, line_dash='dot', line_color='black')\n",
    "\n",
    "fig.add_annotation(text=\"50% Gewinnrate\",\n",
    "                xref='paper',\n",
    "                y=performance['Win_Rate'].median(),\n",
    "                arrowhead=1, \n",
    "                showarrow=True, \n",
    "                arrowcolor='black',        \n",
    "                bgcolor='white',\n",
    "                font=dict(size=10, color='grey'))\n",
    "\n",
    "\n",
    "fig.update_yaxes(tickformat=\".2%\")\n",
    "fig.update_yaxes(title='Gewinnrate')\n",
    "fig.update_xaxes(title='Gegner Nationen')\n",
    "fig.show()\n"
   ]
  },
  {
   "cell_type": "code",
   "execution_count": 38,
   "metadata": {},
   "outputs": [
    {
     "data": {
      "text/html": [
       "<div>\n",
       "<style scoped>\n",
       "    .dataframe tbody tr th:only-of-type {\n",
       "        vertical-align: middle;\n",
       "    }\n",
       "\n",
       "    .dataframe tbody tr th {\n",
       "        vertical-align: top;\n",
       "    }\n",
       "\n",
       "    .dataframe thead th {\n",
       "        text-align: right;\n",
       "    }\n",
       "</style>\n",
       "<table border=\"1\" class=\"dataframe\">\n",
       "  <thead>\n",
       "    <tr style=\"text-align: right;\">\n",
       "      <th></th>\n",
       "      <th>tourney_id</th>\n",
       "      <th>tourney_name</th>\n",
       "      <th>surface</th>\n",
       "      <th>draw_size</th>\n",
       "      <th>tourney_level</th>\n",
       "      <th>tourney_date</th>\n",
       "      <th>match_num</th>\n",
       "      <th>winner_id</th>\n",
       "      <th>winner_seed</th>\n",
       "      <th>winner_entry</th>\n",
       "      <th>...</th>\n",
       "      <th>l_1stIn</th>\n",
       "      <th>l_1stWon</th>\n",
       "      <th>l_2ndWon</th>\n",
       "      <th>l_SvGms</th>\n",
       "      <th>l_bpSaved</th>\n",
       "      <th>l_bpFaced</th>\n",
       "      <th>winner_rank</th>\n",
       "      <th>winner_rank_points</th>\n",
       "      <th>loser_rank</th>\n",
       "      <th>loser_rank_points</th>\n",
       "    </tr>\n",
       "  </thead>\n",
       "  <tbody>\n",
       "    <tr>\n",
       "      <th>0</th>\n",
       "      <td>1968-2029</td>\n",
       "      <td>Dublin</td>\n",
       "      <td>Grass</td>\n",
       "      <td>32</td>\n",
       "      <td>A</td>\n",
       "      <td>19680708</td>\n",
       "      <td>270</td>\n",
       "      <td>112411</td>\n",
       "      <td>NaN</td>\n",
       "      <td>NaN</td>\n",
       "      <td>...</td>\n",
       "      <td>NaN</td>\n",
       "      <td>NaN</td>\n",
       "      <td>NaN</td>\n",
       "      <td>NaN</td>\n",
       "      <td>NaN</td>\n",
       "      <td>NaN</td>\n",
       "      <td>NaN</td>\n",
       "      <td>NaN</td>\n",
       "      <td>NaN</td>\n",
       "      <td>NaN</td>\n",
       "    </tr>\n",
       "    <tr>\n",
       "      <th>1</th>\n",
       "      <td>1968-2029</td>\n",
       "      <td>Dublin</td>\n",
       "      <td>Grass</td>\n",
       "      <td>32</td>\n",
       "      <td>A</td>\n",
       "      <td>19680708</td>\n",
       "      <td>271</td>\n",
       "      <td>126914</td>\n",
       "      <td>NaN</td>\n",
       "      <td>NaN</td>\n",
       "      <td>...</td>\n",
       "      <td>NaN</td>\n",
       "      <td>NaN</td>\n",
       "      <td>NaN</td>\n",
       "      <td>NaN</td>\n",
       "      <td>NaN</td>\n",
       "      <td>NaN</td>\n",
       "      <td>NaN</td>\n",
       "      <td>NaN</td>\n",
       "      <td>NaN</td>\n",
       "      <td>NaN</td>\n",
       "    </tr>\n",
       "    <tr>\n",
       "      <th>2</th>\n",
       "      <td>1968-2029</td>\n",
       "      <td>Dublin</td>\n",
       "      <td>Grass</td>\n",
       "      <td>32</td>\n",
       "      <td>A</td>\n",
       "      <td>19680708</td>\n",
       "      <td>272</td>\n",
       "      <td>209523</td>\n",
       "      <td>NaN</td>\n",
       "      <td>NaN</td>\n",
       "      <td>...</td>\n",
       "      <td>NaN</td>\n",
       "      <td>NaN</td>\n",
       "      <td>NaN</td>\n",
       "      <td>NaN</td>\n",
       "      <td>NaN</td>\n",
       "      <td>NaN</td>\n",
       "      <td>NaN</td>\n",
       "      <td>NaN</td>\n",
       "      <td>NaN</td>\n",
       "      <td>NaN</td>\n",
       "    </tr>\n",
       "    <tr>\n",
       "      <th>3</th>\n",
       "      <td>1968-2029</td>\n",
       "      <td>Dublin</td>\n",
       "      <td>Grass</td>\n",
       "      <td>32</td>\n",
       "      <td>A</td>\n",
       "      <td>19680708</td>\n",
       "      <td>273</td>\n",
       "      <td>100084</td>\n",
       "      <td>NaN</td>\n",
       "      <td>NaN</td>\n",
       "      <td>...</td>\n",
       "      <td>NaN</td>\n",
       "      <td>NaN</td>\n",
       "      <td>NaN</td>\n",
       "      <td>NaN</td>\n",
       "      <td>NaN</td>\n",
       "      <td>NaN</td>\n",
       "      <td>NaN</td>\n",
       "      <td>NaN</td>\n",
       "      <td>NaN</td>\n",
       "      <td>NaN</td>\n",
       "    </tr>\n",
       "    <tr>\n",
       "      <th>4</th>\n",
       "      <td>1968-2029</td>\n",
       "      <td>Dublin</td>\n",
       "      <td>Grass</td>\n",
       "      <td>32</td>\n",
       "      <td>A</td>\n",
       "      <td>19680708</td>\n",
       "      <td>274</td>\n",
       "      <td>100132</td>\n",
       "      <td>NaN</td>\n",
       "      <td>NaN</td>\n",
       "      <td>...</td>\n",
       "      <td>NaN</td>\n",
       "      <td>NaN</td>\n",
       "      <td>NaN</td>\n",
       "      <td>NaN</td>\n",
       "      <td>NaN</td>\n",
       "      <td>NaN</td>\n",
       "      <td>NaN</td>\n",
       "      <td>NaN</td>\n",
       "      <td>NaN</td>\n",
       "      <td>NaN</td>\n",
       "    </tr>\n",
       "    <tr>\n",
       "      <th>...</th>\n",
       "      <td>...</td>\n",
       "      <td>...</td>\n",
       "      <td>...</td>\n",
       "      <td>...</td>\n",
       "      <td>...</td>\n",
       "      <td>...</td>\n",
       "      <td>...</td>\n",
       "      <td>...</td>\n",
       "      <td>...</td>\n",
       "      <td>...</td>\n",
       "      <td>...</td>\n",
       "      <td>...</td>\n",
       "      <td>...</td>\n",
       "      <td>...</td>\n",
       "      <td>...</td>\n",
       "      <td>...</td>\n",
       "      <td>...</td>\n",
       "      <td>...</td>\n",
       "      <td>...</td>\n",
       "      <td>...</td>\n",
       "      <td>...</td>\n",
       "    </tr>\n",
       "    <tr>\n",
       "      <th>188156</th>\n",
       "      <td>2022-M-DC-2022-WG2-PO-GRE-JAM-01</td>\n",
       "      <td>Davis Cup WG2 PO: GRE vs JAM</td>\n",
       "      <td>Clay</td>\n",
       "      <td>4</td>\n",
       "      <td>D</td>\n",
       "      <td>20220304</td>\n",
       "      <td>4</td>\n",
       "      <td>209362</td>\n",
       "      <td>NaN</td>\n",
       "      <td>NaN</td>\n",
       "      <td>...</td>\n",
       "      <td>68.0</td>\n",
       "      <td>42.0</td>\n",
       "      <td>12.0</td>\n",
       "      <td>10.0</td>\n",
       "      <td>11.0</td>\n",
       "      <td>13.0</td>\n",
       "      <td>1103.0</td>\n",
       "      <td>9.0</td>\n",
       "      <td>1130.0</td>\n",
       "      <td>8.0</td>\n",
       "    </tr>\n",
       "    <tr>\n",
       "      <th>188157</th>\n",
       "      <td>2022-M-DC-2022-WG2-PO-GRE-JAM-01</td>\n",
       "      <td>Davis Cup WG2 PO: GRE vs JAM</td>\n",
       "      <td>Clay</td>\n",
       "      <td>4</td>\n",
       "      <td>D</td>\n",
       "      <td>20220304</td>\n",
       "      <td>5</td>\n",
       "      <td>202065</td>\n",
       "      <td>NaN</td>\n",
       "      <td>NaN</td>\n",
       "      <td>...</td>\n",
       "      <td>56.0</td>\n",
       "      <td>40.0</td>\n",
       "      <td>20.0</td>\n",
       "      <td>15.0</td>\n",
       "      <td>4.0</td>\n",
       "      <td>8.0</td>\n",
       "      <td>808.0</td>\n",
       "      <td>23.0</td>\n",
       "      <td>1390.0</td>\n",
       "      <td>4.0</td>\n",
       "    </tr>\n",
       "    <tr>\n",
       "      <th>188158</th>\n",
       "      <td>2022-M-DC-2022-WG2-PO-HKG-BEN-01</td>\n",
       "      <td>Davis Cup WG2 PO: HKG vs BEN</td>\n",
       "      <td>Hard</td>\n",
       "      <td>4</td>\n",
       "      <td>D</td>\n",
       "      <td>20220304</td>\n",
       "      <td>1</td>\n",
       "      <td>138846</td>\n",
       "      <td>NaN</td>\n",
       "      <td>NaN</td>\n",
       "      <td>...</td>\n",
       "      <td>54.0</td>\n",
       "      <td>29.0</td>\n",
       "      <td>8.0</td>\n",
       "      <td>11.0</td>\n",
       "      <td>6.0</td>\n",
       "      <td>10.0</td>\n",
       "      <td>1059.0</td>\n",
       "      <td>10.0</td>\n",
       "      <td>1881.0</td>\n",
       "      <td>1.0</td>\n",
       "    </tr>\n",
       "    <tr>\n",
       "      <th>188159</th>\n",
       "      <td>2022-M-DC-2022-WG2-PO-HKG-BEN-01</td>\n",
       "      <td>Davis Cup WG2 PO: HKG vs BEN</td>\n",
       "      <td>Hard</td>\n",
       "      <td>4</td>\n",
       "      <td>D</td>\n",
       "      <td>20220304</td>\n",
       "      <td>2</td>\n",
       "      <td>209409</td>\n",
       "      <td>NaN</td>\n",
       "      <td>NaN</td>\n",
       "      <td>...</td>\n",
       "      <td>39.0</td>\n",
       "      <td>24.0</td>\n",
       "      <td>7.0</td>\n",
       "      <td>10.0</td>\n",
       "      <td>5.0</td>\n",
       "      <td>9.0</td>\n",
       "      <td>NaN</td>\n",
       "      <td>NaN</td>\n",
       "      <td>NaN</td>\n",
       "      <td>NaN</td>\n",
       "    </tr>\n",
       "    <tr>\n",
       "      <th>188160</th>\n",
       "      <td>2022-M-DC-2022-WG2-PO-HKG-BEN-01</td>\n",
       "      <td>Davis Cup WG2 PO: HKG vs BEN</td>\n",
       "      <td>Hard</td>\n",
       "      <td>4</td>\n",
       "      <td>D</td>\n",
       "      <td>20220304</td>\n",
       "      <td>4</td>\n",
       "      <td>208414</td>\n",
       "      <td>NaN</td>\n",
       "      <td>NaN</td>\n",
       "      <td>...</td>\n",
       "      <td>34.0</td>\n",
       "      <td>24.0</td>\n",
       "      <td>13.0</td>\n",
       "      <td>10.0</td>\n",
       "      <td>5.0</td>\n",
       "      <td>8.0</td>\n",
       "      <td>NaN</td>\n",
       "      <td>NaN</td>\n",
       "      <td>NaN</td>\n",
       "      <td>NaN</td>\n",
       "    </tr>\n",
       "  </tbody>\n",
       "</table>\n",
       "<p>188161 rows × 49 columns</p>\n",
       "</div>"
      ],
      "text/plain": [
       "                              tourney_id                  tourney_name  \\\n",
       "0                              1968-2029                        Dublin   \n",
       "1                              1968-2029                        Dublin   \n",
       "2                              1968-2029                        Dublin   \n",
       "3                              1968-2029                        Dublin   \n",
       "4                              1968-2029                        Dublin   \n",
       "...                                  ...                           ...   \n",
       "188156  2022-M-DC-2022-WG2-PO-GRE-JAM-01  Davis Cup WG2 PO: GRE vs JAM   \n",
       "188157  2022-M-DC-2022-WG2-PO-GRE-JAM-01  Davis Cup WG2 PO: GRE vs JAM   \n",
       "188158  2022-M-DC-2022-WG2-PO-HKG-BEN-01  Davis Cup WG2 PO: HKG vs BEN   \n",
       "188159  2022-M-DC-2022-WG2-PO-HKG-BEN-01  Davis Cup WG2 PO: HKG vs BEN   \n",
       "188160  2022-M-DC-2022-WG2-PO-HKG-BEN-01  Davis Cup WG2 PO: HKG vs BEN   \n",
       "\n",
       "       surface  draw_size tourney_level  tourney_date  match_num  winner_id  \\\n",
       "0        Grass         32             A      19680708        270     112411   \n",
       "1        Grass         32             A      19680708        271     126914   \n",
       "2        Grass         32             A      19680708        272     209523   \n",
       "3        Grass         32             A      19680708        273     100084   \n",
       "4        Grass         32             A      19680708        274     100132   \n",
       "...        ...        ...           ...           ...        ...        ...   \n",
       "188156    Clay          4             D      20220304          4     209362   \n",
       "188157    Clay          4             D      20220304          5     202065   \n",
       "188158    Hard          4             D      20220304          1     138846   \n",
       "188159    Hard          4             D      20220304          2     209409   \n",
       "188160    Hard          4             D      20220304          4     208414   \n",
       "\n",
       "        winner_seed winner_entry  ... l_1stIn l_1stWon  l_2ndWon l_SvGms  \\\n",
       "0               NaN          NaN  ...     NaN      NaN       NaN     NaN   \n",
       "1               NaN          NaN  ...     NaN      NaN       NaN     NaN   \n",
       "2               NaN          NaN  ...     NaN      NaN       NaN     NaN   \n",
       "3               NaN          NaN  ...     NaN      NaN       NaN     NaN   \n",
       "4               NaN          NaN  ...     NaN      NaN       NaN     NaN   \n",
       "...             ...          ...  ...     ...      ...       ...     ...   \n",
       "188156          NaN          NaN  ...    68.0     42.0      12.0    10.0   \n",
       "188157          NaN          NaN  ...    56.0     40.0      20.0    15.0   \n",
       "188158          NaN          NaN  ...    54.0     29.0       8.0    11.0   \n",
       "188159          NaN          NaN  ...    39.0     24.0       7.0    10.0   \n",
       "188160          NaN          NaN  ...    34.0     24.0      13.0    10.0   \n",
       "\n",
       "        l_bpSaved  l_bpFaced  winner_rank winner_rank_points loser_rank  \\\n",
       "0             NaN        NaN          NaN                NaN        NaN   \n",
       "1             NaN        NaN          NaN                NaN        NaN   \n",
       "2             NaN        NaN          NaN                NaN        NaN   \n",
       "3             NaN        NaN          NaN                NaN        NaN   \n",
       "4             NaN        NaN          NaN                NaN        NaN   \n",
       "...           ...        ...          ...                ...        ...   \n",
       "188156       11.0       13.0       1103.0                9.0     1130.0   \n",
       "188157        4.0        8.0        808.0               23.0     1390.0   \n",
       "188158        6.0       10.0       1059.0               10.0     1881.0   \n",
       "188159        5.0        9.0          NaN                NaN        NaN   \n",
       "188160        5.0        8.0          NaN                NaN        NaN   \n",
       "\n",
       "       loser_rank_points  \n",
       "0                    NaN  \n",
       "1                    NaN  \n",
       "2                    NaN  \n",
       "3                    NaN  \n",
       "4                    NaN  \n",
       "...                  ...  \n",
       "188156               8.0  \n",
       "188157               4.0  \n",
       "188158               1.0  \n",
       "188159               NaN  \n",
       "188160               NaN  \n",
       "\n",
       "[188161 rows x 49 columns]"
      ]
     },
     "execution_count": 38,
     "metadata": {},
     "output_type": "execute_result"
    }
   ],
   "source": [
    "matches"
   ]
  }
 ],
 "metadata": {
  "kernelspec": {
   "display_name": "bv",
   "language": "python",
   "name": "python3"
  },
  "language_info": {
   "codemirror_mode": {
    "name": "ipython",
    "version": 3
   },
   "file_extension": ".py",
   "mimetype": "text/x-python",
   "name": "python",
   "nbconvert_exporter": "python",
   "pygments_lexer": "ipython3",
   "version": "3.10.11"
  }
 },
 "nbformat": 4,
 "nbformat_minor": 2
}
