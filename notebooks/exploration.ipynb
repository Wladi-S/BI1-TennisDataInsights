{
 "cells": [
  {
   "cell_type": "markdown",
   "metadata": {},
   "source": [
    "Die Analyse bedingt im Kontext dieser Veranstaltung vornehmlich drei Aspekte:\n",
    "1. Vorverarbeitung der Daten (Bereinigung; Generieren neuer Features, die z.B. aus der Vorgeschichte eines Spiels abgeleitet werden),\n",
    "2. Analyse von Zusammenhängen(und ggf. Überprüfung der Aussagekraft mit statistischen oder anderen Methoden) und\n",
    "3. Visualisierung der Erkenntnisse über die ermittelten Zusammenhänge sowie weiterer „interessanter“ Inhalte aus den Daten (ggf. zusammengefasst als einzelne „Data Stories“).\n",
    "\n",
    "Im Vorfeld wurden bereits konkrete Hypothesen und Fragen formuliert, die Sie überprüfen sollen:\n",
    "1. Gibt es „Angstgegner“-Nationen, gegen die die deutschen Spieler besonders schlecht abschneiden? Lässt sich das einfach durch die generelle Spielstärke der Spieler dieser Nationen erklären, oder gibt es Nationen, gegen die gerade deutsche Spieler schlecht abschneiden? Gibt es analog „Lieblingsgegner“-Nationen?\n",
    "2. Gibt es „Angstgegner“ einzelner deutscher Spieler, d.h. Paarungen, bei denen der deutsche Spieler schlechter abschneidet, als es aufgrund der allgemeinen Spielstärke beider Spieler zu erwarten ist? Gibt es analog „Lieblingsgegner“ einzelner deutscher Spieler?\n",
    "3. Gibt es Turniere, bei denen die Deutschen besonders gut oder besonders schlecht abschneiden? Wenn ja, ist ein regionales Muster oder eine andere Ursache zu erkennen?\n",
    "4. Wie entwickelt sich der sportliche Erfolg mit dem Alter? Gilt das für die Spielstatistiken gleichermaßen wie für die Platzierung auf der Rangliste?\n",
    "5. Sinkt die Wahrscheinlichkeit zu siegen, wenn das vorhergehende Spiel eines Spielers besonders lange gedauert hat?\n",
    "6. Gibt es einen Zusammenhang dazwischen, wie man zuletzt gegen einen bestimmten Gegner gespielt hat, und wie das nächste Spiel gegen diesen Gegner ausgehen wird?\n",
    "7. Wie gut lässt sich das Ergebnis eines Matches vorhersagen? Welches sind die wichtigsten Features für eine solche Prognose?"
   ]
  },
  {
   "cell_type": "code",
   "execution_count": 1,
   "metadata": {},
   "outputs": [],
   "source": [
    "import numpy as np\n",
    "import pandas as pd\n",
    "import matplotlib.pyplot as plt\n",
    "import plotly.express as px\n",
    "from tabulate import tabulate"
   ]
  },
  {
   "cell_type": "code",
   "execution_count": 2,
   "metadata": {},
   "outputs": [],
   "source": [
    "matches = pd.read_csv('../data/raw/atp_matches_till_2022.csv')\n",
    "players = pd.read_csv('../data/raw/atp_players_till_2022.csv')\n",
    "rankings = pd.read_csv('../data/raw/atp_rankings_till_2022.csv')"
   ]
  },
  {
   "cell_type": "markdown",
   "metadata": {},
   "source": [
    "## H 1: Gibt es „Angstgegner“-Nationen, gegen die die deutschen Spieler besonders schlecht abschneiden? Lässt sich das einfach durch die generelle Spielstärke der Spieler dieser Nationen erklären, oder gibt es Nationen, gegen die gerade deutsche Spieler schlecht abschneiden? Gibt es analog „Lieblingsgegner“-Nationen?"
   ]
  },
  {
   "cell_type": "markdown",
   "metadata": {},
   "source": [
    "1. Identifizierung der Matches, in denen deutsche Spieler beteiligt waren.\n",
    "2. Ermittlung der Gewinn- und Verlustraten deutscher Spieler gegen Spieler anderer Nationen.\n",
    "3. Analyse, ob es bestimmte Nationen gibt, gegen die deutsche Spieler signifikant besser oder schlechter abschneiden."
   ]
  },
  {
   "cell_type": "code",
   "execution_count": 4,
   "metadata": {},
   "outputs": [],
   "source": [
    "german_ioc_code = \"GER\"\n",
    "german_winner_matches = matches[matches[\"winner_ioc\"] == german_ioc_code]\n",
    "german_loser_matches = matches[matches[\"loser_ioc\"] == german_ioc_code]\n",
    "\n",
    "siege = german_winner_matches[\"loser_ioc\"].value_counts()\n",
    "niederlagen = german_loser_matches[\"winner_ioc\"].value_counts()\n",
    "\n",
    "performance = pd.DataFrame({\"Siege\": siege, \"Niederlagen\": niederlagen}).fillna(0)\n",
    "\n",
    "performance[\"Total\"] = performance.sum(axis=1)\n",
    "performance[\"Win_Rate\"] = performance[\"Siege\"] / performance[\"Total\"]\n",
    "performance[\"Loss_Rate\"] = performance[\"Niederlagen\"] / performance[\"Total\"]\n",
    "performance = performance[performance[\"Total\"] >= 10].sort_values(by=\"Win_Rate\", ascending=False)\n",
    "\n",
    "top = 10\n",
    "top_favoriten = performance.head(top)\n",
    "top_rivalen = performance.tail(top)"
   ]
  },
  {
   "cell_type": "code",
   "execution_count": 5,
   "metadata": {},
   "outputs": [
    {
     "name": "stdout",
     "output_type": "stream",
     "text": [
      "Top 10 der besten Win_Rate\n",
      "     |   Siege |   Niederlagen |   Total |   Win_Rate |   Loss_Rate\n",
      "-----+---------+---------------+---------+------------+-------------\n",
      " UNK |      16 |             1 |      17 |   0.941176 |   0.0588235\n",
      " VEN |      20 |             3 |      23 |   0.869565 |   0.130435\n",
      " BOL |      12 |             3 |      15 |   0.8      |   0.2\n",
      " TPE |      24 |             7 |      31 |   0.774194 |   0.225806\n",
      " PHI |      13 |             4 |      17 |   0.764706 |   0.235294\n",
      " CHN |      10 |             4 |      14 |   0.714286 |   0.285714\n",
      " MDA |       7 |             3 |      10 |   0.7      |   0.3\n",
      " THA |      23 |            10 |      33 |   0.69697  |   0.30303\n",
      " CRC |       8 |             4 |      12 |   0.666667 |   0.333333\n",
      " TUN |      12 |             6 |      18 |   0.666667 |   0.333333\n",
      "Top 10 der schlechtesten Win_Rate\n",
      "     |   Siege |   Niederlagen |   Total |   Win_Rate |   Loss_Rate\n",
      "-----+---------+---------------+---------+------------+-------------\n",
      " CYP |      12 |            36 |      48 |   0.25     |    0.75\n",
      " UZB |      11 |            31 |      42 |   0.261905 |    0.738095\n",
      " LTU |       7 |            15 |      22 |   0.318182 |    0.681818\n",
      " MAR |      25 |            43 |      68 |   0.367647 |    0.632353\n",
      " ZIM |      18 |            30 |      48 |   0.375    |    0.625\n",
      " PAR |      17 |            26 |      43 |   0.395349 |    0.604651\n",
      " BUL |      14 |            21 |      35 |   0.4      |    0.6\n",
      " SUI |     169 |           245 |     414 |   0.408213 |    0.591787\n",
      " CHI |      87 |           122 |     209 |   0.416268 |    0.583732\n",
      " SRB |      95 |           133 |     228 |   0.416667 |    0.583333\n"
     ]
    }
   ],
   "source": [
    "print(f'Top {top} der besten {top_favoriten.columns[3]}')\n",
    "print(tabulate(top_favoriten, headers='keys', tablefmt='presto'))\n",
    "print(f'Top {top} der schlechtesten {top_rivalen.columns[3]}')\n",
    "print(tabulate(top_rivalen.sort_values(by=\"Win_Rate\",ascending=True), headers='keys', tablefmt='presto'))"
   ]
  },
  {
   "cell_type": "code",
   "execution_count": 8,
   "metadata": {},
   "outputs": [
    {
     "data": {
      "application/vnd.plotly.v1+json": {
       "config": {
        "plotlyServerURL": "https://plot.ly"
       },
       "data": [
        {
         "alignmentgroup": "True",
         "customdata": [
          [
           16,
           1
          ],
          [
           20,
           3
          ],
          [
           12,
           3
          ],
          [
           24,
           7
          ],
          [
           13,
           4
          ],
          [
           10,
           4
          ],
          [
           7,
           3
          ],
          [
           23,
           10
          ],
          [
           8,
           4
          ],
          [
           12,
           6
          ],
          [
           8,
           4
          ],
          [
           24,
           12
          ],
          [
           9,
           5
          ],
          [
           55,
           33
          ],
          [
           20,
           12
          ],
          [
           10,
           6
          ],
          [
           41,
           25
          ],
          [
           31,
           19
          ],
          [
           13,
           8
          ],
          [
           32,
           21
          ],
          [
           6,
           4
          ],
          [
           35,
           25
          ],
          [
           60,
           43
          ],
          [
           44,
           32
          ],
          [
           215,
           163
          ],
          [
           79,
           60
          ],
          [
           27,
           21
          ],
          [
           18,
           14
          ],
          [
           343,
           292
          ],
          [
           147,
           130
          ],
          [
           65,
           58
          ],
          [
           101,
           91
          ],
          [
           143,
           131
          ],
          [
           201,
           186
          ],
          [
           23,
           23
          ],
          [
           717,
           717
          ],
          [
           13,
           13
          ],
          [
           60,
           61
          ],
          [
           532,
           543
          ],
          [
           780,
           816
          ],
          [
           12,
           13
          ],
          [
           12,
           13
          ],
          [
           93,
           101
          ],
          [
           9,
           10
          ],
          [
           107,
           119
          ],
          [
           223,
           249
          ],
          [
           1256,
           1464
          ],
          [
           185,
           222
          ],
          [
           5,
           6
          ],
          [
           474,
           570
          ],
          [
           33,
           40
          ],
          [
           46,
           56
          ],
          [
           45,
           55
          ],
          [
           373,
           457
          ],
          [
           23,
           29
          ],
          [
           58,
           74
          ],
          [
           307,
           392
          ],
          [
           189,
           248
          ],
          [
           40,
           53
          ],
          [
           358,
           478
          ],
          [
           691,
           945
          ],
          [
           21,
           29
          ],
          [
           95,
           133
          ],
          [
           87,
           122
          ],
          [
           169,
           245
          ],
          [
           14,
           21
          ],
          [
           17,
           26
          ],
          [
           18,
           30
          ],
          [
           25,
           43
          ],
          [
           7,
           15
          ],
          [
           11,
           31
          ],
          [
           12,
           36
          ]
         ],
         "hovertemplate": "variable=Win_Rate<br>index=%{x}<br>value=%{y}<br>Siege=%{customdata[0]}<br>Niederlagen=%{customdata[1]}<extra></extra>",
         "legendgroup": "Win_Rate",
         "marker": {
          "color": "#b2e061",
          "pattern": {
           "shape": ""
          }
         },
         "name": "Win_Rate",
         "offsetgroup": "Win_Rate",
         "orientation": "v",
         "showlegend": true,
         "textposition": "auto",
         "type": "bar",
         "x": [
          "UNK",
          "VEN",
          "BOL",
          "TPE",
          "PHI",
          "CHN",
          "MDA",
          "THA",
          "CRC",
          "TUN",
          "DOM",
          "SLO",
          "MON",
          "DEN",
          "NOR",
          "ARM",
          "MEX",
          "POR",
          "YUG",
          "BLR",
          "BAH",
          "KAZ",
          "IND",
          "COL",
          "RSA",
          "JPN",
          "KOR",
          "EGY",
          "ITA",
          "BEL",
          "ISR",
          "CAN",
          "BRA",
          "AUT",
          "GRE",
          "GER",
          "LAT",
          "HUN",
          "AUS",
          "FRA",
          "BIH",
          "GEO",
          "SVK",
          "LUX",
          "ROU",
          "NED",
          "USA",
          "GBR",
          "TUR",
          "SWE",
          "ECU",
          "FIN",
          "UKR",
          "CZE",
          "URU",
          "NZL",
          "RUS",
          "CRO",
          "POL",
          "ARG",
          "ESP",
          "PER",
          "SRB",
          "CHI",
          "SUI",
          "BUL",
          "PAR",
          "ZIM",
          "MAR",
          "LTU",
          "UZB",
          "CYP"
         ],
         "xaxis": "x",
         "y": [
          0.9411764705882353,
          0.8695652173913043,
          0.8,
          0.7741935483870968,
          0.7647058823529411,
          0.7142857142857143,
          0.7,
          0.696969696969697,
          0.6666666666666666,
          0.6666666666666666,
          0.6666666666666666,
          0.6666666666666666,
          0.6428571428571429,
          0.625,
          0.625,
          0.625,
          0.6212121212121212,
          0.62,
          0.6190476190476191,
          0.6037735849056604,
          0.6,
          0.5833333333333334,
          0.5825242718446602,
          0.5789473684210527,
          0.5687830687830688,
          0.5683453237410072,
          0.5625,
          0.5625,
          0.5401574803149606,
          0.5306859205776173,
          0.5284552845528455,
          0.5260416666666666,
          0.5218978102189781,
          0.5193798449612403,
          0.5,
          0.5,
          0.5,
          0.49586776859504134,
          0.4948837209302326,
          0.48872180451127817,
          0.48,
          0.48,
          0.4793814432989691,
          0.47368421052631576,
          0.47345132743362833,
          0.4724576271186441,
          0.46176470588235297,
          0.45454545454545453,
          0.45454545454545453,
          0.4540229885057471,
          0.4520547945205479,
          0.45098039215686275,
          0.45,
          0.4493975903614458,
          0.4423076923076923,
          0.4393939393939394,
          0.43919885550786836,
          0.43249427917620137,
          0.43010752688172044,
          0.42822966507177035,
          0.4223716381418093,
          0.42,
          0.4166666666666667,
          0.41626794258373206,
          0.4082125603864734,
          0.4,
          0.3953488372093023,
          0.375,
          0.36764705882352944,
          0.3181818181818182,
          0.2619047619047619,
          0.25
         ],
         "yaxis": "y"
        },
        {
         "alignmentgroup": "True",
         "customdata": [
          [
           16,
           1
          ],
          [
           20,
           3
          ],
          [
           12,
           3
          ],
          [
           24,
           7
          ],
          [
           13,
           4
          ],
          [
           10,
           4
          ],
          [
           7,
           3
          ],
          [
           23,
           10
          ],
          [
           8,
           4
          ],
          [
           12,
           6
          ],
          [
           8,
           4
          ],
          [
           24,
           12
          ],
          [
           9,
           5
          ],
          [
           55,
           33
          ],
          [
           20,
           12
          ],
          [
           10,
           6
          ],
          [
           41,
           25
          ],
          [
           31,
           19
          ],
          [
           13,
           8
          ],
          [
           32,
           21
          ],
          [
           6,
           4
          ],
          [
           35,
           25
          ],
          [
           60,
           43
          ],
          [
           44,
           32
          ],
          [
           215,
           163
          ],
          [
           79,
           60
          ],
          [
           27,
           21
          ],
          [
           18,
           14
          ],
          [
           343,
           292
          ],
          [
           147,
           130
          ],
          [
           65,
           58
          ],
          [
           101,
           91
          ],
          [
           143,
           131
          ],
          [
           201,
           186
          ],
          [
           23,
           23
          ],
          [
           717,
           717
          ],
          [
           13,
           13
          ],
          [
           60,
           61
          ],
          [
           532,
           543
          ],
          [
           780,
           816
          ],
          [
           12,
           13
          ],
          [
           12,
           13
          ],
          [
           93,
           101
          ],
          [
           9,
           10
          ],
          [
           107,
           119
          ],
          [
           223,
           249
          ],
          [
           1256,
           1464
          ],
          [
           185,
           222
          ],
          [
           5,
           6
          ],
          [
           474,
           570
          ],
          [
           33,
           40
          ],
          [
           46,
           56
          ],
          [
           45,
           55
          ],
          [
           373,
           457
          ],
          [
           23,
           29
          ],
          [
           58,
           74
          ],
          [
           307,
           392
          ],
          [
           189,
           248
          ],
          [
           40,
           53
          ],
          [
           358,
           478
          ],
          [
           691,
           945
          ],
          [
           21,
           29
          ],
          [
           95,
           133
          ],
          [
           87,
           122
          ],
          [
           169,
           245
          ],
          [
           14,
           21
          ],
          [
           17,
           26
          ],
          [
           18,
           30
          ],
          [
           25,
           43
          ],
          [
           7,
           15
          ],
          [
           11,
           31
          ],
          [
           12,
           36
          ]
         ],
         "hovertemplate": "variable=Loss_Rate<br>index=%{x}<br>value=%{y}<br>Siege=%{customdata[0]}<br>Niederlagen=%{customdata[1]}<extra></extra>",
         "legendgroup": "Loss_Rate",
         "marker": {
          "color": "#fd7f6f",
          "pattern": {
           "shape": ""
          }
         },
         "name": "Loss_Rate",
         "offsetgroup": "Loss_Rate",
         "orientation": "v",
         "showlegend": true,
         "textposition": "auto",
         "type": "bar",
         "x": [
          "UNK",
          "VEN",
          "BOL",
          "TPE",
          "PHI",
          "CHN",
          "MDA",
          "THA",
          "CRC",
          "TUN",
          "DOM",
          "SLO",
          "MON",
          "DEN",
          "NOR",
          "ARM",
          "MEX",
          "POR",
          "YUG",
          "BLR",
          "BAH",
          "KAZ",
          "IND",
          "COL",
          "RSA",
          "JPN",
          "KOR",
          "EGY",
          "ITA",
          "BEL",
          "ISR",
          "CAN",
          "BRA",
          "AUT",
          "GRE",
          "GER",
          "LAT",
          "HUN",
          "AUS",
          "FRA",
          "BIH",
          "GEO",
          "SVK",
          "LUX",
          "ROU",
          "NED",
          "USA",
          "GBR",
          "TUR",
          "SWE",
          "ECU",
          "FIN",
          "UKR",
          "CZE",
          "URU",
          "NZL",
          "RUS",
          "CRO",
          "POL",
          "ARG",
          "ESP",
          "PER",
          "SRB",
          "CHI",
          "SUI",
          "BUL",
          "PAR",
          "ZIM",
          "MAR",
          "LTU",
          "UZB",
          "CYP"
         ],
         "xaxis": "x",
         "y": [
          0.058823529411764705,
          0.13043478260869565,
          0.2,
          0.22580645161290322,
          0.23529411764705882,
          0.2857142857142857,
          0.3,
          0.30303030303030304,
          0.3333333333333333,
          0.3333333333333333,
          0.3333333333333333,
          0.3333333333333333,
          0.35714285714285715,
          0.375,
          0.375,
          0.375,
          0.3787878787878788,
          0.38,
          0.38095238095238093,
          0.39622641509433965,
          0.4,
          0.4166666666666667,
          0.4174757281553398,
          0.42105263157894735,
          0.4312169312169312,
          0.4316546762589928,
          0.4375,
          0.4375,
          0.45984251968503936,
          0.4693140794223827,
          0.4715447154471545,
          0.4739583333333333,
          0.4781021897810219,
          0.4806201550387597,
          0.5,
          0.5,
          0.5,
          0.5041322314049587,
          0.5051162790697674,
          0.5112781954887218,
          0.52,
          0.52,
          0.520618556701031,
          0.5263157894736842,
          0.5265486725663717,
          0.527542372881356,
          0.538235294117647,
          0.5454545454545454,
          0.5454545454545454,
          0.5459770114942529,
          0.547945205479452,
          0.5490196078431373,
          0.55,
          0.5506024096385542,
          0.5576923076923077,
          0.5606060606060606,
          0.5608011444921316,
          0.5675057208237986,
          0.5698924731182796,
          0.5717703349282297,
          0.5776283618581907,
          0.58,
          0.5833333333333334,
          0.583732057416268,
          0.5917874396135265,
          0.6,
          0.6046511627906976,
          0.625,
          0.6323529411764706,
          0.6818181818181818,
          0.7380952380952381,
          0.75
         ],
         "yaxis": "y"
        }
       ],
       "layout": {
        "barmode": "relative",
        "legend": {
         "title": {
          "text": "variable"
         },
         "tracegroupgap": 0
        },
        "template": {
         "data": {
          "bar": [
           {
            "error_x": {
             "color": "#2a3f5f"
            },
            "error_y": {
             "color": "#2a3f5f"
            },
            "marker": {
             "line": {
              "color": "#E5ECF6",
              "width": 0.5
             },
             "pattern": {
              "fillmode": "overlay",
              "size": 10,
              "solidity": 0.2
             }
            },
            "type": "bar"
           }
          ],
          "barpolar": [
           {
            "marker": {
             "line": {
              "color": "#E5ECF6",
              "width": 0.5
             },
             "pattern": {
              "fillmode": "overlay",
              "size": 10,
              "solidity": 0.2
             }
            },
            "type": "barpolar"
           }
          ],
          "carpet": [
           {
            "aaxis": {
             "endlinecolor": "#2a3f5f",
             "gridcolor": "white",
             "linecolor": "white",
             "minorgridcolor": "white",
             "startlinecolor": "#2a3f5f"
            },
            "baxis": {
             "endlinecolor": "#2a3f5f",
             "gridcolor": "white",
             "linecolor": "white",
             "minorgridcolor": "white",
             "startlinecolor": "#2a3f5f"
            },
            "type": "carpet"
           }
          ],
          "choropleth": [
           {
            "colorbar": {
             "outlinewidth": 0,
             "ticks": ""
            },
            "type": "choropleth"
           }
          ],
          "contour": [
           {
            "colorbar": {
             "outlinewidth": 0,
             "ticks": ""
            },
            "colorscale": [
             [
              0,
              "#0d0887"
             ],
             [
              0.1111111111111111,
              "#46039f"
             ],
             [
              0.2222222222222222,
              "#7201a8"
             ],
             [
              0.3333333333333333,
              "#9c179e"
             ],
             [
              0.4444444444444444,
              "#bd3786"
             ],
             [
              0.5555555555555556,
              "#d8576b"
             ],
             [
              0.6666666666666666,
              "#ed7953"
             ],
             [
              0.7777777777777778,
              "#fb9f3a"
             ],
             [
              0.8888888888888888,
              "#fdca26"
             ],
             [
              1,
              "#f0f921"
             ]
            ],
            "type": "contour"
           }
          ],
          "contourcarpet": [
           {
            "colorbar": {
             "outlinewidth": 0,
             "ticks": ""
            },
            "type": "contourcarpet"
           }
          ],
          "heatmap": [
           {
            "colorbar": {
             "outlinewidth": 0,
             "ticks": ""
            },
            "colorscale": [
             [
              0,
              "#0d0887"
             ],
             [
              0.1111111111111111,
              "#46039f"
             ],
             [
              0.2222222222222222,
              "#7201a8"
             ],
             [
              0.3333333333333333,
              "#9c179e"
             ],
             [
              0.4444444444444444,
              "#bd3786"
             ],
             [
              0.5555555555555556,
              "#d8576b"
             ],
             [
              0.6666666666666666,
              "#ed7953"
             ],
             [
              0.7777777777777778,
              "#fb9f3a"
             ],
             [
              0.8888888888888888,
              "#fdca26"
             ],
             [
              1,
              "#f0f921"
             ]
            ],
            "type": "heatmap"
           }
          ],
          "heatmapgl": [
           {
            "colorbar": {
             "outlinewidth": 0,
             "ticks": ""
            },
            "colorscale": [
             [
              0,
              "#0d0887"
             ],
             [
              0.1111111111111111,
              "#46039f"
             ],
             [
              0.2222222222222222,
              "#7201a8"
             ],
             [
              0.3333333333333333,
              "#9c179e"
             ],
             [
              0.4444444444444444,
              "#bd3786"
             ],
             [
              0.5555555555555556,
              "#d8576b"
             ],
             [
              0.6666666666666666,
              "#ed7953"
             ],
             [
              0.7777777777777778,
              "#fb9f3a"
             ],
             [
              0.8888888888888888,
              "#fdca26"
             ],
             [
              1,
              "#f0f921"
             ]
            ],
            "type": "heatmapgl"
           }
          ],
          "histogram": [
           {
            "marker": {
             "pattern": {
              "fillmode": "overlay",
              "size": 10,
              "solidity": 0.2
             }
            },
            "type": "histogram"
           }
          ],
          "histogram2d": [
           {
            "colorbar": {
             "outlinewidth": 0,
             "ticks": ""
            },
            "colorscale": [
             [
              0,
              "#0d0887"
             ],
             [
              0.1111111111111111,
              "#46039f"
             ],
             [
              0.2222222222222222,
              "#7201a8"
             ],
             [
              0.3333333333333333,
              "#9c179e"
             ],
             [
              0.4444444444444444,
              "#bd3786"
             ],
             [
              0.5555555555555556,
              "#d8576b"
             ],
             [
              0.6666666666666666,
              "#ed7953"
             ],
             [
              0.7777777777777778,
              "#fb9f3a"
             ],
             [
              0.8888888888888888,
              "#fdca26"
             ],
             [
              1,
              "#f0f921"
             ]
            ],
            "type": "histogram2d"
           }
          ],
          "histogram2dcontour": [
           {
            "colorbar": {
             "outlinewidth": 0,
             "ticks": ""
            },
            "colorscale": [
             [
              0,
              "#0d0887"
             ],
             [
              0.1111111111111111,
              "#46039f"
             ],
             [
              0.2222222222222222,
              "#7201a8"
             ],
             [
              0.3333333333333333,
              "#9c179e"
             ],
             [
              0.4444444444444444,
              "#bd3786"
             ],
             [
              0.5555555555555556,
              "#d8576b"
             ],
             [
              0.6666666666666666,
              "#ed7953"
             ],
             [
              0.7777777777777778,
              "#fb9f3a"
             ],
             [
              0.8888888888888888,
              "#fdca26"
             ],
             [
              1,
              "#f0f921"
             ]
            ],
            "type": "histogram2dcontour"
           }
          ],
          "mesh3d": [
           {
            "colorbar": {
             "outlinewidth": 0,
             "ticks": ""
            },
            "type": "mesh3d"
           }
          ],
          "parcoords": [
           {
            "line": {
             "colorbar": {
              "outlinewidth": 0,
              "ticks": ""
             }
            },
            "type": "parcoords"
           }
          ],
          "pie": [
           {
            "automargin": true,
            "type": "pie"
           }
          ],
          "scatter": [
           {
            "fillpattern": {
             "fillmode": "overlay",
             "size": 10,
             "solidity": 0.2
            },
            "type": "scatter"
           }
          ],
          "scatter3d": [
           {
            "line": {
             "colorbar": {
              "outlinewidth": 0,
              "ticks": ""
             }
            },
            "marker": {
             "colorbar": {
              "outlinewidth": 0,
              "ticks": ""
             }
            },
            "type": "scatter3d"
           }
          ],
          "scattercarpet": [
           {
            "marker": {
             "colorbar": {
              "outlinewidth": 0,
              "ticks": ""
             }
            },
            "type": "scattercarpet"
           }
          ],
          "scattergeo": [
           {
            "marker": {
             "colorbar": {
              "outlinewidth": 0,
              "ticks": ""
             }
            },
            "type": "scattergeo"
           }
          ],
          "scattergl": [
           {
            "marker": {
             "colorbar": {
              "outlinewidth": 0,
              "ticks": ""
             }
            },
            "type": "scattergl"
           }
          ],
          "scattermapbox": [
           {
            "marker": {
             "colorbar": {
              "outlinewidth": 0,
              "ticks": ""
             }
            },
            "type": "scattermapbox"
           }
          ],
          "scatterpolar": [
           {
            "marker": {
             "colorbar": {
              "outlinewidth": 0,
              "ticks": ""
             }
            },
            "type": "scatterpolar"
           }
          ],
          "scatterpolargl": [
           {
            "marker": {
             "colorbar": {
              "outlinewidth": 0,
              "ticks": ""
             }
            },
            "type": "scatterpolargl"
           }
          ],
          "scatterternary": [
           {
            "marker": {
             "colorbar": {
              "outlinewidth": 0,
              "ticks": ""
             }
            },
            "type": "scatterternary"
           }
          ],
          "surface": [
           {
            "colorbar": {
             "outlinewidth": 0,
             "ticks": ""
            },
            "colorscale": [
             [
              0,
              "#0d0887"
             ],
             [
              0.1111111111111111,
              "#46039f"
             ],
             [
              0.2222222222222222,
              "#7201a8"
             ],
             [
              0.3333333333333333,
              "#9c179e"
             ],
             [
              0.4444444444444444,
              "#bd3786"
             ],
             [
              0.5555555555555556,
              "#d8576b"
             ],
             [
              0.6666666666666666,
              "#ed7953"
             ],
             [
              0.7777777777777778,
              "#fb9f3a"
             ],
             [
              0.8888888888888888,
              "#fdca26"
             ],
             [
              1,
              "#f0f921"
             ]
            ],
            "type": "surface"
           }
          ],
          "table": [
           {
            "cells": {
             "fill": {
              "color": "#EBF0F8"
             },
             "line": {
              "color": "white"
             }
            },
            "header": {
             "fill": {
              "color": "#C8D4E3"
             },
             "line": {
              "color": "white"
             }
            },
            "type": "table"
           }
          ]
         },
         "layout": {
          "annotationdefaults": {
           "arrowcolor": "#2a3f5f",
           "arrowhead": 0,
           "arrowwidth": 1
          },
          "autotypenumbers": "strict",
          "coloraxis": {
           "colorbar": {
            "outlinewidth": 0,
            "ticks": ""
           }
          },
          "colorscale": {
           "diverging": [
            [
             0,
             "#8e0152"
            ],
            [
             0.1,
             "#c51b7d"
            ],
            [
             0.2,
             "#de77ae"
            ],
            [
             0.3,
             "#f1b6da"
            ],
            [
             0.4,
             "#fde0ef"
            ],
            [
             0.5,
             "#f7f7f7"
            ],
            [
             0.6,
             "#e6f5d0"
            ],
            [
             0.7,
             "#b8e186"
            ],
            [
             0.8,
             "#7fbc41"
            ],
            [
             0.9,
             "#4d9221"
            ],
            [
             1,
             "#276419"
            ]
           ],
           "sequential": [
            [
             0,
             "#0d0887"
            ],
            [
             0.1111111111111111,
             "#46039f"
            ],
            [
             0.2222222222222222,
             "#7201a8"
            ],
            [
             0.3333333333333333,
             "#9c179e"
            ],
            [
             0.4444444444444444,
             "#bd3786"
            ],
            [
             0.5555555555555556,
             "#d8576b"
            ],
            [
             0.6666666666666666,
             "#ed7953"
            ],
            [
             0.7777777777777778,
             "#fb9f3a"
            ],
            [
             0.8888888888888888,
             "#fdca26"
            ],
            [
             1,
             "#f0f921"
            ]
           ],
           "sequentialminus": [
            [
             0,
             "#0d0887"
            ],
            [
             0.1111111111111111,
             "#46039f"
            ],
            [
             0.2222222222222222,
             "#7201a8"
            ],
            [
             0.3333333333333333,
             "#9c179e"
            ],
            [
             0.4444444444444444,
             "#bd3786"
            ],
            [
             0.5555555555555556,
             "#d8576b"
            ],
            [
             0.6666666666666666,
             "#ed7953"
            ],
            [
             0.7777777777777778,
             "#fb9f3a"
            ],
            [
             0.8888888888888888,
             "#fdca26"
            ],
            [
             1,
             "#f0f921"
            ]
           ]
          },
          "colorway": [
           "#636efa",
           "#EF553B",
           "#00cc96",
           "#ab63fa",
           "#FFA15A",
           "#19d3f3",
           "#FF6692",
           "#B6E880",
           "#FF97FF",
           "#FECB52"
          ],
          "font": {
           "color": "#2a3f5f"
          },
          "geo": {
           "bgcolor": "white",
           "lakecolor": "white",
           "landcolor": "#E5ECF6",
           "showlakes": true,
           "showland": true,
           "subunitcolor": "white"
          },
          "hoverlabel": {
           "align": "left"
          },
          "hovermode": "closest",
          "mapbox": {
           "style": "light"
          },
          "paper_bgcolor": "white",
          "plot_bgcolor": "#E5ECF6",
          "polar": {
           "angularaxis": {
            "gridcolor": "white",
            "linecolor": "white",
            "ticks": ""
           },
           "bgcolor": "#E5ECF6",
           "radialaxis": {
            "gridcolor": "white",
            "linecolor": "white",
            "ticks": ""
           }
          },
          "scene": {
           "xaxis": {
            "backgroundcolor": "#E5ECF6",
            "gridcolor": "white",
            "gridwidth": 2,
            "linecolor": "white",
            "showbackground": true,
            "ticks": "",
            "zerolinecolor": "white"
           },
           "yaxis": {
            "backgroundcolor": "#E5ECF6",
            "gridcolor": "white",
            "gridwidth": 2,
            "linecolor": "white",
            "showbackground": true,
            "ticks": "",
            "zerolinecolor": "white"
           },
           "zaxis": {
            "backgroundcolor": "#E5ECF6",
            "gridcolor": "white",
            "gridwidth": 2,
            "linecolor": "white",
            "showbackground": true,
            "ticks": "",
            "zerolinecolor": "white"
           }
          },
          "shapedefaults": {
           "line": {
            "color": "#2a3f5f"
           }
          },
          "ternary": {
           "aaxis": {
            "gridcolor": "white",
            "linecolor": "white",
            "ticks": ""
           },
           "baxis": {
            "gridcolor": "white",
            "linecolor": "white",
            "ticks": ""
           },
           "bgcolor": "#E5ECF6",
           "caxis": {
            "gridcolor": "white",
            "linecolor": "white",
            "ticks": ""
           }
          },
          "title": {
           "x": 0.05
          },
          "xaxis": {
           "automargin": true,
           "gridcolor": "white",
           "linecolor": "white",
           "ticks": "",
           "title": {
            "standoff": 15
           },
           "zerolinecolor": "white",
           "zerolinewidth": 2
          },
          "yaxis": {
           "automargin": true,
           "gridcolor": "white",
           "linecolor": "white",
           "ticks": "",
           "title": {
            "standoff": 15
           },
           "zerolinecolor": "white",
           "zerolinewidth": 2
          }
         }
        },
        "title": {
         "text": "Gewinn- und Verlustrate der deutschen Tennisspieler gegen andere Nationen"
        },
        "xaxis": {
         "anchor": "y",
         "domain": [
          0,
          1
         ],
         "title": {
          "text": "Gegner Nationen"
         }
        },
        "yaxis": {
         "anchor": "x",
         "domain": [
          0,
          1
         ],
         "tickformat": ".2%",
         "title": {
          "text": "Gewinnrate"
         }
        }
       }
      }
     },
     "metadata": {},
     "output_type": "display_data"
    }
   ],
   "source": [
    "# plot win_loss_rate, sorted by win_rate using plotly.express\n",
    "fig = px.bar(performance.sort_values('Win_Rate', ascending=False), \n",
    "             y=['Win_Rate', 'Loss_Rate'], \n",
    "             title='Gewinn- und Verlustrate der deutschen Tennisspieler gegen andere Nationen',\n",
    "             hover_data=['Siege', 'Niederlagen'],\n",
    "             color_discrete_sequence=[\"#b2e061\", \"#fd7f6f\"])\n",
    "\n",
    "\n",
    "fig.update_yaxes(tickformat=\".2%\")\n",
    "fig.update_yaxes(title='Gewinnrate')\n",
    "fig.update_xaxes(title='Gegner Nationen')\n",
    "fig.show()\n"
   ]
  },
  {
   "cell_type": "code",
   "execution_count": null,
   "metadata": {},
   "outputs": [],
   "source": [
    "rankings_unique = rankings.drop_duplicates('player', keep='last')\n",
    "dfconcat = pd.merge(players, rankings_unique, left_on='player_id', right_on='player', how='left')"
   ]
  },
  {
   "cell_type": "code",
   "execution_count": null,
   "metadata": {},
   "outputs": [
    {
     "data": {
      "text/html": [
       "<div>\n",
       "<style scoped>\n",
       "    .dataframe tbody tr th:only-of-type {\n",
       "        vertical-align: middle;\n",
       "    }\n",
       "\n",
       "    .dataframe tbody tr th {\n",
       "        vertical-align: top;\n",
       "    }\n",
       "\n",
       "    .dataframe thead th {\n",
       "        text-align: right;\n",
       "    }\n",
       "</style>\n",
       "<table border=\"1\" class=\"dataframe\">\n",
       "  <thead>\n",
       "    <tr style=\"text-align: right;\">\n",
       "      <th></th>\n",
       "      <th>ranking_date</th>\n",
       "      <th>rank</th>\n",
       "      <th>player</th>\n",
       "      <th>points</th>\n",
       "    </tr>\n",
       "  </thead>\n",
       "  <tbody>\n",
       "    <tr>\n",
       "      <th>1169016</th>\n",
       "      <td>19770704</td>\n",
       "      <td>366</td>\n",
       "      <td>100001</td>\n",
       "      <td>NaN</td>\n",
       "    </tr>\n",
       "    <tr>\n",
       "      <th>1169419</th>\n",
       "      <td>19780102</td>\n",
       "      <td>414</td>\n",
       "      <td>100001</td>\n",
       "      <td>NaN</td>\n",
       "    </tr>\n",
       "    <tr>\n",
       "      <th>1169888</th>\n",
       "      <td>19780116</td>\n",
       "      <td>397</td>\n",
       "      <td>100001</td>\n",
       "      <td>NaN</td>\n",
       "    </tr>\n",
       "    <tr>\n",
       "      <th>1166893</th>\n",
       "      <td>19750505</td>\n",
       "      <td>399</td>\n",
       "      <td>100002</td>\n",
       "      <td>NaN</td>\n",
       "    </tr>\n",
       "    <tr>\n",
       "      <th>1167847</th>\n",
       "      <td>19751215</td>\n",
       "      <td>373</td>\n",
       "      <td>100002</td>\n",
       "      <td>NaN</td>\n",
       "    </tr>\n",
       "    <tr>\n",
       "      <th>...</th>\n",
       "      <td>...</td>\n",
       "      <td>...</td>\n",
       "      <td>...</td>\n",
       "      <td>...</td>\n",
       "    </tr>\n",
       "    <tr>\n",
       "      <th>1157915</th>\n",
       "      <td>20221219</td>\n",
       "      <td>1470</td>\n",
       "      <td>211758</td>\n",
       "      <td>2.0</td>\n",
       "    </tr>\n",
       "    <tr>\n",
       "      <th>1159907</th>\n",
       "      <td>20221226</td>\n",
       "      <td>1469</td>\n",
       "      <td>211758</td>\n",
       "      <td>2.0</td>\n",
       "    </tr>\n",
       "    <tr>\n",
       "      <th>1158120</th>\n",
       "      <td>20221219</td>\n",
       "      <td>1645</td>\n",
       "      <td>211763</td>\n",
       "      <td>1.0</td>\n",
       "    </tr>\n",
       "    <tr>\n",
       "      <th>1160117</th>\n",
       "      <td>20221226</td>\n",
       "      <td>1650</td>\n",
       "      <td>211763</td>\n",
       "      <td>1.0</td>\n",
       "    </tr>\n",
       "    <tr>\n",
       "      <th>1159504</th>\n",
       "      <td>20221226</td>\n",
       "      <td>1082</td>\n",
       "      <td>211767</td>\n",
       "      <td>8.0</td>\n",
       "    </tr>\n",
       "  </tbody>\n",
       "</table>\n",
       "<p>3113261 rows × 4 columns</p>\n",
       "</div>"
      ],
      "text/plain": [
       "         ranking_date  rank  player  points\n",
       "1169016      19770704   366  100001     NaN\n",
       "1169419      19780102   414  100001     NaN\n",
       "1169888      19780116   397  100001     NaN\n",
       "1166893      19750505   399  100002     NaN\n",
       "1167847      19751215   373  100002     NaN\n",
       "...               ...   ...     ...     ...\n",
       "1157915      20221219  1470  211758     2.0\n",
       "1159907      20221226  1469  211758     2.0\n",
       "1158120      20221219  1645  211763     1.0\n",
       "1160117      20221226  1650  211763     1.0\n",
       "1159504      20221226  1082  211767     8.0\n",
       "\n",
       "[3113261 rows x 4 columns]"
      ]
     },
     "execution_count": 10,
     "metadata": {},
     "output_type": "execute_result"
    }
   ],
   "source": [
    "rankings.sort_values('player')"
   ]
  },
  {
   "cell_type": "markdown",
   "metadata": {},
   "source": [
    "## H2: Gibt es „Angstgegner“ einzelner deutscher Spieler, d.h. Paarungen, bei denen der deutsche Spieler schlechter abschneidet, als es aufgrund der allgemeinen Spielstärke beider Spieler zu erwarten ist? Gibt es analog „Lieblingsgegner“ einzelner deutscher Spieler?"
   ]
  },
  {
   "cell_type": "markdown",
   "metadata": {},
   "source": [
    "1. Laden der Daten und Vorbereitung:\n",
    "- Laden der Match-Daten und Spielerdaten.\n",
    "- Filtern der Daten für deutsche Spieler.\n",
    "2. Berechnung der allgemeinen Spielstärke:\n",
    "- Berechnung der Gewinn-Verlust-Bilanz für jeden deutschen Spieler.\n",
    "3. Analyse der Leistung gegen spezifische Gegner:\n",
    "- Extraktion der Gegner für die ersten fünf deutschen Spieler.\n",
    "- Berechnung der Gewinn- und Verlustbilanz gegen diese Gegner.\n",
    "4. Identifikation von \"Angstgegnern\" und \"Lieblingsgegnern\":\n",
    "- Vergleich der spezifischen Gewinnrate mit der allgemeinen Gewinnrate."
   ]
  }
 ],
 "metadata": {
  "kernelspec": {
   "display_name": "bv",
   "language": "python",
   "name": "python3"
  },
  "language_info": {
   "codemirror_mode": {
    "name": "ipython",
    "version": 3
   },
   "file_extension": ".py",
   "mimetype": "text/x-python",
   "name": "python",
   "nbconvert_exporter": "python",
   "pygments_lexer": "ipython3",
   "version": "3.10.11"
  }
 },
 "nbformat": 4,
 "nbformat_minor": 2
}
