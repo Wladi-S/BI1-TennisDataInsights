{
 "cells": [
  {
   "cell_type": "code",
   "execution_count": 1,
   "metadata": {},
   "outputs": [],
   "source": [
    "import numpy as np\n",
    "import pandas as pd\n",
    "import matplotlib.pyplot as plt\n",
    "import plotly.express as px\n",
    "from tabulate import tabulate"
   ]
  },
  {
   "cell_type": "code",
   "execution_count": 2,
   "metadata": {},
   "outputs": [],
   "source": [
    "matches = pd.read_csv('../data/raw/atp_matches_till_2022.csv')"
   ]
  },
  {
   "cell_type": "code",
   "execution_count": 3,
   "metadata": {},
   "outputs": [],
   "source": [
    "df = matches[['tourney_id', 'surface', 'draw_size', 'tourney_level', 'tourney_date', 'match_num', \n",
    "        'winner_id', 'winner_seed', 'winner_entry', 'winner_hand', 'winner_ht', 'winner_ioc', 'winner_age',\n",
    "        'loser_id', 'loser_seed', 'loser_entry', 'loser_hand', 'loser_ht', 'loser_ioc', 'loser_age', \n",
    "        'best_of', 'round',\n",
    "        'winner_rank', 'loser_rank']]"
   ]
  },
  {
   "cell_type": "code",
   "execution_count": 4,
   "metadata": {},
   "outputs": [],
   "source": [
    "import pandas as pd\n",
    "from sklearn.model_selection import train_test_split\n",
    "from sklearn.ensemble import RandomForestClassifier\n",
    "from sklearn.preprocessing import StandardScaler\n",
    "\n",
    "# Laden der Daten\n",
    "matches = pd.read_csv('../data/raw/atp_matches_till_2022.csv')\n",
    "\n",
    "# Korrektur der initialen Datenbereinigung und -auswahl, um die IOC-Spalten einzubeziehen\n",
    "relevant_columns_including_ioc = ['surface', 'tourney_level', 'winner_id', 'loser_id', \n",
    "                                  'winner_rank', 'loser_rank', 'winner_rank_points', 'loser_rank_points', \n",
    "                                  'winner_ioc', 'loser_ioc']\n",
    "matches_cleaned_including_ioc = matches[relevant_columns_including_ioc].dropna()\n",
    "\n",
    "# Funktion zur Symmetrisierung des Datensatzes\n",
    "def symmetrize_dataset_corrected(data):\n",
    "    sym_data = data.copy()\n",
    "    sym_data['rank_difference'] = sym_data['winner_rank'] - sym_data['loser_rank']\n",
    "    sym_data['points_difference'] = sym_data['winner_rank_points'] - sym_data['loser_rank_points']\n",
    "    sym_data['player_wins'] = 1\n",
    "\n",
    "    sym_data_opponent = sym_data.copy()\n",
    "    sym_data_opponent[['winner_rank', 'loser_rank']] = sym_data_opponent[['loser_rank', 'winner_rank']]\n",
    "    sym_data_opponent[['winner_rank_points', 'loser_rank_points']] = sym_data_opponent[['loser_rank_points', 'winner_rank_points']]\n",
    "    sym_data_opponent[['winner_ioc', 'loser_ioc']] = sym_data_opponent[['loser_ioc', 'winner_ioc']]\n",
    "    sym_data_opponent['rank_difference'] = -sym_data_opponent['rank_difference']\n",
    "    sym_data_opponent['points_difference'] = -sym_data_opponent['points_difference']\n",
    "    sym_data_opponent['player_wins'] = 0\n",
    "\n",
    "    combined_sym_data = pd.concat([sym_data, sym_data_opponent], ignore_index=True)\n",
    "    return combined_sym_data\n",
    "\n",
    "# Anwendung der Funktion\n",
    "symmetric_matches_corrected_including_ioc = symmetrize_dataset_corrected(matches_cleaned_including_ioc)\n",
    "\n",
    "# Auswahl der Features und der Zielvariable\n",
    "X_sym_corrected_including_ioc = symmetric_matches_corrected_including_ioc.drop(['winner_id', 'loser_id', 'player_wins'], axis=1)\n",
    "y_sym_corrected_including_ioc = symmetric_matches_corrected_including_ioc['player_wins']\n",
    "\n",
    "# Umwandlung von kategorischen Daten in numerische\n",
    "X_sym_corrected_including_ioc = pd.get_dummies(X_sym_corrected_including_ioc, columns=['surface', 'tourney_level', 'winner_ioc', 'loser_ioc'])\n",
    "\n",
    "# Aufteilung der Daten in Trainings- und Testsets\n",
    "X_train_sym_corr_inc_ioc, X_test_sym_corr_inc_ioc, y_train_sym_corr_inc_ioc, y_test_sym_corr_inc_ioc = train_test_split(X_sym_corrected_including_ioc, y_sym_corrected_including_ioc, test_size=0.3, random_state=42)\n",
    "\n",
    "# Skalierung der Features\n",
    "scaler_sym_corr_inc_ioc = StandardScaler()\n",
    "X_train_scaled_sym_corr_inc_ioc = scaler_sym_corr_inc_ioc.fit_transform(X_train_sym_corr_inc_ioc)\n",
    "X_test_scaled_sym_corr_inc_ioc = scaler_sym_corr_inc_ioc.transform(X_test_sym_corr_inc_ioc)\n",
    "\n",
    "# Modellerstellung und Training\n",
    "model_sym_corr_inc_ioc = RandomForestClassifier(random_state=42)\n",
    "model_sym_corr_inc_ioc.fit(X_train_scaled_sym_corr_inc_ioc, y_train_sym_corr_inc_ioc)\n",
    "\n",
    "# Modellbewertung\n",
    "accuracy_sym_corr_inc_ioc = model_sym_corr_inc_ioc.score(X_test_scaled_sym_corr_inc_ioc, y_test_sym_corr_inc_ioc)\n"
   ]
  },
  {
   "cell_type": "code",
   "execution_count": 6,
   "metadata": {},
   "outputs": [
    {
     "name": "stderr",
     "output_type": "stream",
     "text": [
      "c:\\Users\\Wladi\\anaconda3\\lib\\site-packages\\sklearn\\base.py:413: UserWarning: X has feature names, but RandomForestClassifier was fitted without feature names\n",
      "  warnings.warn(\n"
     ]
    },
    {
     "name": "stdout",
     "output_type": "stream",
     "text": [
      "Accuracy Trainingsdaten: 0.6492097859664607\n"
     ]
    },
    {
     "name": "stderr",
     "output_type": "stream",
     "text": [
      "c:\\Users\\Wladi\\anaconda3\\lib\\site-packages\\sklearn\\base.py:413: UserWarning: X has feature names, but RandomForestClassifier was fitted without feature names\n",
      "  warnings.warn(\n"
     ]
    },
    {
     "name": "stdout",
     "output_type": "stream",
     "text": [
      "Accuracy Testdaten: 0.6486147311516556\n"
     ]
    }
   ],
   "source": [
    "print(f\"Accuracy Trainingsdaten: {model_sym_corr_inc_ioc.score(X_train_sym_corr_inc_ioc, y_train_sym_corr_inc_ioc)}\")\n",
    "print(f\"Accuracy Testdaten: {model_sym_corr_inc_ioc.score(X_test_sym_corr_inc_ioc, y_test_sym_corr_inc_ioc)}\")"
   ]
  },
  {
   "cell_type": "code",
   "execution_count": 5,
   "metadata": {},
   "outputs": [
    {
     "data": {
      "text/html": [
       "<div>\n",
       "<style scoped>\n",
       "    .dataframe tbody tr th:only-of-type {\n",
       "        vertical-align: middle;\n",
       "    }\n",
       "\n",
       "    .dataframe tbody tr th {\n",
       "        vertical-align: top;\n",
       "    }\n",
       "\n",
       "    .dataframe thead th {\n",
       "        text-align: right;\n",
       "    }\n",
       "</style>\n",
       "<table border=\"1\" class=\"dataframe\">\n",
       "  <thead>\n",
       "    <tr style=\"text-align: right;\">\n",
       "      <th></th>\n",
       "      <th>Feature</th>\n",
       "      <th>Importance</th>\n",
       "    </tr>\n",
       "  </thead>\n",
       "  <tbody>\n",
       "    <tr>\n",
       "      <th>5</th>\n",
       "      <td>points_difference</td>\n",
       "      <td>1.265456e-01</td>\n",
       "    </tr>\n",
       "    <tr>\n",
       "      <th>4</th>\n",
       "      <td>rank_difference</td>\n",
       "      <td>1.250532e-01</td>\n",
       "    </tr>\n",
       "    <tr>\n",
       "      <th>3</th>\n",
       "      <td>loser_rank_points</td>\n",
       "      <td>1.062899e-01</td>\n",
       "    </tr>\n",
       "    <tr>\n",
       "      <th>2</th>\n",
       "      <td>winner_rank_points</td>\n",
       "      <td>1.054560e-01</td>\n",
       "    </tr>\n",
       "    <tr>\n",
       "      <th>0</th>\n",
       "      <td>winner_rank</td>\n",
       "      <td>1.005678e-01</td>\n",
       "    </tr>\n",
       "    <tr>\n",
       "      <th>...</th>\n",
       "      <td>...</td>\n",
       "      <td>...</td>\n",
       "    </tr>\n",
       "    <tr>\n",
       "      <th>134</th>\n",
       "      <td>loser_ioc_AZE</td>\n",
       "      <td>1.793270e-07</td>\n",
       "    </tr>\n",
       "    <tr>\n",
       "      <th>237</th>\n",
       "      <td>loser_ioc_ZAM</td>\n",
       "      <td>1.498182e-07</td>\n",
       "    </tr>\n",
       "    <tr>\n",
       "      <th>125</th>\n",
       "      <td>winner_ioc_ZAM</td>\n",
       "      <td>9.251935e-08</td>\n",
       "    </tr>\n",
       "    <tr>\n",
       "      <th>138</th>\n",
       "      <td>loser_ioc_BEN</td>\n",
       "      <td>0.000000e+00</td>\n",
       "    </tr>\n",
       "    <tr>\n",
       "      <th>26</th>\n",
       "      <td>winner_ioc_BEN</td>\n",
       "      <td>0.000000e+00</td>\n",
       "    </tr>\n",
       "  </tbody>\n",
       "</table>\n",
       "<p>239 rows × 2 columns</p>\n",
       "</div>"
      ],
      "text/plain": [
       "                Feature    Importance\n",
       "5     points_difference  1.265456e-01\n",
       "4       rank_difference  1.250532e-01\n",
       "3     loser_rank_points  1.062899e-01\n",
       "2    winner_rank_points  1.054560e-01\n",
       "0           winner_rank  1.005678e-01\n",
       "..                  ...           ...\n",
       "134       loser_ioc_AZE  1.793270e-07\n",
       "237       loser_ioc_ZAM  1.498182e-07\n",
       "125      winner_ioc_ZAM  9.251935e-08\n",
       "138       loser_ioc_BEN  0.000000e+00\n",
       "26       winner_ioc_BEN  0.000000e+00\n",
       "\n",
       "[239 rows x 2 columns]"
      ]
     },
     "execution_count": 5,
     "metadata": {},
     "output_type": "execute_result"
    }
   ],
   "source": [
    "# Ermittlung der Feature-Importance-Werte\n",
    "feature_importances = model_sym_corr_inc_ioc.feature_importances_\n",
    "\n",
    "# Zuordnung der Feature-Namen zu ihren Importance-Werten\n",
    "features = X_sym_corrected_including_ioc.columns\n",
    "importance_df = pd.DataFrame({'Feature': features, 'Importance': feature_importances})\n",
    "\n",
    "# Sortierung der Features nach ihrer Bedeutung\n",
    "importance_df = importance_df.sort_values(by='Importance', ascending=False)\n",
    "\n",
    "importance_df"
   ]
  }
 ],
 "metadata": {
  "kernelspec": {
   "display_name": "bv",
   "language": "python",
   "name": "python3"
  },
  "language_info": {
   "codemirror_mode": {
    "name": "ipython",
    "version": 3
   },
   "file_extension": ".py",
   "mimetype": "text/x-python",
   "name": "python",
   "nbconvert_exporter": "python",
   "pygments_lexer": "ipython3",
   "version": "3.9.16"
  }
 },
 "nbformat": 4,
 "nbformat_minor": 2
}
